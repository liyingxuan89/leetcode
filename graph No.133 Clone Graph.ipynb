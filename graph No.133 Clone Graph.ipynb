{
 "cells": [
  {
   "cell_type": "markdown",
   "metadata": {},
   "source": [
    "Given a reference of a node in a connected undirected graph, return a deep copy (clone) of the graph. Each node in the graph contains a val (int) and a list (List[Node]) of its neighbors.\n",
    "\n",
    " \n",
    "\n",
    "Example:\n",
    "![avatar](https://assets.leetcode.com/uploads/2019/02/19/113_sample.png)\n",
    "\n",
    "\n",
    "Input:\n",
    "{\"$id\":\"1\",\"neighbors\":[{\"$id\":\"2\",\"neighbors\":[{\"$ref\":\"1\"},{\"$id\":\"3\",\"neighbors\":[{\"$ref\":\"2\"},{\"$id\":\"4\",\"neighbors\":[{\"$ref\":\"3\"},{\"$ref\":\"1\"}],\"val\":4}],\"val\":3}],\"val\":2},{\"$ref\":\"4\"}],\"val\":1}\n",
    "\n",
    "Explanation:\n",
    "Node 1's value is 1, and it has two neighbors: Node 2 and 4.\n",
    "Node 2's value is 2, and it has two neighbors: Node 1 and 3.\n",
    "Node 3's value is 3, and it has two neighbors: Node 2 and 4.\n",
    "Node 4's value is 4, and it has two neighbors: Node 1 and 3.\n",
    " \n",
    "\n",
    "Note:\n",
    "\n",
    "The number of nodes will be between 1 and 100.\n",
    "The undirected graph is a simple graph, which means no repeated edges and no self-loops in the graph.\n",
    "Since the graph is undirected, if node p has node q as neighbor, then node q must have node p as neighbor too.\n",
    "You must return the copy of the given node as a reference to the cloned graph."
   ]
  },
  {
   "cell_type": "code",
   "execution_count": null,
   "metadata": {},
   "outputs": [],
   "source": [
    "# Definition for a Node.\n",
    "class Node(object):\n",
    "    def __init__(self, val, neighbors):\n",
    "        self.val = val\n",
    "        self.neighbors = neighbors\n",
    "        \n",
    "# Runtime: 48 ms, faster than 99.31% of Python online submissions for Clone Graph.\n",
    "# Memory Usage: 12.8 MB, less than 44.61% of Python online submissions for Clone Graph.\n",
    "\n",
    "class Solution(object):\n",
    "    def cloneGraph(self, node):\n",
    "        \"\"\"\n",
    "        :type node: Node\n",
    "        :rtype: Node\n",
    "        \"\"\"\n",
    "        dic = {}\n",
    "        def dfs(node, dic):\n",
    "            new_node = Node(node.val, None)\n",
    "            dic[node] = new_node\n",
    "            neighbors = []\n",
    "            \n",
    "            if node.neighbors:\n",
    "                for neighbor in node.neighbors:\n",
    "                    if neighbor in dic:\n",
    "                        neighbors.append(dic[neighbor])\n",
    "                    else:\n",
    "                        neighbors.append(dfs(neighbor, dic))\n",
    "            new_node.neighbors = neighbors\n",
    "            return new_node\n",
    "        return dfs(node, dic)"
   ]
  },
  {
   "cell_type": "code",
   "execution_count": null,
   "metadata": {},
   "outputs": [],
   "source": [
    "def cloneGraph(self, node: 'Node') -> 'Node':\n",
    "\tcopies = {}\n",
    "\n",
    "\tdef createCopy(node, copies):\n",
    "\t\t\t# Create new copy of node but with no neighbors\n",
    "\t\t\tnewcopy = Node(node.val, None )\n",
    "\t\t\tcopies[node] = newcopy # dictionary holding key = old node and value = corresponding new node\n",
    "\t\t\tnbors = []\n",
    "\n",
    "\t\t\t# now we want to check if all the neighbors are new nodes or not and if not, we create them and add to this neighbors list.\n",
    "\t\t\tif node.neighbors:\n",
    "\t\t\t\tfor item in node.neighbors:\n",
    "\t\t\t\t\tif item in copies: # This means a new node for this old node already exists.\n",
    "\t\t\t\t\t\tnbors.append(copies[item]) # append the new node.\n",
    "\t\t\t\t\telse: # create a new node for this neighbor node recursively.\n",
    "\t\t\t\t\t\tnbors.append(createCopy(item, copies) )\n",
    "\n",
    "\t\t\t# replace the old neighbors with deep copies of the neighbor.\n",
    "\t\t\tnewcopy.neighbors = nbors\n",
    "\n",
    "\t\t\treturn newcopy\n",
    "\n",
    "\treturn createCopy(node, copies)"
   ]
  }
 ],
 "metadata": {
  "kernelspec": {
   "display_name": "Python 3",
   "language": "python",
   "name": "python3"
  },
  "language_info": {
   "codemirror_mode": {
    "name": "ipython",
    "version": 3
   },
   "file_extension": ".py",
   "mimetype": "text/x-python",
   "name": "python",
   "nbconvert_exporter": "python",
   "pygments_lexer": "ipython3",
   "version": "3.7.3"
  }
 },
 "nbformat": 4,
 "nbformat_minor": 2
}
