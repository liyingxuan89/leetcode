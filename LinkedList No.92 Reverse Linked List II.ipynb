{
 "cells": [
  {
   "cell_type": "markdown",
   "metadata": {},
   "source": [
    "Reverse a linked list from position m to n. Do it in one-pass.\n",
    "\n",
    "Note: 1 ≤ m ≤ n ≤ length of list.\n",
    "\n",
    "Example:\n",
    "\n",
    "Input: 1->2->3->4->5->NULL, m = 2, n = 4\n",
    "Output: 1->4->3->2->5->NULL"
   ]
  },
  {
   "cell_type": "code",
   "execution_count": 1,
   "metadata": {},
   "outputs": [],
   "source": [
    "# Definition for singly-linked list.\n",
    "class ListNode(object):\n",
    "    def __init__(self, x):\n",
    "        self.val = x\n",
    "        self.next = None\n",
    "        "
   ]
  },
  {
   "cell_type": "code",
   "execution_count": 62,
   "metadata": {},
   "outputs": [],
   "source": [
    "# Runtime: 16 ms, faster than 97.99% of Python online submissions for Reverse Linked List II.\n",
    "# Memory Usage: 12.2 MB, less than 7.50% of Python online submissions for Reverse Linked List II.\n",
    "\n",
    "class Solution(object):\n",
    "    def reverseBetween(self, head, m, n):\n",
    "        \"\"\"\n",
    "        :type head: ListNode\n",
    "        :type m: int\n",
    "        :type n: int\n",
    "        :rtype: ListNode\n",
    "        \"\"\"\n",
    "\n",
    "        if not head or m==n:\n",
    "            return head\n",
    "        dummy = ListNode(0)\n",
    "        dummy.next = head\n",
    "        pre_m = dummy\n",
    "        for _ in range(m-1):\n",
    "            pre_m = pre_m.next\n",
    "        #print(pre_m.val)\n",
    "        m_node = pre_m.next\n",
    "        #print(m_node.val)\n",
    "        n_node = head\n",
    "        for _ in range(n-1):\n",
    "            n_node = n_node.next\n",
    "        #print(n_node.val)\n",
    "        while(m_node != n_node):\n",
    "            pre_m.next = m_node.next\n",
    "            m_node.next = n_node.next\n",
    "            n_node.next = m_node\n",
    "            m_node = pre_m.next\n",
    "        return dummy.next"
   ]
  },
  {
   "cell_type": "code",
   "execution_count": 63,
   "metadata": {},
   "outputs": [
    {
     "name": "stdout",
     "output_type": "stream",
     "text": [
      "1\n",
      "2\n",
      "4\n"
     ]
    }
   ],
   "source": [
    "a = ListNode(1)\n",
    "a.next = ListNode(2)\n",
    "a.next.next = ListNode(3)\n",
    "a.next.next.next = ListNode(4)\n",
    "a.next.next.next.next = ListNode(5)\n",
    "sol = Solution()\n",
    "b = sol.reverseBetween(a, 2,4)"
   ]
  },
  {
   "cell_type": "code",
   "execution_count": 64,
   "metadata": {},
   "outputs": [
    {
     "name": "stdout",
     "output_type": "stream",
     "text": [
      "1 4 3 2 5\n"
     ]
    }
   ],
   "source": [
    "print(b.val, b.next.val, b.next.next.val, b.next.next.next.val, b.next.next.next.next.val)"
   ]
  },
  {
   "cell_type": "code",
   "execution_count": null,
   "metadata": {},
   "outputs": [],
   "source": []
  }
 ],
 "metadata": {
  "kernelspec": {
   "display_name": "Python 3",
   "language": "python",
   "name": "python3"
  },
  "language_info": {
   "codemirror_mode": {
    "name": "ipython",
    "version": 3
   },
   "file_extension": ".py",
   "mimetype": "text/x-python",
   "name": "python",
   "nbconvert_exporter": "python",
   "pygments_lexer": "ipython3",
   "version": "3.7.3"
  }
 },
 "nbformat": 4,
 "nbformat_minor": 2
}
