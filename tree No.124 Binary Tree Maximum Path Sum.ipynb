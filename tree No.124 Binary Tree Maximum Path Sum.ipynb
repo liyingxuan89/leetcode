{
 "cells": [
  {
   "cell_type": "markdown",
   "metadata": {},
   "source": [
    "Given a non-empty binary tree, find the maximum path sum.\n",
    "\n",
    "For this problem, a path is defined as any sequence of nodes from some starting node to any node in the tree along the parent-child connections. The path must contain at least one node and does not need to go through the root.\n",
    "\n",
    "Example 1:\n",
    "\n",
    "Input: [1,2,3]\n",
    "\n",
    "       1\n",
    "      / \\\n",
    "     2   3\n",
    "\n",
    "Output: 6\n",
    "Example 2:\n",
    "\n",
    "Input: [-10,9,20,null,null,15,7]\n",
    "\n",
    "   -10\n",
    "   / \\\n",
    "  9  20\n",
    "    /  \\\n",
    "   15   7\n",
    "Output: 42"
   ]
  },
  {
   "cell_type": "code",
   "execution_count": 22,
   "metadata": {},
   "outputs": [],
   "source": [
    "# Definition for a binary tree node.\n",
    "import sys\n",
    "class TreeNode(object):\n",
    "    def __init__(self, x):\n",
    "        self.val = x\n",
    "        self.left = None\n",
    "        self.right = None\n",
    "        \n",
    "# Runtime: 76 ms, faster than 99.31% of Python online submissions for Binary Tree Maximum Path Sum.\n",
    "# Memory Usage: 24 MB, less than 28.44% of Python online submissions for Binary Tree Maximum Path Sum.\n",
    "#https://www.youtube.com/watch?v=WicS0ANkAdY\n",
    "class Solution(object):\n",
    "    def maxPathSum(self, root):\n",
    "        \"\"\"\n",
    "        :type root: TreeNode\n",
    "        :rtype: int\n",
    "        \"\"\"\n",
    "        if not root:\n",
    "            return 0\n",
    "        self.ans = -sys.maxsize-1\n",
    "        self._maxPathSum(root)\n",
    "        return self.ans\n",
    "    \n",
    "    def _maxPathSum(self, node):\n",
    "        if node is None:\n",
    "            return 0\n",
    "        l = max(0, self._maxPathSum(node.left))\n",
    "        r = max(0, self._maxPathSum(node.right))\n",
    "        # 包含从左子树到右子树的情况\n",
    "        sum_val = l + r + node.val\n",
    "        # 维护全局变量，它包含单节点的情况，即只有顶点\n",
    "        self.ans = max(sum_val, self.ans)\n",
    "        # 向上传递需要一定包含一个顶点且只能有左右其中之一\n",
    "        return max(l, r)+node.val"
   ]
  },
  {
   "cell_type": "code",
   "execution_count": 23,
   "metadata": {},
   "outputs": [],
   "source": [
    "r = TreeNode(-10)\n",
    "r.left = TreeNode(9)\n",
    "r.right = TreeNode(20)\n",
    "r.right.right = TreeNode(7)\n",
    "r.right.left = TreeNode(15)"
   ]
  },
  {
   "cell_type": "code",
   "execution_count": 24,
   "metadata": {},
   "outputs": [
    {
     "data": {
      "text/plain": [
       "42"
      ]
     },
     "execution_count": 24,
     "metadata": {},
     "output_type": "execute_result"
    }
   ],
   "source": [
    "sol = Solution()\n",
    "sol.maxPathSum(r)"
   ]
  },
  {
   "cell_type": "code",
   "execution_count": null,
   "metadata": {},
   "outputs": [],
   "source": []
  }
 ],
 "metadata": {
  "kernelspec": {
   "display_name": "Python 3",
   "language": "python",
   "name": "python3"
  },
  "language_info": {
   "codemirror_mode": {
    "name": "ipython",
    "version": 3
   },
   "file_extension": ".py",
   "mimetype": "text/x-python",
   "name": "python",
   "nbconvert_exporter": "python",
   "pygments_lexer": "ipython3",
   "version": "3.5.1"
  }
 },
 "nbformat": 4,
 "nbformat_minor": 2
}
