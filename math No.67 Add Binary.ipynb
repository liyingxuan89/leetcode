{
 "cells": [
  {
   "cell_type": "markdown",
   "metadata": {},
   "source": [
    "Given two binary strings, return their sum (also a binary string).\n",
    "\n",
    "The input strings are both non-empty and contains only characters 1 or 0.\n",
    "\n",
    "### Example 1:\n",
    "\n",
    "Input: a = \"11\", b = \"1\"\n",
    "Output: \"100\"\n",
    "### Example 2:\n",
    "\n",
    "Input: a = \"1010\", b = \"1011\"\n",
    "Output: \"10101\""
   ]
  },
  {
   "cell_type": "code",
   "execution_count": 14,
   "metadata": {},
   "outputs": [],
   "source": [
    "#Binary.\n",
    "#Memory Usage: 11.8 MB, less than 5.18% of Python online submissions for Add Binary.\n",
    "class Solution(object):\n",
    "    def addBinary(self, a, b):\n",
    "        \"\"\"\n",
    "        :type a: str\n",
    "        :type b: str\n",
    "        :rtype: str\n",
    "        \"\"\"\n",
    "        temp = 0\n",
    "        a,b = list(a),list(b)\n",
    "        n = min(len(a), len(b))\n",
    "        res = []\n",
    "        while( n > 0 ):\n",
    "            total = int(a[-1]) + int(b[-1]) + temp\n",
    "            temp ,to_add = divmod(total, 2)\n",
    "            res.append(str(to_add))\n",
    "            n -= 1\n",
    "            a.pop()\n",
    "            b.pop()\n",
    "        resident = a if len(a) >= len(b) else b\n",
    "        if len(resident) == 0:\n",
    "            res.append(str(temp))\n",
    "        else:\n",
    "            while(len(resident) > 0):\n",
    "                total = int(resident[-1]) + temp\n",
    "                temp, to_add = divmod(total, 2)\n",
    "                res.append(str(to_add))\n",
    "                resident.pop()\n",
    "            if temp > 0:\n",
    "                res.append(str(temp))\n",
    "        return str(int(\"\".join(res[::-1])))"
   ]
  },
  {
   "cell_type": "code",
   "execution_count": 18,
   "metadata": {},
   "outputs": [],
   "source": [
    "sol = Solution()"
   ]
  },
  {
   "cell_type": "code",
   "execution_count": 19,
   "metadata": {},
   "outputs": [
    {
     "data": {
      "text/plain": [
       "'1000'"
      ]
     },
     "execution_count": 19,
     "metadata": {},
     "output_type": "execute_result"
    }
   ],
   "source": [
    "sol.addBinary(\"111\",\"1\")"
   ]
  },
  {
   "cell_type": "code",
   "execution_count": 17,
   "metadata": {},
   "outputs": [],
   "source": [
    "#Runtime: 24 ms, faster than 86.89% of Python online submissions for Add Binary.\n",
    "#Memory Usage: 11.7 MB, less than 5.18% of Python online submissions for Add Binary.\n",
    "class Solution(object):\n",
    "    def addBinary(self, a, b):\n",
    "        \"\"\"\n",
    "        :type a: str\n",
    "        :type b: str\n",
    "        :rtype: str\n",
    "        \"\"\"\n",
    "        return bin(int(a,2)+int(b,2))[2:]"
   ]
  },
  {
   "cell_type": "code",
   "execution_count": null,
   "metadata": {},
   "outputs": [],
   "source": []
  }
 ],
 "metadata": {
  "kernelspec": {
   "display_name": "Python 3",
   "language": "python",
   "name": "python3"
  },
  "language_info": {
   "codemirror_mode": {
    "name": "ipython",
    "version": 3
   },
   "file_extension": ".py",
   "mimetype": "text/x-python",
   "name": "python",
   "nbconvert_exporter": "python",
   "pygments_lexer": "ipython3",
   "version": "3.5.1"
  }
 },
 "nbformat": 4,
 "nbformat_minor": 2
}
