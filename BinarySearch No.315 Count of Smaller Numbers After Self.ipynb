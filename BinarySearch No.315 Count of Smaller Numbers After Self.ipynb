{
 "cells": [
  {
   "cell_type": "markdown",
   "metadata": {},
   "source": [
    "You are given an integer array nums and you have to return a new counts array. The counts array has the property where counts[i] is the number of smaller elements to the right of nums[i].\n",
    "\n",
    "Example:\n",
    "\n",
    "Input: [5,2,6,1]\n",
    "Output: [2,1,1,0] \n",
    "Explanation:\n",
    "To the right of 5 there are 2 smaller elements (2 and 1).\n",
    "To the right of 2 there is only 1 smaller element (1).\n",
    "To the right of 6 there is 1 smaller element (1).\n",
    "To the right of 1 there is 0 smaller element."
   ]
  },
  {
   "cell_type": "code",
   "execution_count": 4,
   "metadata": {},
   "outputs": [],
   "source": [
    "# time limited\n",
    "class Solution(object):\n",
    "    def countSmaller(self, nums):\n",
    "        \"\"\"\n",
    "        :type nums: List[int]\n",
    "        :rtype: List[int]\n",
    "        \"\"\"\n",
    "        res = []\n",
    "        for i in range(len(nums)-1):\n",
    "            cnt = self.countRight(nums[i+1:], nums[i])\n",
    "            res.append(cnt)\n",
    "        res.append(0)\n",
    "        return res\n",
    "    \n",
    "    def countRight(self, nums, target):\n",
    "        cnt = 0\n",
    "        for each in nums:\n",
    "            if each < target:\n",
    "                cnt += 1\n",
    "        return cnt"
   ]
  },
  {
   "cell_type": "code",
   "execution_count": 5,
   "metadata": {},
   "outputs": [
    {
     "data": {
      "text/plain": [
       "[2, 1, 1, 0]"
      ]
     },
     "execution_count": 5,
     "metadata": {},
     "output_type": "execute_result"
    }
   ],
   "source": [
    "sol = Solution()\n",
    "sol.countSmaller([5,2,6,1])"
   ]
  },
  {
   "cell_type": "code",
   "execution_count": 12,
   "metadata": {},
   "outputs": [],
   "source": [
    "#再次超时\n",
    "class Solution(object):\n",
    "    def countSmaller(self, nums):\n",
    "        \"\"\"\n",
    "        :type nums: List[int]\n",
    "        :rtype: List[int]\n",
    "        \"\"\"\n",
    "        if not nums:\n",
    "            return []\n",
    "        res = []\n",
    "        for i, each in enumerate(nums):\n",
    "            cur_num = nums[i:]\n",
    "            cur_num.sort()\n",
    "            idx = self.search(cur_num, each)\n",
    "            res.append(idx)\n",
    "        return res\n",
    "        \n",
    "    def search(self, nums, target):\n",
    "        # 考虑到可能有重复元素，应该找最左边的点\n",
    "        if not nums:\n",
    "            return \n",
    "        if target < nums[0]:\n",
    "            return 0\n",
    "        l, r = 0, len(nums)-1\n",
    "        while l+1 < r:\n",
    "            mid = l+(r-l)//2\n",
    "            if nums[mid] >= target:\n",
    "                r = mid\n",
    "            else:\n",
    "                l = mid\n",
    "        if nums[l] == target:\n",
    "            return l\n",
    "        elif nums[r] == target:\n",
    "            return r\n",
    "    "
   ]
  },
  {
   "cell_type": "code",
   "execution_count": 14,
   "metadata": {},
   "outputs": [
    {
     "data": {
      "text/plain": [
       "[0]"
      ]
     },
     "execution_count": 14,
     "metadata": {},
     "output_type": "execute_result"
    }
   ],
   "source": [
    "sol = Solution()\n",
    "sol.countSmaller([1])"
   ]
  },
  {
   "cell_type": "code",
   "execution_count": 15,
   "metadata": {},
   "outputs": [],
   "source": [
    "# Runtime: 96 ms, faster than 97.04% of Python online submissions for Count of Smaller Numbers After Self.\n",
    "# Memory Usage: 14.8 MB, less than 70.90% of Python online submissions for Count of Smaller Numbers After Self.\n",
    "class Solution(object):\n",
    "    def countSmaller(self, nums):\n",
    "        rank, N, res = {val: i + 1 for i, val in enumerate(sorted(nums))}, len(nums), []\n",
    "        BITree = [0] * (N + 1)\n",
    "    \n",
    "        def update(i):\n",
    "            while i <= N:\n",
    "                BITree[i] += 1\n",
    "                i += (i & -i)\n",
    "        \n",
    "        def getSum(i):\n",
    "            s = 0\n",
    "            while i:\n",
    "                s += BITree[i]\n",
    "                i -= (i & -i)\n",
    "            return s\n",
    "    \n",
    "        for x in reversed(nums):\n",
    "            res += getSum(rank[x] - 1),\n",
    "            update(rank[x])\n",
    "        return res[::-1]"
   ]
  },
  {
   "cell_type": "code",
   "execution_count": 16,
   "metadata": {},
   "outputs": [
    {
     "data": {
      "text/plain": [
       "[2, 1, 1, 0]"
      ]
     },
     "execution_count": 16,
     "metadata": {},
     "output_type": "execute_result"
    }
   ],
   "source": [
    "sol = Solution()\n",
    "sol.countSmaller([5,2,6,1])"
   ]
  },
  {
   "cell_type": "code",
   "execution_count": null,
   "metadata": {},
   "outputs": [],
   "source": []
  }
 ],
 "metadata": {
  "kernelspec": {
   "display_name": "Python 3",
   "language": "python",
   "name": "python3"
  },
  "language_info": {
   "codemirror_mode": {
    "name": "ipython",
    "version": 3
   },
   "file_extension": ".py",
   "mimetype": "text/x-python",
   "name": "python",
   "nbconvert_exporter": "python",
   "pygments_lexer": "ipython3",
   "version": "3.7.3"
  }
 },
 "nbformat": 4,
 "nbformat_minor": 2
}
