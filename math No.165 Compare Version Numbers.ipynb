{
 "cells": [
  {
   "cell_type": "markdown",
   "metadata": {},
   "source": [
    "Compare two version numbers version1 and version2.\n",
    "If version1 > version2 return 1; if version1 < version2 return -1;otherwise return 0.\n",
    "\n",
    "You may assume that the version strings are non-empty and contain only digits and the . character.\n",
    "\n",
    "The . character does not represent a decimal point and is used to separate number sequences.\n",
    "\n",
    "For instance, 2.5 is not \"two and a half\" or \"half way to version three\", it is the fifth second-level revision of the second first-level revision.\n",
    "\n",
    "You may assume the default revision number for each level of a version number to be 0. For example, version number 3.4 has a revision number of 3 and 4 for its first and second level revision number. Its third and fourth level revision number are both 0.\n",
    "\n",
    " \n",
    "\n",
    "#### Example 1:\n",
    "\n",
    "Input: version1 = \"0.1\", version2 = \"1.1\"\n",
    "Output: -1\n",
    "#### Example 2:\n",
    "\n",
    "Input: version1 = \"1.0.1\", version2 = \"1\"\n",
    "Output: 1\n",
    "#### Example 3:\n",
    "\n",
    "Input: version1 = \"7.5.2.4\", version2 = \"7.5.3\"\n",
    "Output: -1\n",
    "#### Example 4:\n",
    "\n",
    "Input: version1 = \"1.01\", version2 = \"1.001\"\n",
    "Output: 0\n",
    "Explanation: Ignoring leading zeroes, both “01” and “001\" represent the same number “1”\n",
    "#### Example 5:\n",
    "\n",
    "Input: version1 = \"1.0\", version2 = \"1.0.0\"\n",
    "Output: 0\n",
    "#### Explanation: The first version number does not have a third level revision number, which means its third level revision number is default to \"0\"\n",
    " \n",
    "\n",
    "#### Note:\n",
    "\n",
    "Version strings are composed of numeric strings separated by dots . and this numeric strings may have leading zeroes.\n",
    "Version strings do not start or end with dots, and they will not be two consecutive dots."
   ]
  },
  {
   "cell_type": "code",
   "execution_count": 10,
   "metadata": {},
   "outputs": [],
   "source": [
    "#runtime: 20 ms, faster than 75.00% of Python online submissions for Compare Version Numbers.\n",
    "#Memory Usage: 11.7 MB, less than 5.71% of Python online submissions for Compare Version Numbers.\n",
    "class Solution(object):\n",
    "    def compareVersion(self, version1, version2):\n",
    "        \"\"\"\n",
    "        :type version1: str\n",
    "        :type version2: str\n",
    "        :rtype: int\n",
    "        \"\"\"\n",
    "        version1 = [int(x) for x in version1.split(\".\")]\n",
    "        version2 = [int(x) for x in version2.split(\".\")]\n",
    "        n = min(len(version1),len(version2))\n",
    "        for i in range(n):\n",
    "            a, b = version1[i], version2[i]\n",
    "            if a > b:\n",
    "                return 1\n",
    "            if a < b:\n",
    "                return -1\n",
    "            else:\n",
    "                continue\n",
    "        if len(version1) > n and sum(version1[n:]) > 0:\n",
    "            return 1\n",
    "        if len(version2) > n and sum(version2[n:]) > 0:\n",
    "            return -1\n",
    "        return 0"
   ]
  },
  {
   "cell_type": "code",
   "execution_count": 11,
   "metadata": {},
   "outputs": [],
   "source": [
    "sol = Solution()"
   ]
  },
  {
   "cell_type": "code",
   "execution_count": 14,
   "metadata": {},
   "outputs": [
    {
     "data": {
      "text/plain": [
       "0"
      ]
     },
     "execution_count": 14,
     "metadata": {},
     "output_type": "execute_result"
    }
   ],
   "source": [
    "sol.compareVersion(\"1.0\", \"1.0.0\")"
   ]
  },
  {
   "cell_type": "code",
   "execution_count": null,
   "metadata": {},
   "outputs": [],
   "source": []
  }
 ],
 "metadata": {
  "kernelspec": {
   "display_name": "Python 2",
   "language": "python",
   "name": "python2"
  },
  "language_info": {
   "codemirror_mode": {
    "name": "ipython",
    "version": 2
   },
   "file_extension": ".py",
   "mimetype": "text/x-python",
   "name": "python",
   "nbconvert_exporter": "python",
   "pygments_lexer": "ipython2",
   "version": "2.7.10rc1"
  }
 },
 "nbformat": 4,
 "nbformat_minor": 2
}
