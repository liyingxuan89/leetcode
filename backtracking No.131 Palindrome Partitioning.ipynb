{
 "cells": [
  {
   "cell_type": "markdown",
   "metadata": {},
   "source": [
    "Given a string s, partition s such that every substring of the partition is a palindrome.\n",
    "\n",
    "Return all possible palindrome partitioning of s.\n",
    "\n",
    "Example:\n",
    "\n",
    "Input: \"aab\"\n",
    "Output:\n",
    "[\n",
    "  [\"aa\",\"b\"],\n",
    "  [\"a\",\"a\",\"b\"]\n",
    "]"
   ]
  },
  {
   "cell_type": "code",
   "execution_count": 9,
   "metadata": {},
   "outputs": [],
   "source": [
    "# Runtime: 72 ms, faster than 69.30% of Python online submissions for Palindrome Partitioning.\n",
    "# Memory Usage: 12 MB, less than 88.24% of Python online submissions for Palindrome Partitioning.\n",
    "\n",
    "class Solution(object):\n",
    "    def partition(self, s):\n",
    "        \"\"\"\n",
    "        :type s: str\n",
    "        :rtype: List[List[str]]\n",
    "        \"\"\"\n",
    "        if not s:\n",
    "            return []\n",
    "        res = []\n",
    "        self.dfs(s, [], res)\n",
    "        return res\n",
    "    \n",
    "    def dfs(self, s, cur_list, res):\n",
    "        if not s:\n",
    "            res.append(cur_list)\n",
    "            return \n",
    "        \n",
    "        for i in range(1,len(s)+1):\n",
    "            if self.isPalindrome(s[:i]):\n",
    "                self.dfs(s[i:], cur_list+[s[:i]], res)\n",
    "       \n",
    "    def isPalindrome(self,s):\n",
    "        return s == s[::-1]"
   ]
  },
  {
   "cell_type": "code",
   "execution_count": 10,
   "metadata": {},
   "outputs": [
    {
     "data": {
      "text/plain": [
       "[['a', 'a', 'b'], ['aa', 'b']]"
      ]
     },
     "execution_count": 10,
     "metadata": {},
     "output_type": "execute_result"
    }
   ],
   "source": [
    "sol = Solution()\n",
    "sol.partition(\"aab\")"
   ]
  },
  {
   "cell_type": "code",
   "execution_count": null,
   "metadata": {},
   "outputs": [],
   "source": []
  }
 ],
 "metadata": {
  "kernelspec": {
   "display_name": "Python 3",
   "language": "python",
   "name": "python3"
  },
  "language_info": {
   "codemirror_mode": {
    "name": "ipython",
    "version": 3
   },
   "file_extension": ".py",
   "mimetype": "text/x-python",
   "name": "python",
   "nbconvert_exporter": "python",
   "pygments_lexer": "ipython3",
   "version": "3.7.3"
  }
 },
 "nbformat": 4,
 "nbformat_minor": 2
}
