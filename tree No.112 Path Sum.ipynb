{
 "cells": [
  {
   "cell_type": "markdown",
   "metadata": {},
   "source": [
    "Given a binary tree and a sum, determine if the tree has a root-to-leaf path such that adding up all the values along the path equals the given sum.\n",
    "\n",
    "Note: A leaf is a node with no children.\n",
    "\n",
    "Example:\n",
    "\n",
    "Given the below binary tree and sum = 22,\n",
    "\n",
    "      5\n",
    "     / \\\n",
    "    4   8\n",
    "   /   / \\\n",
    "  11  13  4\n",
    " /  \\      \\\n",
    "7    2      1\n",
    "return true, as there exist a root-to-leaf path 5->4->11->2 which sum is 22."
   ]
  },
  {
   "cell_type": "code",
   "execution_count": 28,
   "metadata": {},
   "outputs": [],
   "source": [
    "# Definition for a binary tree node.\n",
    "class TreeNode(object):\n",
    "    def __init__(self, x):\n",
    "        self.val = x\n",
    "        self.left = None\n",
    "        self.right = None\n",
    "        \n",
    "# Runtime: 80 ms, faster than 5.00% of Python online submissions for Path Sum.\n",
    "# Memory Usage: 15.4 MB, less than 5.15% of Python online submissions for Path Sum.\n",
    "class Solution(object):\n",
    "    def hasPathSum(self, root, sum):\n",
    "        \"\"\"\n",
    "        :type root: TreeNode\n",
    "        :type sum: int\n",
    "        :rtype: bool\n",
    "        \"\"\"  \n",
    "        if not root:\n",
    "            return False\n",
    "        print(root.val, sum)\n",
    "        if root.val == sum and root.left is None and root.right is None:\n",
    "            return True       \n",
    "        return self.hasPathSum(root.left, sum-root.val) or self.hasPathSum(root.right, sum-root.val)\n",
    "    \n",
    "    \n",
    "# Runtime: 20 ms, faster than 100.00% of Python online submissions for Path Sum.\n",
    "# Memory Usage: 15.4 MB, less than 5.15% of Python online submissions for Path Sum.\n",
    "class Solution(object):\n",
    "    def hasPathSum(self, root, sum):\n",
    "        \"\"\"\n",
    "        :type root: TreeNode\n",
    "        :type sum: int\n",
    "        :rtype: bool\n",
    "        \"\"\"  \n",
    "        if not root:\n",
    "            return False\n",
    "        print(root.val, sum)\n",
    "        if root.left is None and root.right is None:\n",
    "            return root.val == sum      \n",
    "        return self.hasPathSum(root.left, sum-root.val) or self.hasPathSum(root.right, sum-root.val)"
   ]
  },
  {
   "cell_type": "code",
   "execution_count": 32,
   "metadata": {},
   "outputs": [],
   "source": [
    "r = TreeNode(5)\n",
    "r.left = TreeNode(4)\n",
    "r.right = TreeNode(8)\n",
    "r.left.left = TreeNode(11)\n",
    "r.left.left.left = TreeNode(7)\n",
    "r.left.left.right = TreeNode(2)\n",
    "r.right.left = TreeNode(13)\n",
    "r.right.right = TreeNode(4)\n",
    "r.right.right.right = TreeNode(1)"
   ]
  },
  {
   "cell_type": "code",
   "execution_count": 33,
   "metadata": {},
   "outputs": [
    {
     "name": "stdout",
     "output_type": "stream",
     "text": [
      "5 18\n",
      "4 13\n",
      "11 9\n",
      "7 -2\n",
      "2 -2\n",
      "8 13\n",
      "13 5\n",
      "4 5\n",
      "1 1\n"
     ]
    },
    {
     "data": {
      "text/plain": [
       "True"
      ]
     },
     "execution_count": 33,
     "metadata": {},
     "output_type": "execute_result"
    }
   ],
   "source": [
    "sol = Solution()\n",
    "sol.hasPathSum(r, 18)"
   ]
  },
  {
   "cell_type": "code",
   "execution_count": 60,
   "metadata": {},
   "outputs": [],
   "source": [
    "# iterative version\n",
    "# Runtime: 40 ms, faster than 33.58% of Python online submissions for Path Sum.\n",
    "# Memory Usage: 15.2 MB, less than 5.15% of Python online submissions for Path Sum.\n",
    "class Solution(object):\n",
    "    def hasPathSum(self, root, sum):\n",
    "        \"\"\"\n",
    "        :type root: TreeNode\n",
    "        :type sum: int\n",
    "        :rtype: bool\n",
    "        \"\"\" \n",
    "        if not root:\n",
    "            return False\n",
    "        if root.left is None and root.right is None:\n",
    "            return root.val == sum\n",
    "        stack = [(root, sum)]\n",
    "        while(stack):\n",
    "            node, residue = stack.pop()\n",
    "            print(node.val, residue)\n",
    "            if node.left is None and node.right is None:\n",
    "                if node.val == residue:\n",
    "                    return True\n",
    "            if node.left is not None:\n",
    "                #print(node.left.val)\n",
    "                stack.append((node.left, residue-node.val))\n",
    "            if node.right is not None:\n",
    "                #print(node.right.val)\n",
    "                stack.append((node.right, residue-node.val))\n",
    "        return False"
   ]
  },
  {
   "cell_type": "code",
   "execution_count": 67,
   "metadata": {},
   "outputs": [
    {
     "name": "stdout",
     "output_type": "stream",
     "text": [
      "5 18\n",
      "8 13\n",
      "4 5\n",
      "1 1\n"
     ]
    },
    {
     "data": {
      "text/plain": [
       "True"
      ]
     },
     "execution_count": 67,
     "metadata": {},
     "output_type": "execute_result"
    }
   ],
   "source": [
    "sol = Solution()\n",
    "sol.hasPathSum(r, 18)"
   ]
  },
  {
   "cell_type": "code",
   "execution_count": null,
   "metadata": {},
   "outputs": [],
   "source": []
  }
 ],
 "metadata": {
  "kernelspec": {
   "display_name": "Python 3",
   "language": "python",
   "name": "python3"
  },
  "language_info": {
   "codemirror_mode": {
    "name": "ipython",
    "version": 3
   },
   "file_extension": ".py",
   "mimetype": "text/x-python",
   "name": "python",
   "nbconvert_exporter": "python",
   "pygments_lexer": "ipython3",
   "version": "3.5.1"
  }
 },
 "nbformat": 4,
 "nbformat_minor": 2
}
