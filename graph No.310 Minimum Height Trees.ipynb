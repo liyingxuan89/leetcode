{
 "cells": [
  {
   "cell_type": "markdown",
   "metadata": {},
   "source": [
    "For an undirected graph with tree characteristics, we can choose any node as the root. The result graph is then a rooted tree. Among all possible rooted trees, those with minimum height are called minimum height trees (MHTs). Given such a graph, write a function to find all the MHTs and return a list of their root labels.\n",
    "\n",
    "Format\n",
    "The graph contains n nodes which are labeled from 0 to n - 1. You will be given the number n and a list of undirected edges (each edge is a pair of labels).\n",
    "\n",
    "You can assume that no duplicate edges will appear in edges. Since all edges are undirected, [0, 1] is the same as [1, 0] and thus will not appear together in edges.\n",
    "\n",
    "Example 1 :\n",
    "\n",
    "Input: n = 4, edges = [[1, 0], [1, 2], [1, 3]]\n",
    "\n",
    "        0\n",
    "        |\n",
    "        1\n",
    "       / \\\n",
    "      2   3 \n",
    "\n",
    "Output: [1]\n",
    "Example 2 :\n",
    "\n",
    "Input: n = 6, edges = [[0, 3], [1, 3], [2, 3], [4, 3], [5, 4]]\n",
    "\n",
    "     0  1  2\n",
    "      \\ | /\n",
    "        3\n",
    "        |\n",
    "        4\n",
    "        |\n",
    "        5 \n",
    "\n",
    "Output: [3, 4]\n",
    "Note:\n",
    "\n",
    "According to the definition of tree on Wikipedia: “a tree is an undirected graph in which any two vertices are connected by exactly one path. In other words, any connected graph without simple cycles is a tree.”\n",
    "The height of a rooted tree is the number of edges on the longest downward path between the root and a leaf."
   ]
  },
  {
   "cell_type": "code",
   "execution_count": 6,
   "metadata": {},
   "outputs": [],
   "source": [
    "#https://leetcode.com/problems/minimum-height-trees/discuss/76055/Share-some-thoughts\n",
    "# Runtime: 212 ms, faster than 86.90% of Python online submissions for Minimum Height Trees.\n",
    "# Memory Usage: 17.3 MB, less than 43.17% of Python online submissions for Minimum Height Trees.\n",
    "class Solution(object):\n",
    "    def findMinHeightTrees(self, n, edges):\n",
    "        \"\"\"\n",
    "        :type n: int\n",
    "        :type edges: List[List[int]]\n",
    "        :rtype: List[int]\n",
    "        \"\"\"\n",
    "        if n == 1:\n",
    "            return [0]\n",
    "        graph = [set() for _ in range(n)]\n",
    "        for each in edges:\n",
    "            a, b = each\n",
    "            graph[a].add(b)\n",
    "            graph[b].add(a)\n",
    "            \n",
    "        leaves = [i for i in range(n) if len(graph[i])==1]\n",
    "        while n>2:\n",
    "            n -= len(leaves)\n",
    "            new_leaves = []\n",
    "            for leaf in leaves:\n",
    "                l = graph[leaf].pop()\n",
    "                graph[l].remove(leaf)\n",
    "                if len(graph[l]) == 1:\n",
    "                    new_leaves.append(l)\n",
    "            leaves = new_leaves\n",
    "        return leaves"
   ]
  },
  {
   "cell_type": "code",
   "execution_count": 7,
   "metadata": {},
   "outputs": [
    {
     "data": {
      "text/plain": [
       "[3, 4]"
      ]
     },
     "execution_count": 7,
     "metadata": {},
     "output_type": "execute_result"
    }
   ],
   "source": [
    "sol = Solution()\n",
    "sol.findMinHeightTrees(6, [[0, 3], [1, 3], [2, 3], [4, 3], [5, 4]])"
   ]
  },
  {
   "cell_type": "code",
   "execution_count": null,
   "metadata": {},
   "outputs": [],
   "source": []
  }
 ],
 "metadata": {
  "kernelspec": {
   "display_name": "Python 3",
   "language": "python",
   "name": "python3"
  },
  "language_info": {
   "codemirror_mode": {
    "name": "ipython",
    "version": 3
   },
   "file_extension": ".py",
   "mimetype": "text/x-python",
   "name": "python",
   "nbconvert_exporter": "python",
   "pygments_lexer": "ipython3",
   "version": "3.7.3"
  }
 },
 "nbformat": 4,
 "nbformat_minor": 2
}
