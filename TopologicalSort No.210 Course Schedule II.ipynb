{
 "cells": [
  {
   "cell_type": "markdown",
   "metadata": {},
   "source": [
    "There are a total of n courses you have to take, labeled from 0 to n-1.\n",
    "\n",
    "Some courses may have prerequisites, for example to take course 0 you have to first take course 1, which is expressed as a pair: [0,1]\n",
    "\n",
    "Given the total number of courses and a list of prerequisite pairs, return the ordering of courses you should take to finish all courses.\n",
    "\n",
    "There may be multiple correct orders, you just need to return one of them. If it is impossible to finish all courses, return an empty array.\n",
    "\n",
    "Example 1:\n",
    "\n",
    "Input: 2, [[1,0]] \n",
    "Output: [0,1]\n",
    "Explanation: There are a total of 2 courses to take. To take course 1 you should have finished   \n",
    "             course 0. So the correct course order is [0,1] .\n",
    "Example 2:\n",
    "\n",
    "Input: 4, [[1,0],[2,0],[3,1],[3,2]]\n",
    "Output: [0,1,2,3] or [0,2,1,3]\n",
    "Explanation: There are a total of 4 courses to take. To take course 3 you should have finished both     \n",
    "             courses 1 and 2. Both courses 1 and 2 should be taken after you finished course 0. \n",
    "             So one correct course order is [0,1,2,3]. Another correct ordering is [0,2,1,3] .\n",
    "Note:\n",
    "\n",
    "The input prerequisites is a graph represented by a list of edges, not adjacency matrices. Read more about how a graph is represented.\n",
    "You may assume that there are no duplicate edges in the input prerequisites.\n"
   ]
  },
  {
   "cell_type": "code",
   "execution_count": 4,
   "metadata": {},
   "outputs": [],
   "source": [
    "# Runtime: 88 ms, faster than 60.53% of Python online submissions for Course Schedule II.\n",
    "# Memory Usage: 15.6 MB, less than 6.21% of Python online submissions for Course Schedule II.\n",
    "class Solution(object):\n",
    "    def findOrder(self, numCourses, prerequisites):\n",
    "        \"\"\"\n",
    "        :type numCourses: int\n",
    "        :type prerequisites: List[List[int]]\n",
    "        :rtype: List[int]\n",
    "        \"\"\"\n",
    "        if not prerequisites:\n",
    "            return [i for i in range(numCourses)]\n",
    "        \n",
    "        self.res = []\n",
    "\n",
    "        def dfs(cur_class, visit):\n",
    "            if visit[cur_class] == \"visiting\":\n",
    "                return True\n",
    "            if visit[cur_class] == \"visited\":\n",
    "                return False\n",
    "            visit[cur_class] = \"visiting\"\n",
    "\n",
    "            if cur_class in pres:\n",
    "                for later_class in pres[cur_class]:\n",
    "                    if dfs(later_class, visit):\n",
    "                        return True\n",
    "            visit[cur_class] = \"visited\"\n",
    "            # 只增加这一步\n",
    "            self.res.append(cur_class)\n",
    "            return False\n",
    "\n",
    "        visit = {x: \"unkown\" for x in range(numCourses)}\n",
    "\n",
    "        pres = {x[1]: [] for x in prerequisites}\n",
    "        for each in prerequisites:\n",
    "            pres[each[1]].append(each[0])\n",
    "        # 这里遍历所有节点dfs\n",
    "        for node in visit:\n",
    "            if dfs(node, visit):\n",
    "                return []\n",
    "\n",
    "        return self.res[::-1]\n",
    "            "
   ]
  },
  {
   "cell_type": "code",
   "execution_count": 5,
   "metadata": {},
   "outputs": [
    {
     "data": {
      "text/plain": [
       "[0, 2, 1, 3]"
      ]
     },
     "execution_count": 5,
     "metadata": {},
     "output_type": "execute_result"
    }
   ],
   "source": [
    "sol = Solution()\n",
    "sol.findOrder(4, [[1,0],[2,0],[3,1],[3,2]])"
   ]
  },
  {
   "cell_type": "code",
   "execution_count": 8,
   "metadata": {},
   "outputs": [
    {
     "data": {
      "text/plain": [
       "[2, 0, 1]"
      ]
     },
     "execution_count": 8,
     "metadata": {},
     "output_type": "execute_result"
    }
   ],
   "source": [
    "sol.findOrder(3,[[1,0]])"
   ]
  },
  {
   "cell_type": "code",
   "execution_count": null,
   "metadata": {},
   "outputs": [],
   "source": []
  }
 ],
 "metadata": {
  "kernelspec": {
   "display_name": "Python 3",
   "language": "python",
   "name": "python3"
  },
  "language_info": {
   "codemirror_mode": {
    "name": "ipython",
    "version": 3
   },
   "file_extension": ".py",
   "mimetype": "text/x-python",
   "name": "python",
   "nbconvert_exporter": "python",
   "pygments_lexer": "ipython3",
   "version": "3.7.3"
  }
 },
 "nbformat": 4,
 "nbformat_minor": 2
}
