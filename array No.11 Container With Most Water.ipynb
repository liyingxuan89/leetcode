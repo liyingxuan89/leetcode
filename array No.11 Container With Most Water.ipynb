{
 "cells": [
  {
   "cell_type": "markdown",
   "metadata": {},
   "source": [
    "Given n non-negative integers a1, a2, ..., an , where each represents a point at coordinate (i, ai). n vertical lines are drawn such that the two endpoints of line i is at (i, ai) and (i, 0). Find two lines, which together with x-axis forms a container, such that the container contains the most water.\n",
    "\n",
    "Note: You may not slant the container and n is at least 2.\n",
    "\n",
    "#### Example:\n",
    "\n",
    "Input: [1,8,6,2,5,4,8,3,7]\n",
    "Output: 49\n",
    "\n",
    "\n",
    "https://leetcode.com/problems/container-with-most-water/"
   ]
  },
  {
   "cell_type": "code",
   "execution_count": 13,
   "metadata": {
    "collapsed": true
   },
   "outputs": [],
   "source": [
    "# brute force method\n",
    "class Solution(object):\n",
    "    def maxArea(self, height):\n",
    "        \"\"\"\n",
    "        :type height: List[int]\n",
    "        :rtype: int\n",
    "        \"\"\"\n",
    "        n = len(height)\n",
    "        water = 0\n",
    "        for i in range(n):\n",
    "            for j in range(i+1, n):\n",
    "                cur = min(height[j],height[i]) * (j-i)\n",
    "                if  cur > water:\n",
    "                    water = cur \n",
    "        return water\n",
    "            "
   ]
  },
  {
   "cell_type": "code",
   "execution_count": 14,
   "metadata": {
    "collapsed": true
   },
   "outputs": [],
   "source": [
    "sol = Solution()"
   ]
  },
  {
   "cell_type": "code",
   "execution_count": 15,
   "metadata": {
    "collapsed": false
   },
   "outputs": [
    {
     "data": {
      "text/plain": [
       "49"
      ]
     },
     "execution_count": 15,
     "metadata": {},
     "output_type": "execute_result"
    }
   ],
   "source": [
    "sol.maxArea([1,8,6,2,5,4,8,3,7])"
   ]
  },
  {
   "cell_type": "code",
   "execution_count": null,
   "metadata": {
    "collapsed": true
   },
   "outputs": [],
   "source": [
    "#Runtime: 32 ms, faster than 99.11% of Python online submissions for Container With Most Water.\n",
    "#Memory Usage: 11.7 MB, less than 44.53% of Python online submissions for Container With Most Water.\n",
    "class Solution(object):\n",
    "    def maxArea(self, height):\n",
    "        \"\"\"\n",
    "        :type height: List[int]\n",
    "        :rtype: int\n",
    "        \"\"\"\n",
    "        n = len(height)\n",
    "        begin , end = 0, n-1\n",
    "        water = 0\n",
    "        while(begin < end):\n",
    "            if(height[begin]<height[end]):\n",
    "                lower = height[begin]\n",
    "                begin += 1\n",
    "            else:\n",
    "                lower = height[end]\n",
    "                end -= 1\n",
    "            if lower * (end-begin+1) > water:\n",
    "                water = lower * (end-begin+1)\n",
    "        return water"
   ]
  }
 ],
 "metadata": {
  "kernelspec": {
   "display_name": "Python 3",
   "language": "python",
   "name": "python3"
  },
  "language_info": {
   "codemirror_mode": {
    "name": "ipython",
    "version": 3
   },
   "file_extension": ".py",
   "mimetype": "text/x-python",
   "name": "python",
   "nbconvert_exporter": "python",
   "pygments_lexer": "ipython3",
   "version": "3.5.1"
  }
 },
 "nbformat": 4,
 "nbformat_minor": 1
}
