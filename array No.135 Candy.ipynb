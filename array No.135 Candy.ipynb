{
 "cells": [
  {
   "cell_type": "markdown",
   "metadata": {},
   "source": [
    "There are N children standing in a line. Each child is assigned a rating value.\n",
    "\n",
    "You are giving candies to these children subjected to the following requirements:\n",
    "\n",
    "Each child must have at least one candy.\n",
    "Children with a higher rating get more candies than their neighbors.\n",
    "What is the minimum candies you must give?\n",
    "\n",
    "#### Example 1:\n",
    "\n",
    "Input: [1,0,2]\n",
    "Output: 5\n",
    "\n",
    "#### Explanation: \n",
    "You can allocate to the first, second and third child with 2, 1, 2 candies respectively.\n",
    "\n",
    "#### Example 2:\n",
    "\n",
    "Input: [1,2,2]\n",
    "Output: 4\n",
    "\n",
    "#### Explanation: \n",
    "You can allocate to the first, second and third child with 1, 2, 1 candies respectively.\n",
    "             The third child gets 1 candy because it satisfies the above two conditions."
   ]
  },
  {
   "cell_type": "code",
   "execution_count": 1,
   "metadata": {
    "collapsed": true
   },
   "outputs": [],
   "source": [
    "class Solution(object):\n",
    "    def candy(self, ratings):\n",
    "        \"\"\"\n",
    "        :type ratings: List[int]\n",
    "        :rtype: int\n",
    "        \"\"\"\n",
    "        pass"
   ]
  },
  {
   "cell_type": "code",
   "execution_count": null,
   "metadata": {
    "collapsed": true
   },
   "outputs": [],
   "source": []
  }
 ],
 "metadata": {
  "kernelspec": {
   "display_name": "Python 3",
   "language": "python",
   "name": "python3"
  },
  "language_info": {
   "codemirror_mode": {
    "name": "ipython",
    "version": 3
   },
   "file_extension": ".py",
   "mimetype": "text/x-python",
   "name": "python",
   "nbconvert_exporter": "python",
   "pygments_lexer": "ipython3",
   "version": "3.5.1"
  }
 },
 "nbformat": 4,
 "nbformat_minor": 1
}
