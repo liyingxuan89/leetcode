{
 "cells": [
  {
   "cell_type": "markdown",
   "metadata": {},
   "source": [
    "You are given coins of different denominations and a total amount of money amount. Write a function to compute the fewest number of coins that you need to make up that amount. If that amount of money cannot be made up by any combination of the coins, return -1.\n",
    "\n",
    "Example 1:\n",
    "\n",
    "Input: coins = [1, 2, 5], amount = 11\n",
    "Output: 3 \n",
    "Explanation: 11 = 5 + 5 + 1\n",
    "Example 2:\n",
    "\n",
    "Input: coins = [2], amount = 3\n",
    "Output: -1\n",
    "Note:\n",
    "You may assume that you have an infinite number of each kind of coin."
   ]
  },
  {
   "cell_type": "code",
   "execution_count": 40,
   "metadata": {},
   "outputs": [],
   "source": [
    "# Runtime: 1096 ms, faster than 58.87% of Python online submissions for Coin Change.\n",
    "# Memory Usage: 12 MB, less than 66.93% of Python online submissions for Coin Change.\n",
    "import sys\n",
    "class Solution(object):\n",
    "    def coinChange(self, coins, amount):\n",
    "        \"\"\"\n",
    "        :type coins: List[int]\n",
    "        :type amount: int\n",
    "        :rtype: int\n",
    "        \"\"\"\n",
    "        # dp[11] = min(dp[10]+1, dp[9]+1, d[6]+1)\n",
    "        if amount == 0:return 0\n",
    "        coins = [c for c in coins if c <= amount]\n",
    "        if len(coins) == 0: return -1\n",
    "        coins.sort()\n",
    "        if amount < coins[0]:\n",
    "            return -1\n",
    "        init_state = sys.maxsize\n",
    "        dp = [init_state for _ in range(amount + 1)]\n",
    "        for each in coins:\n",
    "            dp[each] = 1\n",
    "        dp[0] = 0\n",
    "\n",
    "        for i in range(1, amount + 1):\n",
    "            for coin in coins:\n",
    "                if i >= coin:\n",
    "                    dp[i] = min(dp[i], dp[i - coin] + 1)\n",
    "                else:\n",
    "                    break\n",
    "\n",
    "        return dp[-1] if dp[-1] < init_state else -1"
   ]
  },
  {
   "cell_type": "code",
   "execution_count": 41,
   "metadata": {},
   "outputs": [
    {
     "data": {
      "text/plain": [
       "3"
      ]
     },
     "execution_count": 41,
     "metadata": {},
     "output_type": "execute_result"
    }
   ],
   "source": [
    "sol = Solution()\n",
    "sol.coinChange([1,2,5], 11)"
   ]
  },
  {
   "cell_type": "code",
   "execution_count": 42,
   "metadata": {},
   "outputs": [
    {
     "data": {
      "text/plain": [
       "3"
      ]
     },
     "execution_count": 42,
     "metadata": {},
     "output_type": "execute_result"
    }
   ],
   "source": [
    "sol = Solution()\n",
    "sol.coinChange([1, 5, 3, 7, 8], 19)"
   ]
  },
  {
   "cell_type": "code",
   "execution_count": 43,
   "metadata": {},
   "outputs": [
    {
     "data": {
      "text/plain": [
       "-1"
      ]
     },
     "execution_count": 43,
     "metadata": {},
     "output_type": "execute_result"
    }
   ],
   "source": [
    "sol = Solution()\n",
    "sol.coinChange([2], 1)"
   ]
  },
  {
   "cell_type": "code",
   "execution_count": 44,
   "metadata": {},
   "outputs": [
    {
     "data": {
      "text/plain": [
       "0"
      ]
     },
     "execution_count": 44,
     "metadata": {},
     "output_type": "execute_result"
    }
   ],
   "source": [
    "sol = Solution()\n",
    "sol.coinChange([1], 0)"
   ]
  },
  {
   "cell_type": "code",
   "execution_count": null,
   "metadata": {},
   "outputs": [],
   "source": [
    "# 100ms solution\n",
    "class Solution(object):\n",
    "    def coinChange(self, coins, amount):\n",
    "        \"\"\"\n",
    "        :type coins: List[int]\n",
    "        :type amount: int\n",
    "        :rtype: int\n",
    "        \"\"\"\n",
    "        coins.sort(reverse = True)\n",
    "        lenc, self.res = len(coins), 2**31-1\n",
    "\n",
    "        def dfs(pt, rem, count):\n",
    "            if not rem:\n",
    "                self.res = min(self.res, count)\n",
    "            for i in range(pt, lenc):\n",
    "                if coins[i] <= rem < coins[i] * (self.res-count): # if hope still exists\n",
    "                    dfs(i, rem-coins[i], count+1)\n",
    "\n",
    "        for i in range(lenc):\n",
    "            dfs(i, amount, 0)\n",
    "        return self.res if self.res < 2**31-1 else -1"
   ]
  }
 ],
 "metadata": {
  "kernelspec": {
   "display_name": "Python 3",
   "language": "python",
   "name": "python3"
  },
  "language_info": {
   "codemirror_mode": {
    "name": "ipython",
    "version": 3
   },
   "file_extension": ".py",
   "mimetype": "text/x-python",
   "name": "python",
   "nbconvert_exporter": "python",
   "pygments_lexer": "ipython3",
   "version": "3.7.3"
  }
 },
 "nbformat": 4,
 "nbformat_minor": 2
}
