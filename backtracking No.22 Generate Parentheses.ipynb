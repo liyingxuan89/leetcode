{
 "cells": [
  {
   "cell_type": "markdown",
   "metadata": {},
   "source": [
    "Given n pairs of parentheses, write a function to generate all combinations of well-formed parentheses.\n",
    "\n",
    "For example, given n = 3, a solution set is:\n",
    "\n",
    "[\n",
    "  \"((()))\",\n",
    "  \"(()())\",\n",
    "  \"(())()\",\n",
    "  \"()(())\",\n",
    "  \"()()()\"\n",
    "]"
   ]
  },
  {
   "cell_type": "code",
   "execution_count": 4,
   "metadata": {},
   "outputs": [],
   "source": [
    "# Runtime: 24 ms, faster than 49.55% of Python online submissions for Generate Parentheses.\n",
    "# Memory Usage: 11.9 MB, less than 80.39% of Python online submissions for Generate Parentheses.\n",
    "class Solution(object):\n",
    "    def generateParenthesis(self, n):\n",
    "        \"\"\"\n",
    "        :type n: int\n",
    "        :rtype: List[str]\n",
    "        \"\"\"\n",
    "        if not n:\n",
    "            return []\n",
    "        \n",
    "        #　左右括号剩余数均为ｎ\n",
    "        left, right , res = n, n, []\n",
    "        self.dfs(left, right, res, \"\")\n",
    "        return res\n",
    "        \n",
    "    \n",
    "    def dfs(self, left, right, res, string):\n",
    "        # 右括号先减１，　不合法\n",
    "        if right < left:\n",
    "            return \n",
    "        # 左右括号剩余数都为0，　添加当前字符串\n",
    "        if not left and not right:\n",
    "            res.append(string)\n",
    "            return\n",
    "        \n",
    "        if left:\n",
    "            self.dfs(left-1, right, res, string+\"(\")\n",
    "        \n",
    "        if right:\n",
    "            self.dfs(left, right-1, res, string+\")\")"
   ]
  },
  {
   "cell_type": "code",
   "execution_count": 5,
   "metadata": {},
   "outputs": [
    {
     "data": {
      "text/plain": [
       "['((()))', '(()())', '(())()', '()(())', '()()()']"
      ]
     },
     "execution_count": 5,
     "metadata": {},
     "output_type": "execute_result"
    }
   ],
   "source": [
    "sol = Solution()\n",
    "sol.generateParenthesis(3)"
   ]
  },
  {
   "cell_type": "code",
   "execution_count": null,
   "metadata": {},
   "outputs": [],
   "source": []
  }
 ],
 "metadata": {
  "kernelspec": {
   "display_name": "Python 3",
   "language": "python",
   "name": "python3"
  },
  "language_info": {
   "codemirror_mode": {
    "name": "ipython",
    "version": 3
   },
   "file_extension": ".py",
   "mimetype": "text/x-python",
   "name": "python",
   "nbconvert_exporter": "python",
   "pygments_lexer": "ipython3",
   "version": "3.7.3"
  }
 },
 "nbformat": 4,
 "nbformat_minor": 2
}
