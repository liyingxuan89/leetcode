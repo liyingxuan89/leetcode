{
 "cells": [
  {
   "cell_type": "markdown",
   "metadata": {},
   "source": [
    "\n",
    "Given a binary tree, find the lowest common ancestor (LCA) of two given nodes in the tree.\n",
    "\n",
    "According to the definition of LCA on Wikipedia: “The lowest common ancestor is defined between two nodes p and q as the lowest node in T that has both p and q as descendants (where we allow a node to be a descendant of itself).”\n",
    "\n",
    "Given the following binary tree:  root = [3,5,1,6,2,0,8,null,null,7,4]\n",
    "\n",
    "\n",
    " \n",
    "\n",
    "Example 1:\n",
    "\n",
    "Input: root = [3,5,1,6,2,0,8,null,null,7,4], p = 5, q = 1\n",
    "Output: 3\n",
    "Explanation: The LCA of nodes 5 and 1 is 3.\n",
    "Example 2:\n",
    "\n",
    "Input: root = [3,5,1,6,2,0,8,null,null,7,4], p = 5, q = 4\n",
    "Output: 5\n",
    "Explanation: The LCA of nodes 5 and 4 is 5, since a node can be a descendant of itself according to the LCA definition.\n",
    " \n",
    "\n",
    "Note:\n",
    "\n",
    "All of the nodes' values will be unique.\n",
    "p and q are different and both values will exist in the binary tree."
   ]
  },
  {
   "cell_type": "code",
   "execution_count": 1,
   "metadata": {},
   "outputs": [],
   "source": [
    "# Definition for a binary tree node.\n",
    "class TreeNode(object):\n",
    "    def __init__(self, x):\n",
    "        self.val = x\n",
    "        self.left = None\n",
    "        self.right = None\n",
    "#Runtime: 80 ms, faster than 34.31% of Python online submissions for Lowest Common Ancestor of a Binary Tree.\n",
    "# Memory Usage: 24.3 MB, less than 33.00% of Python online submissions for Lowest Common Ancestor of a Binary Tree.\n",
    "class Solution(object):\n",
    "    def lowestCommonAncestor(self, root, p, q):\n",
    "        \"\"\"\n",
    "        :type root: TreeNode\n",
    "        :type p: TreeNode\n",
    "        :type q: TreeNode\n",
    "        :rtype: TreeNode\n",
    "        \"\"\"\n",
    "        if root is None or root.val == p.val or root.val == q.val:\n",
    "            return root\n",
    "        l = self.lowestCommonAncestor(root.left, p, q)\n",
    "        r = self.lowestCommonAncestor(root.right, p, q)\n",
    "        if l is None and r is not None:\n",
    "            return r\n",
    "        elif r is None and l is not None:\n",
    "            return l\n",
    "        else:\n",
    "            return root"
   ]
  },
  {
   "cell_type": "code",
   "execution_count": null,
   "metadata": {},
   "outputs": [],
   "source": []
  }
 ],
 "metadata": {
  "kernelspec": {
   "display_name": "Python 3",
   "language": "python",
   "name": "python3"
  },
  "language_info": {
   "codemirror_mode": {
    "name": "ipython",
    "version": 3
   },
   "file_extension": ".py",
   "mimetype": "text/x-python",
   "name": "python",
   "nbconvert_exporter": "python",
   "pygments_lexer": "ipython3",
   "version": "3.5.1"
  }
 },
 "nbformat": 4,
 "nbformat_minor": 2
}
