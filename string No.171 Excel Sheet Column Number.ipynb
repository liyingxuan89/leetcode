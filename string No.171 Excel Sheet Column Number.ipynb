{
 "cells": [
  {
   "cell_type": "markdown",
   "metadata": {},
   "source": [
    "Given a column title as appear in an Excel sheet, return its corresponding column number.\n",
    "\n",
    "For example:\n",
    "\n",
    "    A -> 1\n",
    "    B -> 2\n",
    "    C -> 3\n",
    "    \n",
    "    ...\n",
    "    \n",
    "    Z -> 26\n",
    "    AA -> 27\n",
    "    AB -> 28 \n",
    "    \n",
    "    ...\n",
    "    \n",
    "#### Example 1:\n",
    "\n",
    "Input: \"A\"\n",
    "Output: 1\n",
    "#### Example 2:\n",
    "\n",
    "Input: \"AB\"\n",
    "Output: 28\n",
    "#### Example 3:\n",
    "\n",
    "Input: \"ZY\"\n",
    "Output: 701\n"
   ]
  },
  {
   "cell_type": "code",
   "execution_count": 11,
   "metadata": {
    "collapsed": true
   },
   "outputs": [],
   "source": [
    "#Runtime: 32 ms, faster than 34.42% of Python online submissions for Excel Sheet Column Number.\n",
    "#Memory Usage: 11.9 MB, less than 5.51% of Python online submissions for Excel Sheet Column Number.\n",
    "class Solution(object):\n",
    "    def titleToNumber(self, s):\n",
    "        \"\"\"\n",
    "        :type s: str\n",
    "        :rtype: int\n",
    "        \"\"\"\n",
    "        numbers = [0,1,2,3,4,5,6,7,8,9,10,11,12,13,14,15,16,17,18,19,20,21,22,23,24,25]\n",
    "        letters = \"ABCDEFGHIJKLMNOPQRSTUVWXYZ\"\n",
    "        mapper = dict(zip(letters, numbers))\n",
    "        power = 0\n",
    "        s = s[::-1]\n",
    "        res = 0\n",
    "        for each in s:\n",
    "            res += (mapper[each]+1) * (26**power)\n",
    "            power += 1\n",
    "            #print(res)\n",
    "        return res\n",
    "            "
   ]
  },
  {
   "cell_type": "code",
   "execution_count": 12,
   "metadata": {
    "collapsed": true
   },
   "outputs": [],
   "source": [
    "sol = Solution()"
   ]
  },
  {
   "cell_type": "code",
   "execution_count": 14,
   "metadata": {
    "collapsed": false
   },
   "outputs": [
    {
     "data": {
      "text/plain": [
       "1"
      ]
     },
     "execution_count": 14,
     "metadata": {},
     "output_type": "execute_result"
    }
   ],
   "source": [
    "sol.titleToNumber(\"A\")"
   ]
  },
  {
   "cell_type": "code",
   "execution_count": null,
   "metadata": {
    "collapsed": true
   },
   "outputs": [],
   "source": []
  }
 ],
 "metadata": {
  "kernelspec": {
   "display_name": "Python 3",
   "language": "python",
   "name": "python3"
  },
  "language_info": {
   "codemirror_mode": {
    "name": "ipython",
    "version": 3
   },
   "file_extension": ".py",
   "mimetype": "text/x-python",
   "name": "python",
   "nbconvert_exporter": "python",
   "pygments_lexer": "ipython3",
   "version": "3.5.1"
  }
 },
 "nbformat": 4,
 "nbformat_minor": 1
}
