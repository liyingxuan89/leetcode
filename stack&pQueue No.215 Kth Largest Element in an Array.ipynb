{
 "cells": [
  {
   "cell_type": "markdown",
   "metadata": {},
   "source": [
    "Find the kth largest element in an unsorted array. Note that it is the kth largest element in the sorted order, not the kth distinct element.\n",
    "\n",
    "Example 1:\n",
    "\n",
    "Input: [3,2,1,5,6,4] and k = 2\n",
    "Output: 5\n",
    "Example 2:\n",
    "\n",
    "Input: [3,2,3,1,2,4,5,5,6] and k = 4\n",
    "Output: 4\n",
    "Note: \n",
    "You may assume k is always valid, 1 ≤ k ≤ array's length."
   ]
  },
  {
   "cell_type": "code",
   "execution_count": 1,
   "metadata": {},
   "outputs": [],
   "source": [
    "# Runtime: 44 ms, faster than 83.18% of Python online submissions for Kth Largest Element in an Array.\n",
    "# Memory Usage: 12.4 MB, less than 38.16% of Python online submissions for Kth Largest Element in an Array.\n",
    "#cheat method\n",
    "class Solution(object):\n",
    "    def findKthLargest(self, nums, k):\n",
    "        \"\"\"\n",
    "        :type nums: List[int]\n",
    "        :type k: int\n",
    "        :rtype: int\n",
    "        \"\"\"\n",
    "        nums.sort(reverse=True)\n",
    "        return nums[k-1]"
   ]
  },
  {
   "cell_type": "code",
   "execution_count": 3,
   "metadata": {},
   "outputs": [
    {
     "data": {
      "text/plain": [
       "5"
      ]
     },
     "execution_count": 3,
     "metadata": {},
     "output_type": "execute_result"
    }
   ],
   "source": [
    "sol = Solution()\n",
    "sol.findKthLargest([3,2,1,5,6,4],2)"
   ]
  },
  {
   "cell_type": "code",
   "execution_count": null,
   "metadata": {},
   "outputs": [],
   "source": [
    "# implements quick sort \n",
    "# Runtime: 56 ms, faster than 67.61% of Python online submissions for Kth Largest Element in an Array.\n",
    "# Memory Usage: 12.3 MB, less than 59.54% of Python online submissions for Kth Largest Element in an Array.\n",
    "class Solution(object):\n",
    "    def findKthLargest(self, nums, k):\n",
    "        \"\"\"\n",
    "        :type nums: List[int]\n",
    "        :type k: int\n",
    "        :rtype: int\n",
    "        \"\"\"\n",
    "        #对于这一题 1：基本解 sort后选第k个 2：利用数据结构 堆（注意最大堆和最小堆的解法区别） 3：quick select（但这个解法如果遇到最坏情况会很差， 所以需要shuffle进行打乱，可以很大程度上的避免）\n",
    "        #quick select\n",
    "        # convert the kth largest to smallest\n",
    "        if k > len(nums):\n",
    "            return -1\n",
    "        k = len(nums)-k\n",
    "        start, end = 0, len(nums)-1\n",
    "        while start<=end:\n",
    "            idx = self.partition(nums,start,end)\n",
    "            if idx==k:\n",
    "                return nums[idx]\n",
    "            elif idx>k:\n",
    "                end = idx-1\n",
    "            else:\n",
    "                start = idx+1\n",
    "        #return res\n",
    "    \n",
    "    def partition(self, nums, start, end):\n",
    "        #为了尽可能避免最坏情况，先随机选择一个random的idx\n",
    "        pivot = random.randint(start, end)\n",
    "        #把pivot和start值交换\n",
    "        self.swap(nums,start,pivot)\n",
    "        #更新pivot\n",
    "        pivot = start\n",
    "        while start<=end:\n",
    "            while start<=end and nums[start]<=nums[pivot]:\n",
    "                start += 1\n",
    "            while start<=end and nums[end]>nums[pivot]:\n",
    "                end -=1\n",
    "            if start > end:\n",
    "                break\n",
    "            self.swap(nums, start, end)\n",
    "        self.swap(nums, pivot, end)\n",
    "        return end\n",
    "    \n",
    "    def swap(self, nums, idx1, idx2):\n",
    "        nums[idx1], nums[idx2] = nums[idx2], nums[idx1]\n",
    "    "
   ]
  },
  {
   "cell_type": "code",
   "execution_count": 45,
   "metadata": {},
   "outputs": [],
   "source": [
    "# Runtime: 144 ms, faster than 26.71% of Python online submissions for Kth Largest Element in an Array.\n",
    "# Memory Usage: 21.8 MB, less than 5.03% of Python online submissions for Kth Largest Element in an Array.\n",
    "import numpy as np\n",
    "class Solution(object):\n",
    "    def findKthLargest(self, nums, k):\n",
    "        \"\"\"\n",
    "        :type nums: List[int]\n",
    "        :type k: int\n",
    "        :rtype: int\n",
    "        \"\"\"\n",
    "        nums = self.quickSort(nums)\n",
    "        return nums[k-1]\n",
    "    \n",
    "    def quickSort(self, nums):\n",
    "        if len(nums) <= 1:\n",
    "            return nums\n",
    "        pivot = nums[np.random.randint(0, len(nums)-1)]\n",
    "        less, equal, greater = [], [], []\n",
    "        for each in nums:\n",
    "            if each < pivot:\n",
    "                less.append(each)\n",
    "            elif each == pivot:\n",
    "                equal.append(each)\n",
    "            else:\n",
    "                greater.append(each)\n",
    "        return self.quickSort(greater) + equal + self.quickSort(less)\n",
    "        "
   ]
  },
  {
   "cell_type": "code",
   "execution_count": 46,
   "metadata": {},
   "outputs": [
    {
     "data": {
      "text/plain": [
       "5"
      ]
     },
     "execution_count": 46,
     "metadata": {},
     "output_type": "execute_result"
    }
   ],
   "source": [
    "sol = Solution()\n",
    "sol.findKthLargest([3,2,1,5,6,4],2)"
   ]
  },
  {
   "cell_type": "code",
   "execution_count": 47,
   "metadata": {},
   "outputs": [
    {
     "data": {
      "text/plain": [
       "4"
      ]
     },
     "execution_count": 47,
     "metadata": {},
     "output_type": "execute_result"
    }
   ],
   "source": [
    "sol.findKthLargest([3,2,3,1,2,4,5,5,6], 4)"
   ]
  },
  {
   "cell_type": "code",
   "execution_count": null,
   "metadata": {},
   "outputs": [],
   "source": [
    "# implement mergeSort \n",
    "class Solution(object):\n",
    "    def findKthLargest(self, nums, k):\n",
    "        \"\"\"\n",
    "        :type nums: List[int]\n",
    "        :type k: int\n",
    "        :rtype: int\n",
    "        \"\"\"\n",
    "        nums = self.mergeSort(nums)\n",
    "        return nums[k-1]\n",
    "    \n",
    "    def mergeSort(self, nums):\n",
    "        if len(nums) <=1:\n",
    "            return nums\n",
    "        mid = \n",
    "        "
   ]
  },
  {
   "cell_type": "code",
   "execution_count": null,
   "metadata": {},
   "outputs": [],
   "source": []
  }
 ],
 "metadata": {
  "kernelspec": {
   "display_name": "Python 3",
   "language": "python",
   "name": "python3"
  },
  "language_info": {
   "codemirror_mode": {
    "name": "ipython",
    "version": 3
   },
   "file_extension": ".py",
   "mimetype": "text/x-python",
   "name": "python",
   "nbconvert_exporter": "python",
   "pygments_lexer": "ipython3",
   "version": "3.7.3"
  }
 },
 "nbformat": 4,
 "nbformat_minor": 2
}
