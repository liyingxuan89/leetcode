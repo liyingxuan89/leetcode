{
 "cells": [
  {
   "cell_type": "markdown",
   "metadata": {},
   "source": [
    "Given a list of non negative integers, arrange them such that they form the largest number.\n",
    "\n",
    "#### Example 1:\n",
    "\n",
    "Input: [10,2]\n",
    "Output: \"210\"\n",
    "#### Example 2:\n",
    "\n",
    "Input: [3,30,34,5,9]\n",
    "Output: \"9534330\"\n",
    "\n",
    "##### Note:\n",
    "The result may be very large, so you need to return a string instead of an integer."
   ]
  },
  {
   "cell_type": "code",
   "execution_count": 17,
   "metadata": {
    "collapsed": true
   },
   "outputs": [],
   "source": [
    "#Runtime: 28 ms, faster than 66.73% of Python online submissions for Largest Number.\n",
    "#Memory Usage: 10.9 MB, less than 10.34% of Python online submissions for Largest Number.\n",
    "import functools \n",
    "\n",
    "class Solution:\n",
    "    def largestNumber(self, nums):\n",
    "        \"\"\"\n",
    "        :type nums: List[int]\n",
    "        :rtype: str\n",
    "        \"\"\"\n",
    "        compare = lambda a, b: 1 if a+b > b+a else -1 if a+b < b+a else 0\n",
    "        _nums = list(map(str, nums))\n",
    "        _nums.sort(key=functools.cmp_to_key(compare), reverse=True)\n",
    "        return str(int(''.join(_nums)))"
   ]
  },
  {
   "cell_type": "code",
   "execution_count": 18,
   "metadata": {
    "collapsed": true
   },
   "outputs": [],
   "source": [
    "sol = Solution()"
   ]
  },
  {
   "cell_type": "code",
   "execution_count": 19,
   "metadata": {
    "collapsed": false
   },
   "outputs": [
    {
     "data": {
      "text/plain": [
       "'9534330'"
      ]
     },
     "execution_count": 19,
     "metadata": {},
     "output_type": "execute_result"
    }
   ],
   "source": [
    "sol.largestNumber([3,30,34,5,9])"
   ]
  },
  {
   "cell_type": "code",
   "execution_count": 38,
   "metadata": {
    "collapsed": false
   },
   "outputs": [],
   "source": [
    "class Solution(object):\n",
    "    def largestNumber(self, nums):\n",
    "        \"\"\"\n",
    "        :type nums: List[int]\n",
    "        :rtype: str\n",
    "        \"\"\"\n",
    "        s = ''.join(sorted(map(str, nums), cmp=lambda x, y: cmp(y + x, x + y)))\n",
    "        return '0' if s[0] == '0' else s"
   ]
  },
  {
   "cell_type": "code",
   "execution_count": 29,
   "metadata": {
    "collapsed": true
   },
   "outputs": [],
   "source": [
    "a = [3,30,34,5,9]"
   ]
  },
  {
   "cell_type": "code",
   "execution_count": 34,
   "metadata": {
    "collapsed": false
   },
   "outputs": [],
   "source": [
    "class Solution(object):\n",
    "    def largestNumber(self, nums):\n",
    "        \"\"\"\n",
    "        :type nums: List[int]\n",
    "        :rtype: str\n",
    "        \"\"\"\n",
    "        tmp = []\n",
    "        for each in nums:\n",
    "            tmp.append(nums)\n",
    "        tmp.sort(cmp=lambda x,y:cmp(y+x,x+y))\n",
    "        return tmp"
   ]
  },
  {
   "cell_type": "code",
   "execution_count": null,
   "metadata": {
    "collapsed": true
   },
   "outputs": [],
   "source": []
  }
 ],
 "metadata": {
  "kernelspec": {
   "display_name": "Python 3",
   "language": "python",
   "name": "python3"
  },
  "language_info": {
   "codemirror_mode": {
    "name": "ipython",
    "version": 3
   },
   "file_extension": ".py",
   "mimetype": "text/x-python",
   "name": "python",
   "nbconvert_exporter": "python",
   "pygments_lexer": "ipython3",
   "version": "3.5.1"
  }
 },
 "nbformat": 4,
 "nbformat_minor": 1
}
