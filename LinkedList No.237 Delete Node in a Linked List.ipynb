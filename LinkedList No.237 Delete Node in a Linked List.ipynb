{
 "cells": [
  {
   "cell_type": "markdown",
   "metadata": {},
   "source": [
    "Write a function to delete a node (except the tail) in a singly linked list, given only access to that node.\n",
    "\n",
    "Given linked list -- head = [4,5,1,9], which looks like following:\n",
    "\n",
    "\n",
    "![avatar](https://assets.leetcode.com/uploads/2018/12/28/237_example.png)\n",
    " \n",
    "\n",
    "Example 1:\n",
    "\n",
    "Input: head = [4,5,1,9], node = 5\n",
    "Output: [4,1,9]\n",
    "\n",
    "Explanation: You are given the second node with value 5, the linked list should become 4 -> 1 -> 9 after calling your function.\n",
    "Example 2:\n",
    "\n",
    "Input: head = [4,5,1,9], node = 1\n",
    "Output: [4,5,9]\n",
    "\n",
    "Explanation: You are given the third node with value 1, the linked list should become 4 -> 5 -> 9 after calling your function.\n",
    " \n",
    "\n",
    "Note:\n",
    "\n",
    "The linked list will have at least two elements.\n",
    "All of the nodes' values will be unique.\n",
    "The given node will not be the tail and it will always be a valid node of the linked list.\n",
    "Do not return anything from your function."
   ]
  },
  {
   "cell_type": "code",
   "execution_count": 1,
   "metadata": {},
   "outputs": [],
   "source": [
    "# Definition for singly-linked list.\n",
    "class ListNode(object):\n",
    "    def __init__(self, x):\n",
    "        self.val = x\n",
    "        self.next = None\n",
    "\n",
    "# Runtime: 28 ms, faster than 67.81% of Python online submissions for Delete Node in a Linked List.\n",
    "# Memory Usage: 12.3 MB, less than 66.81% of Python online submissions for Delete Node in a Linked List.\n",
    "class Solution(object):\n",
    "    def deleteNode(self, node):\n",
    "        \"\"\"\n",
    "        :type node: ListNode\n",
    "        :rtype: void Do not return anything, modify node in-place instead.\n",
    "        \"\"\"\n",
    "        cur = Node\n",
    "        while node.next != None:\n",
    "            node.val = node.next.val\n",
    "            cur = node\n",
    "            node = node.next\n",
    "        cur.next =None"
   ]
  },
  {
   "cell_type": "code",
   "execution_count": null,
   "metadata": {},
   "outputs": [],
   "source": []
  }
 ],
 "metadata": {
  "kernelspec": {
   "display_name": "Python 3",
   "language": "python",
   "name": "python3"
  },
  "language_info": {
   "codemirror_mode": {
    "name": "ipython",
    "version": 3
   },
   "file_extension": ".py",
   "mimetype": "text/x-python",
   "name": "python",
   "nbconvert_exporter": "python",
   "pygments_lexer": "ipython3",
   "version": "3.7.3"
  }
 },
 "nbformat": 4,
 "nbformat_minor": 2
}
