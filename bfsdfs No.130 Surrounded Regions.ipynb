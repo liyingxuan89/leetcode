{
 "cells": [
  {
   "cell_type": "markdown",
   "metadata": {},
   "source": [
    "Given a 2D board containing 'X' and 'O' (the letter O), capture all regions surrounded by 'X'.\n",
    "\n",
    "A region is captured by flipping all 'O's into 'X's in that surrounded region.\n",
    "\n",
    "Example:\n",
    "\n",
    "X X X X\n",
    "X O O X\n",
    "X X O X\n",
    "X O X X\n",
    "After running your function, the board should be:\n",
    "\n",
    "X X X X\n",
    "X X X X\n",
    "X X X X\n",
    "X O X X\n",
    "Explanation:\n",
    "\n",
    "Surrounded regions shouldn’t be on the border, which means that any 'O' on the border of the board are not flipped to 'X'. Any 'O' that is not on the border and it is not connected to an 'O' on the border will be flipped to 'X'. Two cells are connected if they are adjacent cells connected horizontally or vertically."
   ]
  },
  {
   "cell_type": "code",
   "execution_count": 6,
   "metadata": {},
   "outputs": [],
   "source": [
    "# Runtime: 156 ms, faster than 42.19% of Python online submissions for Surrounded Regions.\n",
    "# Memory Usage: 16.9 MB, less than 44.93% of Python online submissions for Surrounded Regions.\n",
    "class Solution(object):\n",
    "    def solve(self, board):\n",
    "        \"\"\"\n",
    "        :type board: List[List[str]]\n",
    "        :rtype: None Do not return anything, modify board in-place instead.\n",
    "        \"\"\"\n",
    "        print(board)\n",
    "        if not board: return \n",
    "        m, n = len(board), len(board[0])\n",
    "        #遍历所有行的第一列和最后一列的O，与O相连的O是活子，将活子用I标记\n",
    "        for i in range(m):\n",
    "            if board[i][0] == \"O\":\n",
    "                self.dfs(board, i, 0, m, n)\n",
    "            if board[i][-1] == \"O\":\n",
    "                self.dfs(board, i, n-1, m, n)\n",
    "        #遍历所有列的第一行和最后一行的O\n",
    "        for j in range(n):\n",
    "            if board[0][j] == \"O\":\n",
    "                self.dfs(board, 0, j, m, n)\n",
    "            if board[-1][j] == \"O\":\n",
    "                self.dfs(board, m-1, j, m, n)\n",
    "        #将所有死子标记成X, 活子I恢复成O\n",
    "        for i in range(m):\n",
    "            for j in range(n):\n",
    "                if board[i][j] == \"O\":\n",
    "                    board[i][j] = \"X\"\n",
    "                if board[i][j] == \"I\":\n",
    "                    board[i][j] = \"O\"\n",
    "        print(board)\n",
    "    \n",
    "    def dfs(self, board, x, y, m, n):\n",
    "        if x<0 or x>=m or y<0 or y>=n or board[x][y] != \"O\":\n",
    "            return \n",
    "        board[x][y] = \"I\"\n",
    "        direction = [(1,0),(-1,0),(0,1),(0,-1)]\n",
    "        for i,j in direction:\n",
    "            ix, iy = x+i, y+j\n",
    "            self.dfs(board, ix, iy, m, n)"
   ]
  },
  {
   "cell_type": "code",
   "execution_count": 7,
   "metadata": {},
   "outputs": [
    {
     "name": "stdout",
     "output_type": "stream",
     "text": [
      "[['X', 'X', 'X', 'X'], ['X', 'O', 'O', 'X'], ['X', 'X', 'O', 'X'], ['X', 'O', 'X', 'X']]\n",
      "[['X', 'X', 'X', 'X'], ['X', 'X', 'X', 'X'], ['X', 'X', 'X', 'X'], ['X', 'O', 'X', 'X']]\n"
     ]
    }
   ],
   "source": [
    "sol = Solution()\n",
    "inputs = [[\"X\",\"X\",\"X\",\"X\"],[\"X\",\"O\",\"O\", \"X\"],[\"X\",\"X\",\"O\",\"X\"],[\"X\",\"O\",\"X\", \"X\"],]\n",
    "sol.solve(inputs)"
   ]
  },
  {
   "cell_type": "code",
   "execution_count": null,
   "metadata": {},
   "outputs": [],
   "source": []
  }
 ],
 "metadata": {
  "kernelspec": {
   "display_name": "Python 3",
   "language": "python",
   "name": "python3"
  },
  "language_info": {
   "codemirror_mode": {
    "name": "ipython",
    "version": 3
   },
   "file_extension": ".py",
   "mimetype": "text/x-python",
   "name": "python",
   "nbconvert_exporter": "python",
   "pygments_lexer": "ipython3",
   "version": "3.7.3"
  }
 },
 "nbformat": 4,
 "nbformat_minor": 2
}
