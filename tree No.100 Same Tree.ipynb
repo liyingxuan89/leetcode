{
 "cells": [
  {
   "cell_type": "markdown",
   "metadata": {},
   "source": [
    "Given two binary trees, write a function to check if they are the same or not.\n",
    "\n",
    "Two binary trees are considered the same if they are structurally identical and the nodes have the same value.\n",
    "\n",
    "Example 1:\n",
    "\n",
    "Input:     1         1\n",
    "          / \\       / \\\n",
    "         2   3     2   3\n",
    "\n",
    "        [1,2,3],   [1,2,3]\n",
    "\n",
    "Output: true\n",
    "Example 2:\n",
    "\n",
    "Input:     1         1\n",
    "          /           \\\n",
    "         2             2\n",
    "\n",
    "        [1,2],     [1,null,2]\n",
    "\n",
    "Output: false\n",
    "Example 3:\n",
    "\n",
    "Input:     1         1\n",
    "          / \\       / \\\n",
    "         2   1     1   2\n",
    "\n",
    "        [1,2,1],   [1,1,2]\n",
    "\n",
    "Output: false"
   ]
  },
  {
   "cell_type": "code",
   "execution_count": 3,
   "metadata": {},
   "outputs": [],
   "source": [
    "# Definition for a binary tree node.\n",
    "class TreeNode(object):\n",
    "    def __init__(self, x):\n",
    "        self.val = x\n",
    "        self.left = None\n",
    "        self.right = None\n",
    "# wrong\n",
    "class Solution(object):\n",
    "    def isSameTree(self, p, q):\n",
    "        \"\"\"\n",
    "        :type p: TreeNode\n",
    "        :type q: TreeNode\n",
    "        :rtype: bool\n",
    "        \"\"\"\n",
    "        return self.preTraversal(p) == self.preTraversal(q)\n",
    "    \n",
    "    def preTraversal(self, root):\n",
    "        if not root:\n",
    "            return []\n",
    "        return [root.val] + self.preTraversal(root.left) + self.preTraversal(root.right)\n",
    "    \n"
   ]
  },
  {
   "cell_type": "code",
   "execution_count": 4,
   "metadata": {},
   "outputs": [],
   "source": [
    "# Runtime: 24 ms, faster than 24.73% of Python online submissions for Same Tree.\n",
    "# Memory Usage: 12.1 MB, less than 5.15% of Python online submissions for Same Tree.\n",
    "class Solution(object):\n",
    "    def isSameTree(self, p, q):\n",
    "        \"\"\"\n",
    "        :type p: TreeNode\n",
    "        :type q: TreeNode\n",
    "        :rtype: bool\n",
    "        \"\"\"\n",
    "        if not p and not q:\n",
    "            return True\n",
    "        if not p or not q:\n",
    "            return False\n",
    "        if p and q and p.val == q.val:\n",
    "            return self.isSameTree(p.left, q.left) and self.isSameTree(p.right, q.right)\n",
    "        return False"
   ]
  },
  {
   "cell_type": "code",
   "execution_count": null,
   "metadata": {},
   "outputs": [],
   "source": []
  }
 ],
 "metadata": {
  "kernelspec": {
   "display_name": "Python 3",
   "language": "python",
   "name": "python3"
  },
  "language_info": {
   "codemirror_mode": {
    "name": "ipython",
    "version": 3
   },
   "file_extension": ".py",
   "mimetype": "text/x-python",
   "name": "python",
   "nbconvert_exporter": "python",
   "pygments_lexer": "ipython3",
   "version": "3.5.1"
  }
 },
 "nbformat": 4,
 "nbformat_minor": 2
}
