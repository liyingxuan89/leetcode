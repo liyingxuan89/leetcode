{
 "cells": [
  {
   "cell_type": "markdown",
   "metadata": {},
   "source": [
    "Given two integers n and k, return all possible combinations of k numbers out of 1 ... n.\n",
    "\n",
    "Example:\n",
    "\n",
    "Input: n = 4, k = 2\n",
    "Output:\n",
    "[\n",
    "  [2,4],\n",
    "  [3,4],\n",
    "  [2,3],\n",
    "  [1,2],\n",
    "  [1,3],\n",
    "  [1,4],\n",
    "]"
   ]
  },
  {
   "cell_type": "code",
   "execution_count": 15,
   "metadata": {
    "collapsed": true
   },
   "outputs": [],
   "source": [
    "# Runtime: 616 ms, faster than 51.61% of Python online submissions for Combinations.\n",
    "# Memory Usage: 13.6 MB, less than 16.70% of Python online submissions for Combinations.\n",
    "class Solution(object):\n",
    "    def combine(self, n, k):\n",
    "        \"\"\"\n",
    "        :type n: int\n",
    "        :type k: int\n",
    "        :rtype: List[List[int]]\n",
    "        \"\"\"\n",
    "        self.res = []\n",
    "        nums = range(1, n+1)\n",
    "        def dfs(k, start_idx, cur_list):\n",
    "            # k : number to integers to choose\n",
    "            # start_idx : index to be the first number\n",
    "            # cur_list : the current combinations\n",
    "            if len(cur_list) == k:\n",
    "                self.res.append(cur_list[:])\n",
    "                return \n",
    "            for idx in range(start_idx, len(nums)):\n",
    "                cur_list.append(nums[idx])\n",
    "                #print(cur_list)\n",
    "                dfs(k, idx+1, cur_list)\n",
    "                cur_list.pop()\n",
    "        dfs(k, 0, [])\n",
    "        return self.res\n",
    "                "
   ]
  },
  {
   "cell_type": "code",
   "execution_count": 16,
   "metadata": {
    "collapsed": false
   },
   "outputs": [
    {
     "data": {
      "text/plain": [
       "[[1, 2], [1, 3], [1, 4], [2, 3], [2, 4], [3, 4]]"
      ]
     },
     "execution_count": 16,
     "metadata": {},
     "output_type": "execute_result"
    }
   ],
   "source": [
    "sol = Solution()\n",
    "sol.combine(4, 2)"
   ]
  },
  {
   "cell_type": "code",
   "execution_count": null,
   "metadata": {
    "collapsed": true
   },
   "outputs": [],
   "source": [
    "# Runtime: 80 ms, faster than 95.48% of Python online submissions for Combinations.\n",
    "# Memory Usage: 13.5 MB, less than 23.56% of Python online submissions for Combinations.\n",
    "class Solution(object):\n",
    "    def doComb(self, l, k): \n",
    "        if len(l) == k:\n",
    "            return [l]\n",
    "        if k == 1:\n",
    "            return [[x] for x in l]        \n",
    "        res1 = self.doComb(l[1:], k - 1)\n",
    "        res1 = [[l[0]] + x for x in res1]\n",
    "        res2 = self.doComb(l[1:], k)\n",
    "        return res1 + res2\n",
    "    \n",
    "    def combine(self, n, k):\n",
    "        \"\"\"\n",
    "        :type n: int\n",
    "        :type k: int\n",
    "        :rtype: List[List[int]]\n",
    "        \"\"\"\n",
    "        return self.doComb(list(range(1, n + 1)), k)"
   ]
  }
 ],
 "metadata": {
  "kernelspec": {
   "display_name": "Python 2",
   "language": "python",
   "name": "python2"
  },
  "language_info": {
   "codemirror_mode": {
    "name": "ipython",
    "version": 2
   },
   "file_extension": ".py",
   "mimetype": "text/x-python",
   "name": "python",
   "nbconvert_exporter": "python",
   "pygments_lexer": "ipython2",
   "version": "2.7.13"
  }
 },
 "nbformat": 4,
 "nbformat_minor": 0
}
