{
 "cells": [
  {
   "cell_type": "markdown",
   "metadata": {},
   "source": [
    "Given a nested list of integers, implement an iterator to flatten it.\n",
    "\n",
    "Each element is either an integer, or a list -- whose elements may also be integers or other lists.\n",
    "\n",
    "Example 1:\n",
    "\n",
    "Input: [[1,1],2,[1,1]]\n",
    "Output: [1,1,2,1,1]\n",
    "Explanation: By calling next repeatedly until hasNext returns false, \n",
    "             the order of elements returned by next should be: [1,1,2,1,1].\n",
    "Example 2:\n",
    "\n",
    "Input: [1,[4,[6]]]\n",
    "Output: [1,4,6]\n",
    "Explanation: By calling next repeatedly until hasNext returns false, \n",
    "             the order of elements returned by next should be: [1,4,6]."
   ]
  },
  {
   "cell_type": "code",
   "execution_count": null,
   "metadata": {},
   "outputs": [],
   "source": [
    "# \"\"\"\n",
    "# This is the interface that allows for creating nested lists.\n",
    "# You should not implement it, or speculate about its implementation\n",
    "# \"\"\"\n",
    "#class NestedInteger(object):\n",
    "#    def isInteger(self):\n",
    "#        \"\"\"\n",
    "#        @return True if this NestedInteger holds a single integer, rather than a nested list.\n",
    "#        :rtype bool\n",
    "#        \"\"\"\n",
    "#\n",
    "#    def getInteger(self):\n",
    "#        \"\"\"\n",
    "#        @return the single integer that this NestedInteger holds, if it holds a single integer\n",
    "#        Return None if this NestedInteger holds a nested list\n",
    "#        :rtype int\n",
    "#        \"\"\"\n",
    "#\n",
    "#    def getList(self):\n",
    "#        \"\"\"\n",
    "#        @return the nested list that this NestedInteger holds, if it holds a nested list\n",
    "#        Return None if this NestedInteger holds a single integer\n",
    "#        :rtype List[NestedInteger]\n",
    "#        \"\"\"\n",
    "\n",
    "# Runtime: 72 ms, faster than 72.79% of Python online submissions for Flatten Nested List Iterator.\n",
    "# Memory Usage: 17.6 MB, less than 19.00% of Python online submissions for Flatten Nested List Iterator.\n",
    "class NestedIterator(object):\n",
    "\n",
    "    def __init__(self, nestedList):\n",
    "        \"\"\"\n",
    "        Initialize your data structure here.\n",
    "        :type nestedList: List[NestedInteger]\n",
    "        \"\"\"\n",
    "        self.NL = self.flatten(nestedList)\n",
    "        self.l = iter(self.NL)\n",
    "        self.idx = 0\n",
    "        \n",
    "    def flatten(self, nl):\n",
    "        l = []\n",
    "        for ele in nl:\n",
    "            if ele.isInteger():\n",
    "                l.append(ele.getInteger())\n",
    "            else:\n",
    "                l.extend(self.flatten(ele.getList()))\n",
    "        return l\n",
    "\n",
    "    def next(self):\n",
    "        \"\"\"\n",
    "        :rtype: int\n",
    "        \"\"\"\n",
    "        self.idx += 1\n",
    "        return next(self.l)\n",
    "\n",
    "    def hasNext(self):\n",
    "        \"\"\"\n",
    "        :rtype: bool\n",
    "        \"\"\"\n",
    "        return self.idx < len(self.NL)\n",
    "        \n",
    "\n",
    "# Your NestedIterator object will be instantiated and called as such:\n",
    "# i, v = NestedIterator(nestedList), []\n",
    "# while i.hasNext(): v.append(i.next())"
   ]
  },
  {
   "cell_type": "code",
   "execution_count": 1,
   "metadata": {},
   "outputs": [],
   "source": [
    "a = iter([1,2,3,4])"
   ]
  },
  {
   "cell_type": "code",
   "execution_count": null,
   "metadata": {},
   "outputs": [],
   "source": []
  }
 ],
 "metadata": {
  "kernelspec": {
   "display_name": "Python 3",
   "language": "python",
   "name": "python3"
  },
  "language_info": {
   "codemirror_mode": {
    "name": "ipython",
    "version": 3
   },
   "file_extension": ".py",
   "mimetype": "text/x-python",
   "name": "python",
   "nbconvert_exporter": "python",
   "pygments_lexer": "ipython3",
   "version": "3.7.3"
  }
 },
 "nbformat": 4,
 "nbformat_minor": 2
}
