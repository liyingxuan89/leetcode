{
 "cells": [
  {
   "cell_type": "markdown",
   "metadata": {},
   "source": [
    "Given n points on a 2D plane, find the maximum number of points that lie on the same straight line.\n",
    "\n",
    "Example 1:\n",
    "\n",
    "Input: [[1,1],[2,2],[3,3]]\n",
    "Output: 3\n",
    "Explanation:\n",
    "^\n",
    "|\n",
    "|        o\n",
    "|     o\n",
    "|  o  \n",
    "+------------->\n",
    "0  1  2  3  4\n",
    "Example 2:\n",
    "\n",
    "Input: [[1,1],[3,2],[5,3],[4,1],[2,3],[1,4]]\n",
    "Output: 4\n",
    "Explanation:\n",
    "^\n",
    "|\n",
    "|  o\n",
    "|     o        o\n",
    "|        o\n",
    "|  o        o\n",
    "+------------------->\n",
    "0  1  2  3  4  5  6\n",
    "NOTE: input types have been changed on April 15, 2019. Please reset to default code definition to get new method signature."
   ]
  },
  {
   "cell_type": "code",
   "execution_count": 11,
   "metadata": {},
   "outputs": [],
   "source": [
    "# Runtime: 28 ms, faster than 98.80% of Python online submissions for Max Points on a Line.\n",
    "# Memory Usage: 11.9 MB, less than 62.23% of Python online submissions for Max Points on a Line.\n",
    "class Solution(object):\n",
    "    def maxPoints(self, points):\n",
    "        \"\"\"\n",
    "        :type points: List[Point]\n",
    "        :rtype: int\n",
    "        \"\"\"\n",
    "        if len(points) == 0:\n",
    "            return 0\n",
    "        mm = {}\n",
    "        for p in points:\n",
    "            mm[(p[0],p[1])] = mm.get((p[0],p[1]), 0) + 1\n",
    "        P = list(mm.keys())\n",
    "        if len(P) == 1:\n",
    "            return mm[P[0]]\n",
    "        maxP = 0\n",
    "        for i in range(len(P)-1):\n",
    "            slopes,repCnt = {},1\n",
    "            for j in range(i+1,len(P)):\n",
    "                dx,dy = P[i][0]-P[j][0],P[i][1]-P[j][1]\n",
    "                if dx == 0:\n",
    "                    slope = \"#\"\n",
    "                elif dy == 0:\n",
    "                    slope = 0\n",
    "                else:\n",
    "                    slope = float(dy) / dx\n",
    "                slopes[slope] = slopes.get(slope,0) + mm[P[j]]\n",
    "            maxP = max(maxP, mm[P[i]] + max(slopes.values()))\n",
    "        return maxP"
   ]
  },
  {
   "cell_type": "code",
   "execution_count": 12,
   "metadata": {},
   "outputs": [
    {
     "data": {
      "text/plain": [
       "4"
      ]
     },
     "execution_count": 12,
     "metadata": {},
     "output_type": "execute_result"
    }
   ],
   "source": [
    "sol = Solution()\n",
    "sol.maxPoints([[1,1],[3,2],[5,3],[4,1],[2,3],[1,4]])"
   ]
  },
  {
   "cell_type": "code",
   "execution_count": null,
   "metadata": {},
   "outputs": [],
   "source": []
  }
 ],
 "metadata": {
  "kernelspec": {
   "display_name": "Python 3",
   "language": "python",
   "name": "python3"
  },
  "language_info": {
   "codemirror_mode": {
    "name": "ipython",
    "version": 3
   },
   "file_extension": ".py",
   "mimetype": "text/x-python",
   "name": "python",
   "nbconvert_exporter": "python",
   "pygments_lexer": "ipython3",
   "version": "3.7.3"
  }
 },
 "nbformat": 4,
 "nbformat_minor": 2
}
