{
 "cells": [
  {
   "cell_type": "markdown",
   "metadata": {},
   "source": [
    "Given a singly linked list where elements are sorted in ascending order, convert it to a height balanced BST.\n",
    "\n",
    "For this problem, a height-balanced binary tree is defined as a binary tree in which the depth of the two subtrees of every node never differ by more than 1.\n",
    "\n",
    "Example:\n",
    "\n",
    "Given the sorted linked list: [-10,-3,0,5,9],\n",
    "\n",
    "One possible answer is: [0,-3,9,-10,null,5], which represents the following height balanced BST:\n",
    "\n",
    "      0\n",
    "     / \\\n",
    "   -3   9\n",
    "   /   /\n",
    " -10  5"
   ]
  },
  {
   "cell_type": "code",
   "execution_count": null,
   "metadata": {},
   "outputs": [],
   "source": [
    "# Definition for singly-linked list.\n",
    "class ListNode(object):\n",
    "    def __init__(self, x):\n",
    "        self.val = x\n",
    "        self.next = None\n",
    "\n",
    "# Definition for a binary tree node.\n",
    "class TreeNode(object):\n",
    "    def __init__(self, x):\n",
    "        self.val = x\n",
    "        self.left = None\n",
    "        self.right = None\n",
    "# Runtime: 116 ms, faster than 87.17% of Python online submissions for Convert Sorted List to Binary Search Tree.\n",
    "# Memory Usage: 24.2 MB, less than 5.51% of Python online submissions for Convert Sorted List to Binary Search Tree.\n",
    "class Solution(object):\n",
    "    def sortedListToBST(self, head):\n",
    "        \"\"\"\n",
    "        :type head: ListNode\n",
    "        :rtype: TreeNode\n",
    "        \"\"\"\n",
    "        if not head:\n",
    "            return None\n",
    "        array = []\n",
    "        while(head):\n",
    "            array.append(head.val)\n",
    "            head = head.next\n",
    "        return self.sortArrayToBST(array)\n",
    "    \n",
    "    def sortArrayToBST(self, nums):\n",
    "        if not nums:\n",
    "            return None\n",
    "        n = len(nums)\n",
    "        mid = n//2\n",
    "        root = TreeNode(nums[mid])\n",
    "        root.left = self.sortArrayToBST(nums[:mid])\n",
    "        root.right = self.sortArrayToBST(nums[mid+1:])\n",
    "        return root"
   ]
  }
 ],
 "metadata": {
  "kernelspec": {
   "display_name": "Python 3",
   "language": "python",
   "name": "python3"
  },
  "language_info": {
   "codemirror_mode": {
    "name": "ipython",
    "version": 3
   },
   "file_extension": ".py",
   "mimetype": "text/x-python",
   "name": "python",
   "nbconvert_exporter": "python",
   "pygments_lexer": "ipython3",
   "version": "3.5.1"
  }
 },
 "nbformat": 4,
 "nbformat_minor": 2
}
