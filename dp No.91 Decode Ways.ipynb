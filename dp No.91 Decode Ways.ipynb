{
 "cells": [
  {
   "cell_type": "markdown",
   "metadata": {},
   "source": [
    "A message containing letters from A-Z is being encoded to numbers using the following mapping:\n",
    "\n",
    "'A' -> 1\n",
    "'B' -> 2\n",
    "...\n",
    "'Z' -> 26\n",
    "Given a non-empty string containing only digits, determine the total number of ways to decode it.\n",
    "\n",
    "Example 1:\n",
    "\n",
    "Input: \"12\"\n",
    "Output: 2\n",
    "Explanation: It could be decoded as \"AB\" (1 2) or \"L\" (12).\n",
    "Example 2:\n",
    "\n",
    "Input: \"226\"\n",
    "Output: 3\n",
    "Explanation: It could be decoded as \"BZ\" (2 26), \"VF\" (22 6), or \"BBF\" (2 2 6)."
   ]
  },
  {
   "cell_type": "code",
   "execution_count": 14,
   "metadata": {},
   "outputs": [],
   "source": [
    "# Runtime: 12 ms, faster than 98.12% of Python online submissions for Decode Ways.\n",
    "# Memory Usage: 11.8 MB, less than 47.83% of Python online submissions for Decode Ways.\n",
    "class Solution(object):\n",
    "    def numDecodings(self, s):\n",
    "        \"\"\"\n",
    "        :type s: str\n",
    "        :rtype: int\n",
    "        \"\"\"\n",
    "        if not s:\n",
    "            return 0\n",
    "        dp = [1] + [0] * len(s)\n",
    "        \n",
    "        for i in range(1, len(s)+1):\n",
    "            if s[i-1] != \"0\":\n",
    "                dp[i] += dp[i-1]\n",
    "            if i >= 2 and s[i-2:i] < \"27\" and s[i-2:i] > \"09\":\n",
    "                dp[i] += dp[i-2]\n",
    "                \n",
    "        return dp[len(s)]\n",
    "        "
   ]
  },
  {
   "cell_type": "code",
   "execution_count": 15,
   "metadata": {},
   "outputs": [],
   "source": [
    "sol = Solution()"
   ]
  },
  {
   "cell_type": "code",
   "execution_count": 16,
   "metadata": {},
   "outputs": [
    {
     "data": {
      "text/plain": [
       "3"
      ]
     },
     "execution_count": 16,
     "metadata": {},
     "output_type": "execute_result"
    }
   ],
   "source": [
    "sol.numDecodings(\"226\")"
   ]
  },
  {
   "cell_type": "code",
   "execution_count": null,
   "metadata": {},
   "outputs": [],
   "source": []
  }
 ],
 "metadata": {
  "kernelspec": {
   "display_name": "Python 3",
   "language": "python",
   "name": "python3"
  },
  "language_info": {
   "codemirror_mode": {
    "name": "ipython",
    "version": 3
   },
   "file_extension": ".py",
   "mimetype": "text/x-python",
   "name": "python",
   "nbconvert_exporter": "python",
   "pygments_lexer": "ipython3",
   "version": "3.7.3"
  }
 },
 "nbformat": 4,
 "nbformat_minor": 2
}
