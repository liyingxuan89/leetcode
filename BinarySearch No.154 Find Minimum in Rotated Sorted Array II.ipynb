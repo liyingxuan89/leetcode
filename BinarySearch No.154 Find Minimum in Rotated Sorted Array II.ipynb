{
 "cells": [
  {
   "cell_type": "markdown",
   "metadata": {},
   "source": [
    "Suppose an array sorted in ascending order is rotated at some pivot unknown to you beforehand.\n",
    "\n",
    "(i.e.,  [0,1,2,4,5,6,7] might become  [4,5,6,7,0,1,2]).\n",
    "\n",
    "Find the minimum element.\n",
    "\n",
    "The array may contain duplicates.\n",
    "\n",
    "Example 1:\n",
    "\n",
    "Input: [1,3,5]\n",
    "Output: 1\n",
    "Example 2:\n",
    "\n",
    "Input: [2,2,2,0,1]\n",
    "Output: 0\n",
    "Note:\n",
    "\n",
    "This is a follow up problem to Find Minimum in Rotated Sorted Array.\n",
    "Would allow duplicates affect the run-time complexity? How and why?"
   ]
  },
  {
   "cell_type": "code",
   "execution_count": 1,
   "metadata": {},
   "outputs": [],
   "source": [
    "# Runtime: 36 ms, faster than 60.84% of Python online submissions for Find Minimum in Rotated Sorted Array II.\n",
    "# Memory Usage: 12 MB, less than 74.26% of Python online submissions for Find Minimum in Rotated Sorted Array II.\n",
    "class Solution(object):\n",
    "    def findMin(self, nums):\n",
    "        \"\"\"\n",
    "        :type nums: List[int]\n",
    "        :rtype: int\n",
    "        \"\"\"\n",
    "        nums.sort()\n",
    "        return nums[0]"
   ]
  },
  {
   "cell_type": "code",
   "execution_count": 2,
   "metadata": {},
   "outputs": [],
   "source": [
    "class Solution(object):\n",
    "    def findMin(self, nums):\n",
    "        \"\"\"\n",
    "        :type nums: List[int]\n",
    "        :rtype: int\n",
    "        \"\"\"\n",
    "        return min(nums)"
   ]
  },
  {
   "cell_type": "code",
   "execution_count": 10,
   "metadata": {},
   "outputs": [],
   "source": [
    "# Runtime: 40 ms, faster than 55.62% of Python online submissions for Find Minimum in Rotated Sorted Array II.\n",
    "# Memory Usage: 12 MB, less than 64.20% of Python online submissions for Find Minimum in Rotated Sorted Array II.\n",
    "class Solution(object):\n",
    "    def findMin(self, nums):\n",
    "        \"\"\"\n",
    "        :type nums: List[int]\n",
    "        :rtype: int\n",
    "        \"\"\"\n",
    "        l, r = 0, len(nums)-1\n",
    "        while l < r:\n",
    "            mid = l + (r-l)//2\n",
    "            if nums[mid] > nums[r]:\n",
    "                l = mid + 1\n",
    "            elif nums[mid] < nums[r]:\n",
    "                r = mid\n",
    "            else:\n",
    "                # 代表重复值，一步步消灭重复值\n",
    "                r -= 1\n",
    "        return nums[l]"
   ]
  },
  {
   "cell_type": "code",
   "execution_count": 11,
   "metadata": {},
   "outputs": [
    {
     "data": {
      "text/plain": [
       "1"
      ]
     },
     "execution_count": 11,
     "metadata": {},
     "output_type": "execute_result"
    }
   ],
   "source": [
    "sol = Solution()\n",
    "sol.findMin([2,2,2,1])"
   ]
  },
  {
   "cell_type": "code",
   "execution_count": null,
   "metadata": {},
   "outputs": [],
   "source": []
  }
 ],
 "metadata": {
  "kernelspec": {
   "display_name": "Python 3",
   "language": "python",
   "name": "python3"
  },
  "language_info": {
   "codemirror_mode": {
    "name": "ipython",
    "version": 3
   },
   "file_extension": ".py",
   "mimetype": "text/x-python",
   "name": "python",
   "nbconvert_exporter": "python",
   "pygments_lexer": "ipython3",
   "version": "3.7.3"
  }
 },
 "nbformat": 4,
 "nbformat_minor": 2
}
