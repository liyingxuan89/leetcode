{
 "cells": [
  {
   "cell_type": "markdown",
   "metadata": {},
   "source": [
    "The set [1,2,3,...,n] contains a total of n! unique permutations.\n",
    "\n",
    "By listing and labeling all of the permutations in order, we get the following sequence for n = 3:\n",
    "\n",
    "\"123\"\n",
    "\"132\"\n",
    "\"213\"\n",
    "\"231\"\n",
    "\"312\"\n",
    "\"321\"\n",
    "Given n and k, return the kth permutation sequence.\n",
    "\n",
    "Note:\n",
    "\n",
    "Given n will be between 1 and 9 inclusive.\n",
    "Given k will be between 1 and n! inclusive.\n",
    "Example 1:\n",
    "\n",
    "Input: n = 3, k = 3\n",
    "Output: \"213\"\n",
    "Example 2:\n",
    "\n",
    "Input: n = 4, k = 9\n",
    "Output: \"2314\""
   ]
  },
  {
   "cell_type": "code",
   "execution_count": 14,
   "metadata": {},
   "outputs": [],
   "source": [
    "# time limit exceeded\n",
    "class Solution(object):\n",
    "    def getPermutation(self, n, k):\n",
    "        \"\"\"\n",
    "        :type n: int\n",
    "        :type k: int\n",
    "        :rtype: str\n",
    "        \"\"\"\n",
    "        \n",
    "        counter = 0\n",
    "        used = [False] * n\n",
    "        nums = range(1,10)\n",
    "        res = []\n",
    "        def dfs(res, cur_list, s_idx, nums):\n",
    "            if len(cur_list) == n:\n",
    "                res.append(cur_list[:])\n",
    "                return \n",
    "             \n",
    "            for i in range(n):\n",
    "                if not used[i]:\n",
    "                    cur_list.append(nums[i])\n",
    "                    used[i] = True\n",
    "                    dfs(res, cur_list, 0, nums)\n",
    "                    cur_list.pop()\n",
    "                    used[i] = False\n",
    "                    \n",
    "        dfs(res, [], 0 , nums)\n",
    "        #print(res[k-1])\n",
    "        result = [str(x) for x in res[k-1]]\n",
    "        result = \"\".join(result)\n",
    "        return result"
   ]
  },
  {
   "cell_type": "code",
   "execution_count": 15,
   "metadata": {},
   "outputs": [
    {
     "data": {
      "text/plain": [
       "'348567921'"
      ]
     },
     "execution_count": 15,
     "metadata": {},
     "output_type": "execute_result"
    }
   ],
   "source": [
    "sol = Solution()\n",
    "sol.getPermutation(9,94626)"
   ]
  },
  {
   "cell_type": "code",
   "execution_count": null,
   "metadata": {},
   "outputs": [],
   "source": [
    "\"\".join([1,2,3])"
   ]
  },
  {
   "cell_type": "code",
   "execution_count": 10,
   "metadata": {},
   "outputs": [
    {
     "data": {
      "text/plain": [
       "362880"
      ]
     },
     "execution_count": 10,
     "metadata": {},
     "output_type": "execute_result"
    }
   ],
   "source": [
    "9*8*7*6*5*4*3*2"
   ]
  },
  {
   "cell_type": "code",
   "execution_count": 25,
   "metadata": {},
   "outputs": [],
   "source": [
    "# Runtime: 16 ms, faster than 98.04% of Python online submissions for Permutation Sequence.\n",
    "# Memory Usage: 11.7 MB, less than 78.59% of Python online submissions for Permutation Sequence.\n",
    "class Solution(object):\n",
    "    def getPermutation(self, n, k):\n",
    "        \"\"\"\n",
    "        :type n: int\n",
    "        :type k: int\n",
    "        :rtype: str\n",
    "        \"\"\"\n",
    "        fac = [1] * n\n",
    "        for i in range(1,n):\n",
    "            fac[i] = fac[i-1] * i\n",
    "        k -= 1\n",
    "        nums = list(range(1, n+1))\n",
    "        res = \"\"\n",
    "        for j in range(n):\n",
    "            idx = k // fac[n-1-j]\n",
    "            res += str(nums[idx])\n",
    "            del nums[idx]\n",
    "            k = k % fac[n-1-j]\n",
    "        return res\n",
    "            "
   ]
  },
  {
   "cell_type": "code",
   "execution_count": 27,
   "metadata": {},
   "outputs": [
    {
     "data": {
      "text/plain": [
       "'2314'"
      ]
     },
     "execution_count": 27,
     "metadata": {},
     "output_type": "execute_result"
    }
   ],
   "source": [
    "sol = Solution()\n",
    "sol.getPermutation(4,9)"
   ]
  },
  {
   "cell_type": "code",
   "execution_count": 28,
   "metadata": {},
   "outputs": [
    {
     "data": {
      "text/plain": [
       "'348567921'"
      ]
     },
     "execution_count": 28,
     "metadata": {},
     "output_type": "execute_result"
    }
   ],
   "source": [
    "sol.getPermutation(9, 94626)"
   ]
  },
  {
   "cell_type": "code",
   "execution_count": null,
   "metadata": {},
   "outputs": [],
   "source": []
  }
 ],
 "metadata": {
  "kernelspec": {
   "display_name": "Python 3",
   "language": "python",
   "name": "python3"
  },
  "language_info": {
   "codemirror_mode": {
    "name": "ipython",
    "version": 3
   },
   "file_extension": ".py",
   "mimetype": "text/x-python",
   "name": "python",
   "nbconvert_exporter": "python",
   "pygments_lexer": "ipython3",
   "version": "3.7.3"
  }
 },
 "nbformat": 4,
 "nbformat_minor": 2
}
