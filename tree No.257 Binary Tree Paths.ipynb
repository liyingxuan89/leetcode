{
 "cells": [
  {
   "cell_type": "markdown",
   "metadata": {},
   "source": [
    "Given a binary tree, return all root-to-leaf paths.\n",
    "\n",
    "Note: A leaf is a node with no children.\n",
    "\n",
    "Example:\n",
    "\n",
    "Input:\n",
    "\n",
    "   1\n",
    " /   \\\n",
    "2     3\n",
    " \\\n",
    "  5\n",
    "\n",
    "Output: [\"1->2->5\", \"1->3\"]\n",
    "\n",
    "Explanation: All root-to-leaf paths are: 1->2->5, 1->3"
   ]
  },
  {
   "cell_type": "code",
   "execution_count": 9,
   "metadata": {},
   "outputs": [],
   "source": [
    "# Definition for a binary tree node.\n",
    "class TreeNode(object):\n",
    "    def __init__(self, x):\n",
    "        self.val = x\n",
    "        self.left = None\n",
    "        self.right = None\n",
    "\n",
    "# Runtime: 8 ms, faster than 100.00% of Python online submissions for Binary Tree Paths.\n",
    "# Memory Usage: 11.7 MB, less than 5.23% of Python online submissions for Binary Tree Paths.\n",
    "class Solution(object):\n",
    "    def binaryTreePaths(self, root):\n",
    "        \"\"\"\n",
    "        :type root: TreeNode\n",
    "        :rtype: List[str]\n",
    "        \"\"\"\n",
    "        if not root:\n",
    "            return []\n",
    "        result = []\n",
    "        stack = [(root, str(root.val))]\n",
    "        while(stack):\n",
    "            node, path = stack.pop()\n",
    "            if not node.left and not node.right:\n",
    "                result.append(path)\n",
    "            if node.left is not None:\n",
    "                stack.append((node.left, path+\"->\"+str(node.left.val)))\n",
    "            if node.right is not None:\n",
    "                stack.append((node.right, path+\"->\"+str(node.right.val)))\n",
    "        return result"
   ]
  },
  {
   "cell_type": "code",
   "execution_count": 10,
   "metadata": {
    "collapsed": true
   },
   "outputs": [],
   "source": [
    "r = TreeNode(1)\n",
    "r.left = TreeNode(2)\n",
    "r.right = TreeNode(3)\n",
    "r.left.right = TreeNode(5)\n",
    "sol = Solution()"
   ]
  },
  {
   "cell_type": "code",
   "execution_count": 11,
   "metadata": {},
   "outputs": [
    {
     "data": {
      "text/plain": [
       "['1->3', '1->2->5']"
      ]
     },
     "execution_count": 11,
     "metadata": {},
     "output_type": "execute_result"
    }
   ],
   "source": [
    "sol.binaryTreePaths(r)"
   ]
  },
  {
   "cell_type": "code",
   "execution_count": 18,
   "metadata": {
    "collapsed": true
   },
   "outputs": [],
   "source": [
    "class Solution(object):\n",
    "    def binaryTreePaths(self, root):\n",
    "        \"\"\"\n",
    "        :type root: TreeNode\n",
    "        :rtype: List[str]\n",
    "        \"\"\"\n",
    "        if not root:\n",
    "            return []\n",
    "        self.res = []\n",
    "        self.bfs(root, [])\n",
    "        return self.res\n",
    "    def bfs(self, node, val_list):\n",
    "        if not node:\n",
    "            return\n",
    "        val_list.append(node.val)\n",
    "        if not node.left and not node.right:\n",
    "            self.res.append(val_list)\n",
    "        self.bfs(node.left, val_list)\n",
    "        self.bfs(node.right, val_list)"
   ]
  },
  {
   "cell_type": "code",
   "execution_count": 19,
   "metadata": {
    "collapsed": true
   },
   "outputs": [],
   "source": [
    "r = TreeNode(1)\n",
    "r.left = TreeNode(2)\n",
    "r.right = TreeNode(3)\n",
    "r.left.right = TreeNode(5)\n",
    "sol = Solution()"
   ]
  },
  {
   "cell_type": "code",
   "execution_count": 20,
   "metadata": {},
   "outputs": [
    {
     "data": {
      "text/plain": [
       "[[1, 2, 5, 3], [1, 2, 5, 3]]"
      ]
     },
     "execution_count": 20,
     "metadata": {},
     "output_type": "execute_result"
    }
   ],
   "source": [
    "sol.binaryTreePaths(r)"
   ]
  },
  {
   "cell_type": "code",
   "execution_count": null,
   "metadata": {
    "collapsed": true
   },
   "outputs": [],
   "source": []
  }
 ],
 "metadata": {
  "kernelspec": {
   "display_name": "Python 3",
   "language": "python",
   "name": "python3"
  },
  "language_info": {
   "codemirror_mode": {
    "name": "ipython",
    "version": 3
   },
   "file_extension": ".py",
   "mimetype": "text/x-python",
   "name": "python",
   "nbconvert_exporter": "python",
   "pygments_lexer": "ipython3",
   "version": "3.6.8"
  }
 },
 "nbformat": 4,
 "nbformat_minor": 2
}
