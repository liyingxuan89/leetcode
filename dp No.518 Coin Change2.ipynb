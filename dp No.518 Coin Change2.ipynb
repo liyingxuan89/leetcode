{
 "cells": [
  {
   "cell_type": "markdown",
   "metadata": {},
   "source": [
    "You are given coins of different denominations and a total amount of money. Write a function to compute the number of combinations that make up that amount. You may assume that you have infinite number of each kind of coin.\n",
    "\n",
    " \n",
    "\n",
    "Example 1:\n",
    "\n",
    "Input: amount = 5, coins = [1, 2, 5]\n",
    "Output: 4\n",
    "Explanation: there are four ways to make up the amount:\n",
    "5=5\n",
    "5=2+2+1\n",
    "5=2+1+1+1\n",
    "5=1+1+1+1+1\n",
    "Example 2:\n",
    "\n",
    "Input: amount = 3, coins = [2]\n",
    "Output: 0\n",
    "Explanation: the amount of 3 cannot be made up just with coins of 2.\n",
    "Example 3:\n",
    "\n",
    "Input: amount = 10, coins = [10] \n",
    "Output: 1\n",
    " \n",
    "\n",
    "Note:\n",
    "\n",
    "You can assume that\n",
    "\n",
    "0 <= amount <= 5000\n",
    "1 <= coin <= 5000\n",
    "the number of coins is less than 500\n",
    "the answer is guaranteed to fit into signed 32-bit integer"
   ]
  },
  {
   "cell_type": "code",
   "execution_count": 18,
   "metadata": {},
   "outputs": [],
   "source": [
    "# time exceeded\n",
    "class Solution(object):\n",
    "    def change(self, amount, coins):\n",
    "        \"\"\"\n",
    "        :type amount: int\n",
    "        :type coins: List[int]\n",
    "        :rtype: int\n",
    "        \"\"\"\n",
    "        coins.sort()\n",
    "        res = []\n",
    "        \n",
    "        def dfs(res, cur_list, nums, s_idx, target):\n",
    "            if target == 0:\n",
    "                res.append(cur_list[:])\n",
    "            \n",
    "            for i in range(s_idx, len(nums)):\n",
    "                if nums[i] > target:\n",
    "                    return \n",
    "                cur_list.append(nums[i])\n",
    "                \n",
    "                dfs(res, cur_list, nums, i, target-nums[i])\n",
    "                cur_list.pop()\n",
    "        \n",
    "        dfs(res, [], coins, 0, amount)\n",
    "        \n",
    "        return len(res)\n",
    "        "
   ]
  },
  {
   "cell_type": "code",
   "execution_count": 20,
   "metadata": {},
   "outputs": [
    {
     "data": {
      "text/plain": [
       "2"
      ]
     },
     "execution_count": 20,
     "metadata": {},
     "output_type": "execute_result"
    }
   ],
   "source": [
    "sol = Solution()\n",
    "sol.change(100, [1,99])"
   ]
  },
  {
   "cell_type": "code",
   "execution_count": 35,
   "metadata": {},
   "outputs": [],
   "source": [
    "# Runtime: 100 ms, faster ?than 94.44% of Python online submissions for Coin Change 2.\n",
    "# Memory Usage: 12.1 MB, less than 33.99% of Python online submissions for Coin Change 2.\n",
    "class Solution(object):\n",
    "    def change(self, amount, coins):\n",
    "        \"\"\"\n",
    "        :type amount: int\n",
    "        :type coins: List[int]\n",
    "        :rtype: int\n",
    "        \"\"\"\n",
    "        coins.sort()\n",
    "        dp = [0] * (amount+1)\n",
    "        dp[0] = 1\n",
    "        \n",
    "        for coin in coins:\n",
    "            for j in range(coin, amount)\n",
    "                    dp[i] += dp[i-coin]\n",
    "        \n",
    "        return dp[amount]"
   ]
  },
  {
   "cell_type": "code",
   "execution_count": 36,
   "metadata": {},
   "outputs": [
    {
     "data": {
      "text/plain": [
       "0"
      ]
     },
     "execution_count": 36,
     "metadata": {},
     "output_type": "execute_result"
    }
   ],
   "source": [
    "sol = Solution()\n",
    "sol.change(5, [1,2,5])"
   ]
  },
  {
   "cell_type": "code",
   "execution_count": null,
   "metadata": {},
   "outputs": [],
   "source": []
  }
 ],
 "metadata": {
  "kernelspec": {
   "display_name": "Python 3",
   "language": "python",
   "name": "python3"
  },
  "language_info": {
   "codemirror_mode": {
    "name": "ipython",
    "version": 3
   },
   "file_extension": ".py",
   "mimetype": "text/x-python",
   "name": "python",
   "nbconvert_exporter": "python",
   "pygments_lexer": "ipython3",
   "version": "3.7.3"
  }
 },
 "nbformat": 4,
 "nbformat_minor": 2
}
