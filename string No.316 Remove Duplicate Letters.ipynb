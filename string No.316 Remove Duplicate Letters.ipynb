{
 "cells": [
  {
   "cell_type": "markdown",
   "metadata": {},
   "source": [
    "Given a string which contains only lowercase letters, remove duplicate letters so that every letter appear once and only once. You must make sure your result is the smallest in lexicographical order among all possible results.\n",
    "\n",
    "#### Example 1:\n",
    "\n",
    "Input: \"bcabc\"\n",
    "Output: \"abc\"\n",
    "#### Example 2:\n",
    "\n",
    "Input: \"cbacdcbc\"\n",
    "Output: \"acdb\""
   ]
  },
  {
   "cell_type": "code",
   "execution_count": 1,
   "metadata": {
    "collapsed": true
   },
   "outputs": [],
   "source": [
    "#Runtime: 44 ms, faster than 39.91% of Python online submissions for Remove Duplicate Letters.\n",
    "#Memory Usage: 11.1 MB, less than 23.08% of Python online submissions for Remove Duplicate Letters.\n",
    "class Solution(object):\n",
    "    def removeDuplicateLetters(self, s):\n",
    "        \"\"\"\n",
    "        :type s: str\n",
    "        :rtype: str\n",
    "        \"\"\"\n",
    "        result = ''\n",
    "        while s:\n",
    "            i = min(map(s.rindex, set(s)))\n",
    "            c = min(s[:i+1])\n",
    "            result += c\n",
    "            s = s[s.index(c):].replace(c, '')\n",
    "        return result"
   ]
  },
  {
   "cell_type": "code",
   "execution_count": 2,
   "metadata": {
    "collapsed": true
   },
   "outputs": [],
   "source": [
    "sol = Solution()"
   ]
  },
  {
   "cell_type": "code",
   "execution_count": 3,
   "metadata": {
    "collapsed": false
   },
   "outputs": [
    {
     "data": {
      "text/plain": [
       "'acdb'"
      ]
     },
     "execution_count": 3,
     "metadata": {},
     "output_type": "execute_result"
    }
   ],
   "source": [
    "sol.removeDuplicateLetters(\"cbacdcbc\")"
   ]
  },
  {
   "cell_type": "code",
   "execution_count": 4,
   "metadata": {
    "collapsed": true
   },
   "outputs": [],
   "source": [
    "#best solution\n",
    "class Solution2(object):   \n",
    "    def removeDuplicateLetters(self, s):\n",
    "        \"\"\"\n",
    "        :type s: str\n",
    "        :rtype: str\n",
    "        \"\"\"\n",
    "        rindex = {c: i for i, c in enumerate(s)}\n",
    "        result = ''\n",
    "        for i, c in enumerate(s):\n",
    "            if c not in result:\n",
    "                while c < result[-1:] and i < rindex[result[-1]]:\n",
    "                    result = result[:-1]\n",
    "                result += c\n",
    "        return result"
   ]
  },
  {
   "cell_type": "code",
   "execution_count": null,
   "metadata": {
    "collapsed": true
   },
   "outputs": [],
   "source": []
  }
 ],
 "metadata": {
  "kernelspec": {
   "display_name": "Python 3",
   "language": "python",
   "name": "python3"
  },
  "language_info": {
   "codemirror_mode": {
    "name": "ipython",
    "version": 3
   },
   "file_extension": ".py",
   "mimetype": "text/x-python",
   "name": "python",
   "nbconvert_exporter": "python",
   "pygments_lexer": "ipython3",
   "version": "3.5.1"
  }
 },
 "nbformat": 4,
 "nbformat_minor": 1
}
