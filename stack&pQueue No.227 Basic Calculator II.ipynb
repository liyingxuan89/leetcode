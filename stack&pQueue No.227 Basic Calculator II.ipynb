{
 "cells": [
  {
   "cell_type": "markdown",
   "metadata": {},
   "source": [
    "Implement a basic calculator to evaluate a simple expression string.\n",
    "\n",
    "The expression string contains only non-negative integers, +, -, *, / operators and empty spaces . The integer division should truncate toward zero.\n",
    "\n",
    "Example 1:\n",
    "\n",
    "Input: \"3+2*2\"\n",
    "Output: 7\n",
    "Example 2:\n",
    "\n",
    "Input: \" 3/2 \"\n",
    "Output: 1\n",
    "Example 3:\n",
    "\n",
    "Input: \" 3+5 / 2 \"\n",
    "Output: 5\n",
    "Note:\n",
    "\n",
    "You may assume that the given expression is always valid.\n",
    "Do not use the eval built-in library function."
   ]
  },
  {
   "cell_type": "code",
   "execution_count": 2,
   "metadata": {},
   "outputs": [],
   "source": [
    "# Runtime: 208 ms, faster than 22.48% of Python online submissions for Basic Calculator II.\n",
    "# Memory Usage: 13.7 MB, less than 86.93% of Python online submissions for Basic Calculator II.\n",
    "class Solution(object):\n",
    "    def calculate(self, s):\n",
    "        \"\"\"\n",
    "        :type s: str\n",
    "        :rtype: int\n",
    "        \"\"\"\n",
    "        num_stack = []\n",
    "        symble_stack = []\n",
    "        levels = {\"+\": 0, \"-\": 0, \"*\": 1, \"/\": 1}\n",
    "        i = 0\n",
    "        s = s.replace(\" \", \"\")\n",
    "        while i < len(s):\n",
    "\n",
    "            if s[i].isdigit():\n",
    "                start = i\n",
    "                while i < len(s) and s[i].isdigit():\n",
    "                    i += 1\n",
    "                num_stack.append(int(s[start:i]))\n",
    "                continue\n",
    "\n",
    "            if s[i] in \"+-*/\":\n",
    "                cur_level = levels[s[i]]\n",
    "                while symble_stack and symble_stack[-1][1] >= cur_level:\n",
    "                    sign = symble_stack.pop()[0]\n",
    "                    r = num_stack.pop()\n",
    "                    l = num_stack.pop()\n",
    "                    num_stack.append(self.operate(l, r, sign))\n",
    "                symble_stack.append((s[i], cur_level))\n",
    "            i += 1\n",
    "\n",
    "        while symble_stack:\n",
    "            sign = symble_stack.pop()[0]\n",
    "            r = num_stack.pop()\n",
    "            l = num_stack.pop()\n",
    "            num_stack.append(self.operate(l, r, sign))\n",
    "\n",
    "        return num_stack[0]\n",
    "\n",
    "    def operate(self, l, r, s):\n",
    "        if s == \"+\":\n",
    "            return l + r\n",
    "        elif s == \"-\":\n",
    "            return l - r\n",
    "        elif s == \"*\":\n",
    "            return l * r\n",
    "        else:\n",
    "            return l // r"
   ]
  },
  {
   "cell_type": "code",
   "execution_count": 3,
   "metadata": {},
   "outputs": [
    {
     "data": {
      "text/plain": [
       "5"
      ]
     },
     "execution_count": 3,
     "metadata": {},
     "output_type": "execute_result"
    }
   ],
   "source": [
    "sol = Solution()\n",
    "sol.calculate(\" 3+5 / 2 \")"
   ]
  },
  {
   "cell_type": "code",
   "execution_count": 4,
   "metadata": {},
   "outputs": [
    {
     "data": {
      "text/plain": [
       "7"
      ]
     },
     "execution_count": 4,
     "metadata": {},
     "output_type": "execute_result"
    }
   ],
   "source": [
    "sol.calculate(\"3+2*2\")"
   ]
  },
  {
   "cell_type": "code",
   "execution_count": 6,
   "metadata": {},
   "outputs": [
    {
     "data": {
      "text/plain": [
       "28"
      ]
     },
     "execution_count": 6,
     "metadata": {},
     "output_type": "execute_result"
    }
   ],
   "source": [
    "sol.calculate(\"8*3-3+ 19/6 *2+1\")"
   ]
  },
  {
   "cell_type": "code",
   "execution_count": null,
   "metadata": {},
   "outputs": [],
   "source": []
  }
 ],
 "metadata": {
  "kernelspec": {
   "display_name": "Python 3",
   "language": "python",
   "name": "python3"
  },
  "language_info": {
   "codemirror_mode": {
    "name": "ipython",
    "version": 3
   },
   "file_extension": ".py",
   "mimetype": "text/x-python",
   "name": "python",
   "nbconvert_exporter": "python",
   "pygments_lexer": "ipython3",
   "version": "3.7.3"
  }
 },
 "nbformat": 4,
 "nbformat_minor": 2
}
