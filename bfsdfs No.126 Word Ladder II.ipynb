{
 "cells": [
  {
   "cell_type": "markdown",
   "metadata": {},
   "source": [
    "Given two words (beginWord and endWord), and a dictionary's word list, find all shortest transformation sequence(s) from beginWord to endWord, such that:\n",
    "\n",
    "Only one letter can be changed at a time\n",
    "Each transformed word must exist in the word list. Note that beginWord is not a transformed word.\n",
    "Note:\n",
    "\n",
    "Return an empty list if there is no such transformation sequence.\n",
    "All words have the same length.\n",
    "All words contain only lowercase alphabetic characters.\n",
    "You may assume no duplicates in the word list.\n",
    "You may assume beginWord and endWord are non-empty and are not the same.\n",
    "Example 1:\n",
    "\n",
    "Input:\n",
    "beginWord = \"hit\",\n",
    "endWord = \"cog\",\n",
    "wordList = [\"hot\",\"dot\",\"dog\",\"lot\",\"log\",\"cog\"]\n",
    "\n",
    "Output:\n",
    "[\n",
    "  [\"hit\",\"hot\",\"dot\",\"dog\",\"cog\"],\n",
    "  [\"hit\",\"hot\",\"lot\",\"log\",\"cog\"]\n",
    "]\n",
    "Example 2:\n",
    "\n",
    "Input:\n",
    "beginWord = \"hit\"\n",
    "endWord = \"cog\"\n",
    "wordList = [\"hot\",\"dot\",\"dog\",\"lot\",\"log\"]\n",
    "\n",
    "Output: []\n",
    "\n",
    "Explanation: The endWord \"cog\" is not in wordList, therefore no possible transformation."
   ]
  },
  {
   "cell_type": "code",
   "execution_count": 25,
   "metadata": {},
   "outputs": [],
   "source": [
    "# bfs queue中存放(word,path)这种返回list[list]的题目可以考虑堆栈种存放元组的结构\n",
    "class Solution(object):\n",
    "    def findLadders(self, beginWord, endWord, wordList):\n",
    "        \"\"\"\n",
    "        :type beginWord: str\n",
    "        :type endWord: str\n",
    "        :type wordList: List[str]\n",
    "        :rtype: List[List[str]]\n",
    "        \"\"\"\n",
    "        wordset = set(wordList)\n",
    "        if endWord not in wordset:\n",
    "            return [[]]\n",
    "        visited = set()\n",
    "        # 记录当前的path\n",
    "        queue = [(beginWord, [beginWord], visited)]\n",
    "        res = []\n",
    "        while queue:\n",
    "            word, cur_list, visited = queue.pop(0)\n",
    "            if word == endWord:\n",
    "                res.append(cur_list)\n",
    "            if word in visited:\n",
    "                continue\n",
    "            # 加入访问过的词表\n",
    "            visited.add(word)\n",
    "            for i in range(len(word)):\n",
    "                for char in \"abcdefghijklmnopqrstuvwxyz\":\n",
    "                    test_word = word[:i]+char+word[i+1:]\n",
    "                    if test_word in wordList and test_word not in visited:\n",
    "                        queue.append((test_word, cur_list+[test_word], visited))\n",
    "        if res:\n",
    "            l = min([len(x) for x in res])\n",
    "            res = [x for x in res if len(x)==l]\n",
    "        return res"
   ]
  },
  {
   "cell_type": "code",
   "execution_count": 26,
   "metadata": {},
   "outputs": [
    {
     "data": {
      "text/plain": [
       "[['hit', 'hot', 'dot', 'dog', 'cog'], ['hit', 'hot', 'lot', 'log', 'cog']]"
      ]
     },
     "execution_count": 26,
     "metadata": {},
     "output_type": "execute_result"
    }
   ],
   "source": [
    "sol = Solution()\n",
    "sol.findLadders(beginWord = \"hit\",endWord = \"cog\",wordList = [\"hot\",\"dot\",\"dog\",\"lot\",\"log\",\"cog\"])"
   ]
  },
  {
   "cell_type": "code",
   "execution_count": 27,
   "metadata": {},
   "outputs": [
    {
     "data": {
      "text/plain": [
       "[]"
      ]
     },
     "execution_count": 27,
     "metadata": {},
     "output_type": "execute_result"
    }
   ],
   "source": [
    "sol.findLadders(\"hot\",\"dog\",[\"hot\",\"dog\"])"
   ]
  },
  {
   "cell_type": "code",
   "execution_count": 28,
   "metadata": {},
   "outputs": [
    {
     "data": {
      "text/plain": [
       "[['red', 'ted', 'tad', 'tax'], ['red', 'ted', 'tex', 'tax']]"
      ]
     },
     "execution_count": 28,
     "metadata": {},
     "output_type": "execute_result"
    }
   ],
   "source": [
    "sol.findLadders(\"red\",\"tax\",[\"ted\",\"tex\",\"red\",\"tax\",\"tad\",\"den\",\"rex\",\"pee\"])"
   ]
  },
  {
   "cell_type": "code",
   "execution_count": 31,
   "metadata": {},
   "outputs": [],
   "source": [
    "# Runtime: 88 ms, faster than 98.78% of Python online submissions for Word Ladder II.\n",
    "# Memory Usage: 13.3 MB, less than 95.11% of Python online submissions for Word Ladder II.\n",
    "import collections\n",
    "class Solution(object):\n",
    "    def findLadders(self, beginWord, endWord, wordList):\n",
    "        \"\"\"\n",
    "        :type beginWord: str\n",
    "        :type endWord: str\n",
    "        :type wordList: List[str]\n",
    "        :rtype: List[List[str]]\n",
    "        \"\"\"\n",
    "\n",
    "        tree, words, n = collections.defaultdict(set), set(wordList), len(beginWord)\n",
    "        if endWord not in wordList: return []\n",
    "        found, bq, eq, nq, rev = False, {beginWord}, {endWord}, set(), False\n",
    "        while bq and not found:\n",
    "            words -= set(bq)\n",
    "            for x in bq:\n",
    "                for y in [x[:i] + c + x[i + 1:] for i in range(n) for c in 'abcdefghijklmnopqrstuvwxyz']:\n",
    "                    if y in words:\n",
    "                        if y in eq: found = True\n",
    "                        else: nq.add(y)\n",
    "                        tree[y].add(x) if rev else tree[x].add(y)\n",
    "            bq, nq = nq, set()\n",
    "            if len(bq) > len(eq): bq, eq, rev = eq, bq, not rev\n",
    "        def bt(x): return [[x]] if x == endWord else [[x] + rest for y in tree[x] for rest in bt(y)]\n",
    "        return bt(beginWord)"
   ]
  },
  {
   "cell_type": "code",
   "execution_count": 32,
   "metadata": {},
   "outputs": [
    {
     "data": {
      "text/plain": [
       "[['hit', 'hot', 'lot', 'log', 'cog'], ['hit', 'hot', 'dot', 'dog', 'cog']]"
      ]
     },
     "execution_count": 32,
     "metadata": {},
     "output_type": "execute_result"
    }
   ],
   "source": [
    "sol = Solution()\n",
    "sol.findLadders(beginWord = \"hit\",endWord = \"cog\",wordList = [\"hot\",\"dot\",\"dog\",\"lot\",\"log\",\"cog\"])"
   ]
  },
  {
   "cell_type": "code",
   "execution_count": 33,
   "metadata": {},
   "outputs": [
    {
     "data": {
      "text/plain": [
       "[['red', 'ted', 'tad', 'tax'],\n",
       " ['red', 'ted', 'tex', 'tax'],\n",
       " ['red', 'rex', 'tex', 'tax']]"
      ]
     },
     "execution_count": 33,
     "metadata": {},
     "output_type": "execute_result"
    }
   ],
   "source": [
    "sol.findLadders(\"red\",\"tax\",[\"ted\",\"tex\",\"red\",\"tax\",\"tad\",\"den\",\"rex\",\"pee\"])"
   ]
  },
  {
   "cell_type": "code",
   "execution_count": null,
   "metadata": {},
   "outputs": [],
   "source": []
  }
 ],
 "metadata": {
  "kernelspec": {
   "display_name": "Python 3",
   "language": "python",
   "name": "python3"
  },
  "language_info": {
   "codemirror_mode": {
    "name": "ipython",
    "version": 3
   },
   "file_extension": ".py",
   "mimetype": "text/x-python",
   "name": "python",
   "nbconvert_exporter": "python",
   "pygments_lexer": "ipython3",
   "version": "3.7.3"
  }
 },
 "nbformat": 4,
 "nbformat_minor": 2
}
