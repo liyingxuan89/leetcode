{
 "cells": [
  {
   "cell_type": "markdown",
   "metadata": {},
   "source": [
    "Given a string S and a string T, find the minimum window in S which will contain all the characters in T in complexity O(n).\n",
    "\n",
    "#### Example:\n",
    "\n",
    "Input: S = \"ADOBECODEBANC\", T = \"ABC\"\n",
    "Output: \"BANC\"\n",
    "Note:\n",
    "\n",
    "If there is no such window in S that covers all characters in T, return the empty string \"\".\n",
    "If there is such window, you are guaranteed that there will always be only one unique minimum window in S.\n"
   ]
  },
  {
   "cell_type": "code",
   "execution_count": 4,
   "metadata": {
    "collapsed": true
   },
   "outputs": [],
   "source": [
    "#Runtime: 56 ms, faster than 99.70% of Python online submissions for Minimum Window Substring.\n",
    "#Memory Usage: 12.4 MB, less than 27.76% of Python online submissions for Minimum Window Substring.\n",
    "import collections\n",
    "class Solution(object):\n",
    "    def minWindow(self, s, t):\n",
    "        \"\"\"\n",
    "        :type s: str\n",
    "        :type t: str\n",
    "        :rtype: str\n",
    "        \"\"\"\n",
    "        if not s or not t:\n",
    "            return \"\"\n",
    "        \n",
    "        # Defaultdict is very useful in this problem, though i don't like to import modules\n",
    "        target_count_dict = collections.defaultdict(int)\n",
    "        for ch in t:\n",
    "            target_count_dict[ch] += 1\n",
    "        remain_missing = len(t)\n",
    "        start_pos, end_pos = 0, float('inf')\n",
    "        current_start = 0\n",
    "        \n",
    "        # Enumerate function makes current_end indexes from 1\n",
    "        for current_end, ch in enumerate(s, 1):\n",
    "            # Whenever we encounter a character, no matter ch in target or not, we minus 1 in count dictionary\n",
    "            # But, only when ch is in target, we minus the length of remain_missing\n",
    "            # When the remain_missing is 0, we find a potential solution.\n",
    "            if target_count_dict[ch] > 0:\n",
    "                remain_missing -= 1\n",
    "            target_count_dict[ch] -= 1\n",
    "            \n",
    "            if remain_missing == 0:\n",
    "                # Remove redundant character\n",
    "                # Try to find the fist position in s that makes target_count_dict value equals 0\n",
    "                # Which means we can't skip this character in s when returning answer\n",
    "                while target_count_dict[s[current_start]] < 0:\n",
    "                    target_count_dict[s[current_start]] += 1\n",
    "                    current_start += 1\n",
    "                if current_end - current_start < end_pos - start_pos:\n",
    "                    start_pos, end_pos = current_start, current_end\n",
    "                \n",
    "                # We need to add 1 to current_start, and the correspondence value in dictionary, is because\n",
    "                # this is the first character of the potential answer. So, in future iteration, when we encounter this character,\n",
    "                # We can remove this currently first character to try to find a shorter answer.\n",
    "                target_count_dict[s[current_start]] += 1\n",
    "                remain_missing += 1\n",
    "                current_start += 1\n",
    "        \n",
    "        return s[start_pos:end_pos] if end_pos != float('inf') else \"\" "
   ]
  },
  {
   "cell_type": "code",
   "execution_count": 5,
   "metadata": {
    "collapsed": true
   },
   "outputs": [],
   "source": [
    "sol = Solution()"
   ]
  },
  {
   "cell_type": "code",
   "execution_count": 6,
   "metadata": {
    "collapsed": false
   },
   "outputs": [
    {
     "data": {
      "text/plain": [
       "'BANC'"
      ]
     },
     "execution_count": 6,
     "metadata": {},
     "output_type": "execute_result"
    }
   ],
   "source": [
    "sol.minWindow(s = \"ADOBECODEBANC\", t = \"ABC\")"
   ]
  },
  {
   "cell_type": "code",
   "execution_count": null,
   "metadata": {
    "collapsed": false
   },
   "outputs": [],
   "source": [
    "collections.Counter(\"ABC\")"
   ]
  },
  {
   "cell_type": "code",
   "execution_count": null,
   "metadata": {
    "collapsed": true
   },
   "outputs": [],
   "source": []
  }
 ],
 "metadata": {
  "kernelspec": {
   "display_name": "Python 3",
   "language": "python",
   "name": "python3"
  },
  "language_info": {
   "codemirror_mode": {
    "name": "ipython",
    "version": 3
   },
   "file_extension": ".py",
   "mimetype": "text/x-python",
   "name": "python",
   "nbconvert_exporter": "python",
   "pygments_lexer": "ipython3",
   "version": "3.5.1"
  }
 },
 "nbformat": 4,
 "nbformat_minor": 1
}
