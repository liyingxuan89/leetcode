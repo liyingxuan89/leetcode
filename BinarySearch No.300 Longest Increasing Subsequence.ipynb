{
 "cells": [
  {
   "cell_type": "markdown",
   "metadata": {},
   "source": [
    "Given an unsorted array of integers, find the length of longest increasing subsequence.\n",
    "\n",
    "Example:\n",
    "\n",
    "Input: [10,9,2,5,3,7,101,18]\n",
    "Output: 4 \n",
    "Explanation: The longest increasing subsequence is [2,3,7,101], therefore the length is 4. \n",
    "Note:\n",
    "\n",
    "There may be more than one LIS combination, it is only necessary for you to return the length.\n",
    "Your algorithm should run in O(n2) complexity.\n",
    "Follow up: Could you improve it to O(n log n) time complexity?"
   ]
  },
  {
   "cell_type": "code",
   "execution_count": 1,
   "metadata": {},
   "outputs": [],
   "source": [
    "#dp\n",
    "# Runtime: 1012 ms, faster than 29.23% of Python online submissions for Longest Increasing Subsequence.\n",
    "# Memory Usage: 11.9 MB, less than 59.81% of Python online submissions for Longest Increasing Subsequence.\n",
    "class Solution(object):\n",
    "    def lengthOfLIS(self, nums):\n",
    "        \"\"\"\n",
    "        :type nums: List[int]\n",
    "        :rtype: int\n",
    "        \"\"\"\n",
    "        if not nums: return 0\n",
    "        dp = [1] * len(nums)\n",
    "        for i in range(len(nums)):\n",
    "            for j in range(i):\n",
    "                if nums[i] > nums[j]:\n",
    "                    dp[i] = max(dp[j]+1, dp[i])\n",
    "        return max(dp)\n",
    "                "
   ]
  },
  {
   "cell_type": "code",
   "execution_count": 2,
   "metadata": {},
   "outputs": [
    {
     "data": {
      "text/plain": [
       "4"
      ]
     },
     "execution_count": 2,
     "metadata": {},
     "output_type": "execute_result"
    }
   ],
   "source": [
    "sol = Solution()\n",
    "sol.lengthOfLIS([10,9,2,5,3,7,101,18])"
   ]
  },
  {
   "cell_type": "code",
   "execution_count": 3,
   "metadata": {},
   "outputs": [],
   "source": [
    "# binarySearch solution\n",
    "# Runtime: 28 ms, faster than 89.30% of Python online submissions for Longest Increasing Subsequence.\n",
    "# Memory Usage: 12 MB, less than 30.58% of Python online submissions for Longest Increasing Subsequence.\n",
    "class Solution(object):\n",
    "    def lengthOfLIS(self, A):\n",
    "        res = []\n",
    "        for num in A:\n",
    "            # print(\"\")\n",
    "            # print(num,res)\n",
    "            if not res:\n",
    "                res.append(num)\n",
    "                continue\n",
    "            if num > res[-1]:\n",
    "                res.append(num)\n",
    "                continue\n",
    "            # 维护一个数组，如果比最后一个数大，就append，如果不是就插在原来数组的相应位置里面\n",
    "            low = 0\n",
    "            high = len(res) - 1\n",
    "            while low < high:\n",
    "                mid = (low + high)//2\n",
    "                # print(low,mid,high)\n",
    "                if res[mid] < num:\n",
    "                    low = mid + 1\n",
    "                else:\n",
    "                    high = mid\n",
    "            res[high] = num\n",
    "\n",
    "        return len(res)"
   ]
  },
  {
   "cell_type": "code",
   "execution_count": null,
   "metadata": {},
   "outputs": [],
   "source": []
  }
 ],
 "metadata": {
  "kernelspec": {
   "display_name": "Python 3",
   "language": "python",
   "name": "python3"
  },
  "language_info": {
   "codemirror_mode": {
    "name": "ipython",
    "version": 3
   },
   "file_extension": ".py",
   "mimetype": "text/x-python",
   "name": "python",
   "nbconvert_exporter": "python",
   "pygments_lexer": "ipython3",
   "version": "3.7.3"
  }
 },
 "nbformat": 4,
 "nbformat_minor": 2
}
