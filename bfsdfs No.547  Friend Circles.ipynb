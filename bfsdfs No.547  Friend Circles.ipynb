{
 "cells": [
  {
   "cell_type": "markdown",
   "metadata": {},
   "source": [
    "There are N students in a class. Some of them are friends, while some are not. Their friendship is transitive in nature. For example, if A is a direct friend of B, and B is a direct friend of C, then A is an indirect friend of C. And we defined a friend circle is a group of students who are direct or indirect friends.\n",
    "\n",
    "Given a N*N matrix M representing the friend relationship between students in the class. If M[i][j] = 1, then the ith and jth students are direct friends with each other, otherwise not. And you have to output the total number of friend circles among all the students.\n",
    "\n",
    "Example 1:\n",
    "Input: \n",
    "[[1,1,0],\n",
    " [1,1,0],\n",
    " [0,0,1]]\n",
    "Output: 2\n",
    "Explanation:The 0th and 1st students are direct friends, so they are in a friend circle. \n",
    "The 2nd student himself is in a friend circle. So return 2.\n",
    "Example 2:\n",
    "Input: \n",
    "[[1,1,0],\n",
    " [1,1,1],\n",
    " [0,1,1]]\n",
    "Output: 1\n",
    "Explanation:The 0th and 1st students are direct friends, the 1st and 2nd students are direct friends, \n",
    "so the 0th and 2nd students are indirect friends. All of them are in the same friend circle, so return 1.\n",
    "Note:\n",
    "N is in range [1,200].\n",
    "M[i][i] = 1 for all students.\n",
    "If M[i][j] = 1, then M[j][i] = 1."
   ]
  },
  {
   "cell_type": "code",
   "execution_count": 11,
   "metadata": {},
   "outputs": [],
   "source": [
    "# Runtime: 268 ms, faster than 24.28% of Python online submissions for Friend Circles.\n",
    "# Memory Usage: 19.9 MB, less than 5.21% of Python online submissions for Friend Circles.\n",
    "\n",
    "class Solution(object):\n",
    "    def findCircleNum(self, M):\n",
    "        \"\"\"\n",
    "        :type M: List[List[int]]\n",
    "        :rtype: int\n",
    "        \"\"\"\n",
    "        if not M:\n",
    "            return 0\n",
    "        n = len(M)\n",
    "        circle = 0\n",
    "        for i in range(n):\n",
    "            if M[i][i] == 1:\n",
    "                circle += 1\n",
    "                self.dfs(M, i, n)\n",
    "        return circle\n",
    "    \n",
    "    def dfs(self, M, cur, n):\n",
    "        for j in range(n):\n",
    "            if M[cur][j] == 1:\n",
    "                M[cur][j], M[j][cur] = 0, 0\n",
    "                self.dfs(M, j, n)"
   ]
  },
  {
   "cell_type": "code",
   "execution_count": 12,
   "metadata": {},
   "outputs": [
    {
     "data": {
      "text/plain": [
       "2"
      ]
     },
     "execution_count": 12,
     "metadata": {},
     "output_type": "execute_result"
    }
   ],
   "source": [
    "sol = Solution()\n",
    "sol.findCircleNum([[1,1,0],\n",
    " [1,1,0],\n",
    " [0,0,1]])"
   ]
  },
  {
   "cell_type": "code",
   "execution_count": 13,
   "metadata": {},
   "outputs": [
    {
     "data": {
      "text/plain": [
       "1"
      ]
     },
     "execution_count": 13,
     "metadata": {},
     "output_type": "execute_result"
    }
   ],
   "source": [
    "sol.findCircleNum([[1,1,0],\n",
    " [1,1,1],\n",
    " [0,1,1]])"
   ]
  },
  {
   "cell_type": "code",
   "execution_count": 14,
   "metadata": {},
   "outputs": [
    {
     "data": {
      "text/plain": [
       "1"
      ]
     },
     "execution_count": 14,
     "metadata": {},
     "output_type": "execute_result"
    }
   ],
   "source": [
    "sol.findCircleNum([[1,0,0,1],\n",
    " [0,1,1,0],\n",
    " [0,1,1,1],\n",
    " [1,0,1,1]])"
   ]
  },
  {
   "cell_type": "code",
   "execution_count": null,
   "metadata": {},
   "outputs": [],
   "source": [
    "# best solution\n",
    "class Solution(object):\n",
    "    def findCircleNum(self, grid):\n",
    "        \"\"\"\n",
    "        :type M: List[List[int]]\n",
    "        :rtype: int\n",
    "        \"\"\"\n",
    "        if not grid or not grid[0]:\n",
    "            return 0\n",
    "        \n",
    "        n = len(grid)\n",
    "        \n",
    "        count = 0\n",
    "        visited= set()\n",
    "        for i in range(n):\n",
    "            if i not in visited:\n",
    "                self.dfs(grid, i, n, visited)\n",
    "                count += 1\n",
    "        return count\n",
    "        \n",
    "    def dfs(self, grid, i, n, visited):\n",
    "        visited.add(i)\n",
    "        for j in range(n):\n",
    "            if j not in visited and grid[i][j] == 1:\n",
    "                self.dfs(grid, j, n, visited)\n",
    "        "
   ]
  }
 ],
 "metadata": {
  "kernelspec": {
   "display_name": "Python 3",
   "language": "python",
   "name": "python3"
  },
  "language_info": {
   "codemirror_mode": {
    "name": "ipython",
    "version": 3
   },
   "file_extension": ".py",
   "mimetype": "text/x-python",
   "name": "python",
   "nbconvert_exporter": "python",
   "pygments_lexer": "ipython3",
   "version": "3.7.3"
  }
 },
 "nbformat": 4,
 "nbformat_minor": 2
}
