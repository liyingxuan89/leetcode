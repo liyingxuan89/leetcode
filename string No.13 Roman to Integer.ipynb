{
 "cells": [
  {
   "cell_type": "markdown",
   "metadata": {},
   "source": [
    "Roman numerals are represented by seven different symbols: I, V, X, L, C, D and M.\n",
    "\n",
    "Symbol       Value\n",
    "I             1\n",
    "V             5\n",
    "X             10\n",
    "L             50\n",
    "C             100\n",
    "D             500\n",
    "M             1000\n",
    "For example, two is written as II in Roman numeral, just two one's added together. Twelve is written as, XII, which is simply X + II. The number twenty seven is written as XXVII, which is XX + V + II.\n",
    "\n",
    "Roman numerals are usually written largest to smallest from left to right. However, the numeral for four is not IIII. Instead, the number four is written as IV. Because the one is before the five we subtract it making four. The same principle applies to the number nine, which is written as IX. There are six instances where subtraction is used:\n",
    "\n",
    "I can be placed before V (5) and X (10) to make 4 and 9. \n",
    "X can be placed before L (50) and C (100) to make 40 and 90. \n",
    "C can be placed before D (500) and M (1000) to make 400 and 900.\n",
    "Given a roman numeral, convert it to an integer. Input is guaranteed to be within the range from 1 to 3999.\n",
    "\n",
    "Example 1:\n",
    "\n",
    "Input: \"III\"\n",
    "Output: 3\n",
    "Example 2:\n",
    "\n",
    "Input: \"IV\"\n",
    "Output: 4\n",
    "Example 3:\n",
    "\n",
    "Input: \"IX\"\n",
    "Output: 9\n",
    "Example 4:\n",
    "\n",
    "Input: \"LVIII\"\n",
    "Output: 58\n",
    "Explanation: L = 50, V= 5, III = 3.\n",
    "Example 5:\n",
    "\n",
    "Input: \"MCMXCIV\"\n",
    "Output: 1994\n",
    "Explanation: M = 1000, CM = 900, XC = 90 and IV = 4.\n"
   ]
  },
  {
   "cell_type": "code",
   "execution_count": 1,
   "metadata": {
    "collapsed": true
   },
   "outputs": [],
   "source": [
    "# 本应该是降序的，出先一个逆序的，减去上一个的二倍来抵消，只有4，9是特殊情况，所以顶多逆序一个IXC\n",
    "#Runtime: 76 ms, faster than 88.31% of Python online submissions for Roman to Integer.\n",
    "#Memory Usage: 11.9 MB, less than 5.47% of Python online submissions for Roman to Integer.\n",
    "class Solution(object):\n",
    "    def romanToInt(self, s):\n",
    "        \"\"\"\n",
    "        :type s: str\n",
    "        :rtype: int\n",
    "        \"\"\"\n",
    "        num = {\"I\": 1, \"V\": 5, \"X\":10, \"L\":50, \"C\":100, \"D\": 500, \"M\": 1000}\n",
    "        result = 0\n",
    "        \n",
    "        for i in range(len(s)):\n",
    "            if i > 0 and num[s[i]] > num[s[i-1]]:\n",
    "                result += num[s[i]]-2*num[s[i-1]]\n",
    "            else:\n",
    "                result += num[s[i]]\n",
    "        return result"
   ]
  },
  {
   "cell_type": "code",
   "execution_count": 2,
   "metadata": {
    "collapsed": true
   },
   "outputs": [],
   "source": [
    "sol = Solution()"
   ]
  },
  {
   "cell_type": "code",
   "execution_count": 3,
   "metadata": {
    "collapsed": false
   },
   "outputs": [
    {
     "data": {
      "text/plain": [
       "1994"
      ]
     },
     "execution_count": 3,
     "metadata": {},
     "output_type": "execute_result"
    }
   ],
   "source": [
    "sol.romanToInt(\"MCMXCIV\")"
   ]
  },
  {
   "cell_type": "code",
   "execution_count": null,
   "metadata": {
    "collapsed": true
   },
   "outputs": [],
   "source": []
  }
 ],
 "metadata": {
  "kernelspec": {
   "display_name": "Python 3",
   "language": "python",
   "name": "python3"
  },
  "language_info": {
   "codemirror_mode": {
    "name": "ipython",
    "version": 3
   },
   "file_extension": ".py",
   "mimetype": "text/x-python",
   "name": "python",
   "nbconvert_exporter": "python",
   "pygments_lexer": "ipython3",
   "version": "3.5.1"
  }
 },
 "nbformat": 4,
 "nbformat_minor": 1
}
