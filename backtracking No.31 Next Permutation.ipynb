{
 "cells": [
  {
   "cell_type": "markdown",
   "metadata": {},
   "source": [
    "Implement next permutation, which rearranges numbers into the lexicographically next greater permutation of numbers.\n",
    "\n",
    "If such arrangement is not possible, it must rearrange it as the lowest possible order (ie, sorted in ascending order).\n",
    "\n",
    "The replacement must be in-place and use only constant extra memory.\n",
    "\n",
    "Here are some examples. Inputs are in the left-hand column and its corresponding outputs are in the right-hand column.\n",
    "\n",
    "1,2,3 → 1,3,2\n",
    "3,2,1 → 1,2,3\n",
    "1,1,5 → 1,5,1"
   ]
  },
  {
   "cell_type": "code",
   "execution_count": 13,
   "metadata": {},
   "outputs": [],
   "source": [
    "# 不合法的答案\n",
    "class Solution(object):\n",
    "    def nextPermutation(self, nums):\n",
    "        \"\"\"\n",
    "        :type nums: List[int]\n",
    "        :rtype: None Do not return anything, modify nums in-place instead.\n",
    "        \"\"\"\n",
    "        temp = nums[:]\n",
    "        if not nums: return None\n",
    "        s = set()\n",
    "        nums.sort()\n",
    "        used = [False] * len(nums)\n",
    "        self.find_idx = 0\n",
    "        res = []\n",
    "\n",
    "        def dfs(res, cur_list, s_idx, nums):\n",
    "            if len(cur_list) == len(nums):\n",
    "                if str(cur_list) not in s:\n",
    "                    res.append(cur_list[:])\n",
    "                    s.add(str(cur_list))\n",
    "                    if cur_list == temp:\n",
    "                        self.find_idx = len(res)\n",
    "                    return \n",
    "            for i in range(s_idx, len(nums)):\n",
    "                if used[i] == False:\n",
    "                    used[i] = True\n",
    "                    cur_list.append(nums[i])\n",
    "                    dfs(res, cur_list, 0, nums)\n",
    "                    cur_list.pop()\n",
    "                    used[i] = False\n",
    "        dfs(res, [], 0, nums)\n",
    "        next_idx = (self.find_idx) % len(res)\n",
    "#         print(self.find_idx)\n",
    "#         print(next_idx)\n",
    "#         print(res)\n",
    "        nums = res[next_idx]"
   ]
  },
  {
   "cell_type": "code",
   "execution_count": 14,
   "metadata": {},
   "outputs": [],
   "source": [
    "sol = Solution()\n",
    "sol.nextPermutation([1,1,1,5])"
   ]
  },
  {
   "cell_type": "code",
   "execution_count": 61,
   "metadata": {},
   "outputs": [],
   "source": [
    "# Runtime: 36 ms, faster than 99.29% of Python3 online submissions for Next Permutation.\n",
    "# Memory Usage: 13.2 MB, less than 37.31% of Python3 online submissions for Next Permutation.\n",
    "class Solution(object):\n",
    "    def nextPermutation(self, nums):\n",
    "        \"\"\"\n",
    "        :type nums: List[int]\n",
    "        :rtype: None Do not return anything, modify nums in-place instead.\n",
    "        \"\"\"\n",
    "        for i in range(len(nums)-1, 0, -1):\n",
    "            #寻找第一个逆向降序\n",
    "            if nums[i] > nums[i-1]:\n",
    "                #寻找比i-1出数字大的数字中最小的那个\n",
    "                for j in range(len(nums)-1, i-1, -1):\n",
    "                    if nums[j] > nums[i-1]:\n",
    "                        nums[j] , nums[i-1] = nums[i-1], nums[j]\n",
    "                        nums[i:] = list(reversed(nums[i:]))\n",
    "                        return \n",
    "        for i in range(len(nums)//2):\n",
    "            nums[i], nums[-i-1] = nums[-i-1], nums[i]"
   ]
  },
  {
   "cell_type": "code",
   "execution_count": 62,
   "metadata": {},
   "outputs": [],
   "source": [
    "a = [1,2,4,7,6,5,3]"
   ]
  },
  {
   "cell_type": "code",
   "execution_count": 63,
   "metadata": {},
   "outputs": [],
   "source": [
    "sol = Solution()\n",
    "sol.nextPermutation(a)"
   ]
  },
  {
   "cell_type": "code",
   "execution_count": 64,
   "metadata": {},
   "outputs": [
    {
     "data": {
      "text/plain": [
       "[1, 2, 5, 3, 4, 6, 7]"
      ]
     },
     "execution_count": 64,
     "metadata": {},
     "output_type": "execute_result"
    }
   ],
   "source": [
    "a"
   ]
  }
 ],
 "metadata": {
  "kernelspec": {
   "display_name": "Python 3",
   "language": "python",
   "name": "python3"
  },
  "language_info": {
   "codemirror_mode": {
    "name": "ipython",
    "version": 3
   },
   "file_extension": ".py",
   "mimetype": "text/x-python",
   "name": "python",
   "nbconvert_exporter": "python",
   "pygments_lexer": "ipython3",
   "version": "3.7.3"
  }
 },
 "nbformat": 4,
 "nbformat_minor": 2
}
