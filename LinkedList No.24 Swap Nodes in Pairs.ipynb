{
 "cells": [
  {
   "cell_type": "markdown",
   "metadata": {},
   "source": [
    "Given a linked list, swap every two adjacent nodes and return its head.\n",
    "\n",
    "You may not modify the values in the list's nodes, only nodes itself may be changed.\n",
    "\n",
    " \n",
    "\n",
    "Example:\n",
    "\n",
    "Given 1->2->3->4, you should return the list as 2->1->4->3."
   ]
  },
  {
   "cell_type": "code",
   "execution_count": 7,
   "metadata": {},
   "outputs": [],
   "source": [
    "# Definition for singly-linked list.\n",
    "class ListNode(object):\n",
    "    def __init__(self, x):\n",
    "        self.val = x\n",
    "        self.next = None\n",
    "        \n",
    "# Runtime: 16 ms, faster than 96.88% of Python online submissions for Swap Nodes in Pairs.\n",
    "# Memory Usage: 11.8 MB, less than 42.36% of Python online submissions for Swap Nodes in Pairs.\n",
    "class Solution(object):\n",
    "    def swapPairs(self, head):\n",
    "        \"\"\"\n",
    "        :type head: ListNode\n",
    "        :rtype: ListNode\n",
    "        \"\"\"\n",
    "        # 如果头节点为空或者只有一个节点，直接返回\n",
    "        if head is None or head.next is None:\n",
    "            return head\n",
    "        # 超过两个节点的情况\n",
    "        first, second = head, head.next\n",
    "        # 逆序之后，第二个节点成为新的头结点，需要保存这个始发节点\n",
    "        res = second\n",
    "        # 对整个序列逆序\n",
    "        while(True):\n",
    "            # 逆序操作\n",
    "            first.next = second.next\n",
    "            second.next = first\n",
    "            # 如果还有后续节点\n",
    "            if first.next:\n",
    "                first = first.next\n",
    "            else:\n",
    "                break\n",
    "            if first.next:\n",
    "                # mind here 画下图就明白了\n",
    "                # 注意这里需要两步，不然两个逆序无法连接\n",
    "                second.next.next = first.next\n",
    "                second = first.next\n",
    "            else:\n",
    "                break\n",
    "        return res"
   ]
  },
  {
   "cell_type": "code",
   "execution_count": 8,
   "metadata": {},
   "outputs": [],
   "source": [
    "a = ListNode(1)\n",
    "a.next = ListNode(2)\n",
    "a.next.next = ListNode(3)\n",
    "a.next.next.next = ListNode(4)\n",
    "a.next.next.next.next = ListNode(5)\n",
    "a.next.next.next.next.next = ListNode(6)"
   ]
  },
  {
   "cell_type": "code",
   "execution_count": 9,
   "metadata": {},
   "outputs": [],
   "source": [
    "sol = Solution()\n",
    "b = sol.swapPairs(a)"
   ]
  },
  {
   "cell_type": "code",
   "execution_count": 10,
   "metadata": {},
   "outputs": [
    {
     "name": "stdout",
     "output_type": "stream",
     "text": [
      "2\n",
      "1\n",
      "4\n",
      "3\n",
      "6\n",
      "5\n"
     ]
    }
   ],
   "source": [
    "while(b):\n",
    "    print(b.val)\n",
    "    b = b.next"
   ]
  },
  {
   "cell_type": "code",
   "execution_count": 3,
   "metadata": {},
   "outputs": [],
   "source": [
    "\n",
    "class ListNode(object):\n",
    "    def __init__(self, x):\n",
    "        self.val = x\n",
    "        self.next = None\n",
    "# Runtime: 12 ms, faster than 96.38% of Python online submissions for Swap Nodes in Pairs.\n",
    "# Memory Usage: 11.8 MB, less than 51.17% of Python online submissions for Swap Nodes in Pairs.\n",
    "# 递归解法\n",
    "class Solution(object):\n",
    "    def swapPairs(self, head):\n",
    "        \"\"\"\n",
    "        :type head: ListNode\n",
    "        :rtype: ListNode\n",
    "        \"\"\"\n",
    "        # 递归结束条件\n",
    "        if head is None or head.next is None:\n",
    "            return head\n",
    "        #　记录头两个节点\n",
    "        first, second = head, head.next\n",
    "        # 记录第二节点之后的部分\n",
    "        others = second.next\n",
    "        # 第二个节点将是新链表的头结点\n",
    "        res = second\n",
    "        # 交换操作\n",
    "        second.next = first\n",
    "        # 递归操作\n",
    "        first.next = self.swapPairs(others)\n",
    "        return res"
   ]
  },
  {
   "cell_type": "code",
   "execution_count": 6,
   "metadata": {},
   "outputs": [
    {
     "name": "stdout",
     "output_type": "stream",
     "text": [
      "2\n",
      "1\n",
      "4\n",
      "3\n",
      "6\n",
      "5\n"
     ]
    }
   ],
   "source": [
    "a = ListNode(1)\n",
    "a.next = ListNode(2)\n",
    "a.next.next = ListNode(3)\n",
    "a.next.next.next = ListNode(4)\n",
    "a.next.next.next.next = ListNode(5)\n",
    "a.next.next.next.next.next = ListNode(6)\n",
    "sol = Solution()\n",
    "b = sol.swapPairs(a)\n",
    "while(b):\n",
    "    print(b.val)\n",
    "    b = b.next"
   ]
  },
  {
   "cell_type": "code",
   "execution_count": null,
   "metadata": {},
   "outputs": [],
   "source": []
  }
 ],
 "metadata": {
  "kernelspec": {
   "display_name": "Python 3",
   "language": "python",
   "name": "python3"
  },
  "language_info": {
   "codemirror_mode": {
    "name": "ipython",
    "version": 3
   },
   "file_extension": ".py",
   "mimetype": "text/x-python",
   "name": "python",
   "nbconvert_exporter": "python",
   "pygments_lexer": "ipython3",
   "version": "3.7.3"
  }
 },
 "nbformat": 4,
 "nbformat_minor": 2
}
