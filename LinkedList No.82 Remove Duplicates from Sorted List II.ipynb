{
 "cells": [
  {
   "cell_type": "markdown",
   "metadata": {},
   "source": [
    "Given a sorted linked list, delete all nodes that have duplicate numbers, leaving only distinct numbers from the original list.\n",
    "\n",
    "Example 1:\n",
    "\n",
    "Input: 1->2->3->3->4->4->5\n",
    "Output: 1->2->5\n",
    "Example 2:\n",
    "\n",
    "Input: 1->1->1->2->3\n",
    "Output: 2->3"
   ]
  },
  {
   "cell_type": "code",
   "execution_count": 21,
   "metadata": {},
   "outputs": [],
   "source": [
    "# Definition for singly-linked list.\n",
    "class ListNode(object):\n",
    "    def __init__(self, x):\n",
    "        self.val = x\n",
    "        self.next = None\n",
    "\n",
    "# Runtime: 20 ms, faster than 99.65% of Python online submissions for Remove Duplicates from Sorted List II.\n",
    "# Memory Usage: 11.6 MB, less than 99.31% of Python online submissions for Remove Duplicates from Sorted List II.\n",
    "class Solution(object):\n",
    "    def deleteDuplicates(self, head):\n",
    "        \"\"\"\n",
    "        :type head: ListNode\n",
    "        :rtype: ListNode\n",
    "        \"\"\"\n",
    "        dummy = ListNode(-1)\n",
    "        dummy.next = head\n",
    "        pre = dummy\n",
    "        while(head):\n",
    "            if head.next and head.val == head.next.val:\n",
    "                val = head.val\n",
    "                while head.next and head.next.val == val:\n",
    "                    head = head.next\n",
    "                pre.next = head.next\n",
    "                head = head.next\n",
    "            else:\n",
    "                pre.next = head\n",
    "                pre = head\n",
    "                head = head.next\n",
    "        return dummy.next"
   ]
  },
  {
   "cell_type": "code",
   "execution_count": 24,
   "metadata": {},
   "outputs": [],
   "source": [
    "a = ListNode(1)\n",
    "a.next = ListNode(2)\n",
    "a.next.next = ListNode(3)\n",
    "a.next.next.next = ListNode(3)\n",
    "a.next.next.next.next = ListNode(3)\n",
    "a.next.next.next.next.next = ListNode(4)\n",
    "a.next.next.next.next.next.next = ListNode(4)\n",
    "a.next.next.next.next.next.next.next = ListNode(5)"
   ]
  },
  {
   "cell_type": "code",
   "execution_count": 25,
   "metadata": {},
   "outputs": [
    {
     "name": "stdout",
     "output_type": "stream",
     "text": [
      "1\n",
      "2\n",
      "5\n"
     ]
    }
   ],
   "source": [
    "sol = Solution()\n",
    "b = sol.deleteDuplicates(a)\n",
    "while(b):\n",
    "    print(b.val)\n",
    "    b = b.next"
   ]
  },
  {
   "cell_type": "code",
   "execution_count": null,
   "metadata": {},
   "outputs": [],
   "source": []
  }
 ],
 "metadata": {
  "kernelspec": {
   "display_name": "Python 3",
   "language": "python",
   "name": "python3"
  },
  "language_info": {
   "codemirror_mode": {
    "name": "ipython",
    "version": 3
   },
   "file_extension": ".py",
   "mimetype": "text/x-python",
   "name": "python",
   "nbconvert_exporter": "python",
   "pygments_lexer": "ipython3",
   "version": "3.7.3"
  }
 },
 "nbformat": 4,
 "nbformat_minor": 2
}
