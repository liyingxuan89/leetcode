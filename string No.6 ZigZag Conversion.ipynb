{
 "cells": [
  {
   "cell_type": "markdown",
   "metadata": {},
   "source": [
    "The string \"PAYPALISHIRING\" is written in a zigzag pattern on a given number of rows like this: (you may want to display this pattern in a fixed font for better legibility)\n",
    "\n",
    "P   A   H   N\n",
    "\n",
    "A P L S I I G\n",
    "\n",
    "Y   I   R\n",
    "\n",
    "And then read line by line: \"PAHNAPLSIIGYIR\"\n",
    "\n",
    "Write the code that will take a string and make this conversion given a number of rows:\n",
    "\n",
    "string convert(string s, int numRows);\n",
    "#### Example 1:\n",
    "\n",
    "Input: s = \"PAYPALISHIRING\", numRows = 3\n",
    "Output: \"PAHNAPLSIIGYIR\"\n",
    "#### Example 2:\n",
    "\n",
    "Input: s = \"PAYPALISHIRING\", numRows = 4\n",
    "Output: \"PINALSIGYAHRPI\"\n",
    "#### Explanation:\n",
    "\n",
    "P     I    N\n",
    "\n",
    "A   L S  I G\n",
    "\n",
    "Y A   H R\n",
    "\n",
    "P     I"
   ]
  },
  {
   "cell_type": "code",
   "execution_count": null,
   "metadata": {
    "collapsed": true
   },
   "outputs": [],
   "source": []
  }
 ],
 "metadata": {
  "kernelspec": {
   "display_name": "Python 3",
   "language": "python",
   "name": "python3"
  },
  "language_info": {
   "codemirror_mode": {
    "name": "ipython",
    "version": 3
   },
   "file_extension": ".py",
   "mimetype": "text/x-python",
   "name": "python",
   "nbconvert_exporter": "python",
   "pygments_lexer": "ipython3",
   "version": "3.5.1"
  }
 },
 "nbformat": 4,
 "nbformat_minor": 1
}
