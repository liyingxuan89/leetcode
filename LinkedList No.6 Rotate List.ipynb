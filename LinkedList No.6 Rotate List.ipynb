{
 "cells": [
  {
   "cell_type": "markdown",
   "metadata": {},
   "source": [
    "Given a linked list, rotate the list to the right by k places, where k is non-negative.\n",
    "\n",
    "Example 1:\n",
    "\n",
    "Input: 1->2->3->4->5->NULL, k = 2\n",
    "Output: 4->5->1->2->3->NULL\n",
    "Explanation:\n",
    "rotate 1 steps to the right: 5->1->2->3->4->NULL\n",
    "rotate 2 steps to the right: 4->5->1->2->3->NULL\n",
    "Example 2:\n",
    "\n",
    "Input: 0->1->2->NULL, k = 4\n",
    "Output: 2->0->1->NULL\n",
    "Explanation:\n",
    "rotate 1 steps to the right: 2->0->1->NULL\n",
    "rotate 2 steps to the right: 1->2->0->NULL\n",
    "rotate 3 steps to the right: 0->1->2->NULL\n",
    "rotate 4 steps to the right: 2->0->1->NULL"
   ]
  },
  {
   "cell_type": "code",
   "execution_count": 40,
   "metadata": {},
   "outputs": [],
   "source": [
    "# Definition for singly-linked list.\n",
    "class ListNode(object):\n",
    "    def __init__(self, x):\n",
    "        self.val = x\n",
    "        self.next = None\n",
    "\n",
    "# Runtime: 24 ms, faster than 92.79% of Python online submissions for Rotate List.\n",
    "# Memory Usage: 11.9 MB, less than 11.13% of Python online submissions for Rotate List.\n",
    "class Solution(object):\n",
    "    def rotateRight(self, head, k):\n",
    "        \"\"\"\n",
    "        :type head: ListNode\n",
    "        :type k: int\n",
    "        :rtype: ListNode\n",
    "        \"\"\"\n",
    "        if not head:\n",
    "            return head\n",
    "        length = self.getLength(head)\n",
    "        if length == k:\n",
    "            return head\n",
    "        k %= length\n",
    "        if k == 0: return head\n",
    "        p, q = self.split(head, length - k)\n",
    "        cur = q\n",
    "        while cur and cur.next:\n",
    "            cur = cur.next\n",
    "        cur.next = p\n",
    "        return q\n",
    "    \n",
    "    def getLength(self, head):\n",
    "        if not head:\n",
    "            return 0\n",
    "        cnt = 0\n",
    "        while head:\n",
    "            head = head.next\n",
    "            cnt += 1\n",
    "        return cnt\n",
    "    \n",
    "    def split(self, head, steps):\n",
    "        # steps < len(head_list)\n",
    "        cur = head\n",
    "        cnt = 1\n",
    "        while cur:\n",
    "            if cnt == steps:\n",
    "                tail = cur.next\n",
    "                cur.next = None\n",
    "                break\n",
    "            cur = cur.next\n",
    "            cnt += 1\n",
    "        return head, tail"
   ]
  },
  {
   "cell_type": "code",
   "execution_count": 45,
   "metadata": {},
   "outputs": [
    {
     "name": "stdout",
     "output_type": "stream",
     "text": [
      "1\n",
      "2\n"
     ]
    }
   ],
   "source": [
    "a = ListNode(1)\n",
    "a.next = ListNode(2)\n",
    "# a.next.next = ListNode(3)\n",
    "# a.next.next.next = ListNode(4)\n",
    "# a.next.next.next.next = ListNode(5)\n",
    "sol = Solution()\n",
    "b = sol.rotateRight(a, 0)\n",
    "while(b):\n",
    "    print(b.val)\n",
    "    b = b.next"
   ]
  },
  {
   "cell_type": "code",
   "execution_count": null,
   "metadata": {},
   "outputs": [],
   "source": []
  }
 ],
 "metadata": {
  "kernelspec": {
   "display_name": "Python 3",
   "language": "python",
   "name": "python3"
  },
  "language_info": {
   "codemirror_mode": {
    "name": "ipython",
    "version": 3
   },
   "file_extension": ".py",
   "mimetype": "text/x-python",
   "name": "python",
   "nbconvert_exporter": "python",
   "pygments_lexer": "ipython3",
   "version": "3.7.3"
  }
 },
 "nbformat": 4,
 "nbformat_minor": 2
}
