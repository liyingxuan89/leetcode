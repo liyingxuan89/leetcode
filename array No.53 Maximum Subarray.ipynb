{
 "cells": [
  {
   "cell_type": "markdown",
   "metadata": {},
   "source": [
    "Given an integer array nums, find the contiguous subarray (containing at least one number) which has the largest sum and return its sum.\n",
    "\n",
    "Example:\n",
    "\n",
    "Input: [-2,1,-3,4,-1,2,1,-5,4],\n",
    "Output: 6\n",
    "Explanation: [4,-1,2,1] has the largest sum = 6.\n",
    "Follow up:\n",
    "\n",
    "If you have figured out the O(n) solution, try coding another solution using the divide and conquer approach, which is more subtle."
   ]
  },
  {
   "cell_type": "code",
   "execution_count": 5,
   "metadata": {},
   "outputs": [
    {
     "data": {
      "text/plain": [
       "1"
      ]
     },
     "execution_count": 5,
     "metadata": {},
     "output_type": "execute_result"
    }
   ],
   "source": [
    "import sys\n",
    "# Runtime: 48 ms, faster than 85.45% of Python online submissions for Maximum Subarray.\n",
    "# Memory Usage: 12.3 MB, less than 42.82% of Python online submissions for Maximum Subarray.\n",
    "class Solution(object):\n",
    "    def maxSubArray(self, nums):\n",
    "        \"\"\"\n",
    "        :type nums: List[int]\n",
    "        :rtype: int\n",
    "        \"\"\"\n",
    "        # 维护最大值\n",
    "        max_sum = -sys.maxsize\n",
    "        # 维护一个正序列\n",
    "        cur_sum = 0\n",
    "        for i in range(len(nums)):\n",
    "            cur_sum += nums[i]\n",
    "            max_sum = max(max_sum, cur_sum)\n",
    "            # 当当前序列提供的值为负的时候，他不能为序列提供正贡献，重置序列和\n",
    "            if cur_sum < 0:\n",
    "                cur_sum = 0\n",
    "        return max_sum\n",
    "\n",
    "sol = Solution()\n",
    "sol.maxSubArray([-2,1])"
   ]
  },
  {
   "cell_type": "code",
   "execution_count": null,
   "metadata": {},
   "outputs": [],
   "source": []
  }
 ],
 "metadata": {
  "kernelspec": {
   "display_name": "Python 3",
   "language": "python",
   "name": "python3"
  },
  "language_info": {
   "codemirror_mode": {
    "name": "ipython",
    "version": 3
   },
   "file_extension": ".py",
   "mimetype": "text/x-python",
   "name": "python",
   "nbconvert_exporter": "python",
   "pygments_lexer": "ipython3",
   "version": "3.7.3"
  }
 },
 "nbformat": 4,
 "nbformat_minor": 2
}
