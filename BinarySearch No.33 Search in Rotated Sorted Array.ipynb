{
 "cells": [
  {
   "cell_type": "markdown",
   "metadata": {},
   "source": [
    "Suppose an array sorted in ascending order is rotated at some pivot unknown to you beforehand.\n",
    "\n",
    "(i.e., [0,1,2,4,5,6,7] might become [4,5,6,7,0,1,2]).\n",
    "\n",
    "You are given a target value to search. If found in the array return its index, otherwise return -1.\n",
    "\n",
    "You may assume no duplicate exists in the array.\n",
    "\n",
    "Your algorithm's runtime complexity must be in the order of O(log n).\n",
    "\n",
    "Example 1:\n",
    "\n",
    "Input: nums = [4,5,6,7,0,1,2], target = 0\n",
    "Output: 4\n",
    "Example 2:\n",
    "\n",
    "Input: nums = [4,5,6,7,0,1,2], target = 3\n",
    "Output: -1"
   ]
  },
  {
   "cell_type": "code",
   "execution_count": 9,
   "metadata": {},
   "outputs": [],
   "source": [
    "# Runtime: 36 ms, faster than 28.05% of Python online submissions for Search in Rotated Sorted Array.\n",
    "# Memory Usage: 12.2 MB, less than 5.36% of Python online submissions for Search in Rotated Sorted Array.\n",
    "class Solution(object):\n",
    "    def search(self, nums, target):\n",
    "        \"\"\"\n",
    "        :type nums: List[int]\n",
    "        :type target: int\n",
    "        :rtype: int\n",
    "        \"\"\"\n",
    "        if not nums:\n",
    "            return -1\n",
    "        split_idx = 0\n",
    "        for i in range(len(nums)-1):\n",
    "            if nums[i] > nums[i+1]:\n",
    "                split_idx = i+1\n",
    "        if split_idx == 0:\n",
    "            return self.binary_search(nums, target)\n",
    "        if target > nums[split_idx-1] or target < nums[split_idx]:\n",
    "            return -1\n",
    "        else:\n",
    "            left = nums[:split_idx]\n",
    "            res_l = self.binary_search(left, target)\n",
    "            right = nums[split_idx:]\n",
    "            res_r = self.binary_search(right, target)\n",
    "            if res_l >= 0:\n",
    "                return res_l\n",
    "            if res_r >= 0:\n",
    "                return split_idx + res_r\n",
    "            return -1\n",
    "    def binary_search(self, nums, target):\n",
    "        if target < nums[0] or target > nums[-1]:\n",
    "            return -1\n",
    "        l, r = 0, len(nums)-1\n",
    "        while l <= r:\n",
    "            mid = l + (r-l)//2\n",
    "            if nums[mid] > target:\n",
    "                r = mid-1\n",
    "            elif nums[mid] < target:\n",
    "                l = mid+1\n",
    "            else:\n",
    "                return mid\n",
    "        return -1"
   ]
  },
  {
   "cell_type": "code",
   "execution_count": 10,
   "metadata": {},
   "outputs": [
    {
     "data": {
      "text/plain": [
       "4"
      ]
     },
     "execution_count": 10,
     "metadata": {},
     "output_type": "execute_result"
    }
   ],
   "source": [
    "sol = Solution()\n",
    "sol.search(nums = [4,5,6,7,0,1,2], target = 0)"
   ]
  },
  {
   "cell_type": "code",
   "execution_count": 11,
   "metadata": {},
   "outputs": [
    {
     "data": {
      "text/plain": [
       "-1"
      ]
     },
     "execution_count": 11,
     "metadata": {},
     "output_type": "execute_result"
    }
   ],
   "source": [
    "sol.search(nums = [4,5,6,7,0,1,2], target = 3)"
   ]
  },
  {
   "cell_type": "code",
   "execution_count": 15,
   "metadata": {},
   "outputs": [],
   "source": [
    "class Solution(object):\n",
    "    def search(self, nums, target):\n",
    "        \"\"\"\n",
    "        :type nums: List[int]\n",
    "        :type target: int\n",
    "        :rtype: int\n",
    "        \"\"\"\n",
    "        if not nums:\n",
    "            return -1\n",
    "        split_idx = 0\n",
    "        for i in range(len(nums)-1):\n",
    "            if nums[i] > nums[i+1]:\n",
    "                split_idx = i+1\n",
    "        nums = nums[split_idx:] + nums[:split_idx]\n",
    "        idx = self.binary_search(nums, target)\n",
    "        if idx >=0:\n",
    "            if idx > len(nums[split_idx:]):\n",
    "                return idx - len(nums[split_idx:])\n",
    "            else:\n",
    "                return idx + len(nums[:split_idx])\n",
    "        else:\n",
    "            return idx\n",
    "        \n",
    "    def binary_search(self, nums, target):\n",
    "        if target < nums[0] or target > nums[-1]:\n",
    "            return -1\n",
    "        l, r = 0, len(nums)-1\n",
    "        while l <= r:\n",
    "            mid = l + (r-l)//2\n",
    "            if nums[mid] > target:\n",
    "                r = mid-1\n",
    "            elif nums[mid] < target:\n",
    "                l = mid+1\n",
    "            else:\n",
    "                return mid\n",
    "        return -1"
   ]
  },
  {
   "cell_type": "code",
   "execution_count": 18,
   "metadata": {},
   "outputs": [
    {
     "data": {
      "text/plain": [
       "-1"
      ]
     },
     "execution_count": 18,
     "metadata": {},
     "output_type": "execute_result"
    }
   ],
   "source": [
    "sol = Solution()\n",
    "sol.search(nums = [3, 1], target = 2)"
   ]
  },
  {
   "cell_type": "code",
   "execution_count": 17,
   "metadata": {},
   "outputs": [
    {
     "data": {
      "text/plain": [
       "-1"
      ]
     },
     "execution_count": 17,
     "metadata": {},
     "output_type": "execute_result"
    }
   ],
   "source": [
    "sol.search(nums = [4,5,6,7,0,1,2], target = 3)"
   ]
  },
  {
   "cell_type": "code",
   "execution_count": null,
   "metadata": {},
   "outputs": [],
   "source": []
  }
 ],
 "metadata": {
  "kernelspec": {
   "display_name": "Python 3",
   "language": "python",
   "name": "python3"
  },
  "language_info": {
   "codemirror_mode": {
    "name": "ipython",
    "version": 3
   },
   "file_extension": ".py",
   "mimetype": "text/x-python",
   "name": "python",
   "nbconvert_exporter": "python",
   "pygments_lexer": "ipython3",
   "version": "3.7.3"
  }
 },
 "nbformat": 4,
 "nbformat_minor": 2
}
