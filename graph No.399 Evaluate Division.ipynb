{
 "cells": [
  {
   "cell_type": "markdown",
   "metadata": {},
   "source": [
    "Equations are given in the format A / B = k, where A and B are variables represented as strings, and k is a real number (floating point number). Given some queries, return the answers. If the answer does not exist, return -1.0.\n",
    "\n",
    "Example:\n",
    "Given a / b = 2.0, b / c = 3.0.\n",
    "queries are: a / c = ?, b / a = ?, a / e = ?, a / a = ?, x / x = ? .\n",
    "return [6.0, 0.5, -1.0, 1.0, -1.0 ].\n",
    "\n",
    "The input is: vector<pair<string, string>> equations, vector<double>& values, vector<pair<string, string>> queries , where equations.size() == values.size(), and the values are positive. This represents the equations. Return vector<double>.\n",
    "\n",
    "According to the example above:\n",
    "\n",
    "equations = [ [\"a\", \"b\"], [\"b\", \"c\"] ],\n",
    "values = [2.0, 3.0],\n",
    "queries = [ [\"a\", \"c\"], [\"b\", \"a\"], [\"a\", \"e\"], [\"a\", \"a\"], [\"x\", \"x\"] ]. \n",
    " \n",
    "\n",
    "The input is always valid. You may assume that evaluating the queries will result in no division by zero and there is no contradiction.\n",
    "\n"
   ]
  },
  {
   "cell_type": "code",
   "execution_count": 13,
   "metadata": {},
   "outputs": [],
   "source": [
    "# Runtime: 32 ms, faster than 10.89% of Python online submissions for Evaluate Division.\n",
    "# Memory Usage: 11.8 MB, less than 60.73% of Python online submissions for Evaluate Division.\n",
    "\n",
    "class Solution(object):\n",
    "    def calcEquation(self, equations, values, queries):\n",
    "        \"\"\"\n",
    "        :type equations: List[List[str]]\n",
    "        :type values: List[float]\n",
    "        :type queries: List[List[str]]\n",
    "        :rtype: List[float]\n",
    "        \"\"\"\n",
    "        graph = {}\n",
    "        def build_graph(equations, values):\n",
    "            def add_edge(a, b, val):\n",
    "                if a in graph:\n",
    "                    graph[a].append((b, val))\n",
    "                else:\n",
    "                    graph[a] = [(b, val)]\n",
    "            for e, v in zip(equations, values):\n",
    "                a, b = e\n",
    "                add_edge(a, b, v)\n",
    "                add_edge(b, a, 1.0/v)\n",
    "                \n",
    "        def find_path(query):\n",
    "            s, e = query\n",
    "            if s not in graph or e not in graph:\n",
    "                return -1.0\n",
    "            visited = {}\n",
    "            queue = [(s, 1)]\n",
    "            while queue:\n",
    "                cur, prod = queue.pop(0)\n",
    "                if cur == e:\n",
    "                    return prod\n",
    "                visited[cur] = 1\n",
    "                for neighbor, val in graph[cur]:\n",
    "                    if neighbor not in visited:\n",
    "                        queue.append((neighbor, val*prod))\n",
    "            return -1.0\n",
    "        \n",
    "        build_graph(equations, values)\n",
    "        res = [find_path(q) for q in queries]\n",
    "        return res"
   ]
  },
  {
   "cell_type": "code",
   "execution_count": 14,
   "metadata": {},
   "outputs": [
    {
     "data": {
      "text/plain": [
       "[6.0, 0.5, -1.0, 1, -1.0]"
      ]
     },
     "execution_count": 14,
     "metadata": {},
     "output_type": "execute_result"
    }
   ],
   "source": [
    "sol = Solution()\n",
    "sol.calcEquation(equations = [ [\"a\", \"b\"], [\"b\", \"c\"] ],\n",
    "values = [2.0, 3.0],\n",
    "queries = [ [\"a\", \"c\"], [\"b\", \"a\"], [\"a\", \"e\"], [\"a\", \"a\"], [\"x\", \"x\"] ])"
   ]
  },
  {
   "cell_type": "code",
   "execution_count": 15,
   "metadata": {},
   "outputs": [
    {
     "data": {
      "text/plain": [
       "[-1.0, -1.0, 1.0, 1.0]"
      ]
     },
     "execution_count": 15,
     "metadata": {},
     "output_type": "execute_result"
    }
   ],
   "source": [
    "sol.calcEquation([[\"a\",\"b\"],[\"c\",\"d\"]],\n",
    "[1.0,1.0],\n",
    "[[\"a\",\"c\"],[\"b\",\"d\"],[\"b\",\"a\"],[\"d\",\"c\"]])"
   ]
  },
  {
   "cell_type": "code",
   "execution_count": null,
   "metadata": {},
   "outputs": [],
   "source": [
    "#sample 4 ms submission, best solution\n",
    "class Solution(object):\n",
    "    def calcEquation(self, equations, values, queries):\n",
    "        \"\"\"\n",
    "        :type equations: List[List[str]]\n",
    "        :type values: List[float]\n",
    "        :type queries: List[List[str]]\n",
    "        :rtype: List[float]\n",
    "        \"\"\"\n",
    "        \n",
    "        graph = {}\n",
    "        \n",
    "        N = len(equations)\n",
    "        \n",
    "        for i in range(N):\n",
    "            a, b = equations[i][0], equations[i][1]\n",
    "            k = values[i]\n",
    "            \n",
    "            if a not in graph:\n",
    "                graph[a] = []\n",
    "            graph[a].append((b, k))\n",
    "            if b not in graph:\n",
    "                graph[b] = []\n",
    "            graph[b].append((a, 1.0/k))\n",
    "            \n",
    "        output = []\n",
    "        \n",
    "        def dfs(s, t, cur):\n",
    "            visited.add(s)\n",
    "            if s == t:\n",
    "                output.append(cur)\n",
    "                return True\n",
    "            for nei in graph[s]:\n",
    "                if nei[0] not in visited:\n",
    "                    if dfs(nei[0], t, cur * nei[1]):\n",
    "                        return True\n",
    "            return False\n",
    "            \n",
    "        \n",
    "        for query in queries:\n",
    "            a, b = query[0], query[1]\n",
    "            if a not in graph or b not in graph:\n",
    "                output.append(-1.0)\n",
    "                continue\n",
    "            # run dfs on a\n",
    "            visited = set()\n",
    "            success = dfs(a, b, 1)\n",
    "            if not success:\n",
    "                output.append(-1.0)\n",
    "            \n",
    "        return output"
   ]
  }
 ],
 "metadata": {
  "kernelspec": {
   "display_name": "Python 3",
   "language": "python",
   "name": "python3"
  },
  "language_info": {
   "codemirror_mode": {
    "name": "ipython",
    "version": 3
   },
   "file_extension": ".py",
   "mimetype": "text/x-python",
   "name": "python",
   "nbconvert_exporter": "python",
   "pygments_lexer": "ipython3",
   "version": "3.7.3"
  }
 },
 "nbformat": 4,
 "nbformat_minor": 2
}
