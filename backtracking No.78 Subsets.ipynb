{
 "cells": [
  {
   "cell_type": "markdown",
   "metadata": {},
   "source": [
    "\n",
    "Given a set of distinct integers, nums, return all possible subsets (the power set).\n",
    "\n",
    "Note: The solution set must not contain duplicate subsets.\n",
    "\n",
    "Example:\n",
    "\n",
    "Input: nums = [1,2,3]\n",
    "Output:\n",
    "[\n",
    "  [3],\n",
    "  [1],\n",
    "  [2],\n",
    "  [1,2,3],\n",
    "  [1,3],\n",
    "  [2,3],\n",
    "  [1,2],\n",
    "  []\n",
    "]"
   ]
  },
  {
   "cell_type": "code",
   "execution_count": 9,
   "metadata": {},
   "outputs": [],
   "source": [
    "# Runtime: 12 ms, faster than 99.88% of Python online submissions for Subsets.\n",
    "# Memory Usage: 12.1 MB, less than 5.16% of Python online submissions for Subsets.\n",
    "class Solution(object):\n",
    "    def subsets(self, nums):\n",
    "        \"\"\"\n",
    "        :type nums: List[int]\n",
    "        :rtype: List[List[int]]\n",
    "        \"\"\"\n",
    "        if len(nums) == 0:\n",
    "            return [[]]\n",
    "        if len(nums) == 1:\n",
    "            return [[], [nums[0]]]\n",
    "        min_subsets = self.subsets(nums[:-1])\n",
    "        last = nums[-1]\n",
    "        new = [x+[last] for x in min_subsets]\n",
    "        print(\"new: \", new)\n",
    "        return min_subsets + new"
   ]
  },
  {
   "cell_type": "code",
   "execution_count": 11,
   "metadata": {},
   "outputs": [
    {
     "name": "stdout",
     "output_type": "stream",
     "text": [
      "new:  [[2], [1, 2]]\n",
      "new:  [[3], [1, 3], [2, 3], [1, 2, 3]]\n",
      "[[], [1], [2], [1, 2], [3], [1, 3], [2, 3], [1, 2, 3]]\n"
     ]
    }
   ],
   "source": [
    "sol = Solution()\n",
    "res = sol.subsets([1,2,3])\n",
    "print(res)"
   ]
  },
  {
   "cell_type": "code",
   "execution_count": 16,
   "metadata": {},
   "outputs": [
    {
     "ename": "SyntaxError",
     "evalue": "invalid syntax (<ipython-input-16-b058e4bc78b5>, line 3)",
     "output_type": "error",
     "traceback": [
      "\u001b[0;36m  File \u001b[0;32m\"<ipython-input-16-b058e4bc78b5>\"\u001b[0;36m, line \u001b[0;32m3\u001b[0m\n\u001b[0;31m    Memory Usage: 12.1 MB, less than 5.16% of Python online submissions for Subsets.\u001b[0m\n\u001b[0m               ^\u001b[0m\n\u001b[0;31mSyntaxError\u001b[0m\u001b[0;31m:\u001b[0m invalid syntax\n"
     ]
    }
   ],
   "source": [
    "# https://www.youtube.com/watch?v=CUzm-buvH_8\n",
    "# Runtime: 24 ms, faster than 97.11% of Python online submissions for Subsets.\n",
    "# Memory Usage: 12.1 MB, less than 5.16% of Python online submissions for Subsets.\n",
    "class Solution(object):\n",
    "    def subsets(self, nums):\n",
    "        \"\"\"\n",
    "        :type nums: List[int]\n",
    "        :rtype: List[List[int]]\n",
    "        \"\"\" \n",
    "        self.res = []\n",
    "        def dfs(n, start_idx, cur_list):\n",
    "            if n == len(cur_list):\n",
    "                self.res.append(cur_list[:])\n",
    "                return \n",
    "            for idx in range(start_idx, len(nums)):\n",
    "                cur_list.append(nums[idx])\n",
    "                dfs(n, idx+1, cur_list)\n",
    "                cur_list.pop()\n",
    "        for i in range(len(nums)+1):\n",
    "            dfs(i,0,[])\n",
    "        return self.res\n",
    "            "
   ]
  },
  {
   "cell_type": "code",
   "execution_count": 15,
   "metadata": {},
   "outputs": [
    {
     "name": "stdout",
     "output_type": "stream",
     "text": [
      "[[], [1], [2], [3], [1, 2], [1, 3], [2, 3], [1, 2, 3]]\n"
     ]
    }
   ],
   "source": [
    "sol = Solution()\n",
    "res = sol.subsets([1,2,3])\n",
    "print(res)"
   ]
  },
  {
   "cell_type": "code",
   "execution_count": null,
   "metadata": {},
   "outputs": [],
   "source": []
  }
 ],
 "metadata": {
  "kernelspec": {
   "display_name": "Python 3",
   "language": "python",
   "name": "python3"
  },
  "language_info": {
   "codemirror_mode": {
    "name": "ipython",
    "version": 3
   },
   "file_extension": ".py",
   "mimetype": "text/x-python",
   "name": "python",
   "nbconvert_exporter": "python",
   "pygments_lexer": "ipython3",
   "version": "3.7.3"
  }
 },
 "nbformat": 4,
 "nbformat_minor": 2
}
