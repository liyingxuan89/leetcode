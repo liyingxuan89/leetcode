{
 "cells": [
  {
   "cell_type": "markdown",
   "metadata": {},
   "source": [
    "Given an unsorted array return whether an increasing subsequence of length 3 exists or not in the array.\n",
    "\n",
    "Formally the function should:\n",
    "\n",
    "Return true if there exists i, j, k \n",
    "such that arr[i] < arr[j] < arr[k] given 0 ≤ i < j < k ≤ n-1 else return false.\n",
    "Note: Your algorithm should run in O(n) time complexity and O(1) space complexity.\n",
    "\n",
    "#### Example 1:\n",
    "\n",
    "Input: [1,2,3,4,5]\n",
    "Output: true\n",
    "\n",
    "#### Example 2:\n",
    "\n",
    "Input: [5,4,3,2,1]\n",
    "Output: false\n"
   ]
  },
  {
   "cell_type": "code",
   "execution_count": 12,
   "metadata": {
    "collapsed": true
   },
   "outputs": [],
   "source": [
    "#Runtime: 20 ms, faster than 95.92% of Python online submissions for Increasing Triplet Subsequence.\n",
    "#Memory Usage: 11.1 MB, less than 22.05% of Python online submissions for Increasing Triplet Subsequence.\n",
    "class Solution(object):\n",
    "    def increasingTriplet(self, nums):\n",
    "        \"\"\"\n",
    "        :type nums: List[int]\n",
    "        :rtype: bool\n",
    "        \"\"\"\n",
    "        n = len(nums)\n",
    "        if n < 3:\n",
    "            return False\n",
    "        min1 = float('inf')\n",
    "        min2 = float('inf')\n",
    "        for i in range(n):\n",
    "            if nums[i] <= min1:\n",
    "                min1 = nums[i]\n",
    "            elif min1 <= nums[i] <= min2:\n",
    "                min2 = nums[i]\n",
    "            else:\n",
    "                return True\n",
    "        return False\n",
    "            "
   ]
  },
  {
   "cell_type": "code",
   "execution_count": 13,
   "metadata": {
    "collapsed": false
   },
   "outputs": [],
   "source": [
    "sol = Solution()"
   ]
  },
  {
   "cell_type": "code",
   "execution_count": 14,
   "metadata": {
    "collapsed": false
   },
   "outputs": [
    {
     "data": {
      "text/plain": [
       "False"
      ]
     },
     "execution_count": 14,
     "metadata": {},
     "output_type": "execute_result"
    }
   ],
   "source": [
    "sol.increasingTriplet([0,4,2,1,0,-1,-3])"
   ]
  },
  {
   "cell_type": "code",
   "execution_count": null,
   "metadata": {
    "collapsed": true
   },
   "outputs": [],
   "source": []
  }
 ],
 "metadata": {
  "kernelspec": {
   "display_name": "Python 3",
   "language": "python",
   "name": "python3"
  },
  "language_info": {
   "codemirror_mode": {
    "name": "ipython",
    "version": 3
   },
   "file_extension": ".py",
   "mimetype": "text/x-python",
   "name": "python",
   "nbconvert_exporter": "python",
   "pygments_lexer": "ipython3",
   "version": "3.5.1"
  }
 },
 "nbformat": 4,
 "nbformat_minor": 1
}
