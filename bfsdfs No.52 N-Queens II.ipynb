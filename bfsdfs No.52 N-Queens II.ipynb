{
 "cells": [
  {
   "cell_type": "markdown",
   "metadata": {},
   "source": [
    "The n-queens puzzle is the problem of placing n queens on an n×n chessboard such that no two queens attack each other.\n",
    "\n",
    "![avatar](https://assets.leetcode.com/uploads/2018/10/12/8-queens.png)\n",
    "\n",
    "Given an integer n, return the number of distinct solutions to the n-queens puzzle.\n",
    "\n",
    "Example:\n",
    "\n",
    "Input: 4\n",
    "Output: 2\n",
    "Explanation: There are two distinct solutions to the 4-queens puzzle as shown below.\n",
    "[\n",
    " [\".Q..\",  // Solution 1\n",
    "  \"...Q\",\n",
    "  \"Q...\",\n",
    "  \"..Q.\"],\n",
    "\n",
    " [\"..Q.\",  // Solution 2\n",
    "  \"Q...\",\n",
    "  \"...Q\",\n",
    "  \".Q..\"]\n",
    "]"
   ]
  },
  {
   "cell_type": "code",
   "execution_count": 6,
   "metadata": {},
   "outputs": [],
   "source": [
    "# Runtime: 36 ms, faster than 85.52% of Python online submissions for N-Queens II.\n",
    "# Memory Usage: 12 MB, less than 7.65% of Python online submissions for N-Queens II.\n",
    "class Solution(object):\n",
    "    def totalNQueens(self, n):\n",
    "        \"\"\"\n",
    "        :type n: int\n",
    "        :rtype: int\n",
    "        \"\"\"\n",
    "        res = []\n",
    "\n",
    "        def dfs(queens, xy_diff, xy_sum):\n",
    "            x = len(queens)\n",
    "            if x == n:\n",
    "                res.append(queens)\n",
    "                return\n",
    "            for y in range(n):\n",
    "                if y not in queens and x - y not in xy_diff and x + y not in xy_sum:\n",
    "                    dfs(queens + [y], xy_diff + [x - y], xy_sum + [x + y])\n",
    "\n",
    "        dfs([], [], [])\n",
    "\n",
    "        return len(res)"
   ]
  },
  {
   "cell_type": "code",
   "execution_count": 7,
   "metadata": {},
   "outputs": [
    {
     "data": {
      "text/plain": [
       "2"
      ]
     },
     "execution_count": 7,
     "metadata": {},
     "output_type": "execute_result"
    }
   ],
   "source": [
    "sol = Solution()\n",
    "sol.totalNQueens(4)"
   ]
  },
  {
   "cell_type": "code",
   "execution_count": null,
   "metadata": {},
   "outputs": [],
   "source": []
  }
 ],
 "metadata": {
  "kernelspec": {
   "display_name": "Python 3",
   "language": "python",
   "name": "python3"
  },
  "language_info": {
   "codemirror_mode": {
    "name": "ipython",
    "version": 3
   },
   "file_extension": ".py",
   "mimetype": "text/x-python",
   "name": "python",
   "nbconvert_exporter": "python",
   "pygments_lexer": "ipython3",
   "version": "3.7.3"
  }
 },
 "nbformat": 4,
 "nbformat_minor": 2
}
