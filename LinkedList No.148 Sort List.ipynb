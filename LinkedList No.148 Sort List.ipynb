{
 "cells": [
  {
   "cell_type": "markdown",
   "metadata": {},
   "source": [
    "Sort a linked list in O(n log n) time using constant space complexity.\n",
    "\n",
    "Example 1:\n",
    "\n",
    "Input: 4->2->1->3\n",
    "Output: 1->2->3->4\n",
    "Example 2:\n",
    "\n",
    "Input: -1->5->3->4->0\n",
    "Output: -1->0->3->4->5"
   ]
  },
  {
   "cell_type": "code",
   "execution_count": 7,
   "metadata": {},
   "outputs": [],
   "source": [
    "# Definition for singly-linked list.\n",
    "class ListNode(object):\n",
    "    def __init__(self, x):\n",
    "        self.val = x\n",
    "        self.next = None\n",
    "\n",
    "# Runtime: 96 ms, faster than 97.74% of Python online submissions for Sort List.\n",
    "# Memory Usage: 36.9 MB, less than 8.16% of Python online submissions for Sort List.\n",
    "class Solution(object):\n",
    "    def sortList(self, head):\n",
    "        \"\"\"\n",
    "        :type head: ListNode\n",
    "        :rtype: ListNode\n",
    "        \"\"\"\n",
    "        l = []\n",
    "        while(head):\n",
    "            l.append(head.val)\n",
    "            head = head.next\n",
    "        l.sort(reverse=True)\n",
    "        dummy = ListNode(-1)\n",
    "        head = dummy\n",
    "        while l:\n",
    "            val = l.pop()\n",
    "            head.next = ListNode(val)\n",
    "            head = head.next\n",
    "        return dummy.next\n",
    "        "
   ]
  },
  {
   "cell_type": "code",
   "execution_count": 8,
   "metadata": {},
   "outputs": [
    {
     "name": "stdout",
     "output_type": "stream",
     "text": [
      "1\n",
      "2\n",
      "3\n",
      "4\n"
     ]
    }
   ],
   "source": [
    "# a = None\n",
    "a = ListNode(4)\n",
    "a.next = ListNode(2)\n",
    "a.next.next = ListNode(1)\n",
    "a.next.next.next = ListNode(3)\n",
    "sol = Solution()\n",
    "b = sol.sortList(a)\n",
    "while(b):\n",
    "    print(b.val)\n",
    "    b = b.next"
   ]
  },
  {
   "cell_type": "code",
   "execution_count": 19,
   "metadata": {},
   "outputs": [],
   "source": [
    "# Runtime: 216 ms, faster than 77.37% of Python online submissions for Sort List.\n",
    "# Memory Usage: 26.2 MB, less than 86.15% of Python online submissions for Sort List.\n",
    "\n",
    "class Solution(object):\n",
    "    def sortList(self, head):\n",
    "        \"\"\"\n",
    "        :type head: ListNode\n",
    "        :rtype: ListNode\n",
    "        \"\"\"\n",
    "        if not head or not head.next:\n",
    "            return head\n",
    "        \n",
    "        fast, slow = head.next, head\n",
    "        while(fast and fast.next):\n",
    "            fast = fast.next.next\n",
    "            slow = slow.next\n",
    "        p1 = head\n",
    "        p2 = slow.next \n",
    "        slow.next = None\n",
    "        \n",
    "        left = self.sortList(p1)\n",
    "        right = self.sortList(p2)\n",
    "        res = self.mergeList(left, right)\n",
    "        return res \n",
    "    \n",
    "    def mergeList(self, a, b):\n",
    "        dummy = ListNode(-1)\n",
    "        cur = dummy\n",
    "        \n",
    "        while a and b:\n",
    "            if a.val < b.val:\n",
    "                cur.next = a\n",
    "                a = a.next\n",
    "            else:\n",
    "                cur.next = b\n",
    "                b = b.next\n",
    "            cur = cur.next\n",
    "        cur.next = a or b\n",
    "        return dummy.next\n",
    "        "
   ]
  },
  {
   "cell_type": "code",
   "execution_count": 20,
   "metadata": {},
   "outputs": [
    {
     "name": "stdout",
     "output_type": "stream",
     "text": [
      "1\n",
      "2\n",
      "3\n",
      "4\n"
     ]
    }
   ],
   "source": [
    "a = ListNode(4)\n",
    "a.next = ListNode(2)\n",
    "a.next.next = ListNode(1)\n",
    "a.next.next.next = ListNode(3)\n",
    "sol = Solution()\n",
    "b = sol.sortList(a)\n",
    "while(b):\n",
    "    print(b.val)\n",
    "    b = b.next"
   ]
  },
  {
   "cell_type": "code",
   "execution_count": null,
   "metadata": {},
   "outputs": [],
   "source": []
  }
 ],
 "metadata": {
  "kernelspec": {
   "display_name": "Python 3",
   "language": "python",
   "name": "python3"
  },
  "language_info": {
   "codemirror_mode": {
    "name": "ipython",
    "version": 3
   },
   "file_extension": ".py",
   "mimetype": "text/x-python",
   "name": "python",
   "nbconvert_exporter": "python",
   "pygments_lexer": "ipython3",
   "version": "3.7.3"
  }
 },
 "nbformat": 4,
 "nbformat_minor": 2
}
