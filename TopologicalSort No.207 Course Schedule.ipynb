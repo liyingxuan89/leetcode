{
 "cells": [
  {
   "cell_type": "markdown",
   "metadata": {},
   "source": [
    "There are a total of n courses you have to take, labeled from 0 to n-1.\n",
    "\n",
    "Some courses may have prerequisites, for example to take course 0 you have to first take course 1, which is expressed as a pair: [0,1]\n",
    "\n",
    "Given the total number of courses and a list of prerequisite pairs, is it possible for you to finish all courses?\n",
    "\n",
    "Example 1:\n",
    "\n",
    "Input: 2, [[1,0]] \n",
    "Output: true\n",
    "Explanation: There are a total of 2 courses to take. \n",
    "             To take course 1 you should have finished course 0. So it is possible.\n",
    "Example 2:\n",
    "\n",
    "Input: 2, [[1,0],[0,1]]\n",
    "Output: false\n",
    "Explanation: There are a total of 2 courses to take. \n",
    "             To take course 1 you should have finished course 0, and to take course 0 you should\n",
    "             also have finished course 1. So it is impossible.\n",
    "Note:\n",
    "\n",
    "The input prerequisites is a graph represented by a list of edges, not adjacency matrices. Read more about how a graph is represented.\n",
    "You may assume that there are no duplicate edges in the input prerequisites.\n"
   ]
  },
  {
   "cell_type": "code",
   "execution_count": 2,
   "metadata": {},
   "outputs": [],
   "source": [
    "# Runtime: 84 ms, faster than 67.23% of Python online submissions for Course Schedule.\n",
    "# Memory Usage: 15.3 MB, less than 9.83% of Python online submissions for Course Schedule.\n",
    "\n",
    "class Solution(object):\n",
    "    def canFinish(self, numCourses, prerequisites):\n",
    "        \"\"\"\n",
    "        :type numCourses: int\n",
    "        :type prerequisites: List[List[int]]\n",
    "        :rtype: bool\n",
    "        \"\"\"\n",
    "        # dfs判断时候有环\n",
    "        def dfs(node, visit_dict):\n",
    "            if visit_dict[node] == \"visiting\":\n",
    "                return True\n",
    "            if visit_dict[node] == \"visited\":\n",
    "                return False\n",
    "\n",
    "            visit_dict[node] = \"visiting\"\n",
    "            if node in pres:\n",
    "                for son in pres[node]:\n",
    "                    if dfs(son, visit_dict):\n",
    "                        return True\n",
    "            visit_dict[node] = \"visited\"\n",
    "            return False\n",
    "\n",
    "        pres = {x[1]:[] for x in prerequisites}\n",
    "        for each in prerequisites:\n",
    "            pres[each[1]].append(each[0])\n",
    "\n",
    "        visit_dict = {x: \"unkown\" for x in range(numCourses)}\n",
    "        for node in pres:\n",
    "            if dfs(node, visit_dict):\n",
    "                return False\n",
    "        return True\n",
    "        "
   ]
  },
  {
   "cell_type": "code",
   "execution_count": 3,
   "metadata": {},
   "outputs": [
    {
     "data": {
      "text/plain": [
       "True"
      ]
     },
     "execution_count": 3,
     "metadata": {},
     "output_type": "execute_result"
    }
   ],
   "source": [
    "sol = Solution()\n",
    "sol.canFinish(8, [[1,0],[2,6],[1,7],[6,4],[7,0],[0,5]])"
   ]
  },
  {
   "cell_type": "code",
   "execution_count": 4,
   "metadata": {},
   "outputs": [
    {
     "data": {
      "text/plain": [
       "False"
      ]
     },
     "execution_count": 4,
     "metadata": {},
     "output_type": "execute_result"
    }
   ],
   "source": [
    "sol.canFinish(2, [[1,0],[0,1]])"
   ]
  },
  {
   "cell_type": "code",
   "execution_count": null,
   "metadata": {},
   "outputs": [],
   "source": []
  }
 ],
 "metadata": {
  "kernelspec": {
   "display_name": "Python 3",
   "language": "python",
   "name": "python3"
  },
  "language_info": {
   "codemirror_mode": {
    "name": "ipython",
    "version": 3
   },
   "file_extension": ".py",
   "mimetype": "text/x-python",
   "name": "python",
   "nbconvert_exporter": "python",
   "pygments_lexer": "ipython3",
   "version": "3.7.3"
  }
 },
 "nbformat": 4,
 "nbformat_minor": 2
}
