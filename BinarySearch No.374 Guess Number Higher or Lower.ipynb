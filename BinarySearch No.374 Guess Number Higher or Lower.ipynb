{
 "cells": [
  {
   "cell_type": "markdown",
   "metadata": {},
   "source": [
    "We are playing the Guess Game. The game is as follows:\n",
    "\n",
    "I pick a number from 1 to n. You have to guess which number I picked.\n",
    "\n",
    "Every time you guess wrong, I'll tell you whether the number is higher or lower.\n",
    "\n",
    "You call a pre-defined API guess(int num) which returns 3 possible results (-1, 1, or 0):\n",
    "\n",
    "-1 : My number is lower\n",
    " 1 : My number is higher\n",
    " 0 : Congrats! You got it!\n",
    "Example :\n",
    "\n",
    "Input: n = 10, pick = 6\n",
    "Output: 6"
   ]
  },
  {
   "cell_type": "code",
   "execution_count": 7,
   "metadata": {},
   "outputs": [
    {
     "name": "stdout",
     "output_type": "stream",
     "text": [
      "6\n",
      "8\n",
      "9\n",
      "10\n"
     ]
    },
    {
     "data": {
      "text/plain": [
       "10"
      ]
     },
     "execution_count": 7,
     "metadata": {},
     "output_type": "execute_result"
    }
   ],
   "source": [
    "# The guess API is already defined for you.\n",
    "# @param num, your guess\n",
    "# @return -1 if my number is lower, 1 if my number is higher, otherwise return 0\n",
    "# def guess(num):\n",
    "\n",
    "def guess(n):\n",
    "    if n == 10:\n",
    "        return 0\n",
    "    elif n > 10:\n",
    "        return -1\n",
    "    else:\n",
    "        return 1\n",
    "# Runtime: 12 ms, faster than 98.81% of Python online submissions for Guess Number Higher or Lower.\n",
    "# Memory Usage: 11.9 MB, less than 11.52% of Python online submissions for Guess Number Higher or Lower.  \n",
    "class Solution(object):\n",
    "    def guessNumber(self, n):\n",
    "        \"\"\"\n",
    "        :type n: int\n",
    "        :rtype: int\n",
    "        \"\"\"\n",
    "        l, r = 1, n+1\n",
    "        while(l<=r):\n",
    "            mid = (l+r) // 2\n",
    "            print(mid)\n",
    "            if guess(mid) == 0:\n",
    "                return mid\n",
    "            elif guess(mid) < 0:\n",
    "                r = mid\n",
    "            else:\n",
    "                l = mid            \n",
    "sol = Solution()\n",
    "sol.guessNumber(10)"
   ]
  },
  {
   "cell_type": "code",
   "execution_count": null,
   "metadata": {},
   "outputs": [],
   "source": []
  }
 ],
 "metadata": {
  "kernelspec": {
   "display_name": "Python 3",
   "language": "python",
   "name": "python3"
  },
  "language_info": {
   "codemirror_mode": {
    "name": "ipython",
    "version": 3
   },
   "file_extension": ".py",
   "mimetype": "text/x-python",
   "name": "python",
   "nbconvert_exporter": "python",
   "pygments_lexer": "ipython3",
   "version": "3.7.3"
  }
 },
 "nbformat": 4,
 "nbformat_minor": 2
}
