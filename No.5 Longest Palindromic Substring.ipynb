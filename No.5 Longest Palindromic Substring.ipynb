{
 "cells": [
  {
   "cell_type": "markdown",
   "metadata": {},
   "source": [
    "Given a string s, find the longest palindromic substring in s. You may assume that the maximum length of s is 1000.\n",
    "\n",
    "#### Example 1:\n",
    "\n",
    "Input: \"babad\"\n",
    "Output: \"bab\"\n",
    "Note: \"aba\" is also a valid answer.\n",
    "#### Example 2:\n",
    "\n",
    "Input: \"cbbd\"\n",
    "Output: \"bb\""
   ]
  },
  {
   "cell_type": "code",
   "execution_count": 31,
   "metadata": {
    "collapsed": false
   },
   "outputs": [],
   "source": [
    "# using a moving window \n",
    "#Runtime: 12900 ms, faster than 0.97% of Python online submissions for Longest Palindromic Substring.\n",
    "#Memory Usage: 10.7 MB, less than 26.95% of Python online submissions for Longest Palindromic Substring.\n",
    "class Solution1(object):\n",
    "    def longestPalindrome(self, s):\n",
    "        \"\"\"\n",
    "        :type s: str\n",
    "        :rtype: str\n",
    "        \"\"\"\n",
    "        n = len(s)\n",
    "        if n == 0:\n",
    "            return \"\"\n",
    "        if n == 1:\n",
    "            return s\n",
    "        res = \"\"\n",
    "        for length in range(1,n+1):\n",
    "            i = 0\n",
    "            while(i+length<n+1):\n",
    "                if s[i:i+length] == s[i:i+length][::-1]:\n",
    "                    res = s[i:i+length]\n",
    "                    break\n",
    "                i += 1\n",
    "        return res"
   ]
  },
  {
   "cell_type": "code",
   "execution_count": 32,
   "metadata": {
    "collapsed": false
   },
   "outputs": [],
   "source": [
    "sol1 = Solution1()"
   ]
  },
  {
   "cell_type": "code",
   "execution_count": 33,
   "metadata": {
    "collapsed": false
   },
   "outputs": [
    {
     "data": {
      "text/plain": [
       "'bb'"
      ]
     },
     "execution_count": 33,
     "metadata": {},
     "output_type": "execute_result"
    }
   ],
   "source": [
    "sol1.longestPalindrome(\"cbbd\")"
   ]
  },
  {
   "cell_type": "code",
   "execution_count": 81,
   "metadata": {
    "collapsed": false
   },
   "outputs": [],
   "source": [
    "#dynamic programming\n",
    "#Runtime: 3344 ms, faster than 24.85% of Python online submissions for Longest Palindromic Substring.\n",
    "#Memory Usage: 19.6 MB, less than 24.19% of Python online submissions for Longest Palindromic Substring.\n",
    "class Solution2(object):\n",
    "    def longestPalindrome(self, s):\n",
    "        \"\"\"\n",
    "        :type s: str\n",
    "        :rtype: str\n",
    "        \"\"\"\n",
    "        n = len(s)\n",
    "        if n < 2:\n",
    "            return s\n",
    "        dp = [[0 for i in range(n)] for j in range(n)]\n",
    "        maxl = 0\n",
    "        res = \"\"\n",
    "        for j in range(n):\n",
    "            # j : the end index\n",
    "            for i in range(j+1):\n",
    "                # i : start from 0 to j, the substring index\n",
    "                # j - i <= 2 : if index diff less than 2, determine it combine with s[i],s[j] regardless of dp[i+1][j-1]\n",
    "                dp[i][j] = (s[i] == s[j] and (j-i<=2 or dp[i+1][j-1]))\n",
    "                if dp[i][j]:\n",
    "                    if j-i+1 > maxl:\n",
    "                        maxl = j-i+1\n",
    "                        res = s[i:j+1]\n",
    "        return res"
   ]
  },
  {
   "cell_type": "code",
   "execution_count": 79,
   "metadata": {
    "collapsed": false
   },
   "outputs": [],
   "source": [
    "sol2 = Solution2()"
   ]
  },
  {
   "cell_type": "code",
   "execution_count": 80,
   "metadata": {
    "collapsed": false
   },
   "outputs": [
    {
     "data": {
      "text/plain": [
       "'aba'"
      ]
     },
     "execution_count": 80,
     "metadata": {},
     "output_type": "execute_result"
    }
   ],
   "source": [
    "sol2.longestPalindrome(\"babad\")"
   ]
  },
  {
   "cell_type": "code",
   "execution_count": 94,
   "metadata": {
    "collapsed": true
   },
   "outputs": [],
   "source": [
    "#Expand Around Center\n",
    "#Runtime: 628 ms, faster than 80.85% of Python online submissions for Longest Palindromic Substring.\n",
    "#Memory Usage: 10.8 MB, less than 100.00% of Python online submissions for Longest Palindromic Substring.\n",
    "class Solution3(object):\n",
    "    def __init__(self):\n",
    "        self.res = \"\"\n",
    "        \n",
    "    def longestPalindrome(self, s):\n",
    "        \"\"\"\n",
    "        :type s: str\n",
    "        :rtype: str\n",
    "        \"\"\"\n",
    "        n = len(s)\n",
    "        if n < 2: return s\n",
    "        for i in range(n):\n",
    "            self.helper(s, i, i)\n",
    "            self.helper(s, i, i+1)\n",
    "        return self.res\n",
    "    \n",
    "    def helper(self, s, left, right):\n",
    "        while(left >= 0 and right < len(s) and s[left] == s[right]):\n",
    "            left -= 1\n",
    "            right += 1\n",
    "        cur = s[left+1:right]\n",
    "        if len(cur) >= len(self.res):\n",
    "            self.res = cur"
   ]
  },
  {
   "cell_type": "code",
   "execution_count": 95,
   "metadata": {
    "collapsed": true
   },
   "outputs": [],
   "source": [
    "sol3 = Solution3()"
   ]
  },
  {
   "cell_type": "code",
   "execution_count": 96,
   "metadata": {
    "collapsed": false
   },
   "outputs": [
    {
     "data": {
      "text/plain": [
       "'bab'"
      ]
     },
     "execution_count": 96,
     "metadata": {},
     "output_type": "execute_result"
    }
   ],
   "source": [
    "sol3.longestPalindrome(\"babad\")"
   ]
  },
  {
   "cell_type": "code",
   "execution_count": null,
   "metadata": {
    "collapsed": true
   },
   "outputs": [],
   "source": [
    "#mancher's algorithm\n",
    "#https://articles.leetcode.com/longest-palindromic-substring-part-ii/\n",
    "\n",
    "class Solution3(object):\n",
    "        \n",
    "    def longestPalindrome(self, s):\n",
    "        \"\"\"\n",
    "        :type s: str\n",
    "        :rtype: str"
   ]
  }
 ],
 "metadata": {
  "kernelspec": {
   "display_name": "Python 3",
   "language": "python",
   "name": "python3"
  },
  "language_info": {
   "codemirror_mode": {
    "name": "ipython",
    "version": 3
   },
   "file_extension": ".py",
   "mimetype": "text/x-python",
   "name": "python",
   "nbconvert_exporter": "python",
   "pygments_lexer": "ipython3",
   "version": "3.5.1"
  }
 },
 "nbformat": 4,
 "nbformat_minor": 1
}
