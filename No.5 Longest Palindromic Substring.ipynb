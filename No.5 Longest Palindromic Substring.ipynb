{
 "cells": [
  {
   "cell_type": "markdown",
   "metadata": {},
   "source": [
    "Given a string s, find the longest palindromic substring in s. You may assume that the maximum length of s is 1000.\n",
    "\n",
    "#### Example 1:\n",
    "\n",
    "Input: \"babad\"\n",
    "Output: \"bab\"\n",
    "Note: \"aba\" is also a valid answer.\n",
    "#### Example 2:\n",
    "\n",
    "Input: \"cbbd\"\n",
    "Output: \"bb\""
   ]
  },
  {
   "cell_type": "code",
   "execution_count": 31,
   "metadata": {
    "collapsed": false
   },
   "outputs": [],
   "source": [
    "# using a moving window \n",
    "#Runtime: 12900 ms, faster than 0.97% of Python online submissions for Longest Palindromic Substring.\n",
    "#Memory Usage: 10.7 MB, less than 26.95% of Python online submissions for Longest Palindromic Substring.\n",
    "class Solution1(object):\n",
    "    def longestPalindrome(self, s):\n",
    "        \"\"\"\n",
    "        :type s: str\n",
    "        :rtype: str\n",
    "        \"\"\"\n",
    "        n = len(s)\n",
    "        if n == 0:\n",
    "            return \"\"\n",
    "        if n == 1:\n",
    "            return s\n",
    "        res = \"\"\n",
    "        for length in range(1,n+1):\n",
    "            i = 0\n",
    "            while(i+length<n+1):\n",
    "                if s[i:i+length] == s[i:i+length][::-1]:\n",
    "                    res = s[i:i+length]\n",
    "                    break\n",
    "                i += 1\n",
    "        return res"
   ]
  },
  {
   "cell_type": "code",
   "execution_count": 32,
   "metadata": {
    "collapsed": false
   },
   "outputs": [],
   "source": [
    "sol1 = Solution1()"
   ]
  },
  {
   "cell_type": "code",
   "execution_count": 33,
   "metadata": {
    "collapsed": false
   },
   "outputs": [
    {
     "data": {
      "text/plain": [
       "'bb'"
      ]
     },
     "execution_count": 33,
     "metadata": {},
     "output_type": "execute_result"
    }
   ],
   "source": [
    "sol1.longestPalindrome(\"cbbd\")"
   ]
  },
  {
   "cell_type": "code",
   "execution_count": 34,
   "metadata": {
    "collapsed": true
   },
   "outputs": [],
   "source": [
    "#dynamic programming\n",
    "\n",
    "class Solution2(object):\n",
    "    def longestPalindrome(self, s):\n",
    "        \"\"\"\n",
    "        :type s: str\n",
    "        :rtype: str\n",
    "        \"\"\"\n",
    "        n = len(s)\n",
    "        if n < 2:\n",
    "            return s\n",
    "        maxlen = 0\n",
    "        start = 0\n",
    "        #init dp status array\n",
    "        status = [[0] for i in range(n)]\n",
    "        for i in range(n):\n",
    "            status[i][i] = True\n",
    "            if i < n-1 and s[i]==s[i+1]:\n",
    "                status[i][i+1] = True\n",
    "                start = i\n",
    "                maxlen = 2\n",
    "        \n",
    "        for length in range(3, n+1):\n",
    "            #i:start letter index\n",
    "            for i in range(0,n-length+1):\n",
    "                #j:end letter index\n",
    "                j = i+length-1\n",
    "                if status[i+1][j-1] and s[i] == s[j]:\n",
    "                    status[i][j] = True\n",
    "                    maxlen = length\n",
    "                    start = i\n",
    "                    \n",
    "        if maxlen >=2:\n",
    "            return s[start:start+maxlen]\n",
    "        return None"
   ]
  },
  {
   "cell_type": "code",
   "execution_count": 65,
   "metadata": {
    "collapsed": false
   },
   "outputs": [],
   "source": [
    "status = [[[0] for i in range(5)] for j in range(5)]"
   ]
  },
  {
   "cell_type": "code",
   "execution_count": 66,
   "metadata": {
    "collapsed": false
   },
   "outputs": [
    {
     "data": {
      "text/plain": [
       "[[[0], [0], [0], [0], [0]],\n",
       " [[0], [0], [0], [0], [0]],\n",
       " [[0], [0], [0], [0], [0]],\n",
       " [[0], [0], [0], [0], [0]],\n",
       " [[0], [0], [0], [0], [0]]]"
      ]
     },
     "execution_count": 66,
     "metadata": {},
     "output_type": "execute_result"
    }
   ],
   "source": [
    "status"
   ]
  },
  {
   "cell_type": "code",
   "execution_count": 59,
   "metadata": {
    "collapsed": false
   },
   "outputs": [],
   "source": [
    "status[3][0] = 1"
   ]
  },
  {
   "cell_type": "code",
   "execution_count": 60,
   "metadata": {
    "collapsed": false
   },
   "outputs": [
    {
     "data": {
      "text/plain": [
       "[[1, 0, 0, 0, 0],\n",
       " [1, 0, 0, 0, 0],\n",
       " [1, 0, 0, 0, 0],\n",
       " [1, 0, 0, 0, 0],\n",
       " [1, 0, 0, 0, 0]]"
      ]
     },
     "execution_count": 60,
     "metadata": {},
     "output_type": "execute_result"
    }
   ],
   "source": [
    "status"
   ]
  },
  {
   "cell_type": "code",
   "execution_count": 63,
   "metadata": {
    "collapsed": false
   },
   "outputs": [
    {
     "data": {
      "text/plain": [
       "1"
      ]
     },
     "execution_count": 63,
     "metadata": {},
     "output_type": "execute_result"
    }
   ],
   "source": [
    "status[3][0]"
   ]
  },
  {
   "cell_type": "code",
   "execution_count": null,
   "metadata": {
    "collapsed": true
   },
   "outputs": [],
   "source": []
  }
 ],
 "metadata": {
  "kernelspec": {
   "display_name": "Python 3",
   "language": "python",
   "name": "python3"
  },
  "language_info": {
   "codemirror_mode": {
    "name": "ipython",
    "version": 3
   },
   "file_extension": ".py",
   "mimetype": "text/x-python",
   "name": "python",
   "nbconvert_exporter": "python",
   "pygments_lexer": "ipython3",
   "version": "3.5.1"
  }
 },
 "nbformat": 4,
 "nbformat_minor": 1
}
