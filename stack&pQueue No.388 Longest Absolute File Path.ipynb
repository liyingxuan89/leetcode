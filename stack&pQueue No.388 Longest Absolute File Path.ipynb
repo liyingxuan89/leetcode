{
 "cells": [
  {
   "cell_type": "markdown",
   "metadata": {},
   "source": [
    "Suppose we abstract our file system by a string in the following manner:\n",
    "\n",
    "The string \"dir\\n\\tsubdir1\\n\\tsubdir2\\n\\t\\tfile.ext\" represents:\n",
    "\n",
    "dir\n",
    "    subdir1\n",
    "    subdir2\n",
    "        file.ext\n",
    "The directory dir contains an empty sub-directory subdir1 and a sub-directory subdir2 containing a file file.ext.\n",
    "\n",
    "The string \"dir\\n\\tsubdir1\\n\\t\\tfile1.ext\\n\\t\\tsubsubdir1\\n\\tsubdir2\\n\\t\\tsubsubdir2\\n\\t\\t\\tfile2.ext\" represents:\n",
    "\n",
    "dir\n",
    "    subdir1\n",
    "        file1.ext\n",
    "        subsubdir1\n",
    "    subdir2\n",
    "        subsubdir2\n",
    "            file2.ext\n",
    "The directory dir contains two sub-directories subdir1 and subdir2. subdir1 contains a file file1.ext and an empty second-level sub-directory subsubdir1. subdir2 contains a second-level sub-directory subsubdir2 containing a file file2.ext.\n",
    "\n",
    "We are interested in finding the longest (number of characters) absolute path to a file within our file system. For example, in the second example above, the longest absolute path is \"dir/subdir2/subsubdir2/file2.ext\", and its length is 32 (not including the double quotes).\n",
    "\n",
    "Given a string representing the file system in the above format, return the length of the longest absolute path to file in the abstracted file system. If there is no file in the system, return 0.\n",
    "\n",
    "Note:\n",
    "The name of a file contains at least a . and an extension.\n",
    "The name of a directory or sub-directory will not contain a ..\n",
    "Time complexity required: O(n) where n is the size of the input string.\n",
    "\n",
    "Notice that a/aa/aaa/file1.txt is not the longest file path, if there is another path aaaaaaaaaaaaaaaaaaaaa/sth.png."
   ]
  },
  {
   "cell_type": "code",
   "execution_count": 47,
   "metadata": {},
   "outputs": [],
   "source": [
    "# best solution\n",
    "# Runtime: 16 ms, faster than 94.21% of Python online submissions for Longest Absolute File Path.\n",
    "# Memory Usage: 11.6 MB, less than 99.56% of Python online submissions for Longest Absolute File Path.\n",
    "class Solution:\n",
    "    def lengthLongestPath(self, input: str) -> int:\n",
    "        l = input.split('\\n')\n",
    "        cdir = []\n",
    "        m = 0\n",
    "        \n",
    "        for d in l:\n",
    "            l_cdir = len(cdir)\n",
    "            lvl = d.count('\\t')\n",
    "            if l_cdir > lvl:\n",
    "                cdir = cdir[:-(l_cdir-lvl)]\n",
    "            cdir.append(d)\n",
    "            if '.' in cdir[len(cdir)-1]:\n",
    "                com = '/'.join(cdir).replace('\\t', '')\n",
    "                m = max(m, len(com))\n",
    "                # print(com)\n",
    "        \n",
    "        return m"
   ]
  },
  {
   "cell_type": "code",
   "execution_count": 40,
   "metadata": {},
   "outputs": [
    {
     "data": {
      "text/plain": [
       "['dir\\n',\n",
       " 'subdir1\\n',\n",
       " '',\n",
       " 'file1.ext\\n',\n",
       " '',\n",
       " 'subsubdir1\\n',\n",
       " 'subdir2\\n',\n",
       " '',\n",
       " 'subsubdir2\\n',\n",
       " '',\n",
       " '',\n",
       " 'file2.ext']"
      ]
     },
     "execution_count": 40,
     "metadata": {},
     "output_type": "execute_result"
    }
   ],
   "source": [
    "\"dir\\n\\tsubdir1\\n\\t\\tfile1.ext\\n\\t\\tsubsubdir1\\n\\tsubdir2\\n\\t\\tsubsubdir2\\n\\t\\t\\tfile2.ext\".split(\"\\t\")"
   ]
  },
  {
   "cell_type": "code",
   "execution_count": 48,
   "metadata": {},
   "outputs": [
    {
     "data": {
      "text/plain": [
       "11"
      ]
     },
     "execution_count": 48,
     "metadata": {},
     "output_type": "execute_result"
    }
   ],
   "source": [
    "sol = Solution()\n",
    "sol.lengthLongestPath(\"dir\\n    abc.txt\")"
   ]
  },
  {
   "cell_type": "code",
   "execution_count": null,
   "metadata": {},
   "outputs": [],
   "source": []
  }
 ],
 "metadata": {
  "kernelspec": {
   "display_name": "Python 3",
   "language": "python",
   "name": "python3"
  },
  "language_info": {
   "codemirror_mode": {
    "name": "ipython",
    "version": 3
   },
   "file_extension": ".py",
   "mimetype": "text/x-python",
   "name": "python",
   "nbconvert_exporter": "python",
   "pygments_lexer": "ipython3",
   "version": "3.7.3"
  }
 },
 "nbformat": 4,
 "nbformat_minor": 2
}
