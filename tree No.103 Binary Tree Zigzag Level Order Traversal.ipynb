{
 "cells": [
  {
   "cell_type": "markdown",
   "metadata": {},
   "source": [
    "Given a binary tree, return the zigzag level order traversal of its nodes' values. (ie, from left to right, then right to left for the next level and alternate between).\n",
    "\n",
    "For example:\n",
    "Given binary tree [3,9,20,null,null,15,7],\n",
    "    3\n",
    "   / \\\n",
    "  9  20\n",
    "    /  \\\n",
    "   15   7\n",
    "return its zigzag level order traversal as:\n",
    "[\n",
    "  [3],\n",
    "  [20,9],\n",
    "  [15,7]\n",
    "]"
   ]
  },
  {
   "cell_type": "code",
   "execution_count": 8,
   "metadata": {},
   "outputs": [],
   "source": [
    "# Definition for a binary tree node.\n",
    "class TreeNode(object):\n",
    "    def __init__(self, x):\n",
    "        self.val = x\n",
    "        self.left = None\n",
    "        self.right = None\n",
    "\n",
    "# Runtime: 24 ms, faster than 79.11% of Python online submissions for Binary Tree Zigzag Level Order Traversal.\n",
    "# Memory Usage: 12.2 MB, less than 5.58% of Python online submissions for Binary Tree Zigzag Level Order Traversal.\n",
    "class Solution(object):\n",
    "    def zigzagLevelOrder(self, root):\n",
    "        \"\"\"\n",
    "        :type root: TreeNode\n",
    "        :rtype: List[List[int]]\n",
    "        \"\"\"\n",
    "        ret = []\n",
    "        if root is None:\n",
    "            return []\n",
    "        stack = [(root, 0)]\n",
    "        while(stack):\n",
    "            node, level = stack.pop()\n",
    "            if level == len(ret):\n",
    "                ret.append([])\n",
    "            if level%2==1:\n",
    "                ret[level].insert(0, node.val)\n",
    "            else:\n",
    "                ret[level].append(node.val)\n",
    "            if node.right is not None:\n",
    "                stack.append((node.right, level+1))\n",
    "            if node.left is not None:\n",
    "                stack.append((node.left, level+1))\n",
    "        return ret"
   ]
  },
  {
   "cell_type": "code",
   "execution_count": 18,
   "metadata": {},
   "outputs": [],
   "source": [
    "r = TreeNode(3)\n",
    "r.left = TreeNode(9)\n",
    "r.right = TreeNode(20)\n",
    "r.right.left = TreeNode(15)\n",
    "r.right.right = TreeNode(7)"
   ]
  },
  {
   "cell_type": "code",
   "execution_count": 23,
   "metadata": {},
   "outputs": [
    {
     "name": "stdout",
     "output_type": "stream",
     "text": [
      "[[3], [9, 20], [15, 7]]\n"
     ]
    },
    {
     "data": {
      "text/plain": [
       "[[3], [20, 9], [15, 7]]"
      ]
     },
     "execution_count": 23,
     "metadata": {},
     "output_type": "execute_result"
    }
   ],
   "source": [
    "sol = Solution()\n",
    "sol.zigzagLevelOrder(r)"
   ]
  },
  {
   "cell_type": "code",
   "execution_count": 22,
   "metadata": {},
   "outputs": [],
   "source": [
    "# Runtime: 20 ms, faster than 99.35% of Python online submissions for Binary Tree Zigzag Level Order Traversal.\n",
    "# Memory Usage: 12.2 MB, less than 5.58% of Python online submissions for Binary Tree Zigzag Level Order Traversal.\n",
    "class Solution(object):\n",
    "    def zigzagLevelOrder(self, root):\n",
    "        \"\"\"\n",
    "        :type root: TreeNode\n",
    "        :rtype: List[List[int]]\n",
    "        \"\"\"\n",
    "        ret = []\n",
    "        if root is None:\n",
    "            return []\n",
    "        stack = [(root, 0)]\n",
    "        while(stack):\n",
    "            node, level = stack.pop()\n",
    "            if level == len(ret):\n",
    "                ret.append([])\n",
    "            ret[level].append(node.val)\n",
    "            if node.right is not None:\n",
    "                stack.append((node.right, level+1))\n",
    "            if node.left is not None:\n",
    "                stack.append((node.left, level+1))\n",
    "        print(ret)\n",
    "        for i in range(len(ret)):\n",
    "            if i % 2 == 1:\n",
    "                ret[i] = ret[i][::-1]\n",
    "        return ret"
   ]
  },
  {
   "cell_type": "code",
   "execution_count": null,
   "metadata": {},
   "outputs": [],
   "source": []
  }
 ],
 "metadata": {
  "kernelspec": {
   "display_name": "Python 3",
   "language": "python",
   "name": "python3"
  },
  "language_info": {
   "codemirror_mode": {
    "name": "ipython",
    "version": 3
   },
   "file_extension": ".py",
   "mimetype": "text/x-python",
   "name": "python",
   "nbconvert_exporter": "python",
   "pygments_lexer": "ipython3",
   "version": "3.5.1"
  }
 },
 "nbformat": 4,
 "nbformat_minor": 2
}
