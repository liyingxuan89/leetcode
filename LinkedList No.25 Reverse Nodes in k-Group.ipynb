{
 "cells": [
  {
   "cell_type": "markdown",
   "metadata": {},
   "source": [
    "Given a linked list, reverse the nodes of a linked list k at a time and return its modified list.\n",
    "\n",
    "k is a positive integer and is less than or equal to the length of the linked list. If the number of nodes is not a multiple of k then left-out nodes in the end should remain as it is.\n",
    "\n",
    "Example:\n",
    "\n",
    "Given this linked list: 1->2->3->4->5\n",
    "\n",
    "For k = 2, you should return: 2->1->4->3->5\n",
    "\n",
    "For k = 3, you should return: 3->2->1->4->5\n",
    "\n",
    "Note:\n",
    "\n",
    "Only constant extra memory is allowed.\n",
    "You may not alter the values in the list's nodes, only nodes itself may be changed."
   ]
  },
  {
   "cell_type": "code",
   "execution_count": 42,
   "metadata": {},
   "outputs": [],
   "source": [
    "# Definition for singly-linked list.\n",
    "class ListNode(object):\n",
    "    def __init__(self, x):\n",
    "        self.val = x\n",
    "        self.next = None\n",
    "\n",
    "# Runtime: 40 ms, faster than 65.16% of Python online submissions for Reverse Nodes in k-Group.\n",
    "# Memory Usage: 13.6 MB, less than 16.05% of Python online submissions for Reverse Nodes in k-Group.\n",
    "class Solution(object):\n",
    "    def reverseKGroup(self, head, k):\n",
    "        \"\"\"\n",
    "        :type head: ListNode\n",
    "        :type k: int\n",
    "        :rtype: ListNode\n",
    "        \"\"\"\n",
    "        if k == 1:\n",
    "            return head\n",
    "        if not head:\n",
    "            return None\n",
    "        p1, p2 = self.split(head, k)\n",
    "        if self.check_length(p1) == k:\n",
    "            p1 = self.reverse(p1)\n",
    "        h = p1\n",
    "        while p1.next:\n",
    "            p1 = p1.next\n",
    "        p1.next = self.reverseKGroup(p2, k)\n",
    "        return h\n",
    "\n",
    "    def split(self, head, k):\n",
    "        if not head:\n",
    "            return\n",
    "        cur = head\n",
    "        cnt = 1\n",
    "        while cur:\n",
    "            cur = cur.next\n",
    "            cnt += 1\n",
    "            if cnt == k:\n",
    "                break\n",
    "        if cur and cur.next:\n",
    "            tail = cur.next\n",
    "            cur.next = None\n",
    "            return head, tail\n",
    "        else:\n",
    "            return head, None\n",
    "\n",
    "    def reverse(self, head):\n",
    "        if not head: return head\n",
    "        new_head = None\n",
    "        while head:\n",
    "            nex = head.next\n",
    "            head.next = new_head\n",
    "            new_head = head\n",
    "            head = nex\n",
    "        return new_head\n",
    "    \n",
    "    def check_length(self, head):\n",
    "        cnt = 0\n",
    "        while(head):\n",
    "            head = head.next\n",
    "            cnt += 1\n",
    "        return cnt"
   ]
  },
  {
   "cell_type": "code",
   "execution_count": 43,
   "metadata": {},
   "outputs": [
    {
     "name": "stdout",
     "output_type": "stream",
     "text": [
      "3\n",
      "2\n",
      "1\n",
      "4\n",
      "5\n"
     ]
    }
   ],
   "source": [
    "a = ListNode(1)\n",
    "a.next = ListNode(2)\n",
    "a.next.next = ListNode(3)\n",
    "a.next.next.next = ListNode(4)\n",
    "a.next.next.next.next = ListNode(5)\n",
    "sol = Solution()\n",
    "c = sol.reverseKGroup(a, 3)\n",
    "while(c):\n",
    "    print(c.val)\n",
    "    c = c.next"
   ]
  },
  {
   "cell_type": "code",
   "execution_count": null,
   "metadata": {},
   "outputs": [],
   "source": []
  }
 ],
 "metadata": {
  "kernelspec": {
   "display_name": "Python 3",
   "language": "python",
   "name": "python3"
  },
  "language_info": {
   "codemirror_mode": {
    "name": "ipython",
    "version": 3
   },
   "file_extension": ".py",
   "mimetype": "text/x-python",
   "name": "python",
   "nbconvert_exporter": "python",
   "pygments_lexer": "ipython3",
   "version": "3.7.3"
  }
 },
 "nbformat": 4,
 "nbformat_minor": 2
}
