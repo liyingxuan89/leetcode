{
 "cells": [
  {
   "cell_type": "markdown",
   "metadata": {},
   "source": [
    "You are given two non-empty linked lists representing two non-negative integers. The digits are stored in reverse order and each of their nodes contain a single digit. Add the two numbers and return it as a linked list.\n",
    "\n",
    "You may assume the two numbers do not contain any leading zero, except the number 0 itself.\n",
    "\n",
    "Example:\n",
    "\n",
    "Input: (2 -> 4 -> 3) + (5 -> 6 -> 4)\n",
    "Output: 7 -> 0 -> 8\n",
    "Explanation: 342 + 465 = 807."
   ]
  },
  {
   "cell_type": "code",
   "execution_count": 37,
   "metadata": {},
   "outputs": [],
   "source": [
    "# Definition for singly-linked list.\n",
    "class ListNode(object):\n",
    "    def __init__(self, x):\n",
    "        self.val = x\n",
    "        self.next = None\n",
    "\n",
    "# Runtime: 52 ms, faster than 97.25% of Python online submissions for Add Two Numbers.\n",
    "# Memory Usage: 11.8 MB, less than 81.58% of Python online submissions for Add Two Numbers.\n",
    "class Solution(object):\n",
    "    def addTwoNumbers(self, l1, l2):\n",
    "        \"\"\"\n",
    "        :type l1: ListNode\n",
    "        :type l2: ListNode\n",
    "        :rtype: ListNode\n",
    "        \"\"\"\n",
    "        dummy = ListNode(-1)\n",
    "        res = dummy\n",
    "        hold = 0\n",
    "        while l1 and l2:\n",
    "            hold, val = divmod(l1.val + l2.val + hold, 10) \n",
    "            res.next = ListNode(val)\n",
    "            res = res.next\n",
    "            l1 = l1.next\n",
    "            l2 = l2.next\n",
    "        while l1:\n",
    "            hold, val = divmod(l1.val+hold, 10)\n",
    "            res.next = ListNode(val)\n",
    "            res = res.next\n",
    "            l1 = l1.next\n",
    "            \n",
    "        while l2:\n",
    "            hold, val = divmod(l2.val+hold, 10)\n",
    "            res.next = ListNode(val)\n",
    "            res = res.next\n",
    "            l2 = l2.next\n",
    "            \n",
    "        if hold > 0:\n",
    "            res.next = ListNode(hold)\n",
    "            \n",
    "        return dummy.next"
   ]
  },
  {
   "cell_type": "code",
   "execution_count": 34,
   "metadata": {},
   "outputs": [],
   "source": [
    "a = ListNode(1)\n",
    "a.next = ListNode(8)\n",
    "a.next.next = ListNode(3)\n",
    "b = ListNode(0)\n",
    "b.next = ListNode(6)\n",
    "b.next.next = ListNode(6)"
   ]
  },
  {
   "cell_type": "code",
   "execution_count": 35,
   "metadata": {},
   "outputs": [
    {
     "name": "stdout",
     "output_type": "stream",
     "text": [
      "1\n",
      "4\n",
      "0\n",
      "1\n"
     ]
    }
   ],
   "source": [
    "sol = Solution()\n",
    "c = sol.addTwoNumbers(a, b)\n",
    "while(c):\n",
    "    print(c.val)\n",
    "    c = c.next"
   ]
  },
  {
   "cell_type": "code",
   "execution_count": null,
   "metadata": {},
   "outputs": [],
   "source": []
  }
 ],
 "metadata": {
  "kernelspec": {
   "display_name": "Python 3",
   "language": "python",
   "name": "python3"
  },
  "language_info": {
   "codemirror_mode": {
    "name": "ipython",
    "version": 3
   },
   "file_extension": ".py",
   "mimetype": "text/x-python",
   "name": "python",
   "nbconvert_exporter": "python",
   "pygments_lexer": "ipython3",
   "version": "3.7.3"
  }
 },
 "nbformat": 4,
 "nbformat_minor": 2
}
