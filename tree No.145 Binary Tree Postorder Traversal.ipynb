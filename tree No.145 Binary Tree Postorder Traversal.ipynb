{
 "cells": [
  {
   "cell_type": "markdown",
   "metadata": {},
   "source": [
    "Given a binary tree, return the postorder traversal of its nodes' values.\n",
    "\n",
    "Example:\n",
    "\n",
    "Input: [1,null,2,3]\n",
    "   1\n",
    "    \\\n",
    "     2\n",
    "    /\n",
    "   3\n",
    "\n",
    "Output: [3,2,1]\n",
    "Follow up: Recursive solution is trivial, could you do it iteratively?"
   ]
  },
  {
   "cell_type": "code",
   "execution_count": 4,
   "metadata": {
    "collapsed": true
   },
   "outputs": [],
   "source": [
    "# Definition for a binary tree node.\n",
    "class TreeNode(object):\n",
    "    def __init__(self, x):\n",
    "        self.val = x\n",
    "        self.left = None\n",
    "        self.right = None\n",
    "# Runtime: 32 ms, faster than 11.85% of Python online submissions for Binary Tree Postorder Traversal.\n",
    "# Memory Usage: 11.9 MB, less than 5.70% of Python online submissions for Binary Tree Postorder Traversal.\n",
    "\n",
    "class Solution(object):\n",
    "    def postorderTraversal(self, root):\n",
    "        \"\"\"\n",
    "        :type root: TreeNode\n",
    "        :rtype: List[int]\n",
    "        \"\"\"\n",
    "        res = []\n",
    "        if not root:\n",
    "            return []\n",
    "        else:\n",
    "            return self.postorderTraversal(root.left)+self.postorderTraversal(root.right)+[root.val]"
   ]
  },
  {
   "cell_type": "code",
   "execution_count": 5,
   "metadata": {
    "collapsed": true
   },
   "outputs": [],
   "source": [
    "sol = Solution()"
   ]
  },
  {
   "cell_type": "code",
   "execution_count": 7,
   "metadata": {},
   "outputs": [],
   "source": [
    "Rt = TreeNode(1)\n",
    "Rt.left = TreeNode(2)\n",
    "Rt.left.left = TreeNode(4)\n",
    "Rt.left.right = TreeNode(5)\n",
    "Rt.left.right.left = TreeNode(7)\n",
    "Rt.left.right.right = TreeNode(8)\n",
    "Rt.right = TreeNode(3)\n",
    "Rt.right.left = TreeNode(6)\n",
    "res = sol.postorderTraversal(Rt)"
   ]
  },
  {
   "cell_type": "code",
   "execution_count": 8,
   "metadata": {},
   "outputs": [
    {
     "data": {
      "text/plain": [
       "[4, 7, 8, 5, 2, 6, 3, 1]"
      ]
     },
     "execution_count": 8,
     "metadata": {},
     "output_type": "execute_result"
    }
   ],
   "source": [
    "res"
   ]
  },
  {
   "cell_type": "code",
   "execution_count": 11,
   "metadata": {
    "collapsed": true
   },
   "outputs": [],
   "source": [
    "# Runtime: 32 ms, faster than 11.85% of Python online submissions for Binary Tree Postorder Traversal.\n",
    "# Memory Usage: 11.7 MB, less than 5.70% of Python online submissions for Binary Tree Postorder Traversal.\n",
    "class Solution(object):\n",
    "    def postorderTraversal(self, root):\n",
    "        \"\"\"\n",
    "        :type root: TreeNode\n",
    "        :rtype\n",
    "        \"\"\"\n",
    "        res = []\n",
    "        stack = [root]\n",
    "        if not root:\n",
    "            return []\n",
    "        while(stack):\n",
    "            node = stack.pop()\n",
    "            res.append(node.val)\n",
    "            if node.left:\n",
    "                stack.append(node.left)\n",
    "            if node.right:\n",
    "                stack.append(node.right)\n",
    "        return res\n",
    "            "
   ]
  },
  {
   "cell_type": "code",
   "execution_count": 12,
   "metadata": {},
   "outputs": [],
   "source": [
    "sol = Solution()\n",
    "Rt = TreeNode(1)\n",
    "Rt.left = TreeNode(2)\n",
    "Rt.left.left = TreeNode(4)\n",
    "Rt.left.right = TreeNode(5)\n",
    "Rt.left.right.left = TreeNode(7)\n",
    "Rt.left.right.right = TreeNode(8)\n",
    "Rt.right = TreeNode(3)\n",
    "Rt.right.left = TreeNode(6)\n",
    "res = sol.postorderTraversal(Rt)"
   ]
  },
  {
   "cell_type": "code",
   "execution_count": 13,
   "metadata": {},
   "outputs": [
    {
     "data": {
      "text/plain": [
       "[4, 7, 8, 5, 2, 6, 3, 1]"
      ]
     },
     "execution_count": 13,
     "metadata": {},
     "output_type": "execute_result"
    }
   ],
   "source": [
    "res"
   ]
  },
  {
   "cell_type": "code",
   "execution_count": null,
   "metadata": {
    "collapsed": true
   },
   "outputs": [],
   "source": []
  }
 ],
 "metadata": {
  "kernelspec": {
   "display_name": "Python 3",
   "language": "python",
   "name": "python3"
  },
  "language_info": {
   "codemirror_mode": {
    "name": "ipython",
    "version": 3
   },
   "file_extension": ".py",
   "mimetype": "text/x-python",
   "name": "python",
   "nbconvert_exporter": "python",
   "pygments_lexer": "ipython3",
   "version": "3.6.8"
  }
 },
 "nbformat": 4,
 "nbformat_minor": 2
}
