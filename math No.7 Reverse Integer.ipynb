{
 "cells": [
  {
   "cell_type": "markdown",
   "metadata": {},
   "source": [
    "Given a 32-bit signed integer, reverse digits of an integer.\n",
    "\n",
    "#### Example 1:\n",
    "\n",
    "Input: 123\n",
    "Output: 321\n",
    "#### Example 2:\n",
    "\n",
    "Input: -123\n",
    "Output: -321\n",
    "#### Example 3:\n",
    "\n",
    "Input: 120\n",
    "Output: 21\n",
    "#### Note:\n",
    "Assume we are dealing with an environment which could only store integers within the 32-bit signed integer range: [−231,  231 − 1]. For the purpose of this problem, assume that your function returns 0 when the reversed integer overflows."
   ]
  },
  {
   "cell_type": "code",
   "execution_count": 64,
   "metadata": {},
   "outputs": [],
   "source": [
    "#Runtime: 28 ms, faster than 74.59% of Python online submissions for Reverse Integer.\n",
    "#Memory Usage: 11.9 MB, less than 5.56% of Python online submissions for Reverse Integer.\n",
    "class Solution(object):\n",
    "    def reverse(self, x):\n",
    "        \"\"\"\n",
    "        :type x: int\n",
    "        :rtype: int\n",
    "        \"\"\"\n",
    "        tag = x > 0\n",
    "        x = abs(x)\n",
    "        nums = []\n",
    "        end = True\n",
    "        while( end ):\n",
    "            m, n = divmod(x, 10)\n",
    "            x = m\n",
    "            nums.append(n)\n",
    "            end = False if m == 0 else True\n",
    "        res = 0\n",
    "        n = len(nums)\n",
    "        power = 0\n",
    "        for _ in range(n):\n",
    "            tail = nums.pop()\n",
    "            res += tail * (10 ** (power))\n",
    "            power += 1\n",
    "        if res > 0x7fffffff:\n",
    "            return 0\n",
    "        return res if tag else -res"
   ]
  },
  {
   "cell_type": "code",
   "execution_count": 65,
   "metadata": {},
   "outputs": [],
   "source": [
    "sol = Solution()"
   ]
  },
  {
   "cell_type": "code",
   "execution_count": 66,
   "metadata": {},
   "outputs": [
    {
     "data": {
      "text/plain": [
       "0"
      ]
     },
     "execution_count": 66,
     "metadata": {},
     "output_type": "execute_result"
    }
   ],
   "source": [
    "sol.reverse(1534236469)"
   ]
  },
  {
   "cell_type": "code",
   "execution_count": 54,
   "metadata": {},
   "outputs": [
    {
     "data": {
      "text/plain": [
       "2147483648"
      ]
     },
     "execution_count": 54,
     "metadata": {},
     "output_type": "execute_result"
    }
   ],
   "source": [
    "2**31"
   ]
  },
  {
   "cell_type": "code",
   "execution_count": null,
   "metadata": {},
   "outputs": [],
   "source": []
  }
 ],
 "metadata": {
  "kernelspec": {
   "display_name": "Python 2",
   "language": "python",
   "name": "python2"
  },
  "language_info": {
   "codemirror_mode": {
    "name": "ipython",
    "version": 2
   },
   "file_extension": ".py",
   "mimetype": "text/x-python",
   "name": "python",
   "nbconvert_exporter": "python",
   "pygments_lexer": "ipython2",
   "version": "2.7.10rc1"
  }
 },
 "nbformat": 4,
 "nbformat_minor": 2
}
