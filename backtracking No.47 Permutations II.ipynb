{
 "cells": [
  {
   "cell_type": "markdown",
   "metadata": {},
   "source": [
    "Given a collection of numbers that might contain duplicates, return all possible unique permutations.\n",
    "\n",
    "Example:\n",
    "\n",
    "Input: [1,1,2]\n",
    "Output:\n",
    "[\n",
    "  [1,1,2],\n",
    "  [1,2,1],\n",
    "  [2,1,1]\n",
    "]"
   ]
  },
  {
   "cell_type": "code",
   "execution_count": 32,
   "metadata": {},
   "outputs": [],
   "source": [
    "# Runtime: 504 ms, faster than 17.17% of Python online submissions for Permutations II.\n",
    "# Memory Usage: 12.3 MB, less than 9.90% of Python online submissions for Permutations II.\n",
    "class Solution(object):\n",
    "    def permuteUnique(self, nums):\n",
    "        \"\"\"\n",
    "        :type nums: List[int]\n",
    "        :rtype: List[List[int]]\n",
    "        \"\"\"\n",
    "        s = set()\n",
    "        res = []\n",
    "        n = len(nums)\n",
    "        used = [False]*n\n",
    "        \n",
    "        def dfs(res, cur_list, nums, s_idx, used):\n",
    "            if len(cur_list) >= n:\n",
    "                if str(cur_list) not in s:\n",
    "                    res.append(cur_list[:])\n",
    "                    s.add(str(cur_list))\n",
    "                return \n",
    "            \n",
    "            for i in range(s_idx, n):\n",
    "                if not used[i]:\n",
    "                    used[i] = True\n",
    "                    cur_list.append(nums[i])\n",
    "                    dfs(res, cur_list, nums, 0, used)\n",
    "                    cur_list.pop()\n",
    "                    used[i] = False\n",
    "                    \n",
    "        dfs(res, [], nums, 0, used)\n",
    "        return res\n",
    "                    "
   ]
  },
  {
   "cell_type": "code",
   "execution_count": 33,
   "metadata": {},
   "outputs": [
    {
     "data": {
      "text/plain": [
       "[[1, 1, 2], [1, 2, 1], [2, 1, 1]]"
      ]
     },
     "execution_count": 33,
     "metadata": {},
     "output_type": "execute_result"
    }
   ],
   "source": [
    "sol = Solution()\n",
    "sol.permuteUnique([1,1,2])"
   ]
  },
  {
   "cell_type": "code",
   "execution_count": null,
   "metadata": {},
   "outputs": [],
   "source": []
  }
 ],
 "metadata": {
  "kernelspec": {
   "display_name": "Python 3",
   "language": "python",
   "name": "python3"
  },
  "language_info": {
   "codemirror_mode": {
    "name": "ipython",
    "version": 3
   },
   "file_extension": ".py",
   "mimetype": "text/x-python",
   "name": "python",
   "nbconvert_exporter": "python",
   "pygments_lexer": "ipython3",
   "version": "3.7.3"
  }
 },
 "nbformat": 4,
 "nbformat_minor": 2
}
