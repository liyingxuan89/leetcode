{
 "cells": [
  {
   "cell_type": "markdown",
   "metadata": {},
   "source": [
    "Given a 2D board and a word, find if the word exists in the grid.\n",
    "\n",
    "The word can be constructed from letters of sequentially adjacent cell, where \"adjacent\" cells are those horizontally or vertically neighboring. The same letter cell may not be used more than once.\n",
    "\n",
    "Example:\n",
    "\n",
    "board =\n",
    "[\n",
    "  ['A','B','C','E'],\n",
    "  ['S','F','C','S'],\n",
    "  ['A','D','E','E']\n",
    "]\n",
    "\n",
    "Given word = \"ABCCED\", return true.\n",
    "Given word = \"SEE\", return true.\n",
    "Given word = \"ABCB\", return false."
   ]
  },
  {
   "cell_type": "code",
   "execution_count": 5,
   "metadata": {},
   "outputs": [],
   "source": [
    "# Runtime: 364 ms, faster than 40.79% of Python online submissions for Word Search.\n",
    "# Memory Usage: 16.4 MB, less than 20.00% of Python online submissions for Word Search.\n",
    "\n",
    "class Solution(object):\n",
    "    def exist(self, board, word):\n",
    "        if not board:\n",
    "            return False\n",
    "        for i in range(len(board)):\n",
    "            for j in range(len(board[0])):\n",
    "                if self.dfs(board, i, j, word):\n",
    "                    return True\n",
    "        return False\n",
    "\n",
    "    # check whether can find word, start at (i,j) position\n",
    "    def dfs(self, board, i, j, word):\n",
    "        if len(word) == 0:  # all the characters are checked\n",
    "            return True\n",
    "        if i < 0 or i >= len(board) or j < 0 or j >= len(board[0]) or word[0] != board[i][j]:\n",
    "            return False\n",
    "        tmp = board[i][j]  # first character is found, check the remaining part\n",
    "        board[i][j] = \"#\"  # avoid visit agian\n",
    "        # check whether can find \"word\" along one direction\n",
    "        res = self.dfs(board, i + 1, j, word[1:]) or self.dfs(board, i - 1, j, word[1:]) \\\n",
    "              or self.dfs(board, i, j + 1, word[1:]) or self.dfs(board, i, j - 1, word[1:])\n",
    "        board[i][j] = tmp\n",
    "        return res"
   ]
  },
  {
   "cell_type": "code",
   "execution_count": 6,
   "metadata": {},
   "outputs": [
    {
     "data": {
      "text/plain": [
       "True"
      ]
     },
     "execution_count": 6,
     "metadata": {},
     "output_type": "execute_result"
    }
   ],
   "source": [
    "sol = Solution()\n",
    "board =[['A','B','C','E'], ['S','F','C','S'],['A','D','E','E']]\n",
    "sol.exist(board, \"ABCCED\")"
   ]
  },
  {
   "cell_type": "code",
   "execution_count": 4,
   "metadata": {},
   "outputs": [],
   "source": [
    "# Runtime: 136 ms, faster than 99.92% of Python online submissions for Word Search.\n",
    "# Memory Usage: 15.7 MB, less than 51.11% of Python online submissions for Word Search.\n",
    "from collections import Counter, defaultdict\n",
    "\n",
    "class Solution(object):\n",
    "    def exist(self, board, word):\n",
    "        if not board:\n",
    "            return False\n",
    "        if not word:\n",
    "            return True\n",
    "\n",
    "        def dfs(board, i, j, word, seen):\n",
    "            if not word:\n",
    "                return True\n",
    "            if not (0 <= i < len(board) and 0 <= j < len(board[0])):\n",
    "                return False\n",
    "            if board[i][j] != word[0]:\n",
    "                return False\n",
    "            if (i, j) in seen:\n",
    "                return False\n",
    "            seen.add((i, j))\n",
    "            if dfs(board, i+1, j, word[1:], seen) or dfs(board, i-1, j, word[1:], seen) or \\\n",
    "            dfs(board, i, j+1, word[1:], seen) or dfs(board, i, j-1, word[1:], seen):\n",
    "                    return True\n",
    "            seen.discard((i, j))\n",
    "            return False\n",
    "\n",
    "        counter_word = Counter(word)\n",
    "        d = defaultdict(list)\n",
    "        for i in range(len(board)):\n",
    "            for j in range(len(board[0])):\n",
    "                d[board[i][j]].append((i, j))\n",
    "\n",
    "        for letter, count in counter_word.items():\n",
    "            if count > len(d[letter]):\n",
    "                return False\n",
    "\n",
    "        seen = set()\n",
    "        for i, j in d[word[0]]:\n",
    "            if dfs(board, i, j, word, seen):\n",
    "                return True\n",
    "        return False"
   ]
  },
  {
   "cell_type": "code",
   "execution_count": null,
   "metadata": {},
   "outputs": [],
   "source": []
  }
 ],
 "metadata": {
  "kernelspec": {
   "display_name": "Python 3",
   "language": "python",
   "name": "python3"
  },
  "language_info": {
   "codemirror_mode": {
    "name": "ipython",
    "version": 3
   },
   "file_extension": ".py",
   "mimetype": "text/x-python",
   "name": "python",
   "nbconvert_exporter": "python",
   "pygments_lexer": "ipython3",
   "version": "3.7.3"
  }
 },
 "nbformat": 4,
 "nbformat_minor": 2
}
