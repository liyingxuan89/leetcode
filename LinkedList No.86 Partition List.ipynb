{
 "cells": [
  {
   "cell_type": "markdown",
   "metadata": {},
   "source": [
    "Given a linked list and a value x, partition it such that all nodes less than x come before nodes greater than or equal to x.\n",
    "\n",
    "You should preserve the original relative order of the nodes in each of the two partitions.\n",
    "\n",
    "Example:\n",
    "\n",
    "Input: head = 1->4->3->2->5->2, x = 3\n",
    "Output: 1->2->2->4->3->5"
   ]
  },
  {
   "cell_type": "code",
   "execution_count": 3,
   "metadata": {},
   "outputs": [],
   "source": [
    "# Definition for singly-linked list.\n",
    "class ListNode(object):\n",
    "    def __init__(self, x):\n",
    "        self.val = x\n",
    "        self.next = None\n",
    "        \n",
    "# Runtime: 16 ms, faster than 98.32% of Python online submissions for Partition List.\n",
    "# Memory Usage: 11.8 MB, less than 48.55% of Python online submissions for Partition List.\n",
    "class Solution(object):\n",
    "    def partition(self, head, x):\n",
    "        \"\"\"\n",
    "        :type head: ListNode\n",
    "        :type x: int\n",
    "        :rtype: ListNode\n",
    "        \"\"\"\n",
    "        if not head:\n",
    "            return head\n",
    "        less = ListNode(-1)\n",
    "        greater = ListNode(-1)\n",
    "        l, g = less, greater\n",
    "        \n",
    "        while head:\n",
    "            if head.val < x:\n",
    "                l.next = ListNode(head.val)\n",
    "                l = l.next\n",
    "            else:\n",
    "                g.next = ListNode(head.val)\n",
    "                g = g.next\n",
    "            head = head.next\n",
    "        l.next = greater.next\n",
    "        return less.next"
   ]
  },
  {
   "cell_type": "code",
   "execution_count": 10,
   "metadata": {},
   "outputs": [
    {
     "name": "stdout",
     "output_type": "stream",
     "text": [
      "1\n",
      "2\n",
      "2\n",
      "4\n",
      "3\n",
      "5\n"
     ]
    }
   ],
   "source": [
    "a = ListNode(1)\n",
    "a.next = ListNode(4)\n",
    "a.next.next = ListNode(3)\n",
    "a.next.next.next = ListNode(2)\n",
    "a.next.next.next.next = ListNode(5)\n",
    "a.next.next.next.next.next = ListNode(2)\n",
    "sol = Solution()\n",
    "b = sol.partition(a, 3)\n",
    "while(b):\n",
    "    print(b.val)\n",
    "    b = b.next"
   ]
  },
  {
   "cell_type": "code",
   "execution_count": 9,
   "metadata": {},
   "outputs": [],
   "source": [
    "# less memory\n",
    "class Solution(object):\n",
    "    def partition(self, head, x):\n",
    "        \"\"\"\n",
    "        :type head: ListNode\n",
    "        :type x: int\n",
    "        :rtype: ListNode\n",
    "        \"\"\"\n",
    "        \n",
    "        if head == None or head.next == None:\n",
    "            return head\n",
    "        \n",
    "        h1, h2 = ListNode(0), ListNode(0)\n",
    "        res = h1\n",
    "        mid = h2\n",
    "        curr = head\n",
    "        \n",
    "        while curr != None:\n",
    "            if curr.val < x:\n",
    "                h1.next = curr\n",
    "                h1 = curr\n",
    "            else:\n",
    "                h2.next = curr\n",
    "                h2 = curr\n",
    "            curr = curr.next\n",
    "        \n",
    "        h2.next = None\n",
    "        h1.next = mid.next\n",
    "        return res.next"
   ]
  },
  {
   "cell_type": "code",
   "execution_count": null,
   "metadata": {},
   "outputs": [],
   "source": []
  }
 ],
 "metadata": {
  "kernelspec": {
   "display_name": "Python 3",
   "language": "python",
   "name": "python3"
  },
  "language_info": {
   "codemirror_mode": {
    "name": "ipython",
    "version": 3
   },
   "file_extension": ".py",
   "mimetype": "text/x-python",
   "name": "python",
   "nbconvert_exporter": "python",
   "pygments_lexer": "ipython3",
   "version": "3.7.3"
  }
 },
 "nbformat": 4,
 "nbformat_minor": 2
}
