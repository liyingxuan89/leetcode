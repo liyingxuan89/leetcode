{
 "cells": [
  {
   "cell_type": "markdown",
   "metadata": {},
   "source": [
    "Given an array of integers with possible duplicates, randomly output the index of a given target number. You can assume that the given target number must exist in the array.\n",
    "\n",
    "Note:\n",
    "The array size can be very large. Solution that uses too much extra space will not pass the judge.\n",
    "\n",
    "Example:\n",
    "\n",
    "int[] nums = new int[] {1,2,3,3,3};\n",
    "Solution solution = new Solution(nums);\n",
    "\n",
    "// pick(3) should return either index 2, 3, or 4 randomly. Each index should have equal probability of returning.\n",
    "solution.pick(3);\n",
    "\n",
    "// pick(1) should return 0. Since in the array only nums[0] is equal to 1.\n",
    "solution.pick(1);"
   ]
  },
  {
   "cell_type": "code",
   "execution_count": null,
   "metadata": {},
   "outputs": [],
   "source": [
    "# Runtime: 268 ms, faster than 63.96% of Python online submissions for Random Pick Index.\n",
    "# Memory Usage: 15.5 MB, less than 80.00% of Python online submissions for Random Pick Index.\n",
    "\n",
    "class Solution(object):\n",
    "\n",
    "    def __init__(self, nums):\n",
    "        \"\"\"\n",
    "        :type nums: List[int]\n",
    "        \"\"\"\n",
    "        self.l = nums\n",
    "\n",
    "    def pick(self, target):\n",
    "        \"\"\"\n",
    "        :type target: int\n",
    "        :rtype: int\n",
    "        \"\"\"\n",
    "        idx = [i for i in range(len(self.l)) if self.l[i]==target]\n",
    "        return random.sample(idx, 1)[0]\n",
    "\n",
    "\n",
    "# Your Solution object will be instantiated and called as such:\n",
    "# obj = Solution(nums)\n",
    "# param_1 = obj.pick(target)"
   ]
  }
 ],
 "metadata": {
  "kernelspec": {
   "display_name": "Python 3",
   "language": "python",
   "name": "python3"
  },
  "language_info": {
   "codemirror_mode": {
    "name": "ipython",
    "version": 3
   },
   "file_extension": ".py",
   "mimetype": "text/x-python",
   "name": "python",
   "nbconvert_exporter": "python",
   "pygments_lexer": "ipython3",
   "version": "3.7.3"
  }
 },
 "nbformat": 4,
 "nbformat_minor": 2
}
