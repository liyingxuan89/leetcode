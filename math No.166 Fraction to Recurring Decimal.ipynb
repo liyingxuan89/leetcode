{
 "cells": [
  {
   "cell_type": "markdown",
   "metadata": {},
   "source": [
    "Given two integers representing the numerator and denominator of a fraction, return the fraction in string format.\n",
    "\n",
    "If the fractional part is repeating, enclose the repeating part in parentheses.\n",
    "\n",
    "Example 1:\n",
    "\n",
    "Input: numerator = 1, denominator = 2\n",
    "Output: \"0.5\"\n",
    "Example 2:\n",
    "\n",
    "Input: numerator = 2, denominator = 1\n",
    "Output: \"2\"\n",
    "Example 3:\n",
    "\n",
    "Input: numerator = 2, denominator = 3\n",
    "Output: \"0.(6)\""
   ]
  },
  {
   "cell_type": "code",
   "execution_count": 1,
   "metadata": {},
   "outputs": [],
   "source": [
    "\n",
    "# Runtime: 16 ms, faster than 79.90% of Python online submissions for Fraction to Recurring Decimal.\n",
    "# Memory Usage: 11.8 MB, less than 75.00% of Python online submissions for Fraction to Recurring Decimal.\n",
    "class Solution(object):\n",
    "    def fractionToDecimal(self, numerator, denominator):\n",
    "        \"\"\"\n",
    "        :type numerator: int\n",
    "        :type denominator: int\n",
    "        :rtype: str\n",
    "        \"\"\"\n",
    "        num, den = numerator, denominator\n",
    "        if not den:  # denominator is 0\n",
    "            return \n",
    "        if not num:  # numerator is 0\n",
    "            return \"0\"\n",
    "        res = []\n",
    "        if (num < 0) ^ (den < 0):\n",
    "            res.append(\"-\")  # add the sign\n",
    "        num, den = abs(num), abs(den)\n",
    "        res.append(str(num//den))\n",
    "        rmd = num % den\n",
    "        if not rmd:\n",
    "            return \"\".join(res)  # only has integral part\n",
    "        res.append(\".\")  # has frational part\n",
    "        dic = {}\n",
    "        while rmd:\n",
    "            if rmd in dic:   # the remainder recurs\n",
    "                res.insert(dic[rmd], \"(\")\n",
    "                res.append(\")\")\n",
    "                break\n",
    "            dic[rmd] = len(res) \n",
    "            div, rmd = divmod(rmd*10, den)\n",
    "            res.append(str(div))\n",
    "        return \"\".join(res)"
   ]
  },
  {
   "cell_type": "code",
   "execution_count": null,
   "metadata": {},
   "outputs": [],
   "source": []
  }
 ],
 "metadata": {
  "kernelspec": {
   "display_name": "Python 3",
   "language": "python",
   "name": "python3"
  },
  "language_info": {
   "codemirror_mode": {
    "name": "ipython",
    "version": 3
   },
   "file_extension": ".py",
   "mimetype": "text/x-python",
   "name": "python",
   "nbconvert_exporter": "python",
   "pygments_lexer": "ipython3",
   "version": "3.7.3"
  }
 },
 "nbformat": 4,
 "nbformat_minor": 2
}
