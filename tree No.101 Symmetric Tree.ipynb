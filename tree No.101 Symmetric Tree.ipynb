{
 "cells": [
  {
   "cell_type": "markdown",
   "metadata": {},
   "source": [
    "Given a binary tree, check whether it is a mirror of itself (ie, symmetric around its center).\n",
    "\n",
    "For example, this binary tree [1,2,2,3,4,4,3] is symmetric:\n",
    "\n",
    "    1\n",
    "   / \\\n",
    "  2   2\n",
    " / \\ / \\\n",
    "3  4 4  3\n",
    " \n",
    "\n",
    "But the following [1,2,2,null,3,null,3] is not:\n",
    "\n",
    "    1\n",
    "   / \\\n",
    "  2   2\n",
    "   \\   \\\n",
    "   3    3\n",
    " \n",
    "\n",
    "Note:\n",
    "Bonus points if you could solve it both recursively and iteratively."
   ]
  },
  {
   "cell_type": "code",
   "execution_count": 1,
   "metadata": {},
   "outputs": [],
   "source": [
    "# Definition for a binary tree node.\n",
    "# class TreeNode(object):\n",
    "#     def __init__(self, x):\n",
    "#         self.val = x\n",
    "#         self.left = None\n",
    "#         self.right = None\n",
    "\n",
    "# Runtime: 20 ms, faster than 100.00% of Python online submissions for Symmetric Tree.\n",
    "# Memory Usage: 12.2 MB, less than 5.08% of Python online submissions for Symmetric Tree.\n",
    "class Solution(object):\n",
    "    def isSymmetric(self, root):\n",
    "        \"\"\"\n",
    "        :type root: TreeNode\n",
    "        :rtype: bool\n",
    "        \"\"\"\n",
    "        if not root:\n",
    "            return True\n",
    "        return self.mySymmetric(root.left, root.right)\n",
    "    \n",
    "    def mySymmetric(self, left, right):\n",
    "        if left is not None and right is not None and left.val == right.val:\n",
    "            return self.mySymmetric(left.left, right.right) and self.mySymmetric(left.right, right.left)\n",
    "        elif left == None and right == None:\n",
    "            return True\n",
    "        return False"
   ]
  },
  {
   "cell_type": "code",
   "execution_count": null,
   "metadata": {},
   "outputs": [],
   "source": [
    "# Runtime: 16 ms, faster than 100.00% of Python online submissions for Symmetric Tree.\n",
    "# Memory Usage: 12.1 MB, less than 5.08% of Python online submissions for Symmetric Tree.\n",
    "class Solution(object):\n",
    "    def isSymmetric(self, root):\n",
    "        \"\"\"\n",
    "        :type root: TreeNode\n",
    "        :rtype: bool\n",
    "        \"\"\"\n",
    "        if root is None:\n",
    "            return True\n",
    "        stack = []\n",
    "        stack.append(root.left)\n",
    "        stack.append(root.right)\n",
    "        while(stack):\n",
    "            r = stack.pop()\n",
    "            l = stack.pop()\n",
    "            if l is None and r is None:\n",
    "                continue\n",
    "            if l is None or r is None or l.val != r.val:\n",
    "                return False\n",
    "            stack.append(l.left)\n",
    "            stack.append(r.right)\n",
    "            stack.append(l.right)\n",
    "            stack.append(r.left)\n",
    "        return True\n",
    "    "
   ]
  }
 ],
 "metadata": {
  "kernelspec": {
   "display_name": "Python 3",
   "language": "python",
   "name": "python3"
  },
  "language_info": {
   "codemirror_mode": {
    "name": "ipython",
    "version": 3
   },
   "file_extension": ".py",
   "mimetype": "text/x-python",
   "name": "python",
   "nbconvert_exporter": "python",
   "pygments_lexer": "ipython3",
   "version": "3.5.1"
  }
 },
 "nbformat": 4,
 "nbformat_minor": 2
}
