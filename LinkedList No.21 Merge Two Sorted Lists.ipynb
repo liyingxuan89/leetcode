{
 "cells": [
  {
   "cell_type": "markdown",
   "metadata": {},
   "source": [
    "Merge two sorted linked lists and return it as a new list. The new list should be made by splicing together the nodes of the first two lists.\n",
    "\n",
    "Example:\n",
    "\n",
    "Input: 1->2->4, 1->3->4\n",
    "Output: 1->1->2->3->4->4"
   ]
  },
  {
   "cell_type": "code",
   "execution_count": 14,
   "metadata": {},
   "outputs": [],
   "source": [
    "# Definition for singly-linked list.\n",
    "class ListNode(object):\n",
    "    def __init__(self, x):\n",
    "        self.val = x\n",
    "        self.next = None\n",
    "\n",
    "# Runtime: 24 ms, faster than 94.46% of Python online submissions for Merge Two Sorted Lists.\n",
    "# Memory Usage: 11.9 MB, less than 31.78% of Python online submissions for Merge Two Sorted Lists.\n",
    "class Solution(object):\n",
    "    def mergeTwoLists(self, l1, l2):\n",
    "        \"\"\"\n",
    "        :type l1: ListNode\n",
    "        :type l2: ListNode\n",
    "        :rtype: ListNode\n",
    "        \"\"\"\n",
    "        new_list = ListNode(-1)\n",
    "        head = new_list\n",
    "        while l1 and l2:\n",
    "            if l1.val <= l2.val:\n",
    "                head.next = ListNode(l1.val) \n",
    "                head = head.next\n",
    "                l1 = l1.next\n",
    "            else:\n",
    "                head.next = ListNode(l2.val)\n",
    "                head = head.next\n",
    "                l2 = l2.next\n",
    "        if l1:\n",
    "            head.next = l1\n",
    "        if l2:\n",
    "            head.next = l2\n",
    "        \n",
    "        return new_list.next"
   ]
  },
  {
   "cell_type": "code",
   "execution_count": 17,
   "metadata": {},
   "outputs": [],
   "source": [
    "a = None\n",
    "# a = ListNode(1)\n",
    "# a.next = ListNode(2)\n",
    "# a.next.next = ListNode(3)\n",
    "b = ListNode(1)\n",
    "b.next = ListNode(3)\n",
    "b.next.next =ListNode(4)"
   ]
  },
  {
   "cell_type": "code",
   "execution_count": 18,
   "metadata": {},
   "outputs": [
    {
     "name": "stdout",
     "output_type": "stream",
     "text": [
      "1\n",
      "3\n",
      "4\n"
     ]
    }
   ],
   "source": [
    "sol = Solution()\n",
    "c = sol.mergeTwoLists(a, b)\n",
    "while(c):\n",
    "    print(c.val)\n",
    "    c = c.next"
   ]
  },
  {
   "cell_type": "code",
   "execution_count": null,
   "metadata": {},
   "outputs": [],
   "source": [
    "# Runtime: 16 ms, faster than 99.42% of Python online submissions for Merge Two Sorted Lists.\n",
    "# Memory Usage: 11.7 MB, less than 70.41% of Python online submissions for Merge Two Sorted Lists.\n",
    "class Solution(object):\n",
    "    def mergeTwoLists(self, l1, l2):\n",
    "        \"\"\"\n",
    "        :type l1: ListNode\n",
    "        :type l2: ListNode\n",
    "        :rtype: ListNode\n",
    "        \"\"\"\n",
    "        \n",
    "        curr = dummy = ListNode(0)\n",
    "        while l1 and l2:\n",
    "            if l1.val < l2.val:\n",
    "                curr.next = l1\n",
    "                l1 = l1.next\n",
    "            else:\n",
    "                curr.next = l2\n",
    "                l2 = l2.next\n",
    "            curr = curr.next\n",
    "        curr.next = l1 or l2\n",
    "        return dummy.next"
   ]
  }
 ],
 "metadata": {
  "kernelspec": {
   "display_name": "Python 3",
   "language": "python",
   "name": "python3"
  },
  "language_info": {
   "codemirror_mode": {
    "name": "ipython",
    "version": 3
   },
   "file_extension": ".py",
   "mimetype": "text/x-python",
   "name": "python",
   "nbconvert_exporter": "python",
   "pygments_lexer": "ipython3",
   "version": "3.7.3"
  }
 },
 "nbformat": 4,
 "nbformat_minor": 2
}
