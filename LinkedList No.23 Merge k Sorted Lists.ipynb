{
 "cells": [
  {
   "cell_type": "markdown",
   "metadata": {},
   "source": [
    "Merge k sorted linked lists and return it as one sorted list. Analyze and describe its complexity.\n",
    "\n",
    "Example:\n",
    "\n",
    "Input:\n",
    "[\n",
    "  1->4->5,\n",
    "  1->3->4,\n",
    "  2->6\n",
    "]\n",
    "Output: 1->1->2->3->4->4->5->6"
   ]
  },
  {
   "cell_type": "code",
   "execution_count": 7,
   "metadata": {},
   "outputs": [],
   "source": [
    "# Definition for singly-linked list.\n",
    "class ListNode(object):\n",
    "    def __init__(self, x):\n",
    "        self.val = x\n",
    "        self.next = None\n",
    "\n",
    "#Runtime: 4408 ms, faster than 9.50% of Python online submissions for Merge k Sorted Lists.\n",
    "#Memory Usage: 17.5 MB, less than 55.97% of Python online submissions for Merge k Sorted Lists.\n",
    "class Solution(object):\n",
    "    def mergeKLists(self, lists):\n",
    "        \"\"\"\n",
    "        :type lists: List[ListNode]\n",
    "        :rtype: ListNode\n",
    "        \"\"\"\n",
    "        if not lists:\n",
    "            return None\n",
    "        if len(lists) == 1:\n",
    "            return lists[0]\n",
    "        res = lists[0]\n",
    "        # 每次融合两个Ｌｉｓｔ\n",
    "        for i in range(1, len(lists)):\n",
    "            res = self.merge2Link(res, lists[i])\n",
    "        return res\n",
    "    # 解构为多个ｍｅｒｇｅ　two List\n",
    "    def merge2Link(self, l1, l2):\n",
    "        dummy = ListNode(-1)\n",
    "        cur = dummy\n",
    "        while l1 and l2:\n",
    "            if l1.val <= l2.val:\n",
    "                cur.next = l1\n",
    "                l1 = l1.next\n",
    "            else:\n",
    "                cur.next = l2\n",
    "                l2 = l2.next\n",
    "            cur = cur.next\n",
    "        cur.next= l1 or l2\n",
    "        return dummy.next"
   ]
  },
  {
   "cell_type": "code",
   "execution_count": 9,
   "metadata": {},
   "outputs": [],
   "source": [
    "a = ListNode(1)\n",
    "a.next = ListNode(4)\n",
    "a.next.next = ListNode(5)\n",
    "b = ListNode(1)\n",
    "b.next = ListNode(3)\n",
    "b.next.next = ListNode(4)\n",
    "c = ListNode(2)\n",
    "c.next= ListNode(6)\n",
    "lists = [a, b, c]"
   ]
  },
  {
   "cell_type": "code",
   "execution_count": 10,
   "metadata": {},
   "outputs": [
    {
     "name": "stdout",
     "output_type": "stream",
     "text": [
      "1\n",
      "1\n",
      "2\n",
      "3\n",
      "4\n",
      "4\n",
      "5\n",
      "6\n"
     ]
    }
   ],
   "source": [
    "sol = Solution()\n",
    "r = sol.mergeKLists(lists)\n",
    "while(r):\n",
    "    print(r.val)\n",
    "    r = r.next"
   ]
  },
  {
   "cell_type": "code",
   "execution_count": 7,
   "metadata": {},
   "outputs": [],
   "source": [
    "class ListNode(object):\n",
    "    def __init__(self, x):\n",
    "        self.val = x\n",
    "        self.next = None\n",
    "        \n",
    "# Runtime: 72 ms, faster than 99.43% of Python online submissions for Merge k Sorted Lists.\n",
    "# Memory Usage: 17.6 MB, less than 41.26% of Python online submissions for Merge k Sorted Lists.\n",
    "import heapq        \n",
    "class Solution(object):\n",
    "    def mergeKLists(self, lists):\n",
    "        \"\"\"\n",
    "        :type lists: List[ListNode]\n",
    "        :rtype: ListNode\n",
    "        \"\"\"\n",
    "        # 记录虚拟头结点和一个移动节点\n",
    "        dummy = ListNode(-1)\n",
    "        cur = dummy\n",
    "        heap = []\n",
    "        # 利用最大堆，保存各个list个最大值和其index\n",
    "        for i, node in enumerate(lists):\n",
    "            if not node:\n",
    "                continue\n",
    "            heap.append((node.val, i))     \n",
    "        heapq.heapify(heap)\n",
    "        # 遍历堆\n",
    "        while heap:\n",
    "            # 从堆中找到最大List的index，进行连接操作\n",
    "            _, i = heapq.heappop(heap)\n",
    "            cur.next = lists[i]\n",
    "            lists[i] = lists[i].next\n",
    "            cur = cur.next\n",
    "            # 将缺失的List补充进来\n",
    "            if lists[i]:\n",
    "                heapq.heappush(heap, (lists[i].val, i))\n",
    "        return dummy.next\n",
    "        "
   ]
  },
  {
   "cell_type": "code",
   "execution_count": null,
   "metadata": {},
   "outputs": [],
   "source": []
  }
 ],
 "metadata": {
  "kernelspec": {
   "display_name": "Python 3",
   "language": "python",
   "name": "python3"
  },
  "language_info": {
   "codemirror_mode": {
    "name": "ipython",
    "version": 3
   },
   "file_extension": ".py",
   "mimetype": "text/x-python",
   "name": "python",
   "nbconvert_exporter": "python",
   "pygments_lexer": "ipython3",
   "version": "3.7.3"
  }
 },
 "nbformat": 4,
 "nbformat_minor": 2
}
