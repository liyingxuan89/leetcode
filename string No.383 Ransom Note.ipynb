{
 "cells": [
  {
   "cell_type": "markdown",
   "metadata": {},
   "source": [
    "Given an arbitrary ransom note string and another string containing letters from all the magazines, write a function that will return true if the ransom note can be constructed from the magazines ; otherwise, it will return false.\n",
    "\n",
    "Each letter in the magazine string can only be used once in your ransom note.\n",
    "\n",
    "Note:\n",
    "You may assume that both strings contain only lowercase letters.\n",
    "\n",
    "#### canConstruct(\"a\", \"b\") -> false\n",
    "\n",
    "#### canConstruct(\"aa\", \"ab\") -> false\n",
    "\n",
    "#### canConstruct(\"aa\", \"aab\") -> true"
   ]
  },
  {
   "cell_type": "code",
   "execution_count": 9,
   "metadata": {
    "collapsed": true
   },
   "outputs": [],
   "source": [
    "#Runtime: 52 ms, faster than 79.20% of Python online submissions for Ransom Note.\n",
    "#Memory Usage: 11.2 MB, less than 21.43% of Python online submissions for Ransom Note.\n",
    "class Solution(object):\n",
    "    def canConstruct(self, ransomNote, magazine):\n",
    "        \"\"\"\n",
    "        :type ransomNote: str\n",
    "        :type magazine: str\n",
    "        :rtype: bool\n",
    "        \"\"\"\n",
    "        dic1 = {}\n",
    "        dic2 = {x:0 for x in ransomNote}\n",
    "        for each in ransomNote:\n",
    "            if each in dic1:\n",
    "                dic1[each] += 1\n",
    "            else:\n",
    "                dic1[each] = 1\n",
    "        for each in magazine:\n",
    "            if each in dic2:\n",
    "                dic2[each] += 1\n",
    "            else:\n",
    "                dic2[each] = 1\n",
    "        for each_letter in dic1:\n",
    "            if dic2[each_letter] < dic1[each_letter]:\n",
    "                return False\n",
    "        return True"
   ]
  },
  {
   "cell_type": "code",
   "execution_count": 10,
   "metadata": {
    "collapsed": false
   },
   "outputs": [],
   "source": [
    "sol = Solution()"
   ]
  },
  {
   "cell_type": "code",
   "execution_count": 14,
   "metadata": {
    "collapsed": false
   },
   "outputs": [
    {
     "data": {
      "text/plain": [
       "False"
      ]
     },
     "execution_count": 14,
     "metadata": {},
     "output_type": "execute_result"
    }
   ],
   "source": [
    "sol.canConstruct(\"aabd\",\"abgeoafea\")"
   ]
  },
  {
   "cell_type": "code",
   "execution_count": 15,
   "metadata": {
    "collapsed": true
   },
   "outputs": [],
   "source": [
    "#24ms,与方法一思路一致，使用内建函数\n",
    "class Solution2(object):\n",
    "    def canConstruct(self, ransomNote, magazine):\n",
    "        for i in set(ransomNote):\n",
    "            if ransomNote.count(i) > magazine.count(i):\n",
    "                return False\n",
    "        return True"
   ]
  },
  {
   "cell_type": "code",
   "execution_count": null,
   "metadata": {
    "collapsed": true
   },
   "outputs": [],
   "source": []
  }
 ],
 "metadata": {
  "kernelspec": {
   "display_name": "Python 3",
   "language": "python",
   "name": "python3"
  },
  "language_info": {
   "codemirror_mode": {
    "name": "ipython",
    "version": 3
   },
   "file_extension": ".py",
   "mimetype": "text/x-python",
   "name": "python",
   "nbconvert_exporter": "python",
   "pygments_lexer": "ipython3",
   "version": "3.5.1"
  }
 },
 "nbformat": 4,
 "nbformat_minor": 1
}
