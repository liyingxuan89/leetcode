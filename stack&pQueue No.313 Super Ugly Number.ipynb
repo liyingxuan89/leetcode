{
 "cells": [
  {
   "cell_type": "markdown",
   "metadata": {},
   "source": [
    "Write a program to find the nth super ugly number.\n",
    "\n",
    "Super ugly numbers are positive numbers whose all prime factors are in the given prime list primes of size k.\n",
    "\n",
    "Example:\n",
    "\n",
    "Input: n = 12, primes = [2,7,13,19]\n",
    "Output: 32 \n",
    "Explanation: [1,2,4,7,8,13,14,16,19,26,28,32] is the sequence of the first 12 \n",
    "             super ugly numbers given primes = [2,7,13,19] of size 4.\n",
    "Note:\n",
    "\n",
    "1 is a super ugly number for any given primes.\n",
    "The given numbers in primes are in ascending order.\n",
    "0 < k ≤ 100, 0 < n ≤ 106, 0 < primes[i] < 1000.\n",
    "The nth super ugly number is guaranteed to fit in a 32-bit signed integer."
   ]
  },
  {
   "cell_type": "code",
   "execution_count": 15,
   "metadata": {},
   "outputs": [],
   "source": [
    "# 同264题方法类似，产生丑数\n",
    "# Runtime: 324 ms, faster than 95.29% of Python online submissions for Super Ugly Number.\n",
    "# Memory Usage: 14.6 MB, less than 94.49% of Python online submissions for Super Ugly Number.\n",
    "\n",
    "class Solution(object):\n",
    "    def nthSuperUglyNumber(self, n, primes):\n",
    "        \"\"\"\n",
    "        :type n: int\n",
    "        :type primes: List[int]\n",
    "        :rtype: int\n",
    "        \"\"\"\n",
    "        \n",
    "        ugly = [1] * n\n",
    "        idx = [-1] * len(primes)\n",
    "        candidates =  [1] * len(primes)\n",
    "        i = 0\n",
    "        while i < n:\n",
    "            min_val = min(candidates)\n",
    "            ugly[i] = min_val\n",
    "            for j in range(len(candidates)):\n",
    "                if candidates[j] == min_val:\n",
    "                    idx[j] += 1\n",
    "                    candidates[j] = ugly[idx[j]]*primes[j]\n",
    "            i += 1\n",
    "        #print(ugly)\n",
    "        return ugly[n-1]\n",
    "                "
   ]
  },
  {
   "cell_type": "code",
   "execution_count": 16,
   "metadata": {},
   "outputs": [
    {
     "name": "stdout",
     "output_type": "stream",
     "text": [
      "[1, 2, 4, 7, 8, 13, 14, 16, 19, 26, 28, 32]\n"
     ]
    },
    {
     "data": {
      "text/plain": [
       "32"
      ]
     },
     "execution_count": 16,
     "metadata": {},
     "output_type": "execute_result"
    }
   ],
   "source": [
    "sol = Solution()\n",
    "sol.nthSuperUglyNumber(12, [2,7,13,19])"
   ]
  },
  {
   "cell_type": "code",
   "execution_count": null,
   "metadata": {},
   "outputs": [],
   "source": []
  }
 ],
 "metadata": {
  "kernelspec": {
   "display_name": "Python 3",
   "language": "python",
   "name": "python3"
  },
  "language_info": {
   "codemirror_mode": {
    "name": "ipython",
    "version": 3
   },
   "file_extension": ".py",
   "mimetype": "text/x-python",
   "name": "python",
   "nbconvert_exporter": "python",
   "pygments_lexer": "ipython3",
   "version": "3.7.3"
  }
 },
 "nbformat": 4,
 "nbformat_minor": 2
}
