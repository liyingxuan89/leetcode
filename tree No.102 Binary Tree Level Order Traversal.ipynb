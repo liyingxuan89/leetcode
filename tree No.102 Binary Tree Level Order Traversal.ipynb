{
 "cells": [
  {
   "cell_type": "markdown",
   "metadata": {},
   "source": [
    "Given a binary tree, return the level order traversal of its nodes' values. (ie, from left to right, level by level).\n",
    "\n",
    "For example:\n",
    "Given binary tree [3,9,20,null,null,15,7],\n",
    "    3\n",
    "   / \\\n",
    "  9  20\n",
    "    /  \\\n",
    "   15   7\n",
    "return its level order traversal as:\n",
    "[\n",
    "  [3],\n",
    "  [9,20],\n",
    "  [15,7]\n",
    "]"
   ]
  },
  {
   "cell_type": "code",
   "execution_count": 2,
   "metadata": {},
   "outputs": [],
   "source": [
    "# Definition for a binary tree node.\n",
    "class TreeNode(object):\n",
    "    def __init__(self, x):\n",
    "        self.val = x\n",
    "        self.left = None\n",
    "        self.right = None\n",
    "\n",
    "# Runtime: 32 ms, faster than 24.41% of Python online submissions for Binary Tree Level Order Traversal.\n",
    "# Memory Usage: 12.1 MB, less than 5.04% of Python online submissions for Binary Tree Level Order Traversal.\n",
    "class Solution(object):\n",
    "    def levelOrder(self, root):\n",
    "        \"\"\"\n",
    "        :type root: TreeNode\n",
    "        :rtype: List[List[int]]\n",
    "        \"\"\"\n",
    "        if not root:\n",
    "            return []\n",
    "        res = []\n",
    "        level = [root]\n",
    "        while root and level:\n",
    "            res.append([node.val for node in level])\n",
    "            level = [leaf for node in level for leaf in (node.left, node.right) if leaf]\n",
    "        return res"
   ]
  },
  {
   "cell_type": "code",
   "execution_count": 3,
   "metadata": {},
   "outputs": [],
   "source": [
    "sol = Solution()"
   ]
  },
  {
   "cell_type": "code",
   "execution_count": 4,
   "metadata": {},
   "outputs": [],
   "source": [
    "Rt = TreeNode(1)\n",
    "Rt.left = TreeNode(2)\n",
    "Rt.left.left = TreeNode(4)\n",
    "Rt.left.right = TreeNode(5)\n",
    "Rt.left.right.left = TreeNode(7)\n",
    "Rt.left.right.right = TreeNode(8)\n",
    "Rt.right = TreeNode(3)\n",
    "Rt.right.left = TreeNode(6)\n",
    "res = sol.levelOrder(Rt)"
   ]
  },
  {
   "cell_type": "code",
   "execution_count": 5,
   "metadata": {},
   "outputs": [
    {
     "data": {
      "text/plain": [
       "[[1], [2, 3], [4, 5, 6], [7, 8]]"
      ]
     },
     "execution_count": 5,
     "metadata": {},
     "output_type": "execute_result"
    }
   ],
   "source": [
    "res"
   ]
  },
  {
   "cell_type": "code",
   "execution_count": 10,
   "metadata": {},
   "outputs": [],
   "source": [
    "# Runtime: 24 ms, faster than 99.98% of Python online submissions for Binary Tree Level Order Traversal.\n",
    "# Memory Usage: 12.2 MB, less than 5.04% of Python online submissions for Binary Tree Level Order Traversal.\n",
    "class Solution(object):\n",
    "    def levelOrder(self, root):\n",
    "        \"\"\"\n",
    "        :type root: TreeNode\n",
    "        :rtype: List[List[int]]\n",
    "        \"\"\"\n",
    "        if not root:\n",
    "            return []\n",
    "        res = []\n",
    "        stack = []\n",
    "        stack.insert(0, (root, 0))\n",
    "        while(stack):\n",
    "            node,level = stack.pop()\n",
    "            if len(res) == level:\n",
    "                res.append([])\n",
    "            res[level] += [node.val]\n",
    "            if node.left:\n",
    "                stack.insert(0, (node.left, level+1))\n",
    "            if node.right:\n",
    "                stack.insert(0, (node.right, level+1))\n",
    "        return res"
   ]
  },
  {
   "cell_type": "code",
   "execution_count": 11,
   "metadata": {},
   "outputs": [],
   "source": [
    "sol = Solution()"
   ]
  },
  {
   "cell_type": "code",
   "execution_count": 12,
   "metadata": {},
   "outputs": [
    {
     "data": {
      "text/plain": [
       "[[1], [2, 3], [4, 5, 6], [7, 8]]"
      ]
     },
     "execution_count": 12,
     "metadata": {},
     "output_type": "execute_result"
    }
   ],
   "source": [
    "Rt = TreeNode(1)\n",
    "Rt.left = TreeNode(2)\n",
    "Rt.left.left = TreeNode(4)\n",
    "Rt.left.right = TreeNode(5)\n",
    "Rt.left.right.left = TreeNode(7)\n",
    "Rt.left.right.right = TreeNode(8)\n",
    "Rt.right = TreeNode(3)\n",
    "Rt.right.left = TreeNode(6)\n",
    "res = sol.levelOrder(Rt)\n",
    "res"
   ]
  },
  {
   "cell_type": "code",
   "execution_count": null,
   "metadata": {},
   "outputs": [],
   "source": []
  }
 ],
 "metadata": {
  "kernelspec": {
   "display_name": "Python 3",
   "language": "python",
   "name": "python3"
  },
  "language_info": {
   "codemirror_mode": {
    "name": "ipython",
    "version": 3
   },
   "file_extension": ".py",
   "mimetype": "text/x-python",
   "name": "python",
   "nbconvert_exporter": "python",
   "pygments_lexer": "ipython3",
   "version": "3.5.1"
  }
 },
 "nbformat": 4,
 "nbformat_minor": 2
}
