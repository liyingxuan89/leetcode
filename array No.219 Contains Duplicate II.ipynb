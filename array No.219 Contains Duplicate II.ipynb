{
 "cells": [
  {
   "cell_type": "markdown",
   "metadata": {},
   "source": [
    "Given an array of integers and an integer k, find out whether there are two distinct indices i and j in the array such that nums[i] = nums[j] and the absolute difference between i and j is at most k.\n",
    "\n",
    "#### Example 1:\n",
    "\n",
    "Input: nums = [1,2,3,1], k = 3\n",
    "Output: true\n",
    "\n",
    "#### Example 2:\n",
    "\n",
    "Input: nums = [1,0,1,1], k = 1\n",
    "Output: true\n",
    "\n",
    "#### Example 3:\n",
    "\n",
    "Input: nums = [1,2,3,1,2,3], k = 2\n",
    "Output: false"
   ]
  },
  {
   "cell_type": "code",
   "execution_count": 34,
   "metadata": {
    "collapsed": true
   },
   "outputs": [],
   "source": [
    "#time limit exceeded\n",
    "class Solution(object):\n",
    "    def containsNearbyDuplicate(self, nums, k):\n",
    "        \"\"\"\n",
    "        :type nums: List[int]\n",
    "        :type k: int\n",
    "        :rtype: bool\n",
    "        \"\"\"\n",
    "        n = len(nums)\n",
    "        # 排除空数组\n",
    "        if n == 0:\n",
    "            return False\n",
    "        # 遍历从0到n-1,n-1是因为两元素需要不同\n",
    "        i = 0\n",
    "        while(i<n-1):\n",
    "            #形成滑动窗口\n",
    "            for j in range(1,k+1):\n",
    "                #判断尾点是否越界\n",
    "                if i+j < n and nums[i] == nums[i+j]:\n",
    "                    return True\n",
    "                j += 1\n",
    "            i += 1\n",
    "        return False"
   ]
  },
  {
   "cell_type": "code",
   "execution_count": 35,
   "metadata": {
    "collapsed": true
   },
   "outputs": [],
   "source": [
    "sol = Solution()"
   ]
  },
  {
   "cell_type": "code",
   "execution_count": 37,
   "metadata": {
    "collapsed": false
   },
   "outputs": [
    {
     "data": {
      "text/plain": [
       "True"
      ]
     },
     "execution_count": 37,
     "metadata": {},
     "output_type": "execute_result"
    }
   ],
   "source": [
    "sol.containsNearbyDuplicate([1,2,1,3],4)"
   ]
  },
  {
   "cell_type": "code",
   "execution_count": 53,
   "metadata": {
    "collapsed": true
   },
   "outputs": [],
   "source": [
    "#Runtime: 40 ms, faster than 40.81% of Python online submissions for Contains Duplicate II.\n",
    "#Memory Usage: 15.5 MB, less than 21.67% of Python online submissions for Contains Duplicate II.\n",
    "class Solution2(object):\n",
    "    def containsNearbyDuplicate(self, nums, k):\n",
    "        \"\"\"\n",
    "        :type nums: List[int]\n",
    "        :type k: int\n",
    "        :rtype: bool\n",
    "        \"\"\"\n",
    "        n = len(nums)\n",
    "        dic = {}\n",
    "        for i in range(n):\n",
    "            #如果有，一定是相邻的两个元素\n",
    "            if nums[i] in dic and i <= dic[nums[i]]+k:\n",
    "                return True\n",
    "            else:\n",
    "                dic[nums[i]] = i\n",
    "        return False\n",
    "        "
   ]
  },
  {
   "cell_type": "code",
   "execution_count": 54,
   "metadata": {
    "collapsed": true
   },
   "outputs": [],
   "source": [
    "sol2 = Solution2()"
   ]
  },
  {
   "cell_type": "code",
   "execution_count": 58,
   "metadata": {
    "collapsed": false
   },
   "outputs": [
    {
     "data": {
      "text/plain": [
       "True"
      ]
     },
     "execution_count": 58,
     "metadata": {},
     "output_type": "execute_result"
    }
   ],
   "source": [
    "sol2.containsNearbyDuplicate([1,0,1,1],1)"
   ]
  },
  {
   "cell_type": "code",
   "execution_count": 59,
   "metadata": {
    "collapsed": true
   },
   "outputs": [],
   "source": [
    "#在遍历列表的时候维护一个集合\n",
    "#集合中保存当前元素前面的k个元素\n",
    "#每次访问一个元素时判断是否在该集合中出现过\n",
    "#Runtime: 32 ms, faster than 70.33% of Python online submissions for Contains Duplicate II.\n",
    "#Memory Usage: 15.1 MB, less than 46.67% of Python online submissions for Contains Duplicate II.\n",
    "class Solution3(object):\n",
    "    def containsNearbyDuplicate(self, nums, k):\n",
    "        \"\"\"\n",
    "        :type nums: List[int]\n",
    "        :type k: int\n",
    "        :rtype: bool\n",
    "        \"\"\"\n",
    "        m = set()\n",
    "        for i in range(len(nums)):\n",
    "            if i > k:\n",
    "                m.discard(nums[i-k-1])\n",
    "            if nums[i] in m:\n",
    "                return True\n",
    "            else:\n",
    "                m.add(nums[i])\n",
    "        return False"
   ]
  },
  {
   "cell_type": "code",
   "execution_count": 60,
   "metadata": {
    "collapsed": true
   },
   "outputs": [],
   "source": [
    "sol3 = Solution3()"
   ]
  },
  {
   "cell_type": "code",
   "execution_count": 61,
   "metadata": {
    "collapsed": false
   },
   "outputs": [
    {
     "data": {
      "text/plain": [
       "True"
      ]
     },
     "execution_count": 61,
     "metadata": {},
     "output_type": "execute_result"
    }
   ],
   "source": [
    "sol3.containsNearbyDuplicate([1,0,1,1],1)"
   ]
  },
  {
   "cell_type": "code",
   "execution_count": null,
   "metadata": {
    "collapsed": true
   },
   "outputs": [],
   "source": []
  }
 ],
 "metadata": {
  "kernelspec": {
   "display_name": "Python 3",
   "language": "python",
   "name": "python3"
  },
  "language_info": {
   "codemirror_mode": {
    "name": "ipython",
    "version": 3
   },
   "file_extension": ".py",
   "mimetype": "text/x-python",
   "name": "python",
   "nbconvert_exporter": "python",
   "pygments_lexer": "ipython3",
   "version": "3.5.1"
  }
 },
 "nbformat": 4,
 "nbformat_minor": 1
}
