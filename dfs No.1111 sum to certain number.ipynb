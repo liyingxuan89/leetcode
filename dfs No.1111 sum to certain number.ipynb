{
 "cells": [
  {
   "cell_type": "code",
   "execution_count": 50,
   "metadata": {},
   "outputs": [],
   "source": [
    "class Solution:\n",
    "    \n",
    "    def operation_combination(self, n):\n",
    "        res = []\n",
    "        self.dfs(\"\", n, res)\n",
    "        return res\n",
    "    \n",
    "    def dfs(self, cur_path, n, res):\n",
    "        if n == 0:\n",
    "            res.append(cur_path[1:])\n",
    "            return\n",
    "        \n",
    "        for symble in \"+-*/\":\n",
    "            self.dfs(cur_path+\" \"+symble, n-1, res)\n",
    "            \n",
    "    def solve(self, input_list, target):\n",
    "        result = []\n",
    "        operations = self.operation_combination(len(input_list)-1)\n",
    "        for each in operations:\n",
    "            op = each.split()\n",
    "            equation = [str(input_list[i])+op[i] for i in range(len(op))] + [str(input_list[-1])]\n",
    "            equation = \"\".join(equation)\n",
    "            value = eval(equation)\n",
    "            if value == target:\n",
    "                result.append(equation)\n",
    "        return result"
   ]
  },
  {
   "cell_type": "code",
   "execution_count": 51,
   "metadata": {},
   "outputs": [
    {
     "data": {
      "text/plain": [
       "['1+2+3*4-5+6-7-8',\n",
       " '1+2+3*4*5-6-7*8',\n",
       " '1+2-3-4*5+6+7+8',\n",
       " '1+2-3*4+5+6+7-8',\n",
       " '1+2*3+4-5-6-7+8',\n",
       " '1+2*3-4+5-6+7-8',\n",
       " '1+2/3/4+5/6+7-8',\n",
       " '1-2+3+4*5-6-7-8',\n",
       " '1-2+3*4-5-6-7+8',\n",
       " '1-2-3*4+5-6+7+8',\n",
       " '1-2-3*4*5+6+7*8',\n",
       " '1-2*3+4-5+6-7+8',\n",
       " '1-2*3-4+5+6+7-8',\n",
       " '1-2/3/4-5/6-7+8',\n",
       " '1*2+3-4+5-6-7+8',\n",
       " '1*2+3-4-5+6+7-8',\n",
       " '1*2-3+4+5-6+7-8',\n",
       " '1*2-3/4+5-6*7/8',\n",
       " '1/2+3/4+5-6*7/8']"
      ]
     },
     "execution_count": 51,
     "metadata": {},
     "output_type": "execute_result"
    }
   ],
   "source": [
    "sol = Solution()\n",
    "sol.solve([1,2,3,4,5,6,7,8])"
   ]
  },
  {
   "cell_type": "code",
   "execution_count": null,
   "metadata": {},
   "outputs": [],
   "source": []
  }
 ],
 "metadata": {
  "kernelspec": {
   "display_name": "Python 3",
   "language": "python",
   "name": "python3"
  },
  "language_info": {
   "codemirror_mode": {
    "name": "ipython",
    "version": 3
   },
   "file_extension": ".py",
   "mimetype": "text/x-python",
   "name": "python",
   "nbconvert_exporter": "python",
   "pygments_lexer": "ipython3",
   "version": "3.7.3"
  }
 },
 "nbformat": 4,
 "nbformat_minor": 2
}
