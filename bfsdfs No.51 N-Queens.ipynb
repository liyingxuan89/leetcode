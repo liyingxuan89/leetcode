{
 "cells": [
  {
   "cell_type": "markdown",
   "metadata": {},
   "source": [
    "The n-queens puzzle is the problem of placing n queens on an n×n chessboard such that no two queens attack each other.\n",
    "\n",
    "![avatar](https://assets.leetcode.com/uploads/2018/10/12/8-queens.png)\n",
    "\n",
    "Given an integer n, return all distinct solutions to the n-queens puzzle.\n",
    "\n",
    "Each solution contains a distinct board configuration of the n-queens' placement, where 'Q' and '.' both indicate a queen and an empty space respectively.\n",
    "\n",
    "Example:\n",
    "\n",
    "Input: 4\n",
    "Output: [\n",
    " [\".Q..\", \n",
    "  \"...Q\",\n",
    "  \"Q...\",\n",
    "  \"..Q.\"],\n",
    "\n",
    " [\"..Q.\",  \n",
    "  \"Q...\",\n",
    "  \"...Q\",\n",
    "  \".Q..\"]\n",
    "]\n",
    "Explanation: There exist two distinct solutions to the 4-queens puzzle as shown above."
   ]
  },
  {
   "cell_type": "code",
   "execution_count": 9,
   "metadata": {},
   "outputs": [],
   "source": [
    "# Runtime: 32 ms, faster than 99.93% of Python online submissions for N-Queens.\n",
    "# Memory Usage: 12.2 MB, less than 16.85% of Python online submissions for N-Queens.\n",
    "class Solution(object):\n",
    "    def solveNQueens(self, n):\n",
    "        \"\"\"\n",
    "        :type n: int\n",
    "        :rtype: List[List[str]]\n",
    "        \"\"\"\n",
    "        res = []\n",
    "        def dfs(queens, xy_diff, xy_sum):\n",
    "            x = len(queens)\n",
    "            if x == n:\n",
    "                res.append(queens)\n",
    "                return\n",
    "            for y in range(n):\n",
    "                if y not in queens and x-y not in xy_diff and x+y not in xy_sum:\n",
    "                    dfs(queens+[y], xy_diff+[x-y], xy_sum+[x+y])\n",
    "        \n",
    "        dfs([],[],[])\n",
    "        def putQueen(res):\n",
    "            result = []\n",
    "            for each in res:\n",
    "                board = [\"....\" for i in range(n)]\n",
    "                for i in range(n):\n",
    "                    board[i] = \".\"*each[i] + \"Q\" + \".\"*(n-each[i]-1)\n",
    "#                 idx = list(zip([0,1,2,3],each))\n",
    "#                 for x, y in idx:\n",
    "#                     board[x][y] = \"Q\"\n",
    "                result.append(board)\n",
    "            return result\n",
    "        result = putQueen(res)\n",
    "        return result"
   ]
  },
  {
   "cell_type": "code",
   "execution_count": 10,
   "metadata": {},
   "outputs": [
    {
     "data": {
      "text/plain": [
       "[['.Q..', '...Q', 'Q...', '..Q.'], ['..Q.', 'Q...', '...Q', '.Q..']]"
      ]
     },
     "execution_count": 10,
     "metadata": {},
     "output_type": "execute_result"
    }
   ],
   "source": [
    "sol = Solution()\n",
    "sol.solveNQueens(4)"
   ]
  },
  {
   "cell_type": "code",
   "execution_count": 6,
   "metadata": {},
   "outputs": [
    {
     "data": {
      "text/plain": [
       "[(0, 1), (1, 3), (2, 0), (3, 2)]"
      ]
     },
     "execution_count": 6,
     "metadata": {},
     "output_type": "execute_result"
    }
   ],
   "source": [
    "list(zip([0,1,2,3],[1,3,0,2]))"
   ]
  },
  {
   "cell_type": "code",
   "execution_count": null,
   "metadata": {},
   "outputs": [],
   "source": []
  }
 ],
 "metadata": {
  "kernelspec": {
   "display_name": "Python 3",
   "language": "python",
   "name": "python3"
  },
  "language_info": {
   "codemirror_mode": {
    "name": "ipython",
    "version": 3
   },
   "file_extension": ".py",
   "mimetype": "text/x-python",
   "name": "python",
   "nbconvert_exporter": "python",
   "pygments_lexer": "ipython3",
   "version": "3.7.3"
  }
 },
 "nbformat": 4,
 "nbformat_minor": 2
}
