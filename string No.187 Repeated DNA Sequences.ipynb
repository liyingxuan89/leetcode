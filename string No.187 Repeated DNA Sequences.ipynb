{
 "cells": [
  {
   "cell_type": "markdown",
   "metadata": {},
   "source": [
    "All DNA is composed of a series of nucleotides abbreviated as A, C, G, and T, for example: \"ACGAATTCCG\". When studying DNA, it is sometimes useful to identify repeated sequences within the DNA.\n",
    "\n",
    "Write a function to find all the 10-letter-long sequences (substrings) that occur more than once in a DNA molecule.\n",
    "\n",
    "Example:\n",
    "\n",
    "Input: s = \"AAAAACCCCCAAAAACCCCCCAAAAAGGGTTT\"\n",
    "\n",
    "Output: [\"AAAAACCCCC\", \"CCCCCAAAAA\"]"
   ]
  },
  {
   "cell_type": "code",
   "execution_count": 7,
   "metadata": {},
   "outputs": [],
   "source": [
    "# Runtime: 52 ms, faster than 84.23% of Python online submissions for Repeated DNA Sequences.\n",
    "# Memory Usage: 33 MB, less than 33.33% of Python online submissions for Repeated DNA Sequences.\n",
    "class Solution(object):\n",
    "    def findRepeatedDnaSequences(self, s):\n",
    "        \"\"\"\n",
    "        :type s: str\n",
    "        :rtype: List[str]\n",
    "        \"\"\"\n",
    "        d = {}\n",
    "        for i in range(len(s)-10+1):\n",
    "            if s[i:i+10] in d:\n",
    "                d[s[i:i+10]] += 1\n",
    "            else:\n",
    "                d[s[i:i+10]] = 1\n",
    "        print(d)\n",
    "        return [x for x in d if d[x]>1]"
   ]
  },
  {
   "cell_type": "code",
   "execution_count": 9,
   "metadata": {},
   "outputs": [
    {
     "name": "stdout",
     "output_type": "stream",
     "text": [
      "{'AAAAACCCCC': 2, 'AAAACCCCCA': 1, 'AAACCCCCAA': 1, 'AACCCCCAAA': 1, 'ACCCCCAAAA': 1, 'CCCCCAAAAA': 2, 'CCCCAAAAAC': 1, 'CCCAAAAACC': 1, 'CCAAAAACCC': 1, 'CAAAAACCCC': 1, 'AAAACCCCCC': 1, 'AAACCCCCCA': 1, 'AACCCCCCAA': 1, 'ACCCCCCAAA': 1, 'CCCCCCAAAA': 1, 'CCCCAAAAAG': 1, 'CCCAAAAAGG': 1, 'CCAAAAAGGG': 1, 'CAAAAAGGGT': 1, 'AAAAAGGGTT': 1, 'AAAAGGGTTT': 1}\n"
     ]
    },
    {
     "data": {
      "text/plain": [
       "['AAAAACCCCC', 'CCCCCAAAAA']"
      ]
     },
     "execution_count": 9,
     "metadata": {},
     "output_type": "execute_result"
    }
   ],
   "source": [
    "sol = Solution()\n",
    "sol.findRepeatedDnaSequences(s = \"AAAAACCCCCAAAAACCCCCCAAAAAGGGTTT\")"
   ]
  },
  {
   "cell_type": "code",
   "execution_count": null,
   "metadata": {},
   "outputs": [],
   "source": []
  }
 ],
 "metadata": {
  "kernelspec": {
   "display_name": "Python 3",
   "language": "python",
   "name": "python3"
  },
  "language_info": {
   "codemirror_mode": {
    "name": "ipython",
    "version": 3
   },
   "file_extension": ".py",
   "mimetype": "text/x-python",
   "name": "python",
   "nbconvert_exporter": "python",
   "pygments_lexer": "ipython3",
   "version": "3.7.3"
  }
 },
 "nbformat": 4,
 "nbformat_minor": 2
}
