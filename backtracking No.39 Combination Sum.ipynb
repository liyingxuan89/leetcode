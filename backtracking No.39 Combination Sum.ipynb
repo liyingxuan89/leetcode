{
 "cells": [
  {
   "cell_type": "markdown",
   "metadata": {},
   "source": [
    "\n",
    "Given a set of candidate numbers (candidates) (without duplicates) and a target number (target), find all unique combinations in candidates where the candidate numbers sums to target.\n",
    "\n",
    "The same repeated number may be chosen from candidates unlimited number of times.\n",
    "\n",
    "Note:\n",
    "\n",
    "All numbers (including target) will be positive integers.\n",
    "The solution set must not contain duplicate combinations.\n",
    "Example 1:\n",
    "\n",
    "Input: candidates = [2,3,6,7], target = 7,\n",
    "A solution set is:\n",
    "[\n",
    "  [7],\n",
    "  [2,2,3]\n",
    "]\n",
    "Example 2:\n",
    "\n",
    "Input: candidates = [2,3,5], target = 8,\n",
    "A solution set is:\n",
    "[\n",
    "  [2,2,2,2],\n",
    "  [2,3,3],\n",
    "  [3,5]\n",
    "]"
   ]
  },
  {
   "cell_type": "code",
   "execution_count": 6,
   "metadata": {},
   "outputs": [],
   "source": [
    "# 数字都是正数\n",
    "# Runtime: 268 ms, faster than 8.22% of Python online submissions for Combination Sum.\n",
    "# Memory Usage: 12.1 MB, less than 9.97% of Python online submissions for Combination Sum.\n",
    "class Solution(object):\n",
    "\n",
    "    def combinationSum(self, candidates, target):\n",
    "        \"\"\"\n",
    "        :type candidates: List[int]\n",
    "        :type target: int\n",
    "        :rtype: List[List[int]]\n",
    "        \"\"\"\n",
    "        if not candidates or not target:\n",
    "            return []\n",
    "        self.res = []\n",
    "        self.candis = candidates[:]\n",
    "        self.target = target\n",
    "        factors = []\n",
    "        for each in candidates:\n",
    "            factors.append(target//each)\n",
    "        num_factors = len(factors)\n",
    "\n",
    "        def dfs(candidates, target, factors, cur_list):\n",
    "            if target < 0:\n",
    "                return \n",
    "            if len(cur_list) == num_factors:\n",
    "                if target == 0:\n",
    "                    self.res.append(cur_list[:])\n",
    "                return\n",
    "            factor = factors[0]\n",
    "            for i in range(factor+1):\n",
    "                cur_list.append(i)\n",
    "                dfs(candidates[1:], target-candidates[0]*i, factors[1:], cur_list)\n",
    "                cur_list.pop()\n",
    "        dfs(candidates, target, factors, [])\n",
    "\n",
    "        def generate_list(candidates, list):\n",
    "            l = []\n",
    "            for i, each in enumerate(list):\n",
    "                while(each):\n",
    "                    l.append(candidates[i])\n",
    "                    each -= 1\n",
    "            return l\n",
    "\n",
    "        result = []\n",
    "        for list in self.res:\n",
    "            result.append(generate_list(self.candis, list))\n",
    "\n",
    "        return result"
   ]
  },
  {
   "cell_type": "code",
   "execution_count": 7,
   "metadata": {},
   "outputs": [
    {
     "data": {
      "text/plain": [
       "[[23, 23, 23],\n",
       " [20, 20, 29],\n",
       " [28, 41],\n",
       " [46, 23],\n",
       " [37, 32],\n",
       " [40, 29],\n",
       " [33, 36],\n",
       " [26, 20, 23],\n",
       " [26, 43],\n",
       " [24, 20, 25],\n",
       " [24, 45],\n",
       " [49, 20],\n",
       " [22, 47],\n",
       " [22, 24, 23],\n",
       " [22, 22, 25]]"
      ]
     },
     "execution_count": 7,
     "metadata": {},
     "output_type": "execute_result"
    }
   ],
   "source": [
    "sol = Solution()\n",
    "sol.combinationSum([48,22,49,24,26,47,33,40,37,39,31,46,36,43,45,34,28,20,29,25,41,32,23],69)"
   ]
  },
  {
   "cell_type": "code",
   "execution_count": 14,
   "metadata": {},
   "outputs": [],
   "source": [
    "# 改进\n",
    "# Runtime: 40 ms, faster than 98.75% of Python online submissions for Combination Sum.\n",
    "# Memory Usage: 11.8 MB, less than 41.03% of Python online submissions for Combination Sum.\n",
    "class Solution(object):\n",
    "\n",
    "    def combinationSum(self, candidates, target):\n",
    "        \"\"\"\n",
    "        :type candidates: List[int]\n",
    "        :type target: int\n",
    "        :rtype: List[List[int]]\n",
    "        \"\"\"\n",
    "        result = []\n",
    "        candidates.sort()\n",
    "        if not candidates:\n",
    "            return []\n",
    "        def dfs(cur_list, target):\n",
    "            if target == 0:\n",
    "                result.append(cur_list)\n",
    "                return \n",
    "            \n",
    "            for each in candidates:\n",
    "                if each > target:\n",
    "                    break\n",
    "                if cur_list and each < cur_list[-1]:\n",
    "                    continue\n",
    "                dfs(cur_list+[each], target-each)\n",
    "        dfs([], target)\n",
    "        return result"
   ]
  },
  {
   "cell_type": "code",
   "execution_count": 15,
   "metadata": {},
   "outputs": [
    {
     "data": {
      "text/plain": [
       "[[20, 20, 29],\n",
       " [20, 23, 26],\n",
       " [20, 24, 25],\n",
       " [20, 49],\n",
       " [22, 22, 25],\n",
       " [22, 23, 24],\n",
       " [22, 47],\n",
       " [23, 23, 23],\n",
       " [23, 46],\n",
       " [24, 45],\n",
       " [26, 43],\n",
       " [28, 41],\n",
       " [29, 40],\n",
       " [32, 37],\n",
       " [33, 36]]"
      ]
     },
     "execution_count": 15,
     "metadata": {},
     "output_type": "execute_result"
    }
   ],
   "source": [
    "sol = Solution()\n",
    "sol.combinationSum([48,22,49,24,26,47,33,40,37,39,31,46,36,43,45,34,28,20,29,25,41,32,23],69)"
   ]
  },
  {
   "cell_type": "code",
   "execution_count": null,
   "metadata": {},
   "outputs": [],
   "source": []
  }
 ],
 "metadata": {
  "kernelspec": {
   "display_name": "Python 3",
   "language": "python",
   "name": "python3"
  },
  "language_info": {
   "codemirror_mode": {
    "name": "ipython",
    "version": 3
   },
   "file_extension": ".py",
   "mimetype": "text/x-python",
   "name": "python",
   "nbconvert_exporter": "python",
   "pygments_lexer": "ipython3",
   "version": "3.7.3"
  }
 },
 "nbformat": 4,
 "nbformat_minor": 2
}
