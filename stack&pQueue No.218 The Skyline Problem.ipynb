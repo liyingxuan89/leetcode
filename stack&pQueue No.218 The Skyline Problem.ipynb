{
 "cells": [
  {
   "cell_type": "markdown",
   "metadata": {},
   "source": [
    "A city's skyline is the outer contour of the silhouette formed by all the buildings in that city when viewed from a distance. Now suppose you are given the locations and height of all the buildings as shown on a cityscape photo (Figure A), write a program to output the skyline formed by these buildings collectively (Figure B).\n",
    "\n",
    "![avatar](https://assets.leetcode.com/uploads/2018/10/22/skyline1.png)\n",
    "![avatar](https://assets.leetcode.com/uploads/2018/10/22/skyline2.png)\n",
    "\n",
    "Buildings  Skyline Contour\n",
    "The geometric information of each building is represented by a triplet of integers [Li, Ri, Hi], where Li and Ri are the x coordinates of the left and right edge of the ith building, respectively, and Hi is its height. It is guaranteed that 0 ≤ Li, Ri ≤ INT_MAX, 0 < Hi ≤ INT_MAX, and Ri - Li > 0. You may assume all buildings are perfect rectangles grounded on an absolutely flat surface at height 0.\n",
    "\n",
    "For instance, the dimensions of all buildings in Figure A are recorded as: [ [2 9 10], [3 7 15], [5 12 12], [15 20 10], [19 24 8] ] .\n",
    "\n",
    "The output is a list of \"key points\" (red dots in Figure B) in the format of [ [x1,y1], [x2, y2], [x3, y3], ... ] that uniquely defines a skyline. A key point is the left endpoint of a horizontal line segment. Note that the last key point, where the rightmost building ends, is merely used to mark the termination of the skyline, and always has zero height. Also, the ground in between any two adjacent buildings should be considered part of the skyline contour.\n",
    "\n",
    "For instance, the skyline in Figure B should be represented as:[ [2 10], [3 15], [7 12], [12 0], [15 10], [20 8], [24, 0] ].\n",
    "\n",
    "Notes:\n",
    "\n",
    "The number of buildings in any input list is guaranteed to be in the range [0, 10000].\n",
    "The input list is already sorted in ascending order by the left x position Li.\n",
    "The output list must be sorted by the x position.\n",
    "There must be no consecutive horizontal lines of equal height in the output skyline. For instance, [...[2 3], [4 5], [7 5], [11 5], [12 7]...] is not acceptable; the three lines of height 5 should be merged into one in the final output as such: [...[2 3], [4 5], [12 7], ...]"
   ]
  },
  {
   "cell_type": "code",
   "execution_count": 12,
   "metadata": {},
   "outputs": [],
   "source": [
    "# Runtime: 112 ms, faster than 58.64% of Python online submissions for The Skyline Problem.\n",
    "# Memory Usage: 16.2 MB, less than 93.90% of Python online submissions for The Skyline Problem.\n",
    "class Solution(object):\n",
    "    def getSkyline(self, buildings):\n",
    "        \"\"\"\n",
    "        :type buildings: List[List[int]]\n",
    "        :rtype: List[List[int]]\n",
    "        \"\"\"\n",
    "        if not buildings:\n",
    "            return []\n",
    "        if len(buildings) == 1:\n",
    "            return [[buildings[0][0], buildings[0][2]],[buildings[0][1], 0]]\n",
    "        mid = len(buildings)//2 if len(buildings)%2==0 else len(buildings)//2+1\n",
    "        left = self.getSkyline(buildings[:mid])\n",
    "        right = self.getSkyline(buildings[mid:])\n",
    "        return self.merge(left, right)\n",
    "    \n",
    "    def merge(self, l, r):\n",
    "        res = []\n",
    "        h1, h2 = 0, 0 # height on left or right side, initial them to zeros\n",
    "        while l and r:\n",
    "            # 画图绘出不同情况\n",
    "            if l[0][0] < r[0][0]:\n",
    "                pos, h1 = l.pop(0)\n",
    "                \n",
    "            elif l[0][0] > r[0][0]:\n",
    "                pos, h2 = r.pop(0)\n",
    "                \n",
    "            else:\n",
    "                pos, h1 = l.pop(0)\n",
    "                _, h2 = r.pop(0)\n",
    "            h = max(h1, h2)\n",
    "            if not res or h != res[-1][1]:\n",
    "                res.append([pos, h])\n",
    "        res += l or r\n",
    "        return res"
   ]
  },
  {
   "cell_type": "code",
   "execution_count": 13,
   "metadata": {},
   "outputs": [
    {
     "data": {
      "text/plain": [
       "[[2, 10], [3, 15], [7, 12], [12, 0], [15, 10], [20, 8], [24, 0]]"
      ]
     },
     "execution_count": 13,
     "metadata": {},
     "output_type": "execute_result"
    }
   ],
   "source": [
    "sol = Solution()\n",
    "sol.getSkyline([ [2,9,10], [3,7,15], [5,12,12], [15,20,10], [19,24,8] ])"
   ]
  },
  {
   "cell_type": "code",
   "execution_count": null,
   "metadata": {},
   "outputs": [],
   "source": []
  }
 ],
 "metadata": {
  "kernelspec": {
   "display_name": "Python 3",
   "language": "python",
   "name": "python3"
  },
  "language_info": {
   "codemirror_mode": {
    "name": "ipython",
    "version": 3
   },
   "file_extension": ".py",
   "mimetype": "text/x-python",
   "name": "python",
   "nbconvert_exporter": "python",
   "pygments_lexer": "ipython3",
   "version": "3.7.3"
  }
 },
 "nbformat": 4,
 "nbformat_minor": 2
}
