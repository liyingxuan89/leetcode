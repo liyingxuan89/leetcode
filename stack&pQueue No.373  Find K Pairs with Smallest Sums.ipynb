{
 "cells": [
  {
   "cell_type": "markdown",
   "metadata": {},
   "source": [
    "You are given two integer arrays nums1 and nums2 sorted in ascending order and an integer k.\n",
    "\n",
    "Define a pair (u,v) which consists of one element from the first array and one element from the second array.\n",
    "\n",
    "Find the k pairs (u1,v1),(u2,v2) ...(uk,vk) with the smallest sums.\n",
    "\n",
    "Example 1:\n",
    "\n",
    "Input: nums1 = [1,7,11], nums2 = [2,4,6], k = 3\n",
    "Output: [[1,2],[1,4],[1,6]] \n",
    "Explanation: The first 3 pairs are returned from the sequence: \n",
    "             [1,2],[1,4],[1,6],[7,2],[7,4],[11,2],[7,6],[11,4],[11,6]\n",
    "Example 2:\n",
    "\n",
    "Input: nums1 = [1,1,2], nums2 = [1,2,3], k = 2\n",
    "Output: [1,1],[1,1]\n",
    "Explanation: The first 2 pairs are returned from the sequence: \n",
    "             [1,1],[1,1],[1,2],[2,1],[1,2],[2,2],[1,3],[1,3],[2,3]\n",
    "Example 3:\n",
    "\n",
    "Input: nums1 = [1,2], nums2 = [3], k = 3\n",
    "Output: [1,3],[2,3]\n",
    "Explanation: All possible pairs are returned from the sequence: [1,3],[2,3]"
   ]
  },
  {
   "cell_type": "code",
   "execution_count": 4,
   "metadata": {},
   "outputs": [],
   "source": [
    "# Runtime: 780 ms, faster than 9.91% of Python online submissions for Find K Pairs with Smallest Sums.\n",
    "# Memory Usage: 74.4 MB, less than 5.31% of Python online submissions for Find K Pairs with Smallest Sums.\n",
    "class Solution(object):\n",
    "    def kSmallestPairs(self, nums1, nums2, k):\n",
    "        \"\"\"\n",
    "        :type nums1: List[int]\n",
    "        :type nums2: List[int]\n",
    "        :type k: int\n",
    "        :rtype: List[List[int]]\n",
    "        \"\"\"\n",
    "        nums = [[x,y,x+y] for x in nums1 for y in nums2]\n",
    "        nums.sort(key=lambda x:x[2])\n",
    "        res = [a[:2] for a in nums]\n",
    "        return res[:k]"
   ]
  },
  {
   "cell_type": "code",
   "execution_count": 5,
   "metadata": {},
   "outputs": [
    {
     "data": {
      "text/plain": [
       "[[1, 2], [1, 4], [1, 6]]"
      ]
     },
     "execution_count": 5,
     "metadata": {},
     "output_type": "execute_result"
    }
   ],
   "source": [
    "sol = Solution()\n",
    "sol.kSmallestPairs([1,7,11], [2,4,6], 3)"
   ]
  },
  {
   "cell_type": "code",
   "execution_count": null,
   "metadata": {},
   "outputs": [],
   "source": [
    "class Solution(object):\n",
    "    def kSmallestPairs(self, nums1, nums2, k):\n",
    "        \"\"\"\n",
    "        :type nums1: List[int]\n",
    "        :type nums2: List[int]\n",
    "        :type k: int\n",
    "        :rtype: List[List[int]]\n",
    "        \"\"\"\n",
    "        # https://discuss.leetcode.com/topic/50450/slow-1-liner-to-fast-solutions\n",
    "        queue = []\n",
    "        def push(i, j):\n",
    "            if i < len(nums1) and j < len(nums2):\n",
    "                heapq.heappush(queue, [nums1[i] + nums2[j], i, j])\n",
    "        push(0, 0)\n",
    "        pairs = []\n",
    "        while queue and len(pairs) < k:\n",
    "            _, i, j = heapq.heappop(queue)\n",
    "            pairs.append([nums1[i], nums2[j]])\n",
    "            push(i, j + 1)\n",
    "            if j == 0:\n",
    "                push(i + 1, 0)\n",
    "        return pairs"
   ]
  }
 ],
 "metadata": {
  "kernelspec": {
   "display_name": "Python 3",
   "language": "python",
   "name": "python3"
  },
  "language_info": {
   "codemirror_mode": {
    "name": "ipython",
    "version": 3
   },
   "file_extension": ".py",
   "mimetype": "text/x-python",
   "name": "python",
   "nbconvert_exporter": "python",
   "pygments_lexer": "ipython3",
   "version": "3.7.3"
  }
 },
 "nbformat": 4,
 "nbformat_minor": 2
}
