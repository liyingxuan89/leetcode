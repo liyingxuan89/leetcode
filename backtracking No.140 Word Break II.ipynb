{
 "cells": [
  {
   "cell_type": "markdown",
   "metadata": {},
   "source": [
    "Given a non-empty string s and a dictionary wordDict containing a list of non-empty words, add spaces in s to construct a sentence where each word is a valid dictionary word. Return all such possible sentences.\n",
    "\n",
    "Note:\n",
    "\n",
    "The same word in the dictionary may be reused multiple times in the segmentation.\n",
    "You may assume the dictionary does not contain duplicate words.\n",
    "Example 1:\n",
    "\n",
    "Input:\n",
    "s = \"catsanddog\"\n",
    "wordDict = [\"cat\", \"cats\", \"and\", \"sand\", \"dog\"]\n",
    "Output:\n",
    "[\n",
    "  \"cats and dog\",\n",
    "  \"cat sand dog\"\n",
    "]\n",
    "Example 2:\n",
    "\n",
    "Input:\n",
    "s = \"pineapplepenapple\"\n",
    "wordDict = [\"apple\", \"pen\", \"applepen\", \"pine\", \"pineapple\"]\n",
    "Output:\n",
    "[\n",
    "  \"pine apple pen apple\",\n",
    "  \"pineapple pen apple\",\n",
    "  \"pine applepen apple\"\n",
    "]\n",
    "Explanation: Note that you are allowed to reuse a dictionary word.\n",
    "Example 3:\n",
    "\n",
    "Input:\n",
    "s = \"catsandog\"\n",
    "wordDict = [\"cats\", \"dog\", \"sand\", \"and\", \"cat\"]\n",
    "Output:\n",
    "[]"
   ]
  },
  {
   "cell_type": "code",
   "execution_count": 47,
   "metadata": {},
   "outputs": [],
   "source": [
    "# Runtime: 172 ms, faster than 7.13% of Python online submissions for Word Break II.\n",
    "# Memory Usage: 12 MB, less than 66.67% of Python online submissions for Word Break II.\n",
    "class Solution(object):\n",
    "    def wordBreak(self, s, wordDict):\n",
    "        res = []\n",
    "        self.dfs(s, wordDict, '', res)\n",
    "        return res\n",
    "\n",
    "    def dfs(self, s, dic, path, res):\n",
    "\n",
    "        if self.check(s, dic): # prunning\n",
    "            if not s:\n",
    "                res.append(path[:-1])\n",
    "                return # backtracking\n",
    "            for i in range(1, len(s)+1):\n",
    "                if s[:i] in dic:\n",
    "                # dic.remove(s[:i])\n",
    "                    self.dfs(s[i:], dic, path+s[:i]+\" \", res)\n",
    "\n",
    "        \n",
    "    def check(self, s, dic):\n",
    "        dp = [False for i in range(len(s)+1)]\n",
    "        dp[0] = True\n",
    "        for i in range(1, len(s)+1):\n",
    "            for j in range(i):\n",
    "                if dp[j] and s[j:i] in dic:\n",
    "                    dp[i] = True\n",
    "        return dp[-1]\n",
    "        \n",
    "                \n"
   ]
  },
  {
   "cell_type": "code",
   "execution_count": 48,
   "metadata": {},
   "outputs": [
    {
     "data": {
      "text/plain": [
       "['cat sand dog', 'cats and dog']"
      ]
     },
     "execution_count": 48,
     "metadata": {},
     "output_type": "execute_result"
    }
   ],
   "source": [
    "sol = Solution()\n",
    "sol.wordBreak(\"catsanddog\", [\"cats\", \"dog\", \"sand\", \"and\", \"cat\"])"
   ]
  },
  {
   "cell_type": "code",
   "execution_count": null,
   "metadata": {},
   "outputs": [],
   "source": [
    "def wordBreak(self, s, wordDict):\n",
    "    res = []\n",
    "    self.dfs(s, wordDict, '', res)\n",
    "    return res\n",
    "\n",
    "def dfs(self, s, dic, path, res):\n",
    "# Before we do dfs, we check whether the remaining string \n",
    "# can be splitted by using the dictionary,\n",
    "# in this way we can decrease unnecessary computation greatly.\n",
    "    if self.check(s, dic): # prunning\n",
    "        if not s:\n",
    "            res.append(path[:-1])\n",
    "            return # backtracking\n",
    "        for i in xrange(1, len(s)+1):\n",
    "            if s[:i] in dic:\n",
    "                # dic.remove(s[:i])\n",
    "                self.dfs(s[i:], dic, path+s[:i]+\" \", res)\n",
    "\n",
    "# DP code to check whether a string can be splitted by using the \n",
    "# dic, this is the same as word break I.                \n",
    "def check(self, s, dic):\n",
    "    dp = [False for i in xrange(len(s)+1)]\n",
    "    dp[0] = True\n",
    "    for i in xrange(1, len(s)+1):\n",
    "        for j in xrange(i):\n",
    "            if dp[j] and s[j:i] in dic:\n",
    "                dp[i] = True\n",
    "    return dp[-1]"
   ]
  },
  {
   "cell_type": "code",
   "execution_count": null,
   "metadata": {},
   "outputs": [],
   "source": [
    "# 20ms\n",
    "class Solution(object):\n",
    "    def wordBreak(self, s, wordDict):\n",
    "        \"\"\"\n",
    "        :type s: str\n",
    "        :type wordDict: List[str]\n",
    "        :rtype: List[str]\n",
    "        \"\"\"\n",
    "        return self.helper(s, wordDict, {})\n",
    "    def helper(self, s, wordDict, memo):\n",
    "        if s in memo:\n",
    "            return memo[s]\n",
    "        if not s:\n",
    "            return []\n",
    "        res = []\n",
    "        for word in wordDict:\n",
    "            if not s.startswith(word):\n",
    "                continue\n",
    "            if len(word) == len(s):\n",
    "                res.append(word)\n",
    "            else:\n",
    "                resOfRest = self.helper(s[len(word):],wordDict,memo)\n",
    "                for item in resOfRest:\n",
    "                    item = word + ' ' + item\n",
    "                    res.append(item)\n",
    "        memo[s] = res\n",
    "        return res"
   ]
  }
 ],
 "metadata": {
  "kernelspec": {
   "display_name": "Python 3",
   "language": "python",
   "name": "python3"
  },
  "language_info": {
   "codemirror_mode": {
    "name": "ipython",
    "version": 3
   },
   "file_extension": ".py",
   "mimetype": "text/x-python",
   "name": "python",
   "nbconvert_exporter": "python",
   "pygments_lexer": "ipython3",
   "version": "3.7.3"
  }
 },
 "nbformat": 4,
 "nbformat_minor": 2
}
