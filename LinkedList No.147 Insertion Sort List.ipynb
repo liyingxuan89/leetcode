{
 "cells": [
  {
   "cell_type": "markdown",
   "metadata": {},
   "source": [
    "Sort a linked list using insertion sort.\n",
    "\n",
    "\n",
    "A graphical example of insertion sort. The partial sorted list (black) initially contains only the first element in the list.\n",
    "With each iteration one element (red) is removed from the input data and inserted in-place into the sorted list\n",
    " \n",
    "![avatar](https://upload.wikimedia.org/wikipedia/commons/0/0f/Insertion-sort-example-300px.gif)\n",
    "Algorithm of Insertion Sort:\n",
    "\n",
    "Insertion sort iterates, consuming one input element each repetition, and growing a sorted output list.\n",
    "At each iteration, insertion sort removes one element from the input data, finds the location it belongs within the sorted list, and inserts it there.\n",
    "It repeats until no input elements remain.\n",
    "\n",
    "Example 1:\n",
    "\n",
    "Input: 4->2->1->3\n",
    "Output: 1->2->3->4\n",
    "Example 2:\n",
    "\n",
    "Input: -1->5->3->4->0\n",
    "Output: -1->0->3->4->5"
   ]
  },
  {
   "cell_type": "code",
   "execution_count": 5,
   "metadata": {},
   "outputs": [],
   "source": [
    "# Definition for singly-linked list.\n",
    "class ListNode(object):\n",
    "    def __init__(self, x):\n",
    "        self.val = x\n",
    "        self.next = None\n",
    "\n",
    "# Runtime: 468 ms, faster than 54.72% of Python online submissions for Insertion Sort List.\n",
    "# Memory Usage: 17.3 MB, less than 5.27% of Python online submissions for Insertion Sort List.\n",
    "class Solution(object):\n",
    "    def insertionSortList(self, head):\n",
    "        \"\"\"\n",
    "        :type head: ListNode\n",
    "        :rtype: ListNode\n",
    "        \"\"\"\n",
    "        if not head:\n",
    "            return head\n",
    "        stack = [head.val]\n",
    "        head = head.next\n",
    "        while head:\n",
    "            for i in range(len(stack)):\n",
    "                if head.val >= stack[-1]:\n",
    "                    stack.append(head.val)\n",
    "                    break\n",
    "                if head.val < stack[i]:\n",
    "                    stack.insert(i, head.val)\n",
    "                    break\n",
    "            head = head.next\n",
    "        dummy = ListNode(-1)\n",
    "        p = dummy\n",
    "        for i in range(len(stack)):\n",
    "            p.next = ListNode(stack[i])\n",
    "            p = p.next\n",
    "        return dummy.next"
   ]
  },
  {
   "cell_type": "code",
   "execution_count": 6,
   "metadata": {},
   "outputs": [],
   "source": [
    "a = ListNode(4)\n",
    "a.next = ListNode(2)\n",
    "a.next.next = ListNode(1)\n",
    "a.next.next.next = ListNode(5)\n",
    "a.next.next.next.next = ListNode(3 )"
   ]
  },
  {
   "cell_type": "code",
   "execution_count": 7,
   "metadata": {},
   "outputs": [
    {
     "name": "stdout",
     "output_type": "stream",
     "text": [
      "1\n",
      "2\n",
      "3\n",
      "4\n",
      "5\n"
     ]
    }
   ],
   "source": [
    "sol = Solution()\n",
    "b = sol.insertionSortList(a)\n",
    "while(b):\n",
    "    print(b.val)\n",
    "    b = b.next"
   ]
  },
  {
   "cell_type": "code",
   "execution_count": null,
   "metadata": {},
   "outputs": [],
   "source": [
    "# better\n",
    "class Solution(object):\n",
    "    def insertionSortList(self, head):\n",
    "        \"\"\"\n",
    "        :type head: ListNode\n",
    "        :rtype: ListNode\n",
    "        \"\"\"\n",
    "        if not head:return head\n",
    "        dummy = ListNode(0)\n",
    "        dummy.next = curr = head\n",
    "        while curr.next:\n",
    "            if curr.next.val < curr.val:\n",
    "                pre = dummy\n",
    "                while pre.next.val < curr.next.val:\n",
    "                    pre = pre.next\n",
    "                temp = curr.next\n",
    "                curr.next = temp.next\n",
    "                temp.next = pre.next\n",
    "                pre.next = temp\n",
    "            else:\n",
    "                curr = curr.next\n",
    "        return dummy.next"
   ]
  }
 ],
 "metadata": {
  "kernelspec": {
   "display_name": "Python 3",
   "language": "python",
   "name": "python3"
  },
  "language_info": {
   "codemirror_mode": {
    "name": "ipython",
    "version": 3
   },
   "file_extension": ".py",
   "mimetype": "text/x-python",
   "name": "python",
   "nbconvert_exporter": "python",
   "pygments_lexer": "ipython3",
   "version": "3.7.3"
  }
 },
 "nbformat": 4,
 "nbformat_minor": 2
}
