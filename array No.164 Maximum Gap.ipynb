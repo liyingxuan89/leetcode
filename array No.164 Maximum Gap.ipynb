{
 "cells": [
  {
   "cell_type": "markdown",
   "metadata": {},
   "source": [
    "Given an unsorted array, find the maximum difference between the successive elements in its sorted form.\n",
    "\n",
    "Return 0 if the array contains less than 2 elements.\n",
    "\n",
    "#### Example 1:\n",
    "\n",
    "Input: [3,6,9,1]\n",
    "Output: 3\n",
    "\n",
    "#### Explanation: \n",
    "The sorted form of the array is [1,3,6,9], either\n",
    "             (3,6) or (6,9) has the maximum difference 3.\n",
    "#### Example 2:\n",
    "\n",
    "Input: [10]\n",
    "Output: 0\n",
    "\n",
    "#### Explanation: \n",
    "The array contains less than 2 elements, therefore return 0.\n",
    "Note:\n",
    "\n",
    "You may assume all elements in the array are non-negative integers and fit in the 32-bit signed integer range.\n",
    "Try to solve it in linear time/space."
   ]
  },
  {
   "cell_type": "code",
   "execution_count": 1,
   "metadata": {
    "collapsed": true
   },
   "outputs": [],
   "source": [
    "class Solution(object):\n",
    "    def maximumGap(self, nums):\n",
    "        \"\"\"\n",
    "        :type nums: List[int]\n",
    "        :rtype: int\n",
    "        \"\"\"\n",
    "        pass"
   ]
  },
  {
   "cell_type": "code",
   "execution_count": null,
   "metadata": {
    "collapsed": true
   },
   "outputs": [],
   "source": []
  }
 ],
 "metadata": {
  "kernelspec": {
   "display_name": "Python 3",
   "language": "python",
   "name": "python3"
  },
  "language_info": {
   "codemirror_mode": {
    "name": "ipython",
    "version": 3
   },
   "file_extension": ".py",
   "mimetype": "text/x-python",
   "name": "python",
   "nbconvert_exporter": "python",
   "pygments_lexer": "ipython3",
   "version": "3.5.1"
  }
 },
 "nbformat": 4,
 "nbformat_minor": 1
}
