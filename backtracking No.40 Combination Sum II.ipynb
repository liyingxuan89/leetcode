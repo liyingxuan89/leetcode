{
 "cells": [
  {
   "cell_type": "markdown",
   "metadata": {},
   "source": [
    "Given a collection of candidate numbers (candidates) and a target number (target), find all unique combinations in candidates where the candidate numbers sums to target.\n",
    "\n",
    "Each number in candidates may only be used once in the combination.\n",
    "\n",
    "Note:\n",
    "\n",
    "All numbers (including target) will be positive integers.\n",
    "The solution set must not contain duplicate combinations.\n",
    "Example 1:\n",
    "\n",
    "Input: candidates = [10,1,2,7,6,1,5], target = 8,\n",
    "A solution set is:\n",
    "[\n",
    "  [1, 7],\n",
    "  [1, 2, 5],\n",
    "  [2, 6],\n",
    "  [1, 1, 6]\n",
    "]\n",
    "Example 2:\n",
    "\n",
    "Input: candidates = [2,5,2,1,2], target = 5,\n",
    "A solution set is:\n",
    "[\n",
    "  [1,2,2],\n",
    "  [5]\n",
    "]"
   ]
  },
  {
   "cell_type": "code",
   "execution_count": 25,
   "metadata": {},
   "outputs": [
    {
     "name": "stdout",
     "output_type": "stream",
     "text": [
      "CPU times: user 2 µs, sys: 0 ns, total: 2 µs\n",
      "Wall time: 3.58 µs\n"
     ]
    }
   ],
   "source": [
    "%time\n",
    "#传统组合数方法，有大量重复情况\n",
    "# Runtime: 772 ms, faster than 5.88% of Python online submissions for Combination Sum II.\n",
    "# Memory Usage: 11.9 MB, less than 9.07% of Python online submissions for Combination Sum II.\n",
    "class Solution(object):\n",
    "    def combinationSum2(self, candidates, target):\n",
    "        \"\"\"\n",
    "        :type candidates: List[int]\n",
    "        :type target: int\n",
    "        :rtype: List[List[int]]\n",
    "        \"\"\"\n",
    "        if not candidates:\n",
    "            return []\n",
    "        candidates.sort()\n",
    "        self.res = []\n",
    "        #利用set去重\n",
    "        self.set = {}\n",
    "        def dfs(cur_list, nums, target):\n",
    "            if target < 0:\n",
    "                return\n",
    "            if target == 0:\n",
    "                if str(cur_list) not in self.set:\n",
    "                    self.res.append(cur_list[:])\n",
    "                    self.set[str(cur_list)] = 1\n",
    "                    return\n",
    "                else:\n",
    "                    return\n",
    "            # if  nums and target < nums[0]:\n",
    "            #     return\n",
    "\n",
    "            for i,num in enumerate(nums):\n",
    "                cur_list.append(num)\n",
    "                dfs(cur_list, nums[i+1:], target-nums[i])\n",
    "                cur_list.pop()\n",
    "        dfs([], candidates, target)\n",
    "        return self.res"
   ]
  },
  {
   "cell_type": "code",
   "execution_count": 26,
   "metadata": {},
   "outputs": [
    {
     "name": "stdout",
     "output_type": "stream",
     "text": [
      "CPU times: user 1e+03 ns, sys: 0 ns, total: 1e+03 ns\n",
      "Wall time: 3.34 µs\n"
     ]
    },
    {
     "data": {
      "text/plain": [
       "[[1, 2, 2], [5]]"
      ]
     },
     "execution_count": 26,
     "metadata": {},
     "output_type": "execute_result"
    }
   ],
   "source": [
    "%time\n",
    "sol = Solution()\n",
    "sol.combinationSum2([2,5,2,1,2], 5)"
   ]
  },
  {
   "cell_type": "code",
   "execution_count": 40,
   "metadata": {},
   "outputs": [],
   "source": [
    "# Runtime: 44 ms, faster than 80.64% of Python online submissions for Combination Sum II.\n",
    "# Memory Usage: 11.8 MB, less than 40.27% of Python online submissions for Combination Sum II.\n",
    "class Solution(object):\n",
    "    def combinationSum2(self, candidates, target):\n",
    "        \"\"\"\n",
    "        :type candidates: List[int]\n",
    "        :type target: int\n",
    "        :rtype: List[List[int]]\n",
    "        \"\"\"\n",
    "        if not candidates:\n",
    "            return []\n",
    "        n = len(candidates)\n",
    "        candidates.sort()\n",
    "        self.res = []\n",
    "        def dfs(cur_list, s_idx, nums, target):\n",
    "            if target == 0:\n",
    "                self.res.append(cur_list[:])\n",
    "                return\n",
    "\n",
    "            for i in range(s_idx, n):\n",
    "                number = nums[i]\n",
    "                if number > target:\n",
    "                    return\n",
    "                if i > s_idx and nums[i] == nums[i-1]: continue\n",
    "                cur_list.append(number)\n",
    "                dfs(cur_list, i+1, nums, target-number)\n",
    "                cur_list.pop()\n",
    "                \n",
    "        dfs([], 0, candidates, target)\n",
    "        return self.res"
   ]
  },
  {
   "cell_type": "code",
   "execution_count": 41,
   "metadata": {},
   "outputs": [
    {
     "name": "stdout",
     "output_type": "stream",
     "text": [
      "CPU times: user 2 µs, sys: 0 ns, total: 2 µs\n",
      "Wall time: 3.34 µs\n"
     ]
    },
    {
     "data": {
      "text/plain": [
       "[[1, 2, 2], [5]]"
      ]
     },
     "execution_count": 41,
     "metadata": {},
     "output_type": "execute_result"
    }
   ],
   "source": [
    "%time\n",
    "sol = Solution()\n",
    "sol.combinationSum2([2,5,2,1,2], 5)"
   ]
  },
  {
   "cell_type": "code",
   "execution_count": null,
   "metadata": {},
   "outputs": [],
   "source": []
  }
 ],
 "metadata": {
  "kernelspec": {
   "display_name": "Python 3",
   "language": "python",
   "name": "python3"
  },
  "language_info": {
   "codemirror_mode": {
    "name": "ipython",
    "version": 3
   },
   "file_extension": ".py",
   "mimetype": "text/x-python",
   "name": "python",
   "nbconvert_exporter": "python",
   "pygments_lexer": "ipython3",
   "version": "3.7.3"
  }
 },
 "nbformat": 4,
 "nbformat_minor": 2
}
