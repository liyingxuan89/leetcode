{
 "cells": [
  {
   "cell_type": "markdown",
   "metadata": {},
   "source": [
    "Say you have an array for which the ith element is the price of a given stock on day i.\n",
    "\n",
    "Design an algorithm to find the maximum profit. You may complete at most two transactions.\n",
    "\n",
    "Note: You may not engage in multiple transactions at the same time (i.e., you must sell the stock before you buy again).\n",
    "\n",
    "#### Example 1:\n",
    "\n",
    "Input: [3,3,5,0,0,3,1,4]\n",
    "Output: 6\n",
    "\n",
    "Explanation: Buy on day 4 (price = 0) and sell on day 6 (price = 3), profit = 3-0 = 3.\n",
    "             Then buy on day 7 (price = 1) and sell on day 8 (price = 4), profit = 4-1 = 3.\n",
    "#### Example 2:\n",
    "\n",
    "Input: [1,2,3,4,5]\n",
    "Output: 4\n",
    "\n",
    "Explanation: Buy on day 1 (price = 1) and sell on day 5 (price = 5), profit = 5-1 = 4.\n",
    "             Note that you cannot buy on day 1, buy on day 2 and sell them later, as you are\n",
    "             engaging multiple transactions at the same time. You must sell before buying again.\n",
    "#### Example 3:\n",
    "\n",
    "Input: [7,6,4,3,1]\n",
    "Output: 0\n",
    "\n",
    "Explanation: In this case, no transaction is done, i.e. max profit = 0."
   ]
  },
  {
   "cell_type": "code",
   "execution_count": 11,
   "metadata": {
    "collapsed": false
   },
   "outputs": [],
   "source": [
    "#Runtime: 36 ms, faster than 75.63% of Python online submissions for Best Time to Buy and Sell Stock III.\n",
    "#Memory Usage: 12.3 MB, less than 33.33% of Python online submissions for Best Time to Buy and Sell Stock III.\n",
    "class Solution(object):\n",
    "    def maxProfit(self, prices):\n",
    "        if not prices:\n",
    "            return 0\n",
    "    \n",
    "        # forward traversal, profits record the max profit \n",
    "        # by the ith day, this is the first transaction\n",
    "        profits = []\n",
    "        max_profit = 0\n",
    "        current_min = prices[0]\n",
    "        for price in prices:\n",
    "            current_min = min(current_min, price)\n",
    "            max_profit = max(max_profit, price - current_min)\n",
    "            profits.append(max_profit)\n",
    "    \n",
    "        # backward traversal, max_profit records the max profit\n",
    "        # after the ith day, this is the second transaction \n",
    "        total_max = 0    \n",
    "        max_profit = 0\n",
    "        current_max = prices[-1]\n",
    "        for i in range(len(prices) - 1, -1, -1):\n",
    "            current_max = max(current_max, prices[i])\n",
    "            max_profit = max(max_profit, current_max - prices[i])\n",
    "            total_max = max(total_max, max_profit + profits[i])\n",
    "        \n",
    "        return total_max"
   ]
  },
  {
   "cell_type": "code",
   "execution_count": 12,
   "metadata": {
    "collapsed": true
   },
   "outputs": [],
   "source": [
    "sol = Solution()"
   ]
  },
  {
   "cell_type": "code",
   "execution_count": 13,
   "metadata": {
    "collapsed": false
   },
   "outputs": [
    {
     "data": {
      "text/plain": [
       "6"
      ]
     },
     "execution_count": 13,
     "metadata": {},
     "output_type": "execute_result"
    }
   ],
   "source": [
    "sol.maxProfit([3,3,5,0,0,3,1,4])"
   ]
  },
  {
   "cell_type": "code",
   "execution_count": null,
   "metadata": {
    "collapsed": true
   },
   "outputs": [],
   "source": [
    "class Solution2(object):\n",
    "    def maxProfit(self, prices):\n",
    "        \"\"\"\n",
    "        :type prices: List[int]\n",
    "        :rtype: int\n",
    "        \"\"\"\n",
    "        first_buy = float('-inf')\n",
    "        first_sell = 0\n",
    "        second_buy = float('-inf')\n",
    "        second_sell = 0\n",
    "        \n",
    "        for curr_price in prices:\n",
    "            if first_buy < -curr_price:\n",
    "                first_buy = -curr_price \n",
    "                #the max profit after you buy first stock\n",
    "        \n",
    "            if first_sell < first_buy + curr_price:\n",
    "                first_sell = first_buy + curr_price                \n",
    "                #the max profit after you sell it\n",
    "            \n",
    "            if second_buy < first_sell - curr_price:\n",
    "                second_buy = first_sell - curr_price \n",
    "                #the max profit after you buy the second stock\n",
    "                \n",
    "            if second_sell < second_buy + curr_price:\n",
    "                second_sell = second_buy + curr_price \n",
    "                #the max profit after you sell the second stock\n",
    "                \n",
    "            \n",
    "        return second_sell "
   ]
  }
 ],
 "metadata": {
  "kernelspec": {
   "display_name": "Python 3",
   "language": "python",
   "name": "python3"
  },
  "language_info": {
   "codemirror_mode": {
    "name": "ipython",
    "version": 3
   },
   "file_extension": ".py",
   "mimetype": "text/x-python",
   "name": "python",
   "nbconvert_exporter": "python",
   "pygments_lexer": "ipython3",
   "version": "3.5.1"
  }
 },
 "nbformat": 4,
 "nbformat_minor": 1
}
