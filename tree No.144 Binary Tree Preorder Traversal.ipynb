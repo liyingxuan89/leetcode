{
 "cells": [
  {
   "cell_type": "markdown",
   "metadata": {},
   "source": [
    "Given a binary tree, return the preorder traversal of its nodes' values.\n",
    "\n",
    "Example:\n",
    "\n",
    "Input: [1,null,2,3]\n",
    "   1\n",
    "    \\\n",
    "     2\n",
    "    /\n",
    "   3\n",
    "\n",
    "Output: [1,2,3]\n",
    "Follow up: Recursive solution is trivial, could you do it iteratively?"
   ]
  },
  {
   "cell_type": "code",
   "execution_count": 1,
   "metadata": {},
   "outputs": [],
   "source": [
    "# Definition for a binary tree node.\n",
    "class TreeNode(object):\n",
    "    def __init__(self, x):\n",
    "        self.val = x\n",
    "        self.left = None\n",
    "        self.right = None\n",
    "\n",
    "# Runtime: 20 ms, faster than 79.70% of Python online submissions for Binary Tree Preorder Traversal.\n",
    "# Memory Usage: 11.7 MB, less than 5.08% of Python online submissions for Binary Tree Preorder Traversal.\n",
    "class Solution(object):\n",
    "    def preorderTraversal(self, root):\n",
    "        \"\"\"\n",
    "        :type root: TreeNode\n",
    "        :rtype: List[int]\n",
    "        \"\"\"\n",
    "        res = []\n",
    "        stack = [root]\n",
    "        while(stack):\n",
    "            node = stack.pop()\n",
    "            if node:\n",
    "                res.append(node.val)\n",
    "                stack.append(node.right)\n",
    "                stack.append(node.left)\n",
    "        return res"
   ]
  },
  {
   "cell_type": "code",
   "execution_count": 2,
   "metadata": {},
   "outputs": [],
   "source": [
    "sol = Solution()"
   ]
  },
  {
   "cell_type": "code",
   "execution_count": 3,
   "metadata": {},
   "outputs": [
    {
     "data": {
      "text/plain": [
       "[1, None, 2, 3, None]"
      ]
     },
     "execution_count": 3,
     "metadata": {},
     "output_type": "execute_result"
    }
   ],
   "source": [
    "Rt = TreeNode(1)\n",
    "Rt.left = TreeNode(None)\n",
    "RtR = TreeNode(2)\n",
    "Rt.right = RtR\n",
    "RtRL = TreeNode(3)\n",
    "RtR.left = RtRL\n",
    "RtR.right = TreeNode(None)\n",
    "sol.preorderTraversal(Rt)"
   ]
  },
  {
   "cell_type": "code",
   "execution_count": 10,
   "metadata": {},
   "outputs": [],
   "source": [
    "# Runtime: 20 ms, faster than 79.64% of Python online submissions for Binary Tree Preorder Traversal.\n",
    "# Memory Usage: 11.8 MB, less than 5.08% of Python online submissions for Binary Tree Preorder Traversal.\n",
    "class Solution(object):\n",
    "    def preorderTraversal(self, root):\n",
    "        \"\"\"\n",
    "        :type root: TreeNode\n",
    "        :rtype: List[int]\n",
    "        \"\"\"\n",
    "        if not root:\n",
    "            return []\n",
    "        else:\n",
    "            return [root.val] + self.preorderTraversal(root.left) + self.preorderTraversal(root.right)"
   ]
  },
  {
   "cell_type": "code",
   "execution_count": 11,
   "metadata": {},
   "outputs": [
    {
     "data": {
      "text/plain": [
       "[1, None, 2, 3, None]"
      ]
     },
     "execution_count": 11,
     "metadata": {},
     "output_type": "execute_result"
    }
   ],
   "source": [
    "sol = Solution()\n",
    "Rt = TreeNode(1)\n",
    "Rt.left = TreeNode(None)\n",
    "RtR = TreeNode(2)\n",
    "Rt.right = RtR\n",
    "RtRL = TreeNode(3)\n",
    "RtR.left = RtRL\n",
    "RtR.right = TreeNode(None)\n",
    "sol.preorderTraversal(Rt)"
   ]
  },
  {
   "cell_type": "code",
   "execution_count": null,
   "metadata": {},
   "outputs": [],
   "source": []
  }
 ],
 "metadata": {
  "kernelspec": {
   "display_name": "Python 3",
   "language": "python",
   "name": "python3"
  },
  "language_info": {
   "codemirror_mode": {
    "name": "ipython",
    "version": 3
   },
   "file_extension": ".py",
   "mimetype": "text/x-python",
   "name": "python",
   "nbconvert_exporter": "python",
   "pygments_lexer": "ipython3",
   "version": "3.5.1"
  }
 },
 "nbformat": 4,
 "nbformat_minor": 2
}
