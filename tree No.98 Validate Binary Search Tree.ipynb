{
 "cells": [
  {
   "cell_type": "markdown",
   "metadata": {},
   "source": [
    "Given a binary tree, determine if it is a valid binary search tree (BST).\n",
    "\n",
    "Assume a BST is defined as follows:\n",
    "\n",
    "The left subtree of a node contains only nodes with keys less than the node's key.\n",
    "The right subtree of a node contains only nodes with keys greater than the node's key.\n",
    "Both the left and right subtrees must also be binary search trees.\n",
    " \n",
    "\n",
    "Example 1:\n",
    "\n",
    "    2\n",
    "   / \\\n",
    "  1   3\n",
    "\n",
    "Input: [2,1,3]\n",
    "Output: true\n",
    "Example 2:\n",
    "\n",
    "    5\n",
    "   / \\\n",
    "  1   4\n",
    "     / \\\n",
    "    3   6\n",
    "\n",
    "Input: [5,1,4,null,null,3,6]\n",
    "Output: false\n",
    "Explanation: The root node's value is 5 but its right child's value is 4."
   ]
  },
  {
   "cell_type": "code",
   "execution_count": 26,
   "metadata": {},
   "outputs": [],
   "source": [
    "# Definition for a binary tree node.\n",
    "class TreeNode(object):\n",
    "    def __init__(self, x):\n",
    "        self.val = x\n",
    "        self.left = None\n",
    "        self.right = None\n",
    "\n",
    "# 中序遍历后的数组是顺序的\n",
    "# Runtime: 36 ms, faster than 94.95% of Python online submissions for Validate Binary Search Tree.\n",
    "# Memory Usage: 16.7 MB, less than 5.07% of Python online submissions for Validate Binary Search Tree.\n",
    "class Solution(object):\n",
    "    def isValidBST(self, root):\n",
    "        \"\"\"\n",
    "        :type root: TreeNode\n",
    "        :rtype: bool\n",
    "        \"\"\"\n",
    "        if root is None:\n",
    "            return True\n",
    "        self.order = []\n",
    "        self.dfs(root)\n",
    "        print(self.order)\n",
    "        for i in range(len(self.order)-1):\n",
    "            if self.order[i] >= self.order[i+1]:\n",
    "                return False\n",
    "        return True\n",
    "    def dfs(self, root):\n",
    "        if root.left is not None:\n",
    "            self.dfs(root.left)\n",
    "        self.order.append(root.val)   \n",
    "        if root.right is not None:\n",
    "            self.dfs(root.right)"
   ]
  },
  {
   "cell_type": "code",
   "execution_count": 24,
   "metadata": {},
   "outputs": [],
   "source": [
    "r = TreeNode(5)\n",
    "r.left = TreeNode(1)\n",
    "r.right = TreeNode(4)\n",
    "r.right.left = TreeNode(3)\n",
    "r.right.right = TreeNode(6)"
   ]
  },
  {
   "cell_type": "code",
   "execution_count": 25,
   "metadata": {},
   "outputs": [
    {
     "name": "stdout",
     "output_type": "stream",
     "text": [
      "[1, 5, 3, 4, 6]\n"
     ]
    },
    {
     "data": {
      "text/plain": [
       "False"
      ]
     },
     "execution_count": 25,
     "metadata": {},
     "output_type": "execute_result"
    }
   ],
   "source": [
    "sol = Solution()\n",
    "sol.isValidBST(r)"
   ]
  },
  {
   "cell_type": "code",
   "execution_count": null,
   "metadata": {},
   "outputs": [],
   "source": []
  }
 ],
 "metadata": {
  "kernelspec": {
   "display_name": "Python 3",
   "language": "python",
   "name": "python3"
  },
  "language_info": {
   "codemirror_mode": {
    "name": "ipython",
    "version": 3
   },
   "file_extension": ".py",
   "mimetype": "text/x-python",
   "name": "python",
   "nbconvert_exporter": "python",
   "pygments_lexer": "ipython3",
   "version": "3.5.1"
  }
 },
 "nbformat": 4,
 "nbformat_minor": 2
}
