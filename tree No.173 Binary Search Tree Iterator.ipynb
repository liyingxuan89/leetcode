{
 "cells": [
  {
   "cell_type": "markdown",
   "metadata": {},
   "source": [
    "Implement an iterator over a binary search tree (BST). Your iterator will be initialized with the root node of a BST.\n",
    "\n",
    "Calling next() will return the next smallest number in the BST.\n",
    "\n",
    " \n",
    "\n",
    "Example:\n",
    "\n",
    "\n",
    "\n",
    "BSTIterator iterator = new BSTIterator(root);\n",
    "iterator.next();    // return 3\n",
    "iterator.next();    // return 7\n",
    "iterator.hasNext(); // return true\n",
    "iterator.next();    // return 9\n",
    "iterator.hasNext(); // return true\n",
    "iterator.next();    // return 15\n",
    "iterator.hasNext(); // return true\n",
    "iterator.next();    // return 20\n",
    "iterator.hasNext(); // return false\n",
    " \n",
    "\n",
    "Note:\n",
    "\n",
    "next() and hasNext() should run in average O(1) time and uses O(h) memory, where h is the height of the tree.\n",
    "You may assume that next() call will always be valid, that is, there will be at least a next smallest number in the BST when next() is called.\n"
   ]
  },
  {
   "cell_type": "code",
   "execution_count": 27,
   "metadata": {
    "collapsed": false
   },
   "outputs": [],
   "source": [
    "# Definition for a binary tree node.\n",
    "class TreeNode:\n",
    "    def __init__(self, x):\n",
    "        self.val = x\n",
    "        self.left = None\n",
    "        self.right = None\n",
    "# Runtime: 80 ms, faster than 99.91% of Python3 online submissions for Binary Search Tree Iterator.\n",
    "# Memory Usage: 19.6 MB, less than 100.00% of Python3 online submissions for Binary Search Tree Iterator.\n",
    "class BSTIterator:\n",
    "\n",
    "    def __init__(self, root):\n",
    "        \n",
    "        self.val = []\n",
    "        self._mintraversal(root)\n",
    "        self.idx = 0\n",
    "        \n",
    "    def _mintraversal(self, root):\n",
    "        if root is None:\n",
    "            return None\n",
    "        if root.left is not None:\n",
    "            self._mintraversal(root.left)\n",
    "        self.val.append(root.val)\n",
    "        if root.right is not None:\n",
    "            self._mintraversal(root.right)\n",
    "        \n",
    "    \n",
    "    def next(self):\n",
    "        \"\"\"\n",
    "        @return the next smallest number\n",
    "        \"\"\"\n",
    "        self.idx += 1\n",
    "        return self.val[self.idx-1]\n",
    "\n",
    "    def hasNext(self):\n",
    "        \"\"\"\n",
    "        @return whether we have a next smallest number\n",
    "        \"\"\"\n",
    "        return self.idx <= len(self.val)-1\n",
    "\n",
    "\n",
    "# Your BSTIterator object will be instantiated and called as such:\n",
    "# obj = BSTIterator(root)\n",
    "# param_1 = obj.next()\n",
    "# param_2 = obj.hasNext()"
   ]
  },
  {
   "cell_type": "code",
   "execution_count": 28,
   "metadata": {
    "collapsed": false
   },
   "outputs": [],
   "source": [
    "r = TreeNode(7)\n",
    "r.left = TreeNode(3)\n",
    "r.right = TreeNode(15)\n",
    "r.right.left = TreeNode(9)\n",
    "r.right.right = TreeNode(20)"
   ]
  },
  {
   "cell_type": "code",
   "execution_count": 29,
   "metadata": {
    "collapsed": false
   },
   "outputs": [
    {
     "name": "stdout",
     "output_type": "stream",
     "text": [
      "3\n",
      "7\n",
      "True\n",
      "9\n",
      "True\n",
      "15\n",
      "True\n",
      "20\n",
      "False\n"
     ]
    }
   ],
   "source": [
    "iterator = BSTIterator(r);\n",
    "print iterator.next();   \n",
    "print iterator.next();    \n",
    "print iterator.hasNext(); \n",
    "print iterator.next(); \n",
    "print iterator.hasNext();\n",
    "print iterator.next();   \n",
    "print iterator.hasNext(); \n",
    "print iterator.next();    \n",
    "print iterator.hasNext();"
   ]
  },
  {
   "cell_type": "code",
   "execution_count": null,
   "metadata": {
    "collapsed": true
   },
   "outputs": [],
   "source": []
  }
 ],
 "metadata": {
  "kernelspec": {
   "display_name": "Python 2",
   "language": "python",
   "name": "python2"
  },
  "language_info": {
   "codemirror_mode": {
    "name": "ipython",
    "version": 2
   },
   "file_extension": ".py",
   "mimetype": "text/x-python",
   "name": "python",
   "nbconvert_exporter": "python",
   "pygments_lexer": "ipython2",
   "version": "2.7.13"
  }
 },
 "nbformat": 4,
 "nbformat_minor": 0
}
