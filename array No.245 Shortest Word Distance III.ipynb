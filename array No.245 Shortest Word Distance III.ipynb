{
 "cells": [
  {
   "cell_type": "markdown",
   "metadata": {},
   "source": [
    "Given a list of words and two words word1 and word2, return the shortest distance between these two words in the list.\n",
    "\n",
    "word1 and word2 may be the same and they represent two individual words in the list.\n",
    "\n",
    "#### Example:\n",
    "Assume that words = [\"practice\", \"makes\", \"perfect\", \"coding\", \"makes\"].\n",
    "\n",
    "Input: word1 = “makes”, word2 = “coding”\n",
    "Output: 1\n",
    "    \n",
    "Input: word1 = \"makes\", word2 = \"makes\"\n",
    "Output: 3\n",
    "\n",
    "#### Note:\n",
    "You may assume word1 and word2 are both in the list"
   ]
  },
  {
   "cell_type": "code",
   "execution_count": 1,
   "metadata": {
    "collapsed": true
   },
   "outputs": [],
   "source": [
    "class Solution(object):\n",
    "    def shortestWordDistance(self, words, word1, word2):\n",
    "        \"\"\"\n",
    "        :type words: List[str]\n",
    "        :type word1: str\n",
    "        :type word2: str\n",
    "        :rtype: int\n",
    "        \"\"\"\n",
    "        lookup = collections.defaultdict(list)\n",
    "        for idx, word in enumerate(words):\n",
    "            lookup[word].append(idx)\n",
    "            \n",
    "        if word1 == word2:\n",
    "            idxes = lookup[word1]\n",
    "            res = sys.maxsize\n",
    "            for i in range(len(idxes)):\n",
    "                for j in range(i+1, len(idxes)):\n",
    "                    res = min(res, abs(idxes[i]-idxes[j]))\n",
    "            return res\n",
    "            \n",
    "        idxes_1 = lookup[word1]\n",
    "        idxes_2 = lookup[word2]\n",
    "        res = sys.maxsize\n",
    "        for i in idxes_1:\n",
    "            for j in idxes_2:\n",
    "                res = min(res, abs(i-j))\n",
    "        return res"
   ]
  },
  {
   "cell_type": "code",
   "execution_count": null,
   "metadata": {
    "collapsed": true
   },
   "outputs": [],
   "source": []
  }
 ],
 "metadata": {
  "kernelspec": {
   "display_name": "Python 3",
   "language": "python",
   "name": "python3"
  },
  "language_info": {
   "codemirror_mode": {
    "name": "ipython",
    "version": 3
   },
   "file_extension": ".py",
   "mimetype": "text/x-python",
   "name": "python",
   "nbconvert_exporter": "python",
   "pygments_lexer": "ipython3",
   "version": "3.5.1"
  }
 },
 "nbformat": 4,
 "nbformat_minor": 1
}
