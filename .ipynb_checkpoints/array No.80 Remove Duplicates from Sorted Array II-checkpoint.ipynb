{
 "cells": [
  {
   "cell_type": "markdown",
   "metadata": {},
   "source": [
    "Given a sorted array nums, remove the duplicates in-place such that duplicates appeared at most twice and return the new length.\n",
    "\n",
    "Do not allocate extra space for another array, you must do this by modifying the input array in-place with O(1) extra memory.\n",
    "\n",
    "#### Example 1:\n",
    "\n",
    "Given nums = [1,1,1,2,2,3],\n",
    "\n",
    "Your function should return length = 5, with the first five elements of nums being 1, 1, 2, 2 and 3 respectively.\n",
    "\n",
    "It doesn't matter what you leave beyond the returned length.\n",
    "#### Example 2:\n",
    "\n",
    "Given nums = [0,0,1,1,1,1,2,3,3],\n",
    "\n",
    "Your function should return length = 7, with the first seven elements of nums being modified to 0, 0, 1, 1, 2, 3 and 3 respectively.\n",
    "\n",
    "It doesn't matter what values are set beyond the returned length."
   ]
  },
  {
   "cell_type": "code",
   "execution_count": null,
   "metadata": {
    "collapsed": true
   },
   "outputs": [],
   "source": [
    "# quite like method 2 in problem 27\n",
    "#Runtime: 36 ms, faster than 97.14% of Python online submissions for Remove Duplicates from Sorted Array II.\n",
    "#Memory Usage: 10.8 MB, less than 100.00% of Python online submissions for Remove Duplicates from Sorted Array II.\n",
    "class Solution(object):\n",
    "    def removeDuplicates(self, nums):\n",
    "        \"\"\"\n",
    "        :type nums: List[int]\n",
    "        :rtype: int\n",
    "        \"\"\"\n",
    "        n = len(nums)\n",
    "        if n < 2:\n",
    "            return n\n",
    "        # i ：循环变量\n",
    "        # u : 数字\n",
    "        # counter : 数字的计数，不能超过2个\n",
    "        i, u = 1, 0\n",
    "        counter = 1\n",
    "        while(i < n):\n",
    "\n",
    "            if nums[i] == nums[u]:\n",
    "                if counter < 2:\n",
    "                    u += 1\n",
    "                    counter += 1\n",
    "\n",
    "            if nums[i] > nums[u]:\n",
    "                u += 1\n",
    "                nums[u] = nums[i]\n",
    "                counter = 1\n",
    "            i += 1\n",
    "        nums = nums[:u+1]\n",
    "        \n",
    "        return len(nums)"
   ]
  }
 ],
 "metadata": {
  "kernelspec": {
   "display_name": "Python 3",
   "language": "python",
   "name": "python3"
  },
  "language_info": {
   "codemirror_mode": {
    "name": "ipython",
    "version": 3
   },
   "file_extension": ".py",
   "mimetype": "text/x-python",
   "name": "python",
   "nbconvert_exporter": "python",
   "pygments_lexer": "ipython3",
   "version": "3.5.1"
  }
 },
 "nbformat": 4,
 "nbformat_minor": 1
}
