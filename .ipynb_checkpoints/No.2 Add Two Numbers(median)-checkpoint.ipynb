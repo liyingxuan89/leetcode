{
 "cells": [
  {
   "cell_type": "markdown",
   "metadata": {},
   "source": [
    "### Add Two Numbers\n",
    "\n",
    "You are given two non-empty linked lists representing two non-negative integers. The digits are stored in reverse order and each of their nodes contain a single digit. Add the two numbers and return it as a linked list.\n",
    "\n",
    "You may assume the two numbers do not contain any leading zero, except the number 0 itself.\n",
    "\n",
    "Example:\n",
    "\n",
    "Input: (2 -> 4 -> 3) + (5 -> 6 -> 4)\n",
    "Output: 7 -> 0 -> 8\n",
    "Explanation: 342 + 465 = 807."
   ]
  },
  {
   "cell_type": "code",
   "execution_count": 47,
   "metadata": {
    "collapsed": true
   },
   "outputs": [],
   "source": [
    "# Definition for singly-linked list.\n",
    "class ListNode:\n",
    "    def __init__(self, x):\n",
    "        self.val = x\n",
    "        self.next = None\n",
    "#220ms\n",
    "class Solution_1: \n",
    "    def addTwoNumbers(self, l1, l2):\n",
    "        \"\"\"\n",
    "        :type l1: ListNode\n",
    "        :type l2: ListNode\n",
    "        :rtype: ListNode\n",
    "        \"\"\"\n",
    "        integer1, integer2 = self.link2int(l1), self.link2int(l2)\n",
    "#         print(integer1,integer2)\n",
    "        sum_val = integer1 + integer2\n",
    "#         print(sum_val)\n",
    "        return self.int2link(sum_val)\n",
    "\n",
    "    def link2int(self,link):\n",
    "        integer = 0\n",
    "        power = 0\n",
    "        while(link):\n",
    "            integer += link.val*(10**power)\n",
    "            power += 1\n",
    "            link = link.next\n",
    "        return integer\n",
    "    \n",
    "    def int2link(self,integer):\n",
    "        if integer < 10:\n",
    "            return ListNode(integer)\n",
    "        head = ListNode(None)\n",
    "        cur = ListNode(None)\n",
    "        head.next = cur\n",
    "        while(True):\n",
    "            m,n = divmod(integer,10)\n",
    "            cur.val = n\n",
    "            ne = ListNode(None)\n",
    "            cur.next = ne\n",
    "            cur = ne\n",
    "            integer = m\n",
    "            condition = (divmod(integer,10)[0] == 0)\n",
    "            if (condition):\n",
    "                cur.val = m\n",
    "                break\n",
    "        return head.next\n"
   ]
  },
  {
   "cell_type": "markdown",
   "metadata": {},
   "source": [
    "### Test"
   ]
  },
  {
   "cell_type": "code",
   "execution_count": 49,
   "metadata": {
    "collapsed": false
   },
   "outputs": [
    {
     "name": "stdout",
     "output_type": "stream",
     "text": [
      "0\n"
     ]
    }
   ],
   "source": [
    "def list2link(List):\n",
    "    List = List[::-1]\n",
    "    head = ListNode(None)\n",
    "    cur = ListNode(None)\n",
    "    head.next = cur\n",
    "    while(List):\n",
    "        cur.val = List.pop()\n",
    "        if(List):\n",
    "            ne = ListNode(None)\n",
    "            cur.next = ne\n",
    "            cur = ne\n",
    "    return head.next\n",
    "\n",
    "list1 = [0]\n",
    "list2 = [0]\n",
    "l1 = list2link(list1)\n",
    "l2 = list2link(list2)\n",
    "\n",
    "sol = Solution_1()\n",
    "res = sol.addTwoNumbers(l1,l2)\n",
    "showlinklist(res)"
   ]
  },
  {
   "cell_type": "code",
   "execution_count": 28,
   "metadata": {
    "collapsed": false
   },
   "outputs": [
    {
     "name": "stdout",
     "output_type": "stream",
     "text": [
      "0\n"
     ]
    }
   ],
   "source": [
    "def int2link(integer):\n",
    "    if integer < 10:\n",
    "        return ListNode(integer)\n",
    "    head = ListNode(None)\n",
    "    cur = ListNode(None)\n",
    "    head.next = cur\n",
    "    while(True):\n",
    "        m,n = divmod(integer,10)\n",
    "        cur.val = n\n",
    "        ne = ListNode(None)\n",
    "        cur.next = ne\n",
    "        cur = ne\n",
    "        integer = m\n",
    "        condition = (divmod(integer,10)[0] == 0)\n",
    "        if (condition):\n",
    "            cur.val = m\n",
    "            break\n",
    "    return head.next\n",
    "\n",
    "def link2int(link):\n",
    "    integer = 0\n",
    "    power = 0\n",
    "    while(link):\n",
    "        integer += link.val*(10**power)\n",
    "        power += 1\n",
    "        link = link.next\n",
    "    return integer\n",
    "\n",
    "h = list2link([0])\n",
    "m = listlink([0])\n",
    "\n",
    "i = link2int(h)\n",
    "j = link2int(m)\n",
    "print(i+j)"
   ]
  },
  {
   "cell_type": "code",
   "execution_count": 42,
   "metadata": {
    "collapsed": false
   },
   "outputs": [],
   "source": [
    "def showlinklist(link):\n",
    "    while(link):\n",
    "        print(link.val)\n",
    "        link = link.next\n",
    "\n",
    "# showlinklist(h)"
   ]
  }
 ],
 "metadata": {
  "kernelspec": {
   "display_name": "Python 3",
   "language": "python",
   "name": "python3"
  },
  "language_info": {
   "codemirror_mode": {
    "name": "ipython",
    "version": 3
   },
   "file_extension": ".py",
   "mimetype": "text/x-python",
   "name": "python",
   "nbconvert_exporter": "python",
   "pygments_lexer": "ipython3",
   "version": "3.5.1"
  }
 },
 "nbformat": 4,
 "nbformat_minor": 1
}
