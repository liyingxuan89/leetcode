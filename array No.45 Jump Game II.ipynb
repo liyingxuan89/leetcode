{
 "cells": [
  {
   "cell_type": "markdown",
   "metadata": {},
   "source": [
    "Given an array of non-negative integers, you are initially positioned at the first index of the array.\n",
    "\n",
    "Each element in the array represents your maximum jump length at that position.\n",
    "\n",
    "Your goal is to reach the last index in the minimum number of jumps.\n",
    "\n",
    "#### Example:\n",
    "\n",
    "Input: [2,3,1,1,4]\n",
    "Output: 2\n",
    "\n",
    "Explanation: The minimum number of jumps to reach the last index is 2.\n",
    "    Jump 1 step from index 0 to 1, then 3 steps to the last index."
   ]
  },
  {
   "cell_type": "code",
   "execution_count": 4,
   "metadata": {
    "collapsed": true
   },
   "outputs": [],
   "source": [
    "#greedy algorithm\n",
    "#Runtime: 28 ms, faster than 99.23% of Python online submissions for Jump Game II.\n",
    "#Memory Usage: 12.2 MB, less than 58.87% of Python online submissions for Jump Game II.\n",
    "#https://leetcode.windliang.cc/leetCode-45-Jump-Game-II.html\n",
    "class Solution(object):\n",
    "    def jump(self, nums):\n",
    "        \"\"\"\n",
    "        :type nums: List[int]\n",
    "        :rtype: int\n",
    "        \"\"\"\n",
    "        n = len(nums)\n",
    "        if n==0 or n == 1:\n",
    "            return 0\n",
    "        step = 0\n",
    "        curMaxArea = 0 #当前能走的最远距离\n",
    "        endpoint = 0 # 能走的最远距离\n",
    "        for i in range(n-1):\n",
    "            curMaxArea = max(curMaxArea, i+nums[i]) # 寻找当前能跳最远位置\n",
    "            if i == endpoint: # 到达当前最远位置，跳一步\n",
    "                step += 1\n",
    "                endpoint = curMaxArea\n",
    "        return step"
   ]
  },
  {
   "cell_type": "code",
   "execution_count": 5,
   "metadata": {
    "collapsed": true
   },
   "outputs": [],
   "source": [
    "sol = Solution()"
   ]
  },
  {
   "cell_type": "code",
   "execution_count": 6,
   "metadata": {
    "collapsed": false
   },
   "outputs": [
    {
     "data": {
      "text/plain": [
       "2"
      ]
     },
     "execution_count": 6,
     "metadata": {},
     "output_type": "execute_result"
    }
   ],
   "source": [
    "sol.jump([2,3,1,1,4])"
   ]
  },
  {
   "cell_type": "code",
   "execution_count": null,
   "metadata": {
    "collapsed": true
   },
   "outputs": [],
   "source": []
  }
 ],
 "metadata": {
  "kernelspec": {
   "display_name": "Python 3",
   "language": "python",
   "name": "python3"
  },
  "language_info": {
   "codemirror_mode": {
    "name": "ipython",
    "version": 3
   },
   "file_extension": ".py",
   "mimetype": "text/x-python",
   "name": "python",
   "nbconvert_exporter": "python",
   "pygments_lexer": "ipython3",
   "version": "3.5.1"
  }
 },
 "nbformat": 4,
 "nbformat_minor": 1
}
