{
 "cells": [
  {
   "cell_type": "markdown",
   "metadata": {},
   "source": [
    "Given a binary tree, find its maximum depth.\n",
    "\n",
    "The maximum depth is the number of nodes along the longest path from the root node down to the farthest leaf node.\n",
    "\n",
    "Note: A leaf is a node with no children.\n",
    "\n",
    "Example:\n",
    "\n",
    "Given binary tree [3,9,20,null,null,15,7],\n",
    "\n",
    "    3\n",
    "   / \\\n",
    "  9  20\n",
    "    /  \\\n",
    "   15   7\n",
    "return its depth = 3."
   ]
  },
  {
   "cell_type": "code",
   "execution_count": 8,
   "metadata": {},
   "outputs": [],
   "source": [
    "# Definition for a binary tree node.\n",
    "class TreeNode(object):\n",
    "    def __init__(self, x):\n",
    "        self.val = x\n",
    "        self.left = None\n",
    "        self.right = None\n",
    "# recursive version\n",
    "# Runtime: 24 ms, faster than 99.96% of Python online submissions for Maximum Depth of Binary Tree.\n",
    "# Memory Usage: 14.4 MB, less than 5.14% of Python online submissions for Maximum Depth of Binary Tree.\n",
    "class Solution(object):\n",
    "    def maxDepth(self, root):\n",
    "        \"\"\"\n",
    "        :type root: TreeNode\n",
    "        :rtype: int\n",
    "        \"\"\"\n",
    "        if not root:\n",
    "            return 0\n",
    "        maxl = self.maxDepth(root.left)\n",
    "        maxr = self.maxDepth(root.right)\n",
    "        if not maxl:\n",
    "            return maxr+1\n",
    "        if not maxr:\n",
    "            return maxl+1\n",
    "        return maxl+1 if maxl>maxr else maxr+1"
   ]
  },
  {
   "cell_type": "code",
   "execution_count": 11,
   "metadata": {},
   "outputs": [],
   "source": [
    "r = TreeNode(3)\n",
    "r.left = TreeNode(9)\n",
    "r.right = TreeNode(20)\n",
    "r.right.left = TreeNode(15)\n",
    "r.right.right = TreeNode(7)\n",
    "r.right.right.right = TreeNode(32)\n",
    "sol = Solution()"
   ]
  },
  {
   "cell_type": "code",
   "execution_count": 12,
   "metadata": {},
   "outputs": [
    {
     "data": {
      "text/plain": [
       "4"
      ]
     },
     "execution_count": 12,
     "metadata": {},
     "output_type": "execute_result"
    }
   ],
   "source": [
    "sol.maxDepth(r)"
   ]
  },
  {
   "cell_type": "code",
   "execution_count": 13,
   "metadata": {},
   "outputs": [],
   "source": [
    "# Runtime: 28 ms, faster than 99.83% of Python online submissions for Maximum Depth of Binary Tree.\n",
    "# Memory Usage: 14.7 MB, less than 5.14% of Python online submissions for Maximum Depth of Binary Tree.\n",
    "class Solution(object):\n",
    "    def maxDepth(self, root):\n",
    "        \"\"\"\n",
    "        :type root: TreeNode\n",
    "        :rtype: int\n",
    "        \"\"\"\n",
    "        if not root:\n",
    "            return \n",
    "        stack = [(root,1)]\n",
    "        result = []\n",
    "        while(stack):\n",
    "            node, depth = stack.pop()\n",
    "            if node.left is None and node.right is None:\n",
    "                result.append(depth)\n",
    "            if node.left:\n",
    "                stack.append((node.left, depth+1))\n",
    "            if node.right:\n",
    "                stack.append((node.right, depth+1))\n",
    "        return max(result)"
   ]
  },
  {
   "cell_type": "code",
   "execution_count": 14,
   "metadata": {},
   "outputs": [
    {
     "data": {
      "text/plain": [
       "4"
      ]
     },
     "execution_count": 14,
     "metadata": {},
     "output_type": "execute_result"
    }
   ],
   "source": [
    "r = TreeNode(3)\n",
    "r.left = TreeNode(9)\n",
    "r.right = TreeNode(20)\n",
    "r.right.left = TreeNode(15)\n",
    "r.right.right = TreeNode(7)\n",
    "r.right.right.right = TreeNode(32)\n",
    "sol = Solution()\n",
    "sol.maxDepth(r)"
   ]
  },
  {
   "cell_type": "code",
   "execution_count": null,
   "metadata": {},
   "outputs": [],
   "source": []
  }
 ],
 "metadata": {
  "kernelspec": {
   "display_name": "Python 3",
   "language": "python",
   "name": "python3"
  },
  "language_info": {
   "codemirror_mode": {
    "name": "ipython",
    "version": 3
   },
   "file_extension": ".py",
   "mimetype": "text/x-python",
   "name": "python",
   "nbconvert_exporter": "python",
   "pygments_lexer": "ipython3",
   "version": "3.5.1"
  }
 },
 "nbformat": 4,
 "nbformat_minor": 2
}
