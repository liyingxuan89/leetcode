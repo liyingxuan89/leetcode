{
 "cells": [
  {
   "cell_type": "markdown",
   "metadata": {},
   "source": [
    "Given a string s1, we may represent it as a binary tree by partitioning it to two non-empty substrings recursively.\n",
    "\n",
    "Below is one possible representation of s1 = \"great\":\n",
    "\n",
    "    great\n",
    "   /    \\\n",
    "  gr    eat\n",
    " / \\    /  \\\n",
    "g   r  e   at\n",
    "           / \\\n",
    "          a   t\n",
    "To scramble the string, we may choose any non-leaf node and swap its two children.\n",
    "\n",
    "For example, if we choose the node \"gr\" and swap its two children, it produces a scrambled string \"rgeat\".\n",
    "\n",
    "    rgeat\n",
    "   /    \\\n",
    "  rg    eat\n",
    " / \\    /  \\\n",
    "r   g  e   at\n",
    "           / \\\n",
    "          a   t\n",
    "We say that \"rgeat\" is a scrambled string of \"great\".\n",
    "\n",
    "Similarly, if we continue to swap the children of nodes \"eat\" and \"at\", it produces a scrambled string \"rgtae\".\n",
    "\n",
    "    rgtae\n",
    "   /    \\\n",
    "  rg    tae\n",
    " / \\    /  \\\n",
    "r   g  ta  e\n",
    "       / \\\n",
    "      t   a\n",
    "We say that \"rgtae\" is a scrambled string of \"great\".\n",
    "\n",
    "Given two strings s1 and s2 of the same length, determine if s2 is a scrambled string of s1.\n",
    "\n",
    "#### Example 1:\n",
    "\n",
    "Input: s1 = \"great\", s2 = \"rgeat\"\n",
    "Output: true\n",
    "#### Example 2:\n",
    "\n",
    "Input: s1 = \"abcde\", s2 = \"caebd\"\n",
    "Output: false"
   ]
  },
  {
   "cell_type": "code",
   "execution_count": null,
   "metadata": {
    "collapsed": true
   },
   "outputs": [],
   "source": []
  }
 ],
 "metadata": {
  "kernelspec": {
   "display_name": "Python 3",
   "language": "python",
   "name": "python3"
  },
  "language_info": {
   "codemirror_mode": {
    "name": "ipython",
    "version": 3
   },
   "file_extension": ".py",
   "mimetype": "text/x-python",
   "name": "python",
   "nbconvert_exporter": "python",
   "pygments_lexer": "ipython3",
   "version": "3.5.1"
  }
 },
 "nbformat": 4,
 "nbformat_minor": 1
}
