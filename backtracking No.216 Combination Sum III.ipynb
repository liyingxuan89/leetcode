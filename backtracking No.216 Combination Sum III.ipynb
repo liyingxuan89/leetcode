{
 "cells": [
  {
   "cell_type": "markdown",
   "metadata": {},
   "source": [
    "Find all possible combinations of k numbers that add up to a number n, given that only numbers from 1 to 9 can be used and each combination should be a unique set of numbers.\n",
    "\n",
    "Note:\n",
    "\n",
    "All numbers will be positive integers.\n",
    "The solution set must not contain duplicate combinations.\n",
    "Example 1:\n",
    "\n",
    "Input: k = 3, n = 7\n",
    "Output: [[1,2,4]]\n",
    "Example 2:\n",
    "\n",
    "Input: k = 3, n = 9\n",
    "Output: [[1,2,6], [1,3,5], [2,3,4]]"
   ]
  },
  {
   "cell_type": "code",
   "execution_count": 5,
   "metadata": {},
   "outputs": [],
   "source": [
    "#Runtime: 16 ms, faster than 97.02% of Python online submissions for Combination Sum III.\n",
    "#Memory Usage: 11.9 MB, less than 6.08% of Python online submissions for Combination Sum III.\n",
    "class Solution(object):\n",
    "    def combinationSum3(self, k, n):\n",
    "        \"\"\"\n",
    "        :type k: int\n",
    "        :type n: int\n",
    "        :rtype: List[List[int]]\n",
    "        \"\"\"\n",
    "        nums = range(1, 10)\n",
    "        res = []\n",
    "        def dfs(res, cur_list, s_idx, target):\n",
    "            if len(cur_list) > k:\n",
    "                return \n",
    "            if len(cur_list) == k and target == 0:\n",
    "                res.append(cur_list[:])\n",
    "            \n",
    "            for i in range(s_idx, len(nums)):\n",
    "                if nums[i] > target:\n",
    "                    return\n",
    "                cur_list.append(nums[i])\n",
    "                dfs(res, cur_list, i+1, target-nums[i])\n",
    "                cur_list.pop()\n",
    "        dfs(res, [], 0, n)\n",
    "        return res"
   ]
  },
  {
   "cell_type": "code",
   "execution_count": 7,
   "metadata": {},
   "outputs": [
    {
     "data": {
      "text/plain": [
       "[[1, 2, 4]]"
      ]
     },
     "execution_count": 7,
     "metadata": {},
     "output_type": "execute_result"
    }
   ],
   "source": [
    "sol = Solution()\n",
    "sol.combinationSum3(3, 7)"
   ]
  },
  {
   "cell_type": "code",
   "execution_count": null,
   "metadata": {},
   "outputs": [],
   "source": []
  }
 ],
 "metadata": {
  "kernelspec": {
   "display_name": "Python 3",
   "language": "python",
   "name": "python3"
  },
  "language_info": {
   "codemirror_mode": {
    "name": "ipython",
    "version": 3
   },
   "file_extension": ".py",
   "mimetype": "text/x-python",
   "name": "python",
   "nbconvert_exporter": "python",
   "pygments_lexer": "ipython3",
   "version": "3.7.3"
  }
 },
 "nbformat": 4,
 "nbformat_minor": 2
}
