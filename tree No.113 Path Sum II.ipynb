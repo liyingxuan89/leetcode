{
 "cells": [
  {
   "cell_type": "markdown",
   "metadata": {},
   "source": [
    "Given a binary tree and a sum, find all root-to-leaf paths where each path's sum equals the given sum.\n",
    "\n",
    "Note: A leaf is a node with no children.\n",
    "\n",
    "Example:\n",
    "\n",
    "Given the below binary tree and sum = 22,\n",
    "\n",
    "      5\n",
    "     / \\\n",
    "    4   8\n",
    "   /   / \\\n",
    "  11  13  4\n",
    " /  \\    / \\\n",
    "7    2  5   1\n",
    "Return:\n",
    "\n",
    "[\n",
    "   [5,4,11,2],\n",
    "   [5,8,4,5]\n",
    "]"
   ]
  },
  {
   "cell_type": "code",
   "execution_count": 17,
   "metadata": {},
   "outputs": [],
   "source": [
    "# Definition for a binary tree node.\n",
    "class TreeNode(object):\n",
    "    def __init__(self, x):\n",
    "        self.val = x\n",
    "        self.left = None\n",
    "        self.right = None\n",
    "#iterative version\n",
    "# Runtime: 40 ms, faster than 88.36% of Python online submissions for Path Sum II.\n",
    "# Memory Usage: 14 MB, less than 57.46% of Python online submissions for Path Sum II.\n",
    "class Solution(object):\n",
    "    def pathSum(self, root, sum):\n",
    "        \"\"\"\n",
    "        :type root: TreeNode\n",
    "        :type sum: int\n",
    "        :rtype: List[List[int]]\n",
    "        \"\"\"\n",
    "        if not root:\n",
    "            return []\n",
    "        result = []\n",
    "        stack = [(root, sum, [root.val])]\n",
    "        while(stack):\n",
    "            node, residue, path = stack.pop()\n",
    "            if node.left is None and node.right is None and node.val == residue:\n",
    "                result.append(path)\n",
    "            if node.left is not None:\n",
    "                stack.append((node.left, residue-node.val, path+[node.left.val]))\n",
    "            if node.right is not None:\n",
    "                stack.append((node.right, residue-node.val, path+[node.right.val]))\n",
    "        return result"
   ]
  },
  {
   "cell_type": "code",
   "execution_count": 18,
   "metadata": {},
   "outputs": [],
   "source": [
    "r = TreeNode(5)\n",
    "r.left = TreeNode(4)\n",
    "r.right = TreeNode(8)\n",
    "r.left.left = TreeNode(11)\n",
    "r.left.left.left = TreeNode(7)\n",
    "r.left.left.right = TreeNode(2)\n",
    "r.right.left = TreeNode(13)\n",
    "r.right.right = TreeNode(4)\n",
    "r.right.right.left = TreeNode(5)\n",
    "r.right.right.right = TreeNode(1)"
   ]
  },
  {
   "cell_type": "code",
   "execution_count": 19,
   "metadata": {},
   "outputs": [
    {
     "data": {
      "text/plain": [
       "[[5, 8, 4, 5], [5, 4, 11, 2]]"
      ]
     },
     "execution_count": 19,
     "metadata": {},
     "output_type": "execute_result"
    }
   ],
   "source": [
    "sol = Solution()\n",
    "sol.pathSum(r, 22)"
   ]
  },
  {
   "cell_type": "code",
   "execution_count": null,
   "metadata": {},
   "outputs": [],
   "source": []
  }
 ],
 "metadata": {
  "kernelspec": {
   "display_name": "Python 3",
   "language": "python",
   "name": "python3"
  },
  "language_info": {
   "codemirror_mode": {
    "name": "ipython",
    "version": 3
   },
   "file_extension": ".py",
   "mimetype": "text/x-python",
   "name": "python",
   "nbconvert_exporter": "python",
   "pygments_lexer": "ipython3",
   "version": "3.5.1"
  }
 },
 "nbformat": 4,
 "nbformat_minor": 2
}
