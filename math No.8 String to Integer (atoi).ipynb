{
 "cells": [
  {
   "cell_type": "code",
   "execution_count": 1,
   "metadata": {},
   "outputs": [],
   "source": [
    "class Solution(object):\n",
    "    def myAtoi(self, str):\n",
    "        \"\"\"\n",
    "        :type str: str\n",
    "        :rtype: int\n",
    "        \"\"\"\n",
    "        str = str.strip()\n",
    "        strNum = 0\n",
    "        if len(str) == 0:\n",
    "            return strNum\n",
    "\n",
    "        positive = True\n",
    "        if str[0] == '+' or str[0] == '-':\n",
    "            if str[0] == '-':\n",
    "                positive = False\n",
    "            str = str[1:]\n",
    "\n",
    "        for char in str:\n",
    "            if char >= '0' and char <= '9':\n",
    "                strNum = strNum * 10 + ord(char) - ord('0')\n",
    "            if char < '0' or char > '9':\n",
    "                break\n",
    "\n",
    "        if strNum > 2147483647:\n",
    "            if positive == False:\n",
    "                return -2147483648\n",
    "            else:\n",
    "                return 2147483647\n",
    "        if not positive:\n",
    "            strNum = 0 - strNum\n",
    "        return strNum"
   ]
  },
  {
   "cell_type": "code",
   "execution_count": 2,
   "metadata": {},
   "outputs": [],
   "source": [
    "sol = Solution()"
   ]
  },
  {
   "cell_type": "code",
   "execution_count": 3,
   "metadata": {},
   "outputs": [
    {
     "data": {
      "text/plain": [
       "-8392"
      ]
     },
     "execution_count": 3,
     "metadata": {},
     "output_type": "execute_result"
    }
   ],
   "source": [
    "sol.myAtoi(\"-8392f gheoa\")"
   ]
  },
  {
   "cell_type": "code",
   "execution_count": null,
   "metadata": {},
   "outputs": [],
   "source": []
  }
 ],
 "metadata": {
  "kernelspec": {
   "display_name": "Python 2",
   "language": "python",
   "name": "python2"
  },
  "language_info": {
   "codemirror_mode": {
    "name": "ipython",
    "version": 2
   },
   "file_extension": ".py",
   "mimetype": "text/x-python",
   "name": "python",
   "nbconvert_exporter": "python",
   "pygments_lexer": "ipython2",
   "version": "2.7.10rc1"
  }
 },
 "nbformat": 4,
 "nbformat_minor": 2
}
