{
 "cells": [
  {
   "cell_type": "markdown",
   "metadata": {},
   "source": [
    "Given a list of words and two words word1 and word2, return the shortest distance between these two words in the list.\n",
    "\n",
    "#### Example:\n",
    "Assume that words = [\"practice\", \"makes\", \"perfect\", \"coding\", \"makes\"].\n",
    "\n",
    "Input: word1 = “coding”, word2 = “practice”\n",
    "Output: 3\n",
    "\n",
    "Input: word1 = \"makes\", word2 = \"coding\"\n",
    "Output: 1\n",
    "#### Note:\n",
    "You may assume that word1 does not equal to word2, and word1 and word2 are both in the list."
   ]
  },
  {
   "cell_type": "code",
   "execution_count": null,
   "metadata": {
    "collapsed": true
   },
   "outputs": [],
   "source": [
    "\n",
    "#进行一遍循环，同时用两个指针指向word1和word2出现的位置，每次出现word1或word2就更新他们相应指针的位置，并且每次都更新一下res\n",
    "class Solution(object):\n",
    "    def shortestDistance(self, words, word1, word2):\n",
    "        \"\"\"\n",
    "        :type words: List[str]\n",
    "        :type word1: str\n",
    "        :type word2: str\n",
    "        :rtype: int\n",
    "        \"\"\"\n",
    "        idx1, idx2, res = -1, -1, sys.maxsize\n",
    "        for idx, word in enumerate(words):\n",
    "            if word == word1:\n",
    "                idx1 = idx\n",
    "            if word == word2:\n",
    "                idx2 = idx\n",
    "            if idx1 != -1 and idx2 != -1:\n",
    "                res = min(res, abs(idx1-idx2))\n",
    "        return res"
   ]
  }
 ],
 "metadata": {
  "kernelspec": {
   "display_name": "Python 3",
   "language": "python",
   "name": "python3"
  },
  "language_info": {
   "codemirror_mode": {
    "name": "ipython",
    "version": 3
   },
   "file_extension": ".py",
   "mimetype": "text/x-python",
   "name": "python",
   "nbconvert_exporter": "python",
   "pygments_lexer": "ipython3",
   "version": "3.5.1"
  }
 },
 "nbformat": 4,
 "nbformat_minor": 1
}
