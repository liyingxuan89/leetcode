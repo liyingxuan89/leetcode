{
 "cells": [
  {
   "cell_type": "markdown",
   "metadata": {},
   "source": [
    "Given a positive integer, return its corresponding column title as appear in an Excel sheet.\n",
    "\n",
    "For example:\n",
    "\n",
    "    1 -> A\n",
    "    \n",
    "    2 -> B\n",
    "    \n",
    "    3 -> C\n",
    "    \n",
    "    ...\n",
    "    26 -> Z\n",
    "    \n",
    "    27 -> AA\n",
    "    \n",
    "    28 -> AB\n",
    "    \n",
    "    ...\n",
    "#### Example 1:\n",
    "\n",
    "Input: 1\n",
    "Output: \"A\"\n",
    "#### Example 2:\n",
    "\n",
    "Input: 28\n",
    "Output: \"AB\"\n",
    "#### Example 3:\n",
    "\n",
    "Input: 701\n",
    "Output: \"ZY\""
   ]
  },
  {
   "cell_type": "code",
   "execution_count": 9,
   "metadata": {
    "collapsed": true
   },
   "outputs": [],
   "source": [
    "# 错位映射\n",
    "#Runtime: 20 ms, faster than 49.96% of Python online submissions for Excel Sheet Column Title.\n",
    "#Memory Usage: 11.9 MB, less than 5.22% of Python online submissions for Excel Sheet Column Title.\n",
    "class Solution(object):\n",
    "    def convertToTitle(self, n):\n",
    "        \"\"\"\n",
    "        :type n: int\n",
    "        :rtype: str\n",
    "        \"\"\"\n",
    "        numbers = [0,1,2,3,4,5,6,7,8,9,10,11,12,13,14,15,16,17,18,19,20,21,22,23,24,25]\n",
    "        letters = \"ABCDEFGHIJKLMNOPQRSTUVWXYZ\"\n",
    "        mapper = dict(zip(numbers, letters))\n",
    "        res = \"\"\n",
    "        while n > 0:\n",
    "            i, j = divmod(n-1, 26)\n",
    "            res += mapper[j]\n",
    "            n = i\n",
    "        return res[::-1]"
   ]
  },
  {
   "cell_type": "code",
   "execution_count": 10,
   "metadata": {
    "collapsed": false
   },
   "outputs": [],
   "source": [
    "sol = Solution()"
   ]
  },
  {
   "cell_type": "code",
   "execution_count": 13,
   "metadata": {
    "collapsed": false
   },
   "outputs": [
    {
     "data": {
      "text/plain": [
       "'AB'"
      ]
     },
     "execution_count": 13,
     "metadata": {},
     "output_type": "execute_result"
    }
   ],
   "source": [
    "sol.convertToTitle(28)"
   ]
  },
  {
   "cell_type": "code",
   "execution_count": null,
   "metadata": {
    "collapsed": true
   },
   "outputs": [],
   "source": []
  }
 ],
 "metadata": {
  "kernelspec": {
   "display_name": "Python 3",
   "language": "python",
   "name": "python3"
  },
  "language_info": {
   "codemirror_mode": {
    "name": "ipython",
    "version": 3
   },
   "file_extension": ".py",
   "mimetype": "text/x-python",
   "name": "python",
   "nbconvert_exporter": "python",
   "pygments_lexer": "ipython3",
   "version": "3.5.1"
  }
 },
 "nbformat": 4,
 "nbformat_minor": 1
}
