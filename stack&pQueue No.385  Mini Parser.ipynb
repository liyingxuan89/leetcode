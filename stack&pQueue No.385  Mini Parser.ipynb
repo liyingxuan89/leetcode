{
 "cells": [
  {
   "cell_type": "markdown",
   "metadata": {},
   "source": [
    "Given a nested list of integers represented as a string, implement a parser to deserialize it.\n",
    "\n",
    "Each element is either an integer, or a list -- whose elements may also be integers or other lists.\n",
    "\n",
    "Note: You may assume that the string is well-formed:\n",
    "\n",
    "String is non-empty.\n",
    "String does not contain white spaces.\n",
    "String contains only digits 0-9, [, - ,, ].\n",
    "Example 1:\n",
    "\n",
    "Given s = \"324\",\n",
    "\n",
    "You should return a NestedInteger object which contains a single integer 324.\n",
    "Example 2:\n",
    "\n",
    "Given s = \"[123,[456,[789]]]\",\n",
    "\n",
    "Return a NestedInteger object containing a nested list with 2 elements:\n",
    "\n",
    "1. An integer containing value 123.\n",
    "2. A nested list containing two elements:\n",
    "    i.  An integer containing value 456.\n",
    "    ii. A nested list with one element:\n",
    "         a. An integer containing value 789."
   ]
  },
  {
   "cell_type": "code",
   "execution_count": 2,
   "metadata": {},
   "outputs": [
    {
     "ename": "SyntaxError",
     "evalue": "invalid syntax (<ipython-input-2-88d7774c692e>, line 62)",
     "output_type": "error",
     "traceback": [
      "\u001b[0;36m  File \u001b[0;32m\"<ipython-input-2-88d7774c692e>\"\u001b[0;36m, line \u001b[0;32m62\u001b[0m\n\u001b[0;31m    elif c == \"\"\u001b[0m\n\u001b[0m                ^\u001b[0m\n\u001b[0;31mSyntaxError\u001b[0m\u001b[0;31m:\u001b[0m invalid syntax\n"
     ]
    }
   ],
   "source": [
    "# \"\"\"\n",
    "# This is the interface that allows for creating nested lists.\n",
    "# You should not implement it, or speculate about its implementation\n",
    "# \"\"\"\n",
    "#class NestedInteger(object):\n",
    "#    def __init__(self, value=None):\n",
    "#        \"\"\"\n",
    "#        If value is not specified, initializes an empty list.\n",
    "#        Otherwise initializes a single integer equal to value.\n",
    "#        \"\"\"\n",
    "#\n",
    "#    def isInteger(self):\n",
    "#        \"\"\"\n",
    "#        @return True if this NestedInteger holds a single integer, rather than a nested list.\n",
    "#        :rtype bool\n",
    "#        \"\"\"\n",
    "#\n",
    "#    def add(self, elem):\n",
    "#        \"\"\"\n",
    "#        Set this NestedInteger to hold a nested list and adds a nested integer elem to it.\n",
    "#        :rtype void\n",
    "#        \"\"\"\n",
    "#\n",
    "#    def setInteger(self, value):\n",
    "#        \"\"\"\n",
    "#        Set this NestedInteger to hold a single integer equal to value.\n",
    "#        :rtype void\n",
    "#        \"\"\"\n",
    "#\n",
    "#    def getInteger(self):\n",
    "#        \"\"\"\n",
    "#        @return the single integer that this NestedInteger holds, if it holds a single integer\n",
    "#        Return None if this NestedInteger holds a nested list\n",
    "#        :rtype int\n",
    "#        \"\"\"\n",
    "#\n",
    "#    def getList(self):\n",
    "#        \"\"\"\n",
    "#        @return the nested list that this NestedInteger holds, if it holds a nested list\n",
    "#        Return None if this NestedInteger holds a single integer\n",
    "#        :rtype List[NestedInteger]\n",
    "#        \"\"\"\n",
    "\n",
    "class Solution(object):\n",
    "    def deserialize(self, s):\n",
    "        \"\"\"\n",
    "        :type s: str\n",
    "        :rtype: NestedInteger\n",
    "        \"\"\"\n",
    "        if not s or s == \"[]\":\n",
    "            return [NestedInteger()]\n",
    "        if s[0] != \"[\":\n",
    "            return [NestedInteger(int(s))]\n",
    "        res = NestedInteger()\n",
    "        nums = set(\"123456789-\")\n",
    "        s = s[1:-1]\n",
    "        i = 0\n",
    "        while i < len(s):\n",
    "            if s[i] in nums:\n",
    "                number = \"\"\n",
    "                while s[i] in nums:\n",
    "                    number += s[i]\n",
    "                    i += 1\n",
    "                res.add(int(number))\n",
    "                \n",
    "            elif c == \"[\":\n",
    "                 l, r ,temp = 0, 0, \"\"\n",
    "        \n",
    "        return stack"
   ]
  },
  {
   "cell_type": "code",
   "execution_count": 4,
   "metadata": {},
   "outputs": [
    {
     "data": {
      "text/plain": [
       "{',', '1', '3', '4'}"
      ]
     },
     "execution_count": 4,
     "metadata": {},
     "output_type": "execute_result"
    }
   ],
   "source": [
    "set(\"1,,3,4\")"
   ]
  },
  {
   "cell_type": "code",
   "execution_count": null,
   "metadata": {},
   "outputs": [],
   "source": []
  }
 ],
 "metadata": {
  "kernelspec": {
   "display_name": "Python 3",
   "language": "python",
   "name": "python3"
  },
  "language_info": {
   "codemirror_mode": {
    "name": "ipython",
    "version": 3
   },
   "file_extension": ".py",
   "mimetype": "text/x-python",
   "name": "python",
   "nbconvert_exporter": "python",
   "pygments_lexer": "ipython3",
   "version": "3.7.3"
  }
 },
 "nbformat": 4,
 "nbformat_minor": 2
}
