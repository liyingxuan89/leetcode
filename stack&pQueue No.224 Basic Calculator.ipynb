{
 "cells": [
  {
   "cell_type": "markdown",
   "metadata": {},
   "source": [
    "Implement a basic calculator to evaluate a simple expression string.\n",
    "\n",
    "The expression string may contain open ( and closing parentheses ), the plus + or minus sign -, non-negative integers and empty spaces .\n",
    "\n",
    "Example 1:\n",
    "\n",
    "Input: \"1 + 1\"\n",
    "Output: 2\n",
    "Example 2:\n",
    "\n",
    "Input: \" 2-1 + 2 \"\n",
    "Output: 3\n",
    "Example 3:\n",
    "\n",
    "Input: \"(1+(4+5+2)-3)+(6+8)\"\n",
    "Output: 23\n",
    "Note:\n",
    "You may assume that the given expression is always valid.\n",
    "Do not use the eval built-in library function."
   ]
  },
  {
   "cell_type": "code",
   "execution_count": 29,
   "metadata": {},
   "outputs": [],
   "source": [
    "#Runtime: 216 ms, faster than 25.87% of Python online submissions for Basic Calculator.\n",
    "# Memory Usage: 13.9 MB, less than 70.87% of Python online submissions for Basic Calculator.\n",
    "class Solution(object):\n",
    "    def calculate(self, s):\n",
    "        \"\"\"\n",
    "        :type s: str\n",
    "        :rtype: int\n",
    "        \"\"\"\n",
    "        num_stack = []\n",
    "        symble_stack = []\n",
    "        s = s.replace(\" \", \"\")\n",
    "        level = 0\n",
    "        i = 0\n",
    "        #给每个符号确定优先级\n",
    "        while i < len(s):\n",
    "            #print(s[i])\n",
    "            if s[i].isdigit():\n",
    "                start = i\n",
    "                while i < len(s) and s[i].isdigit():\n",
    "                    i += 1\n",
    "                num_stack.append(int(s[start:i]))\n",
    "                continue\n",
    "\n",
    "            elif s[i] in \"+-\":\n",
    "                #出现优先级下降时，出栈计算，回栈\n",
    "                while symble_stack and symble_stack[-1][1] >= level:\n",
    "                    sign = symble_stack.pop()[0]\n",
    "                    r = num_stack.pop()\n",
    "                    l = num_stack.pop()\n",
    "                    num_stack.append(self.operate(l, r, sign))\n",
    "                symble_stack.append((s[i], level))\n",
    "\n",
    "            elif s[i] == \"(\":\n",
    "                level += 1\n",
    "            elif  s[i] == \")\":\n",
    "                level -= 1\n",
    "            i += 1\n",
    "        # 计算剩余的普通表达式\n",
    "        while symble_stack:\n",
    "            sign = symble_stack.pop()[0]\n",
    "            r = num_stack.pop()\n",
    "            l = num_stack.pop()\n",
    "            num_stack.append(self.operate(l, r, sign))\n",
    "\n",
    "\n",
    "        return num_stack[0]\n",
    "\n",
    "    def operate(self, l, r, symble):\n",
    "        if symble == \"+\":\n",
    "            return l + r\n",
    "        if symble == \"-\":\n",
    "            return l - r       "
   ]
  },
  {
   "cell_type": "code",
   "execution_count": 30,
   "metadata": {},
   "outputs": [
    {
     "data": {
      "text/plain": [
       "23"
      ]
     },
     "execution_count": 30,
     "metadata": {},
     "output_type": "execute_result"
    }
   ],
   "source": [
    "sol = Solution()\n",
    "sol.calculate(\"(1+(4+5+2)-3)+(6+8)\")"
   ]
  },
  {
   "cell_type": "code",
   "execution_count": 31,
   "metadata": {},
   "outputs": [
    {
     "data": {
      "text/plain": [
       "2"
      ]
     },
     "execution_count": 31,
     "metadata": {},
     "output_type": "execute_result"
    }
   ],
   "source": [
    "sol.calculate(\"1-2+3\") "
   ]
  },
  {
   "cell_type": "code",
   "execution_count": 32,
   "metadata": {},
   "outputs": [
    {
     "data": {
      "text/plain": [
       "1234563"
      ]
     },
     "execution_count": 32,
     "metadata": {},
     "output_type": "execute_result"
    }
   ],
   "source": [
    "sol.calculate(\"1234563\")"
   ]
  }
 ],
 "metadata": {
  "kernelspec": {
   "display_name": "Python 3",
   "language": "python",
   "name": "python3"
  },
  "language_info": {
   "codemirror_mode": {
    "name": "ipython",
    "version": 3
   },
   "file_extension": ".py",
   "mimetype": "text/x-python",
   "name": "python",
   "nbconvert_exporter": "python",
   "pygments_lexer": "ipython3",
   "version": "3.7.3"
  }
 },
 "nbformat": 4,
 "nbformat_minor": 2
}
