{
 "cells": [
  {
   "cell_type": "markdown",
   "metadata": {},
   "source": [
    "Given a string containing only digits, restore it by returning all possible valid IP address combinations.\n",
    "\n",
    "Example:\n",
    "\n",
    "Input: \"25525511135\"\n",
    "Output: [\"255.255.11.135\", \"255.255.111.35\"]"
   ]
  },
  {
   "cell_type": "code",
   "execution_count": 19,
   "metadata": {},
   "outputs": [],
   "source": [
    "# Runtime: 8 ms, faster than 99.67% of Python online submissions for Restore IP Addresses.\n",
    "# Memory Usage: 11.7 MB, less than 75.00% of Python online submissions for Restore IP Addresses.\n",
    "class Solution(object):\n",
    "    def restoreIpAddresses(self, s):\n",
    "        \"\"\"\n",
    "        :type s: str\n",
    "        :rtype: List[str]\n",
    "        \"\"\"\n",
    "        res = []\n",
    "        self.dfs(0, s, \"\", res)\n",
    "        return res\n",
    "\n",
    "    def dfs(self, index, string, path, res):\n",
    "        if index == 4:\n",
    "            if not string:\n",
    "                # 每个ip段加了一个点，最后一段也有\n",
    "                res.append(path[:-1])\n",
    "            return\n",
    "        \n",
    "        for i in range(1, 4):\n",
    "            if i <= len(string):\n",
    "                if i == 1:\n",
    "                    self.dfs(index+1, string[i:], path+string[:1]+\".\", res)\n",
    "                elif i == 2 and string[0] != \"0\":\n",
    "                    self.dfs(index+1, string[i:], path+string[:2]+\".\", res)\n",
    "                elif i == 3 and string[0] != \"0\" and int(string[:3]) < 256:\n",
    "                    self.dfs(index+1, string[i:], path+string[:3]+\".\", res)"
   ]
  },
  {
   "cell_type": "code",
   "execution_count": 20,
   "metadata": {},
   "outputs": [
    {
     "data": {
      "text/plain": [
       "['255.255.11.135', '255.255.111.35']"
      ]
     },
     "execution_count": 20,
     "metadata": {},
     "output_type": "execute_result"
    }
   ],
   "source": [
    "sol = Solution()\n",
    "sol.restoreIpAddresses(\"25525511135\")"
   ]
  },
  {
   "cell_type": "code",
   "execution_count": 21,
   "metadata": {},
   "outputs": [
    {
     "data": {
      "text/plain": [
       "['0.0.0.0']"
      ]
     },
     "execution_count": 21,
     "metadata": {},
     "output_type": "execute_result"
    }
   ],
   "source": [
    "sol.restoreIpAddresses(\"0000\")"
   ]
  },
  {
   "cell_type": "code",
   "execution_count": null,
   "metadata": {},
   "outputs": [],
   "source": []
  }
 ],
 "metadata": {
  "kernelspec": {
   "display_name": "Python 3",
   "language": "python",
   "name": "python3"
  },
  "language_info": {
   "codemirror_mode": {
    "name": "ipython",
    "version": 3
   },
   "file_extension": ".py",
   "mimetype": "text/x-python",
   "name": "python",
   "nbconvert_exporter": "python",
   "pygments_lexer": "ipython3",
   "version": "3.7.3"
  }
 },
 "nbformat": 4,
 "nbformat_minor": 2
}
