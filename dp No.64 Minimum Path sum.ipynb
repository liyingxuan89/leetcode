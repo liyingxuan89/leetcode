{
 "cells": [
  {
   "cell_type": "markdown",
   "metadata": {},
   "source": [
    "Given a m x n grid filled with non-negative numbers, find a path from top left to bottom right which minimizes the sum of all numbers along its path.\n",
    "\n",
    "Note: You can only move either down or right at any point in time.\n",
    "\n",
    "Example:\n",
    "\n",
    "Input:\n",
    "[\n",
    "  [1,3,1],\n",
    "  [1,5,1],\n",
    "  [4,2,1]\n",
    "]\n",
    "Output: 7\n",
    "Explanation: Because the path 1→3→1→1→1 minimizes the sum."
   ]
  },
  {
   "cell_type": "code",
   "execution_count": 7,
   "metadata": {},
   "outputs": [
    {
     "data": {
      "text/plain": [
       "7"
      ]
     },
     "execution_count": 7,
     "metadata": {},
     "output_type": "execute_result"
    }
   ],
   "source": [
    "# Runtime: 76 ms, faster than 91.49% of Python online submissions for Minimum Path Sum.\n",
    "# Memory Usage: 13.2 MB, less than 10.24% of Python online submissions for Minimum Path Sum.\n",
    "# 和　62 63题几乎一模一样\n",
    "class Solution(object):\n",
    "    def minPathSum(self, grid):\n",
    "        \"\"\"\n",
    "        :type grid: List[List[int]]\n",
    "        :rtype: int\n",
    "        \"\"\"\n",
    "        m, n = len(grid), len(grid[0])\n",
    "        dp = [[0 for i in range(n)] for _ in range(m)]\n",
    "        \n",
    "        for i in range(m):\n",
    "            for j in range(n):\n",
    "                if i == 0 and j == 0:\n",
    "                    dp[i][j] = grid[i][j]\n",
    "                elif i == 0:\n",
    "                    dp[i][j] = dp[i][j-1] + grid[i][j]\n",
    "                elif j == 0:\n",
    "                    dp[i][j] = dp[i-1][j] + grid[i][j]\n",
    "                else:\n",
    "                    dp[i][j] = min(dp[i-1][j], dp[i][j-1]) + grid[i][j]\n",
    "        \n",
    "        return dp[m-1][n-1]\n",
    "    \n",
    "sol = Solution()\n",
    "sol.minPathSum([\n",
    "  [1,3,1],\n",
    "  [1,5,1],\n",
    "  [4,2,1]\n",
    "])"
   ]
  },
  {
   "cell_type": "code",
   "execution_count": null,
   "metadata": {},
   "outputs": [],
   "source": []
  }
 ],
 "metadata": {
  "kernelspec": {
   "display_name": "Python 3",
   "language": "python",
   "name": "python3"
  },
  "language_info": {
   "codemirror_mode": {
    "name": "ipython",
    "version": 3
   },
   "file_extension": ".py",
   "mimetype": "text/x-python",
   "name": "python",
   "nbconvert_exporter": "python",
   "pygments_lexer": "ipython3",
   "version": "3.7.3"
  }
 },
 "nbformat": 4,
 "nbformat_minor": 2
}
