{
 "cells": [
  {
   "cell_type": "markdown",
   "metadata": {},
   "source": [
    "Given a binary tree, flatten it to a linked list in-place.\n",
    "\n",
    "For example, given the following tree:\n",
    "\n",
    "    1\n",
    "   / \\\n",
    "  2   5\n",
    " / \\   \\\n",
    "3   4   6\n",
    "The flattened tree should look like:\n",
    "\n",
    "1\n",
    " \\\n",
    "  2\n",
    "   \\\n",
    "    3\n",
    "     \\\n",
    "      4\n",
    "       \\\n",
    "        5\n",
    "         \\\n",
    "          6"
   ]
  },
  {
   "cell_type": "code",
   "execution_count": 1,
   "metadata": {},
   "outputs": [],
   "source": [
    "# Definition for a binary tree node.\n",
    "class TreeNode(object):\n",
    "    def __init__(self, x):\n",
    "        self.val = x\n",
    "        self.left = None\n",
    "        self.right = None\n",
    "\n",
    "# Runtime: 20 ms, faster than 83.86% of Python online submissions for Flatten Binary Tree to Linked List.\n",
    "# Memory Usage: 12 MB, less than 80.00% of Python online submissions for Flatten Binary Tree to Linked List.\n",
    "class Solution(object):\n",
    "    def flatten(self, root):\n",
    "        \"\"\"\n",
    "        :type root: TreeNode\n",
    "        :rtype: None Do not return anything, modify root in-place instead.\n",
    "        \"\"\"\n",
    "        stack = [root]\n",
    "        while stack and root:\n",
    "            node = stack.pop()\n",
    "            if node.right:\n",
    "                stack.append(node.right)\n",
    "            if node.left:\n",
    "                stack.append(node.left)\n",
    "            node.left = None\n",
    "            node.right = stack[-1] if stack else None\n",
    "            \n",
    "        \n",
    "            \n",
    "        \n",
    "        "
   ]
  },
  {
   "cell_type": "code",
   "execution_count": null,
   "metadata": {},
   "outputs": [],
   "source": []
  }
 ],
 "metadata": {
  "kernelspec": {
   "display_name": "Python 3",
   "language": "python",
   "name": "python3"
  },
  "language_info": {
   "codemirror_mode": {
    "name": "ipython",
    "version": 3
   },
   "file_extension": ".py",
   "mimetype": "text/x-python",
   "name": "python",
   "nbconvert_exporter": "python",
   "pygments_lexer": "ipython3",
   "version": "3.7.3"
  }
 },
 "nbformat": 4,
 "nbformat_minor": 2
}
