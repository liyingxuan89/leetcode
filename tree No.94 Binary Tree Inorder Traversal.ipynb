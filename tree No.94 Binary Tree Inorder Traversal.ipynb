{
 "cells": [
  {
   "cell_type": "markdown",
   "metadata": {},
   "source": [
    "Given a binary tree, return the inorder traversal of its nodes' values.\n",
    "\n",
    "Example:\n",
    "\n",
    "Input: [1,null,2,3]\n",
    "   1\n",
    "    \\\n",
    "     2\n",
    "    /\n",
    "   3\n",
    "\n",
    "Output: [1,3,2]\n",
    "Follow up: Recursive solution is trivial, could you do it iteratively?"
   ]
  },
  {
   "cell_type": "code",
   "execution_count": 1,
   "metadata": {
    "collapsed": true
   },
   "outputs": [],
   "source": [
    "# Definition for a binary tree node.\n",
    "class TreeNode(object):\n",
    "    def __init__(self, x):\n",
    "        self.val = x\n",
    "        self.left = None\n",
    "        self.right = None\n",
    "\n",
    "# Runtime: 20 ms, faster than 78.31% of Python online submissions for Binary Tree Inorder Traversal.\n",
    "# Memory Usage: 11.9 MB, less than 5.78% of Python online submissions for Binary Tree Inorder Traversal.\n",
    "class Solution(object):\n",
    "    def inorderTraversal(self, root):\n",
    "        \"\"\"\n",
    "        :type root: TreeNode\n",
    "        :rtype: List[int]\n",
    "        \"\"\"\n",
    "        if not root:\n",
    "            return []\n",
    "        else:\n",
    "            return self.inorderTraversal(root.left) + [root.val] + self.inorderTraversal(root.right)"
   ]
  },
  {
   "cell_type": "code",
   "execution_count": 5,
   "metadata": {
    "collapsed": true
   },
   "outputs": [],
   "source": [
    "# Runtime: 20 ms, faster than 78.30% of Python online submissions for Binary Tree Inorder Traversal.\n",
    "# Memory Usage: 11.6 MB, less than 5.78% of Python online submissions for Binary Tree Inorder Traversal.\n",
    "\n",
    "class Solution(object):\n",
    "    def inorderTraversal(self, root):\n",
    "        \"\"\"\n",
    "        :type root: TreeNode\n",
    "        :rtype: List[int]\n",
    "        \"\"\"\n",
    "        res = []\n",
    "        stack = []\n",
    "        while(True):\n",
    "            while(root):\n",
    "                stack.append(root)\n",
    "                root = root.left\n",
    "            if stack:\n",
    "                node = stack.pop()\n",
    "                res.append(node.val)\n",
    "                # 进入右子树，当右子树为None时，重新进入if\n",
    "                root = node.right\n",
    "            else:\n",
    "                return res"
   ]
  },
  {
   "cell_type": "code",
   "execution_count": 6,
   "metadata": {
    "collapsed": true
   },
   "outputs": [],
   "source": [
    "sol = Solution()"
   ]
  },
  {
   "cell_type": "code",
   "execution_count": 7,
   "metadata": {
    "collapsed": true
   },
   "outputs": [],
   "source": [
    "Rt = TreeNode(1)\n",
    "Rt.left = TreeNode(2)\n",
    "Rt.left.left = TreeNode(4)\n",
    "Rt.left.right = TreeNode(5)\n",
    "Rt.left.right.left = TreeNode(7)\n",
    "Rt.left.right.right = TreeNode(8)\n",
    "Rt.right = TreeNode(3)\n",
    "Rt.right.left = TreeNode(6)\n",
    "res = sol.inorderTraversal(Rt)"
   ]
  },
  {
   "cell_type": "code",
   "execution_count": 8,
   "metadata": {},
   "outputs": [
    {
     "data": {
      "text/plain": [
       "[4, 2, 7, 5, 8, 1, 6, 3]"
      ]
     },
     "execution_count": 8,
     "metadata": {},
     "output_type": "execute_result"
    }
   ],
   "source": [
    "res"
   ]
  },
  {
   "cell_type": "code",
   "execution_count": null,
   "metadata": {
    "collapsed": true
   },
   "outputs": [],
   "source": []
  }
 ],
 "metadata": {
  "kernelspec": {
   "display_name": "Python 3",
   "language": "python",
   "name": "python3"
  },
  "language_info": {
   "codemirror_mode": {
    "name": "ipython",
    "version": 3
   },
   "file_extension": ".py",
   "mimetype": "text/x-python",
   "name": "python",
   "nbconvert_exporter": "python",
   "pygments_lexer": "ipython3",
   "version": "3.6.8"
  }
 },
 "nbformat": 4,
 "nbformat_minor": 2
}
