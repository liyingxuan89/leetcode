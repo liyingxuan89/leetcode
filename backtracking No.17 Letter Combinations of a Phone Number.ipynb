{
 "cells": [
  {
   "cell_type": "markdown",
   "metadata": {},
   "source": [
    "Given a string containing digits from 2-9 inclusive, return all possible letter combinations that the number could represent.\n",
    "\n",
    "A mapping of digit to letters (just like on the telephone buttons) is given below. Note that 1 does not map to any letters.\n",
    "\n",
    "\n",
    "\n",
    "Example:\n",
    "\n",
    "Input: \"23\"\n",
    "Output: [\"ad\", \"ae\", \"af\", \"bd\", \"be\", \"bf\", \"cd\", \"ce\", \"cf\"].\n",
    "Note:\n",
    "\n",
    "Although the above answer is in lexicographical order, your answer could be in any order you want."
   ]
  },
  {
   "cell_type": "code",
   "execution_count": 30,
   "metadata": {},
   "outputs": [],
   "source": [
    "# Runtime: 16 ms, faster than 97.66% of Python online submissions for Letter Combinations of a Phone Number.\n",
    "# Memory Usage: 12 MB, less than 5.22% of Python online submissions for Letter Combinations of a Phone Number.\n",
    "class Solution(object):\n",
    "    def letterCombinations(self, digits):\n",
    "        \"\"\"\n",
    "        :type digits: str\n",
    "        :rtype: List[str]\n",
    "        \"\"\"\n",
    "        if not digits:\n",
    "            return []\n",
    "        mapper = {\"2\":\"abc\", \"3\":\"def\", \"4\":\"ghi\", \\\n",
    "                  \"5\":\"jkl\", \"6\":\"mno\", \"7\":\"pqrs\", \"8\":\"tuv\", \"9\":\"wxyz\"}\n",
    "        digits = [x for x in digits]\n",
    "        res = []\n",
    "        \n",
    "        def dfs(res, cur_str, level, digits):\n",
    "            if len(cur_str) == len(digits):\n",
    "                res.append(cur_str)\n",
    "                return \n",
    "            cur_digit = digits[level]\n",
    "            letters = mapper[cur_digit]\n",
    "            for i in range(len(letters)):\n",
    "                cur_str += letters[i]\n",
    "                dfs(res, cur_str, level+1, digits)\n",
    "                # 不能用 cur_str.rstrip()，会一次性删除多个元素\n",
    "                cur_str = cur_str[:-1]\n",
    "        \n",
    "        dfs(res, \"\", 0, digits)\n",
    "        return res\n",
    "                "
   ]
  },
  {
   "cell_type": "code",
   "execution_count": 33,
   "metadata": {},
   "outputs": [
    {
     "data": {
      "text/plain": [
       "['']"
      ]
     },
     "execution_count": 33,
     "metadata": {},
     "output_type": "execute_result"
    }
   ],
   "source": [
    "sol = Solution()\n",
    "sol.letterCombinations(\"\")"
   ]
  },
  {
   "cell_type": "code",
   "execution_count": null,
   "metadata": {},
   "outputs": [],
   "source": []
  }
 ],
 "metadata": {
  "kernelspec": {
   "display_name": "Python 3",
   "language": "python",
   "name": "python3"
  },
  "language_info": {
   "codemirror_mode": {
    "name": "ipython",
    "version": 3
   },
   "file_extension": ".py",
   "mimetype": "text/x-python",
   "name": "python",
   "nbconvert_exporter": "python",
   "pygments_lexer": "ipython3",
   "version": "3.7.3"
  }
 },
 "nbformat": 4,
 "nbformat_minor": 2
}
