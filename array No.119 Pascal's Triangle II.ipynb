{
 "cells": [
  {
   "cell_type": "markdown",
   "metadata": {},
   "source": [
    "Given a non-negative index k where k ≤ 33, return the kth index row of the Pascal's triangle.\n",
    "\n",
    "Note that the row index starts from 0.\n",
    "\n",
    "\n",
    "In Pascal's triangle, each number is the sum of the two numbers directly above it.\n",
    "\n",
    "#### Example:\n",
    "\n",
    "Input: 3\n",
    "Output: [1,3,3,1]\n",
    "Follow up:\n",
    "\n",
    "Could you optimize your algorithm to use only O(k) extra space?"
   ]
  },
  {
   "cell_type": "code",
   "execution_count": 3,
   "metadata": {
    "collapsed": true
   },
   "outputs": [],
   "source": [
    "#Runtime: 16 ms, faster than 100.00% of Python online submissions for Pascal's Triangle II.\n",
    "#Memory Usage: 10.6 MB, less than 99.46% of Python online submissions for Pascal's Triangle II.\n",
    "class Solution(object):\n",
    "    def getRow(self, rowIndex):\n",
    "        \"\"\"\n",
    "        :type rowIndex: int\n",
    "        :rtype: List[int]\n",
    "        \"\"\"\n",
    "        if rowIndex in (0,1):\n",
    "            return [1 for i in range(rowIndex+1)]\n",
    "        else:\n",
    "            res = [1,1]\n",
    "            while(rowIndex-2>=0):\n",
    "                res = [1]+[res[i] + res[i+1] for i in range(len(res)-1)] + [1]\n",
    "                rowIndex -= 1\n",
    "            return res"
   ]
  },
  {
   "cell_type": "code",
   "execution_count": 4,
   "metadata": {
    "collapsed": false
   },
   "outputs": [
    {
     "name": "stdout",
     "output_type": "stream",
     "text": [
      "[1, 3, 3, 1]\n"
     ]
    }
   ],
   "source": [
    "sol = Solution()\n",
    "res = sol.getRow(3)\n",
    "print(res)"
   ]
  },
  {
   "cell_type": "code",
   "execution_count": null,
   "metadata": {
    "collapsed": true
   },
   "outputs": [],
   "source": []
  }
 ],
 "metadata": {
  "kernelspec": {
   "display_name": "Python 3",
   "language": "python",
   "name": "python3"
  },
  "language_info": {
   "codemirror_mode": {
    "name": "ipython",
    "version": 3
   },
   "file_extension": ".py",
   "mimetype": "text/x-python",
   "name": "python",
   "nbconvert_exporter": "python",
   "pygments_lexer": "ipython3",
   "version": "3.5.1"
  }
 },
 "nbformat": 4,
 "nbformat_minor": 1
}
