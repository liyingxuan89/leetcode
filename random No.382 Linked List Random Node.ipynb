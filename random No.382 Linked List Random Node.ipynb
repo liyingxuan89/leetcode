{
 "cells": [
  {
   "cell_type": "markdown",
   "metadata": {},
   "source": [
    "Given a singly linked list, return a random node's value from the linked list. Each node must have the same probability of being chosen.\n",
    "\n",
    "Follow up:\n",
    "What if the linked list is extremely large and its length is unknown to you? Could you solve this efficiently without using extra space?\n",
    "\n",
    "Example:\n",
    "\n",
    "// Init a singly linked list [1,2,3].\n",
    "ListNode head = new ListNode(1);\n",
    "head.next = new ListNode(2);\n",
    "head.next.next = new ListNode(3);\n",
    "Solution solution = new Solution(head);\n",
    "\n",
    "// getRandom() should return either 1, 2, or 3 randomly. Each element should have equal probability of returning.\n",
    "solution.getRandom();"
   ]
  },
  {
   "cell_type": "code",
   "execution_count": 2,
   "metadata": {},
   "outputs": [],
   "source": [
    "# Runtime: 60 ms, faster than 99.80% of Python online submissions for Linked List Random Node.\n",
    "# Memory Usage: 16.1 MB, less than 55.21% of Python online submissions for Linked List Random Node.\n",
    "# Definition for singly-linked list.\n",
    "# class ListNode(object):\n",
    "#     def __init__(self, x):\n",
    "#         self.val = x\n",
    "#         self.next = None\n",
    "import random\n",
    "class Solution(object):\n",
    "\n",
    "    def __init__(self, head):\n",
    "        \"\"\"\n",
    "        @param head The linked list's head.\n",
    "        Note that the head is guaranteed to be not null, so it contains at least one node.\n",
    "        :type head: ListNode\n",
    "        \"\"\"\n",
    "        self.l = self.ensembleList(head)\n",
    "        \n",
    "\n",
    "    def getRandom(self):\n",
    "        \"\"\"\n",
    "        Returns a random node's value.\n",
    "        :rtype: int\n",
    "        \"\"\"\n",
    "        return random.choice(self.l)\n",
    "        \n",
    "    def ensembleList(self, node):\n",
    "        res = []\n",
    "        while node:\n",
    "            res.append(node.val)\n",
    "            node = node.next\n",
    "        return res\n",
    "        \n",
    "\n",
    "\n",
    "# Your Solution object will be instantiated and called as such:\n",
    "# obj = Solution(head)\n",
    "# param_1 = obj.getRandom()"
   ]
  },
  {
   "cell_type": "code",
   "execution_count": 17,
   "metadata": {},
   "outputs": [
    {
     "data": {
      "text/plain": [
       "2"
      ]
     },
     "execution_count": 17,
     "metadata": {},
     "output_type": "execute_result"
    }
   ],
   "source": [
    "random.choice([1,2,3,4,5])"
   ]
  },
  {
   "cell_type": "code",
   "execution_count": null,
   "metadata": {},
   "outputs": [],
   "source": []
  }
 ],
 "metadata": {
  "kernelspec": {
   "display_name": "Python 3",
   "language": "python",
   "name": "python3"
  },
  "language_info": {
   "codemirror_mode": {
    "name": "ipython",
    "version": 3
   },
   "file_extension": ".py",
   "mimetype": "text/x-python",
   "name": "python",
   "nbconvert_exporter": "python",
   "pygments_lexer": "ipython3",
   "version": "3.5.1"
  }
 },
 "nbformat": 4,
 "nbformat_minor": 2
}
