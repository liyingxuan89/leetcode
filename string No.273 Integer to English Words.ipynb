{
 "cells": [
  {
   "cell_type": "markdown",
   "metadata": {},
   "source": [
    "Convert a non-negative integer to its english words representation. Given input is guaranteed to be less than 231 - 1.\n",
    "\n",
    "#### Example 1:\n",
    "\n",
    "Input: 123\n",
    "Output: \"One Hundred Twenty Three\"\n",
    "#### Example 2:\n",
    "\n",
    "Input: 12345\n",
    "Output: \"Twelve Thousand Three Hundred Forty Five\"\n",
    "#### Example 3:\n",
    "\n",
    "Input: 1234567\n",
    "Output: \"One Million Two Hundred Thirty Four Thousand Five Hundred Sixty Seven\"\n",
    "#### Example 4:\n",
    "\n",
    "Input: 1234567891\n",
    "Output: \"One Billion Two Hundred Thirty Four Million Five Hundred Sixty Seven Thousand Eight Hundred Ninety One"
   ]
  },
  {
   "cell_type": "code",
   "execution_count": 7,
   "metadata": {
    "collapsed": true
   },
   "outputs": [],
   "source": [
    "#Runtime: 28 ms, faster than 28.14% of Python online submissions for Integer to English Words.\n",
    "#Memory Usage: 12.1 MB, less than 6.82% of Python online submissions for Integer to English Words.\n",
    "class Solution(object):\n",
    "    def numberToWords(self, num):\n",
    "        \"\"\"\n",
    "        :type num: int\n",
    "        :rtype: str\n",
    "        \"\"\"\n",
    "\n",
    "        n2w = {1e9: \"Billion\", 1e6: \"Million\", 1e3: \"Thousand\", 1e2: \"Hundred\",\n",
    "               90:  \"Ninety\", 80:  \"Eighty\", 70:  \"Seventy\",\n",
    "               60:  \"Sixty\", 50:  \"Fifty\", 40:  \"Forty\",\n",
    "               30:  \"Thirty\", 20:  \"Twenty\", 19: \"Nineteen\",\n",
    "               18:  \"Eighteen\", 17: \"Seventeen\", 16: \"Sixteen\",\n",
    "               15:  \"Fifteen\", 14: \"Fourteen\", 13: \"Thirteen\",\n",
    "               12:  \"Twelve\", 11:  \"Eleven\", 10:  \"Ten\",\n",
    "               9:   \"Nine\", 8:   \"Eight\", 7:   \"Seven\",\n",
    "               6:   \"Six\", 5:   \"Five\", 4: \"Four\", 3: \"Three\",\n",
    "               2: \"Two\", 1: \"One\", 0: \"Zero\"}\n",
    "\n",
    "        keys = [1000000000, 1000000, 1000, 100, 90, 80, 70,\n",
    "               60, 50, 40, 30, 20, 19, 18, 17, 16, 15, 14, 13, 12,\n",
    "               11, 10, 9, 8, 7, 6, 5, 4, 3, 2, 1, 0]\n",
    "\n",
    "        def dp(n):\n",
    "            if n <= 20: return n2w[n]\n",
    "            for div in keys:\n",
    "                d, r = divmod(n, div)\n",
    "                if not d: continue\n",
    "                s1 = dp(d) + \" \" if div >= 100 else \"\"\n",
    "                s2 = \" \" + dp(r) if r else \"\"\n",
    "                return s1 + n2w[div] + s2\n",
    "\n",
    "        return dp(num)"
   ]
  },
  {
   "cell_type": "code",
   "execution_count": 8,
   "metadata": {
    "collapsed": true
   },
   "outputs": [],
   "source": [
    "sol = Solution()"
   ]
  },
  {
   "cell_type": "code",
   "execution_count": 9,
   "metadata": {
    "collapsed": false
   },
   "outputs": [
    {
     "data": {
      "text/plain": [
       "'One Billion Two Hundred Thirty Four Million Five Hundred Sixty Seven Thousand Eight Hundred Ninety One'"
      ]
     },
     "execution_count": 9,
     "metadata": {},
     "output_type": "execute_result"
    }
   ],
   "source": [
    "sol.numberToWords(1234567891)"
   ]
  },
  {
   "cell_type": "code",
   "execution_count": null,
   "metadata": {
    "collapsed": true
   },
   "outputs": [],
   "source": []
  }
 ],
 "metadata": {
  "kernelspec": {
   "display_name": "Python 3",
   "language": "python",
   "name": "python3"
  },
  "language_info": {
   "codemirror_mode": {
    "name": "ipython",
    "version": 3
   },
   "file_extension": ".py",
   "mimetype": "text/x-python",
   "name": "python",
   "nbconvert_exporter": "python",
   "pygments_lexer": "ipython3",
   "version": "3.5.1"
  }
 },
 "nbformat": 4,
 "nbformat_minor": 1
}
