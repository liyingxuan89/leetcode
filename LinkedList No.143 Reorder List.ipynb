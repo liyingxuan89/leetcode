{
 "cells": [
  {
   "cell_type": "markdown",
   "metadata": {},
   "source": [
    "Given a singly linked list L: L0→L1→…→Ln-1→Ln,\n",
    "reorder it to: L0→Ln→L1→Ln-1→L2→Ln-2→…\n",
    "\n",
    "You may not modify the values in the list's nodes, only nodes itself may be changed.\n",
    "\n",
    "Example 1:\n",
    "\n",
    "Given 1->2->3->4, reorder it to 1->4->2->3.\n",
    "Example 2:\n",
    "\n",
    "Given 1->2->3->4->5, reorder it to 1->5->2->4->3."
   ]
  },
  {
   "cell_type": "code",
   "execution_count": 61,
   "metadata": {},
   "outputs": [],
   "source": [
    "# Definition for singly-linked list.\n",
    "class ListNode(object):\n",
    "    def __init__(self, x):\n",
    "        self.val = x\n",
    "        self.next = None\n",
    "# Runtime: 96 ms, faster than 37.90% of Python online submissions for Reorder List.\n",
    "# Memory Usage: 29.8 MB, less than 13.04% of Python online submissions for Reorder List.\n",
    "class Solution(object):\n",
    "    def reorderList(self, head):\n",
    "        \"\"\"\n",
    "        :type head: ListNode\n",
    "        :rtype: None Do not return anything, modify head in-place instead.\n",
    "        \"\"\"\n",
    "        if not head:\n",
    "            return head\n",
    "        cur = head\n",
    "        cnt = 0\n",
    "        while cur:\n",
    "            cur = cur.next\n",
    "            cnt += 1\n",
    "        half = cnt // 2 if cnt % 2 == 0 else cnt // 2 + 1\n",
    "        p1_end, p2 = head, ListNode(-1)\n",
    "        p2_cnt = 0\n",
    "        while p2_cnt < half:\n",
    "            if p2_cnt != half - 1:\n",
    "                p1_end = p1_end.next\n",
    "                p2_cnt += 1\n",
    "            else:\n",
    "                p2 = p1_end.next\n",
    "                p1_end.next = None\n",
    "                break\n",
    "        p2_head = self.reverse(p2)\n",
    "        dummy = ListNode(-1)\n",
    "        cur = dummy\n",
    "        i = 0\n",
    "        while head:\n",
    "            if i % 2 == 0:\n",
    "                cur.next = head\n",
    "                head = head.next\n",
    "            else:\n",
    "                cur.next = p2_head\n",
    "                p2_head = p2_head.next\n",
    "            cur = cur.next\n",
    "            # print(cur.val)\n",
    "            i += 1\n",
    "            \n",
    "        if p2_head:\n",
    "            cur.next = p2_head\n",
    "            \n",
    "        return dummy.next\n",
    "\n",
    "    def reverse(self, head):\n",
    "        if not head:\n",
    "            return head\n",
    "\n",
    "        dummy = None\n",
    "        pre = dummy\n",
    "        while (head):\n",
    "            nex = head.next\n",
    "            head.next = pre\n",
    "            pre = head\n",
    "            head = nex\n",
    "        return pre"
   ]
  },
  {
   "cell_type": "code",
   "execution_count": 63,
   "metadata": {},
   "outputs": [
    {
     "name": "stdout",
     "output_type": "stream",
     "text": [
      "1\n",
      "5\n",
      "2\n",
      "4\n",
      "3\n"
     ]
    }
   ],
   "source": [
    "a = ListNode(1)\n",
    "a.next = ListNode(2)\n",
    "a.next.next = ListNode(3)\n",
    "a.next.next.next = ListNode(4)\n",
    "a.next.next.next.next = ListNode(5)\n",
    "\n",
    "sol = Solution()\n",
    "b = sol.reorderList(a)\n",
    "while b:\n",
    "    print(b.val)\n",
    "    b = b.next"
   ]
  },
  {
   "cell_type": "code",
   "execution_count": null,
   "metadata": {},
   "outputs": [],
   "source": []
  },
  {
   "cell_type": "code",
   "execution_count": null,
   "metadata": {},
   "outputs": [],
   "source": []
  }
 ],
 "metadata": {
  "kernelspec": {
   "display_name": "Python 3",
   "language": "python",
   "name": "python3"
  },
  "language_info": {
   "codemirror_mode": {
    "name": "ipython",
    "version": 3
   },
   "file_extension": ".py",
   "mimetype": "text/x-python",
   "name": "python",
   "nbconvert_exporter": "python",
   "pygments_lexer": "ipython3",
   "version": "3.7.3"
  }
 },
 "nbformat": 4,
 "nbformat_minor": 2
}
