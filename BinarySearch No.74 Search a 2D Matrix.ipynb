{
 "cells": [
  {
   "cell_type": "markdown",
   "metadata": {},
   "source": [
    "Write an efficient algorithm that searches for a value in an m x n matrix. This matrix has the following properties:\n",
    "\n",
    "Integers in each row are sorted from left to right.\n",
    "The first integer of each row is greater than the last integer of the previous row.\n",
    "Example 1:\n",
    "\n",
    "Input:\n",
    "matrix = [\n",
    "  [1,   3,  5,  7],\n",
    "  [10, 11, 16, 20],\n",
    "  [23, 30, 34, 50]\n",
    "]\n",
    "target = 3\n",
    "Output: true\n",
    "Example 2:\n",
    "\n",
    "Input:\n",
    "matrix = [\n",
    "  [1,   3,  5,  7],\n",
    "  [10, 11, 16, 20],\n",
    "  [23, 30, 34, 50]\n",
    "]\n",
    "target = 13\n",
    "Output: false"
   ]
  },
  {
   "cell_type": "code",
   "execution_count": 60,
   "metadata": {},
   "outputs": [],
   "source": [
    "# Runtime: 48 ms, faster than 83.33% of Python online submissions for Search a 2D Matrix.\n",
    "# Memory Usage: 13.5 MB, less than 85.71% of Python online submissions for Search a 2D Matrix.\n",
    "class Solution(object):\n",
    "    def searchMatrix(self, matrix, target):\n",
    "        \"\"\"\n",
    "        :type matrix: List[List[int]]\n",
    "        :type target: int\n",
    "        :rtype: bool\n",
    "        \"\"\"\n",
    "        # 判断是否为空\n",
    "        if not matrix or not matrix[0]:\n",
    "            return False\n",
    "        # 值域判定\n",
    "        if matrix[0][0] > target or matrix[-1][-1] < target:\n",
    "            return False\n",
    "        # 寻找是在哪一行\n",
    "        pivots = [x[0] for x in matrix]\n",
    "        # 求到的行id是其准确位置或者插入位置，需要验证这个地方的边界\n",
    "        row_id = self._binary_search(pivots, target)\n",
    "\n",
    "        if row_id < len(matrix) and target == matrix[row_id][0]:\n",
    "            return True\n",
    "        else:\n",
    "            row_id -= 1\n",
    "        column_id = self._binary_search(matrix[row_id], target)\n",
    "        # 列id也需要进行验证\n",
    "        if column_id >= len(matrix[0]):\n",
    "            column_id -= 1\n",
    "        #print(row_id, column_id)\n",
    "        \n",
    "        return matrix[row_id][column_id] == target \n",
    "    \n",
    "    def _binary_search(self, arr, target):\n",
    "        \n",
    "        l, r = 0, len(arr)\n",
    "        \n",
    "        while l < r:\n",
    "            mid = l + (r-l)//2\n",
    "            if arr[mid] < target:\n",
    "                l = mid+1\n",
    "            else:\n",
    "                r = mid\n",
    "        return l"
   ]
  },
  {
   "cell_type": "code",
   "execution_count": 61,
   "metadata": {},
   "outputs": [
    {
     "name": "stdout",
     "output_type": "stream",
     "text": [
      "2 3\n"
     ]
    },
    {
     "data": {
      "text/plain": [
       "False"
      ]
     },
     "execution_count": 61,
     "metadata": {},
     "output_type": "execute_result"
    }
   ],
   "source": [
    "sol = Solution()\n",
    "matrix = [\n",
    "  [1,   3,  5,  7],\n",
    "  [10, 11, 16, 20],\n",
    "  [23, 30, 34, 50]\n",
    "]\n",
    "target = 35\n",
    "sol.searchMatrix(matrix, target)"
   ]
  },
  {
   "cell_type": "code",
   "execution_count": 62,
   "metadata": {},
   "outputs": [
    {
     "name": "stdout",
     "output_type": "stream",
     "text": [
      "0 0\n"
     ]
    },
    {
     "data": {
      "text/plain": [
       "False"
      ]
     },
     "execution_count": 62,
     "metadata": {},
     "output_type": "execute_result"
    }
   ],
   "source": [
    "sol.searchMatrix([[1], [3]], 2)"
   ]
  },
  {
   "cell_type": "code",
   "execution_count": null,
   "metadata": {},
   "outputs": [],
   "source": []
  }
 ],
 "metadata": {
  "kernelspec": {
   "display_name": "Python 3",
   "language": "python",
   "name": "python3"
  },
  "language_info": {
   "codemirror_mode": {
    "name": "ipython",
    "version": 3
   },
   "file_extension": ".py",
   "mimetype": "text/x-python",
   "name": "python",
   "nbconvert_exporter": "python",
   "pygments_lexer": "ipython3",
   "version": "3.7.3"
  }
 },
 "nbformat": 4,
 "nbformat_minor": 2
}
