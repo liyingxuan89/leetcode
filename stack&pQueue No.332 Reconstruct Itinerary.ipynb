{
 "cells": [
  {
   "cell_type": "markdown",
   "metadata": {},
   "source": [
    "Given a list of airline tickets represented by pairs of departure and arrival airports [from, to], reconstruct the itinerary in order. All of the tickets belong to a man who departs from JFK. Thus, the itinerary must begin with JFK.\n",
    "\n",
    "Note:\n",
    "\n",
    "If there are multiple valid itineraries, you should return the itinerary that has the smallest lexical order when read as a single string. For example, the itinerary [\"JFK\", \"LGA\"] has a smaller lexical order than [\"JFK\", \"LGB\"].\n",
    "All airports are represented by three capital letters (IATA code).\n",
    "You may assume all tickets form at least one valid itinerary.\n",
    "Example 1:\n",
    "\n",
    "Input: [[\"MUC\", \"LHR\"], [\"JFK\", \"MUC\"], [\"SFO\", \"SJC\"], [\"LHR\", \"SFO\"]]\n",
    "Output: [\"JFK\", \"MUC\", \"LHR\", \"SFO\", \"SJC\"]\n",
    "Example 2:\n",
    "\n",
    "Input: [[\"JFK\",\"SFO\"],[\"JFK\",\"ATL\"],[\"SFO\",\"ATL\"],[\"ATL\",\"JFK\"],[\"ATL\",\"SFO\"]]\n",
    "Output: [\"JFK\",\"ATL\",\"JFK\",\"SFO\",\"ATL\",\"SFO\"]\n",
    "Explanation: Another possible reconstruction is [\"JFK\",\"SFO\",\"ATL\",\"JFK\",\"ATL\",\"SFO\"].\n",
    "             But it is larger in lexical order."
   ]
  },
  {
   "cell_type": "code",
   "execution_count": 1,
   "metadata": {},
   "outputs": [],
   "source": [
    "# Thanks for sharing your elegant solution. I spent some time to understand why it is correct, i.e. save it as the last node.\n",
    "# The following is my summary. Hope it will help others:\n",
    "# some observations:\n",
    "\n",
    "# The nodes which have odd degrees (int and out) are the entrance or exit. In your example it's JFK and A.\n",
    "\n",
    "# If there are no nodes have odd degrees, we could follow any path without stuck until hit the last exit node\n",
    "\n",
    "# The reason we got stuck is because that we hit the exit\n",
    "\n",
    "# In your given example, nodes A is the exit node, we hit it and it's the exit. So we put it to the result as the last node.\n",
    "\n",
    "# Runtime: 64 ms, faster than 78.06% of Python online submissions for Reconstruct Itinerary.\n",
    "# Memory Usage: 12.1 MB, less than 74.83% of Python online submissions for Reconstruct Itinerary.\n",
    "import collections\n",
    "class Solution(object):\n",
    "    def findItinerary(self, tickets):\n",
    "        targets = collections.defaultdict(list)\n",
    "        for a, b in sorted(tickets)[::-1]:\n",
    "            targets[a] += b,\n",
    "        route, stack = [], ['JFK']\n",
    "        while stack:\n",
    "            while targets[stack[-1]]:\n",
    "                stack += targets[stack[-1]].pop(),\n",
    "            route += stack.pop(),\n",
    "        return route[::-1]\n",
    "        \n",
    "        "
   ]
  },
  {
   "cell_type": "code",
   "execution_count": 2,
   "metadata": {},
   "outputs": [
    {
     "name": "stdout",
     "output_type": "stream",
     "text": [
      "['JFK', 'ATL', 'JFK', 'SFO', 'ATL', 'SFO']\n"
     ]
    }
   ],
   "source": [
    "sol = Solution()\n",
    "res = sol.findItinerary([[\"JFK\",\"SFO\"],[\"JFK\",\"ATL\"],[\"SFO\",\"ATL\"],[\"ATL\",\"JFK\"],[\"ATL\",\"SFO\"]])\n",
    "print(res)"
   ]
  },
  {
   "cell_type": "code",
   "execution_count": null,
   "metadata": {},
   "outputs": [],
   "source": []
  }
 ],
 "metadata": {
  "kernelspec": {
   "display_name": "Python 3",
   "language": "python",
   "name": "python3"
  },
  "language_info": {
   "codemirror_mode": {
    "name": "ipython",
    "version": 3
   },
   "file_extension": ".py",
   "mimetype": "text/x-python",
   "name": "python",
   "nbconvert_exporter": "python",
   "pygments_lexer": "ipython3",
   "version": "3.7.3"
  }
 },
 "nbformat": 4,
 "nbformat_minor": 2
}
