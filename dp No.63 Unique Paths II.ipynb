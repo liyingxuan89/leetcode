{
 "cells": [
  {
   "cell_type": "markdown",
   "metadata": {},
   "source": [
    "A robot is located at the top-left corner of a m x n grid (marked 'Start' in the diagram below).\n",
    "\n",
    "The robot can only move either down or right at any point in time. The robot is trying to reach the bottom-right corner of the grid (marked 'Finish' in the diagram below).\n",
    "\n",
    "Now consider if some obstacles are added to the grids. How many unique paths would there be?\n",
    "\n",
    "\n",
    "\n",
    "An obstacle and empty space is marked as 1 and 0 respectively in the grid.\n",
    "\n",
    "Note: m and n will be at most 100.\n",
    "\n",
    "Example 1:\n",
    "\n",
    "Input:\n",
    "[\n",
    "  [0,0,0],\n",
    "  [0,1,0],\n",
    "  [0,0,0]\n",
    "]\n",
    "Output: 2\n",
    "Explanation:\n",
    "There is one obstacle in the middle of the 3x3 grid above.\n",
    "There are two ways to reach the bottom-right corner:\n",
    "1. Right -> Right -> Down -> Down\n",
    "2. Down -> Down -> Right -> Right"
   ]
  },
  {
   "cell_type": "code",
   "execution_count": 42,
   "metadata": {},
   "outputs": [],
   "source": [
    "# Runtime: 44 ms, faster than 29.28% of Python online submissions for Unique Paths II.\n",
    "# Memory Usage: 12.1 MB, less than 5.40% of Python online submissions for Unique Paths II.\n",
    "class Solution(object):\n",
    "    def uniquePathsWithObstacles(self, obstacleGrid):\n",
    "        \"\"\"\n",
    "        :type obstacleGrid: List[List[int]]\n",
    "        :rtype: int\n",
    "        \"\"\"\n",
    "        m = len(obstacleGrid)\n",
    "        n = len(obstacleGrid[0])\n",
    "        position = set()\n",
    "        for i in range(m):\n",
    "            for j in range(n):\n",
    "                if obstacleGrid[i][j] == 1:\n",
    "                    position.add((i,j))\n",
    "        print(position)\n",
    "        if (0,0) in position:\n",
    "            return 0\n",
    "        \n",
    "        dp = [[0 for i in range(n)] for j in range(m)]\n",
    "        dp[0][0] = 1\n",
    "        \n",
    "        for i in range(m):\n",
    "            for j in range(n):\n",
    "                if i > 0 and j == 0:\n",
    "                    dp[i][j] = dp[i-1][j]\n",
    "                if i == 0 and j > 0:\n",
    "                    dp[i][j] = dp[i][j-1]\n",
    "                if i > 0 and j > 0:\n",
    "                    dp[i][j] = dp[i-1][j] + dp[i][j-1]\n",
    "                if (i,j) in position:\n",
    "                    dp[i][j] = 0\n",
    "        print(dp)\n",
    "        \n",
    "        return dp[m-1][n-1]"
   ]
  },
  {
   "cell_type": "code",
   "execution_count": 47,
   "metadata": {},
   "outputs": [
    {
     "name": "stdout",
     "output_type": "stream",
     "text": [
      "{(1, 1), (2, 1)}\n",
      "[[1, 1, 1], [1, 0, 1], [1, 0, 1]]\n"
     ]
    },
    {
     "data": {
      "text/plain": [
       "1"
      ]
     },
     "execution_count": 47,
     "metadata": {},
     "output_type": "execute_result"
    }
   ],
   "source": [
    "a = [\n",
    "  [0,0,0],\n",
    "  [0,1,0],\n",
    "  [0,1,0]\n",
    "]\n",
    "sol = Solution()\n",
    "sol.uniquePathsWithObstacles(a)"
   ]
  },
  {
   "cell_type": "code",
   "execution_count": 49,
   "metadata": {},
   "outputs": [
    {
     "name": "stdout",
     "output_type": "stream",
     "text": [
      "{(0, 0)}\n"
     ]
    },
    {
     "data": {
      "text/plain": [
       "0"
      ]
     },
     "execution_count": 49,
     "metadata": {},
     "output_type": "execute_result"
    }
   ],
   "source": [
    "a = [\n",
    "  [1],\n",
    "]\n",
    "sol = Solution()\n",
    "sol.uniquePathsWithObstacles(a)"
   ]
  },
  {
   "cell_type": "code",
   "execution_count": null,
   "metadata": {},
   "outputs": [],
   "source": [
    "# 16ms better solution\n",
    "class Solution(object):\n",
    "    def uniquePathsWithObstacles(self, obstacleGrid):\n",
    "        m = len(obstacleGrid)\n",
    "        n = len(obstacleGrid[0])\n",
    " \n",
    "        dp = [[0 for i in range(n)]for j in range(m)] \n",
    "        \n",
    "\n",
    "        for i in range(0,m):\n",
    "            for j in range(0,n):\n",
    "                if(obstacleGrid[i][j]==1):\n",
    "                    dp[i][j] = 0 \n",
    "                elif(i==0) and (j==0):\n",
    "                    dp[i][j] = 1\n",
    "                elif(i==0):\n",
    "                    dp[i][j] =  dp[i][j-1]\n",
    "                elif(j==0):\n",
    "                    dp[i][j] =  dp[i-1][j]\n",
    "                else:\n",
    "                    dp[i][j] = dp[i-1][j] + dp[i][j-1]\n",
    "                # print(dp)\n",
    "        return dp[m-1][n-1]\n"
   ]
  }
 ],
 "metadata": {
  "kernelspec": {
   "display_name": "Python 3",
   "language": "python",
   "name": "python3"
  },
  "language_info": {
   "codemirror_mode": {
    "name": "ipython",
    "version": 3
   },
   "file_extension": ".py",
   "mimetype": "text/x-python",
   "name": "python",
   "nbconvert_exporter": "python",
   "pygments_lexer": "ipython3",
   "version": "3.7.3"
  }
 },
 "nbformat": 4,
 "nbformat_minor": 2
}
