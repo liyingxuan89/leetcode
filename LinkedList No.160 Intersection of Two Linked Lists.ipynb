{
 "cells": [
  {
   "cell_type": "markdown",
   "metadata": {},
   "source": [
    "Write a program to find the node at which the intersection of two singly linked lists begins.\n",
    "\n",
    "For example, the following two linked lists:\n",
    "![avatar](https://assets.leetcode.com/uploads/2018/12/13/160_statement.png)\n",
    "\n",
    "begin to intersect at node c1.\n",
    "\n",
    "![avatar](https://assets.leetcode.com/uploads/2018/12/13/160_example_1.png)\n",
    "\n",
    "Example 1:\n",
    "\n",
    "\n",
    "Input: intersectVal = 8, listA = [4,1,8,4,5], listB = [5,0,1,8,4,5], skipA = 2, skipB = 3\n",
    "    \n",
    "Output: Reference of the node with value = 8\n",
    "    \n",
    "Input Explanation: The intersected node's value is 8 (note that this must not be 0 if the two lists intersect). From the head of A, it reads as [4,1,8,4,5]. From the head of B, it reads as [5,0,1,8,4,5]. There are 2 nodes before the intersected node in A; There are 3 nodes before the intersected node in B.\n",
    " \n",
    "\n",
    "![avatar](https://assets.leetcode.com/uploads/2018/12/13/160_example_2.png)\n",
    "Example 2:\n",
    "\n",
    "\n",
    "Input: intersectVal = 2, listA = [0,9,1,2,4], listB = [3,2,4], skipA = 3, skipB = 1\n",
    "Output: Reference of the node with value = 2\n",
    "Input Explanation: The intersected node's value is 2 (note that this must not be 0 if the two lists intersect). From the head of A, it reads as [0,9,1,2,4]. From the head of B, it reads as [3,2,4]. There are 3 nodes before the intersected node in A; There are 1 node before the intersected node in B.\n",
    " \n",
    "![avatar](https://assets.leetcode.com/uploads/2018/12/13/160_example_3.png)\n",
    "Example 3:\n",
    "\n",
    "\n",
    "Input: intersectVal = 0, listA = [2,6,4], listB = [1,5], skipA = 3, skipB = 2\n",
    "Output: null\n",
    "Input Explanation: From the head of A, it reads as [2,6,4]. From the head of B, it reads as [1,5]. Since the two lists do not intersect, intersectVal must be 0, while skipA and skipB can be arbitrary values.\n",
    "Explanation: The two lists do not intersect, so return null.\n",
    " \n",
    "\n",
    "Notes:\n",
    "\n",
    "If the two linked lists have no intersection at all, return null.\n",
    "The linked lists must retain their original structure after the function returns.\n",
    "You may assume there are no cycles anywhere in the entire linked structure.\n",
    "Your code should preferably run in O(n) time and use only O(1) memory."
   ]
  },
  {
   "cell_type": "code",
   "execution_count": 15,
   "metadata": {},
   "outputs": [],
   "source": [
    "# Definition for singly-linked list.\n",
    "class ListNode(object):\n",
    "    def __init__(self, x):\n",
    "        self.val = x\n",
    "        self.next = None\n",
    "# Runtime: 228 ms\n",
    "# Memory Usage: 42.5 MB\n",
    "class Solution(object):\n",
    "    def getIntersectionNode(self, headA, headB):\n",
    "        \"\"\"\n",
    "        :type head1, head1: ListNode\n",
    "        :rtype: ListNode\n",
    "        \"\"\"\n",
    "        dic = {}\n",
    "        while(headA):\n",
    "            dic[headA] = 1\n",
    "            headA = headA.next\n",
    "        while(headB):\n",
    "            if headB in dic:\n",
    "                return headB\n",
    "            headB = headB.next\n",
    "        return None"
   ]
  },
  {
   "cell_type": "code",
   "execution_count": 18,
   "metadata": {},
   "outputs": [],
   "source": [
    "headA = ListNode(4)\n",
    "headA.next = ListNode(1)\n",
    "headA.next.next = ListNode(8)\n",
    "headA.next.next.next = ListNode(5)\n",
    "headB = ListNode(5)\n",
    "headB.next = ListNode(0)\n",
    "headB.next.next = ListNode(1)\n",
    "headB.next.next.next = headA.next"
   ]
  },
  {
   "cell_type": "code",
   "execution_count": 19,
   "metadata": {},
   "outputs": [
    {
     "name": "stdout",
     "output_type": "stream",
     "text": [
      "1\n"
     ]
    }
   ],
   "source": [
    "sol = Solution()\n",
    "r = sol.getIntersectionNode(headA, headB)\n",
    "print(r.val)"
   ]
  },
  {
   "cell_type": "code",
   "execution_count": 20,
   "metadata": {},
   "outputs": [],
   "source": [
    "# Runtime: 184 ms, faster than 98.43% of Python online submissions for Intersection of Two Linked Lists.\n",
    "# Memory Usage: 41.7 MB, less than 85.03% of Python online submissions for Intersection of Two Linked Lists.\n",
    "class Solution(object):\n",
    "    def getIntersectionNode(self, headA, headB):\n",
    "        \"\"\"\n",
    "        :type head1, head1: ListNode\n",
    "        :rtype: ListNode\n",
    "        \"\"\"\n",
    "        a , b = headA, headB\n",
    "        while a != b:\n",
    "            a = a.next if a else headB\n",
    "            b = b.next if b else headA\n",
    "        return a"
   ]
  },
  {
   "cell_type": "code",
   "execution_count": 21,
   "metadata": {},
   "outputs": [
    {
     "name": "stdout",
     "output_type": "stream",
     "text": [
      "1\n"
     ]
    }
   ],
   "source": [
    "sol = Solution()\n",
    "r = sol.getIntersectionNode(headA, headB)\n",
    "print(r.val)"
   ]
  },
  {
   "cell_type": "code",
   "execution_count": null,
   "metadata": {},
   "outputs": [],
   "source": []
  }
 ],
 "metadata": {
  "kernelspec": {
   "display_name": "Python 3",
   "language": "python",
   "name": "python3"
  },
  "language_info": {
   "codemirror_mode": {
    "name": "ipython",
    "version": 3
   },
   "file_extension": ".py",
   "mimetype": "text/x-python",
   "name": "python",
   "nbconvert_exporter": "python",
   "pygments_lexer": "ipython3",
   "version": "3.7.3"
  }
 },
 "nbformat": 4,
 "nbformat_minor": 2
}
